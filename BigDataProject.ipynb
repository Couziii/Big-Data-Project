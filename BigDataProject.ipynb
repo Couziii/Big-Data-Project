{
 "cells": [
  {
   "cell_type": "code",
   "execution_count": null,
   "id": "254ce8ca-46b4-4380-801d-c360543fc223",
   "metadata": {},
   "outputs": [],
   "source": [
    "import os\n",
    "import sys\n",
    "\n",
    "# Set up environment variables\n",
    "os.environ['HADOOP_HOME'] = '/hadoop'\n",
    "os.environ['SPARK_HOME'] = '/spark'\n",
    "sys.path.append('/spark/python')\n",
    "sys.path.append('/spark/python/lib/py4j-0.10.9.7-src.zip')\n",
    "\n",
    "# Add PySpark to sys.path\n",
    "spark_path = os.environ['SPARK_HOME'] + '/python'\n",
    "sys.path.insert(0, spark_path)\n"
   ]
  },
  {
   "cell_type": "code",
   "execution_count": 2,
   "id": "8f99381e-2968-49d3-bc31-06d73816ddfa",
   "metadata": {},
   "outputs": [],
   "source": [
    "from pyspark.sql import SparkSession, Window\n",
    "import pandas as pd\n",
    "import matplotlib.pyplot as plt\n",
    "from pyspark.sql.functions import col, expr, from_json, explode, size, sum, count, rank, rand\n",
    "from pyspark.sql.types import StructType, StructField, StringType, ArrayType, DateType, ByteType, DoubleType, IntegerType\n",
    "from pyspark.ml.feature import StringIndexer\n",
    "from pyspark.ml.recommendation import ALS\n",
    "from pyspark.ml.tuning import TrainValidationSplit, ParamGridBuilder, CrossValidator\n",
    "from pyspark.ml.evaluation import RegressionEvaluator"
   ]
  },
  {
   "cell_type": "code",
   "execution_count": 3,
   "id": "20ab1286-be01-4a5c-a04a-2fee5edf1c1d",
   "metadata": {},
   "outputs": [],
   "source": [
    "spark = (SparkSession\n",
    "    .builder \n",
    "    .appName(\"Goodreads Project\") \n",
    "    .config(\"spark.hadoop.fs.defaultFS\", \"hdfs://localhost:9000\") \n",
    "    .getOrCreate())"
   ]
  },
  {
   "cell_type": "code",
   "execution_count": 4,
   "id": "7d1c1ca6-32a4-4cdb-ade6-55d457787b3e",
   "metadata": {},
   "outputs": [
    {
     "name": "stdout",
     "output_type": "stream",
     "text": [
      "SparkSession is active and ready to use.\n"
     ]
    }
   ],
   "source": [
    "if 'spark' in locals() and isinstance(spark, SparkSession):\n",
    "    print(\"SparkSession is active and ready to use.\")\n",
    "else:\n",
    "    print(\"SparkSession is not active. Please create a SparkSession.\")"
   ]
  },
  {
   "cell_type": "code",
   "execution_count": 5,
   "id": "c648d839-f171-43d1-8f2b-98423efe6847",
   "metadata": {},
   "outputs": [],
   "source": [
    "sc = spark.sparkContext"
   ]
  },
  {
   "cell_type": "code",
   "execution_count": 6,
   "id": "7b5e984f-9ade-47f4-9fc5-a0ff99740fbb",
   "metadata": {},
   "outputs": [
    {
     "data": {
      "text/html": [
       "\n",
       "        <div>\n",
       "            <p><b>SparkContext</b></p>\n",
       "\n",
       "            <p><a href=\"http://192.168.0.61:4040\">Spark UI</a></p>\n",
       "\n",
       "            <dl>\n",
       "              <dt>Version</dt>\n",
       "                <dd><code>v3.5.4</code></dd>\n",
       "              <dt>Master</dt>\n",
       "                <dd><code>yarn</code></dd>\n",
       "              <dt>AppName</dt>\n",
       "                <dd><code>Goodreads Project</code></dd>\n",
       "            </dl>\n",
       "        </div>\n",
       "        "
      ],
      "text/plain": [
       "<SparkContext master=yarn appName=Goodreads Project>"
      ]
     },
     "execution_count": 6,
     "metadata": {},
     "output_type": "execute_result"
    }
   ],
   "source": [
    "sc"
   ]
  },
  {
   "cell_type": "code",
   "execution_count": 7,
   "id": "6a800b8a-ab95-4e5b-a0e1-ca35c7c5b1cb",
   "metadata": {},
   "outputs": [],
   "source": [
    "df = (spark.read.format(\"csv\") \n",
    "    .option(\"inferschema\", \"true\") \n",
    "    .option(\"sep\", \"\\t\") \n",
    "    .option(\"header\", \"true\") \n",
    "    .load(\"hdfs://localhost:9000/data/books.tsv\")\n",
    "     )"
   ]
  },
  {
   "cell_type": "code",
   "execution_count": 8,
   "id": "e9a18ea6-6edb-4ae8-a42f-e7b4d30d250a",
   "metadata": {},
   "outputs": [
    {
     "name": "stdout",
     "output_type": "stream",
     "text": [
      "root\n",
      " |-- url: string (nullable = true)\n",
      " |-- data: string (nullable = true)\n",
      "\n"
     ]
    }
   ],
   "source": [
    "df.printSchema()"
   ]
  },
  {
   "cell_type": "markdown",
   "id": "1fc29c59-ba82-4085-b593-8c3d86066646",
   "metadata": {},
   "source": [
    "# The Data\n",
    "## Exploring the data\n",
    "\n",
    "The data column is a JSON that is stored in a **string**, but the string contains **escaped quotes**.\n",
    "\n",
    "Steps to parse the data to a standard dataFrame:\n",
    "1. Remove surrounding quotes\n",
    "2. Replace the escaped double quotes with actual quotes"
   ]
  },
  {
   "cell_type": "code",
   "execution_count": 10,
   "id": "6455aa9e-f030-4c5f-8a0a-9fe05bf61fef",
   "metadata": {},
   "outputs": [
    {
     "data": {
      "text/plain": [
       "Row(data='\"{\"\"isbn\"\": null, \"\"title\"\": \"\"Harry Potter and the Half-Blood Prince\"\", \"\"format\"\": null, \"\"authors\"\": [{\"\"url\"\": \"\"https://www.goodreads.com/author/show/1077326.J_K_Rowling\"\", \"\"name\"\": \"\"J.K. Rowling\"\"}], \"\"reviews\"\": [{\"\"url\"\": \"\"https://www.goodreads.com/review/show/683662307\"\", \"\"date\"\": \"\"Aug 01, 2013\"\", \"\"text\"\": \"\"(A) 86% | Extraordinary Notes: It dwells on the delightfully mundane aspects of the magical world, and adds new dimensions to familiar characters.\"\", \"\"user\"\": {\"\"url\"\": \"\"/user/show/22106879-jayson\"\", \"\"name\"\": \"\"Jayson\"\"}, \"\"rating\"\": 5.0, \"\"bookUrl\"\": \"\"http://www.goodreads.com/book/show/1.harry_potter_and_the_half_blood_prince.warc\"\", \"\"shelves\"\": [{\"\"url\"\": \"\"/review/list/22106879-jayson?shelf=author-british\"\", \"\"name\"\": \"\"author-british\"\"}, {\"\"url\"\": \"\"/review/list/22106879-jayson?shelf=format-illustrated\"\", \"\"name\"\": \"\"format-illustrated\"\"}, {\"\"url\"\": \"\"/review/list/22106879-jayson?shelf=subject-boarding-school\"\", \"\"name\"\": \"\"subject-boarding-school\"\"}, {\"\"url\"\": \"\"/review/list/22106879-jayson?shelf=genre-juvenile-fantasy\"\", \"\"name\"\": \"\"genre-juvenile-fantasy\"\"}, {\"\"url\"\": \"\"/review/list/22106879-jayson?shelf=read-in-2009\"\", \"\"name\"\": \"\"read-in-2009\"\"}, {\"\"url\"\": \"\"/review/list/22106879-jayson?shelf=600-plus-pp\"\", \"\"name\"\": \"\"600-plus-pp\"\"}, {\"\"url\"\": \"\"/review/list/22106879-jayson?shelf=genre-young-adult\"\", \"\"name\"\": \"\"genre-young-adult\"\"}]}, {\"\"url\"\": \"\"https://www.goodreads.com/review/show/737648743\"\", \"\"date\"\": \"\"Oct 09, 2013\"\", \"\"text\"\": \"\"i dont want to talk to anyone dont even look at me i was expecting it and i still cried for like 30 minutes\"\", \"\"user\"\": {\"\"url\"\": \"\"/user/show/14457130-whitney-atkinson\"\", \"\"name\"\": \"\"Whitney Atkinson\"\"}, \"\"rating\"\": 5.0, \"\"bookUrl\"\": \"\"http://www.goodreads.com/book/show/1.harry_potter_and_the_half_blood_prince.warc\"\", \"\"shelves\"\": [{\"\"url\"\": \"\"/review/list/14457130-whitney-atkinson?shelf=favorites\"\", \"\"name\"\": \"\"favorites\"\"}, {\"\"url\"\": \"\"/review/list/14457130-whitney-atkinson?shelf=childrens\"\", \"\"name\"\": \"\"childrens\"\"}, {\"\"url\"\": \"\"/review/list/14457130-whitney-atkinson?shelf=read-in-2015\"\", \"\"name\"\": \"\"read-in-2015\"\"}, {\"\"url\"\": \"\"/review/list/14457130-whitney-atkinson?shelf=made-me-cry\"\", \"\"name\"\": \"\"made-me-cry\"\"}]}, {\"\"url\"\": \"\"https://www.goodreads.com/review/show/3001353016\"\", \"\"date\"\": \"\"Jun 28, 2020\"\", \"\"text\"\": \"\"(A) 86% | Extraordinary Notes: A relationshippy respite, it\\\\u2019s Sturm und Drang defogging: all lovesick woe, observing foes, and problematic snogging.\"\", \"\"user\"\": {\"\"url\"\": \"\"/user/show/22106879-jayson\"\", \"\"name\"\": \"\"Jayson\"\"}, \"\"rating\"\": 5.0, \"\"bookUrl\"\": \"\"http://www.goodreads.com/book/show/1.harry_potter_and_the_half_blood_prince.warc\"\", \"\"shelves\"\": [{\"\"url\"\": \"\"/review/list/22106879-jayson?shelf=author-british\"\", \"\"name\"\": \"\"author-british\"\"}, {\"\"url\"\": \"\"/review/list/22106879-jayson?shelf=genre-juvenile-fantasy\"\", \"\"name\"\": \"\"genre-juvenile-fantasy\"\"}, {\"\"url\"\": \"\"/review/list/22106879-jayson?shelf=subject-boarding-school\"\", \"\"name\"\": \"\"subject-boarding-school\"\"}, {\"\"url\"\": \"\"/review/list/22106879-jayson?shelf=genre-young-adult\"\", \"\"name\"\": \"\"genre-young-adult\"\"}, {\"\"url\"\": \"\"/review/list/22106879-jayson?shelf=audiobook-audible\"\", \"\"name\"\": \"\"audiobook-audible\"\"}, {\"\"url\"\": \"\"/review/list/22106879-jayson?shelf=read-in-2020\"\", \"\"name\"\": \"\"read-in-2020\"\"}]}, {\"\"url\"\": \"\"https://www.goodreads.com/review/show/1246195113\"\", \"\"date\"\": \"\"Aug 28, 2019\"\", \"\"text\"\": \"\"Holy shit, I\\'m in all sorts right now. Video Review: https://www.youtube.com/watch?v=sTfaG...\"\", \"\"user\"\": {\"\"url\"\": \"\"/user/show/30728719-lily\"\", \"\"name\"\": \"\"\\\\u2740 Lily \\\\u2740\"\"}, \"\"rating\"\": null, \"\"bookUrl\"\": \"\"http://www.goodreads.com/book/show/1.harry_potter_and_the_half_blood_prince.warc\"\", \"\"shelves\"\": []}, {\"\"url\"\": \"\"https://www.goodreads.com/review/show/3749175894\"\", \"\"date\"\": \"\"Jan 09, 2021\"\", \"\"text\"\": \"\"\\\\\"\"5. Should you feel that a family member, colleague, friend, or neighbor is acting in a strange manner, contact the Magical Law Enforcement Squad at once. They may have been put under the Imperius Curse.\\\\\"\" Time for interesting little subplots is over. We\\'ve arrived finally, where everything is closely tied to the core of the story and progressing fast. It\\'s always delightful to see, everything that was great about the series still remains the same, if not better. However, disappointments, sorrow and hardships are what the reader is going to encounter for the most part. As I finished reading Half-Blood Prince, more than ever before, I feel being trapped in a hopeless situation filled with nothing but forebodings. \\\\\"\"Destination...determination...deliberation...\\\\\"\" One would imagine, we\\'re beyond being accommodated with new characters, but the author will quickly convince you otherwise, and introduction of new and interesting characters continues. It\\'s great to see how Rowling keeps outperforming herself with each new book . Harry\\'s ill-tempered nature and suspicions does not end with the last book as I hoped it would, but the results are quite the opposite this time around. Honestly, I did not anticipate the way how things turned out right till the last three chapters. \\\\\"\"To friendship! To generosity! To ten Galleons a hair! We\\'ve been somewhat used to happy ending in the first four books (relatively) with 5th being a bit disappointing but this one, it was the most depressing ending for me yet. It probably comes down to reinforcing the suspense toward the final book but, it\\'s a difficult place to be in - especially if you had to wait for a year.. \\\\\"\"Eet \\'as been too long!\\\\\"\"\"\", \"\"user\"\": {\"\"url\"\": \"\"/user/show/101693182-tharindu-dissanayake\"\", \"\"name\"\": \"\"Tharindu Dissanayake\"\"}, \"\"rating\"\": 5.0, \"\"bookUrl\"\": \"\"http://www.goodreads.com/book/show/1.harry_potter_and_the_half_blood_prince.warc\"\", \"\"shelves\"\": [{\"\"url\"\": \"\"/review/list/101693182-tharindu-dissanayake?shelf=favorites-fiction\"\", \"\"name\"\": \"\"favorites-fiction\"\"}]}, {\"\"url\"\": \"\"https://www.goodreads.com/review/show/1243718880\"\", \"\"date\"\": \"\"Apr 02, 2015\"\", \"\"text\"\": \"\"\\\\u201cI am a wizard, not a baboon or a transphobe.\\\\u201d - Not JKR Mermaids UK The Trevor Project Black Visions Collective because Black trans lives matter.\"\", \"\"user\"\": {\"\"url\"\": \"\"/user/show/41788524-kai-spellmeier\"\", \"\"name\"\": \"\"Kai Spellmeier\"\"}, \"\"rating\"\": null, \"\"bookUrl\"\": \"\"http://www.goodreads.com/book/show/1.harry_potter_and_the_half_blood_prince.warc\"\", \"\"shelves\"\": [{\"\"url\"\": \"\"/review/list/41788524-kai-spellmeier?shelf=finished-series\"\", \"\"name\"\": \"\"finished-series\"\"}]}, {\"\"url\"\": \"\"https://www.goodreads.com/review/show/2533600835\"\", \"\"date\"\": \"\"Oct 18, 2018\"\", \"\"text\"\": \"\"I\\'m not sure why, but this one took me completely by surprise. I was expecting this installment to be mainly filler to get us to the Deathly Hallows, but so much happened here that I must have forgotten from the movie. The Half-Blood prince was considerably darker than the previous 5 books, and I just adore how this series has progressed and grown just like most of its readers have. Obviously I knew what the big reveal was prior to finishing the book due to my viewing the films before, but it didn\\'t take away from the experience the novel had to offer. I have this nervous lump in my throat knowing that the next book is the final one, but am simultaneously excited to finally read what the films surely have left out surrounding the conclusion of the series.\"\", \"\"user\"\": {\"\"url\"\": \"\"/user/show/47207032-chelsea-humphrey\"\", \"\"name\"\": \"\"Chelsea Humphrey\"\"}, \"\"rating\"\": 5.0, \"\"bookUrl\"\": \"\"http://www.goodreads.com/book/show/1.harry_potter_and_the_half_blood_prince.warc\"\", \"\"shelves\"\": []}, {\"\"url\"\": \"\"https://www.goodreads.com/review/show/730488284\"\", \"\"date\"\": \"\"Sep 29, 2013\"\", \"\"text\"\": \"\"Welcome to my re-read of the phenomenal series \\\\u201cHarry Potter\\\\u201d. \\\\ud83e\\\\udd13\\\\u26a1\\\\ufe0fI\\'m reading the books, listening to a fun (adult) podcast and watching the movies. \\\\u2764\\\\ufe0f\\\\ud83d\\\\udcda\\\\ud83c\\\\udfa7\\\\ud83c\\\\udfac \\\\u26a0\\\\ufe0fThis review contains spoilers\\\\u26a0\\\\ufe0f If you don\\\\u2019t yet know: *why the elf made wine is the one to try tonight *why the dragons blood is a bit dusty *why Hermione\\\\u2019s confiscating fanged frisbees from 4th years *why the mouth organ was always just a mouth organ *why we hide sherry bottles *why it is our mercy that matters now *why we\\\\u2019re reaching into the lake for water \\\\u2014\\\\u2014-Then proceed with extreme caution!\\\\u2014\\\\u2014- Spoiler Credit: Podcast: Binge Mode (listen on Spotify) Personal Opinion Note: I\\\\u2019m terribly sad for you, if you\\\\u2019ve never read the books (or at least watched the movies). \\\\ud83d\\\\ude09\\\\ud83d\\\\udcda\\\\ud83c\\\\udfa7\\\\ud83c\\\\udfac You really should jump on the Hogwarts Express with me! I\\\\u2019ll be making notes of my favorite part of each chapter/podcast as I finish. \\\\ud83d\\\\udcdaChapter 1: The Other Minister Fudges resignation. \\\\ud83d\\\\udcdaChapter 2: Spinner\\\\u2019s End Draco\\\\u2019s mother begging Snape to protect him. \\\\ud83c\\\\udfa7Podcast: Binge Mode: Chapters 1-2 ***Warning: Binge Mode contains adult content*** Snape insights and how he embeds himself in Voldemort\\'s camp. \\\\ud83d\\\\udcdaChapter 3: Will and Won\\'t Dumbledore calling out the Dursley\\'s on their treatment of Harry throughout his life. \\\\ud83d\\\\udcdaChapter 4: Horace Slughorn Dumbledore admitting that it was cruel for Harry and Sirius to have such little time together. \\\\ud83d\\\\udcdaChapter 5: An Excess of Phlegm Ginny\\'s expressed dislike of Fleur. \\\\ud83d\\\\udcdaChapter 6: Draco\\'s Detour Fred and George\\\\u2019s shop lighting up the street in Diagon Alley and their joke about \\\\u2018you know who, versus you know poo\\\\u2019 and Mrs. Weasley being worried they\\\\u2019ll be murdered in their beds. \\\\ud83d\\\\udcdaChapter 7: The Slug Club Groups of girls asking Harry to join him in their compartment on the train and Harry declining saying he\\'ll sit with his friends (Luna and Neville). \\\\ud83c\\\\udfa7Podcast: Binge Mode: Chapters 3-7 ***Warning: Binge Mode contains adult content*** The history of the Hogwarts Express. \\\\ud83d\\\\udcdaChapter 8: Snape Victorious Hagrid\\\\u2019s waving at Harry from the head table, with McGonagall shaking her head at his unprofessionalism. \\\\ud83d\\\\udcdaChapter 9: The Half-Blood Prince Harry\\\\u2019s perfect potion and Hermione\\\\u2019s reaction. \\\\ud83d\\\\udcdaChapter 10: The House of Gaunt Dumbledore\\\\u2019s slowly opening the curtain, for Harry to better understand, Voldemort\\\\u2019s past, present and future. \\\\ud83d\\\\udcdaChapter 11: Hermione\\\\u2019s Helping Hand Harry\\\\u2019s calling out Hermione on spelling McLaggen to miss a goal at keeper tryouts, pointing out that it was dishonest of a prefect to do. \\\\ud83c\\\\udfa7Podcast: Binge Mode: Chapters 8-11 ***Warning: Binge Mode contains adult content*** The Ginny/Harry foreshadowing. Also, the added insights into the Gaunt family (Slytherin descendants). \\\\ud83d\\\\udcdaChapter 12: Silver and Opals Harry\\\\u2019s relentless insistence that Malfoy is a death eater. \\\\ud83d\\\\udcdaChapter 13: The Secret Riddle Harry\\\\u2019s not shy about asking Dumbledore the hard questions. \\\\ud83d\\\\udcdaChapter 14: Felix Felicis This is the point where Harry really starts to recognize his real feelings for Ginny. But it\\\\u2019s also the angst of Hermione\\\\u2019s true feelings about Ron. Ahhhh\\\\u2026 teenage hearts and jealousy. \\\\ud83d\\\\udcdaChapter 15: The Unbreakable Vow I love that Harry chose Luna to go to the party with him. \\\\ud83c\\\\udfa7Podcast: Binge Mode: Chapters 12-15 ***Warning: Binge Mode contains adult content*** History and process of potion making and the hilarious jokes about Ron being a virgin. \\\\ud83d\\\\udcdaChapter 16: A Very Frosty Christmas Mrs. Weasley continually turning up the volume on the radio over Fleur. \\\\ud83d\\\\udcdaChapter 17: A Sluggish Memory Whawn whawn\\\\u2026 and the pensive Voldemort bits. \\\\ud83d\\\\udcdaChapter 18: Birthday Surprises Harry honestly asking Slughorn about horcruxes and admitting that Dumbledore shared his memory. \\\\ud83d\\\\udcdaChapter 19: Elf Tails Ron recovering in hospital saying Hermione\\\\u2019s name. \\\\ud83c\\\\udfa7Podcast: Binge Mode: Chapters 16-19 ***Warning: Binge Mode contains adult content*** Jason\\\\u2019s impression of Fleur commenting on Mrs. Weasley\\\\u2019s music had me rolling. \\\\ud83d\\\\udcdaChapter 20: Lord Voldemort\\\\u2019s Request Back into the pensive... Dumbledore refusing to hire Voldemort for the Defense Against the Dark Arts post. \\\\ud83d\\\\udcdaChapter 21: The Unknowable Room Harry scaring Goyle as he was guarding the room of requirement disguised as a girl. \\\\ud83d\\\\udcdaChapter 22: After the Burial Harry getting Slughorn and Hagrid trashed at the funeral. \\\\ud83d\\\\udcdaChapter 23: Horcruxes Diving into the pensive to finally see Slughorn communicate with Tom. \\\\ud83c\\\\udfa7Podcast: Binge Mode: Chapters 20-23 ***Warning: Binge Mode contains adult content*** All of the insights into horcruxes. \\\\ud83d\\\\udcdaChapter 24: Sectumsempra Finally! Harry and Ginny!! Harry and Ginny!! \\\\ud83d\\\\udcdaChapter 25: The Seer Overheard Trelawney trying to hide her booze. \\\\ud83d\\\\udcdaChapter 26: The Cave Man, this chapter was rough- but that last sentence uttered my Dumbledore- \\\\u201cI am not worried Harry, I am with you.\\\\u201d \\\\ud83c\\\\udfa7Podcast: Binge Mode: Chapters 24-26 ***Warning: Binge Mode contains adult content*** Dumbledore\\\\u2019s history and his passing of torch to Harry. \\\\ud83d\\\\udcdaChapter 27: The Lightning-Struck Tower Dumbledore\\\\u2019s belief that Malfoy would choose the right side, all the way to his end. \\\\ud83d\\\\udcdaChapter 28: Flight of the Prince Shapes refusal to kill or fight Harry. \\\\ud83c\\\\udfa7Podcast: Binge Mode: Chapters 27-28 ***Warning: Binge Mode contains adult content*** Cry fest episode\\\\u2026 all heart wrenching. \\\\ud83d\\\\udcdaChapter 29: The Phoenix Lament Fleur and Mrs Weasley\\\\u2019s bonding over Bill. \\\\ud83d\\\\udcdaChapter 30: The White Tomb Harry loving Ginny enough to let her go. Plus, Ron and Hermione\\\\u2019s unwavering friendship. \\\\ud83c\\\\udfa7Podcast: Binge Mode: Chapters 29-30 ***Warning: Binge Mode contains adult content*** All about Dumbledore\\\\u2026 my heart aches. \\\\ud83c\\\\udfacMovie #6 I have a hard time with all the liberties taken in the film adaption- but the casting of Lavender and Luna is really great. \\\\ud83c\\\\udfa7Podcast: Binge Mode: Movie ***Warning: Binge Mode contains adult content*** They put into words all the things I felt about the movie adaptation. So, spot, on. This concludes my re-reading/listening/watching of Harry Potter and the Half Blood Prince. I\\\\u2019m sad that I\\\\u2019m so close to the end now. It\\\\u2019s been such an amazing adventure.\"\", \"\"user\"\": {\"\"url\"\": \"\"/user/show/23302801-danielle\"\", \"\"name\"\": \"\"Danielle\"\"}, \"\"rating\"\": 5.0, \"\"bookUrl\"\": \"\"http://www.goodreads.com/book/show/1.harry_potter_and_the_half_blood_prince.warc\"\", \"\"shelves\"\": [{\"\"url\"\": \"\"/review/list/23302801-danielle?shelf=books-to-read-with-kids\"\", \"\"name\"\": \"\"books-to-read-with-kids\"\"}]}, {\"\"url\"\": \"\"https://www.goodreads.com/review/show/35089462\"\", \"\"date\"\": \"\"Oct 11, 2008\"\", \"\"text\"\": \"\"Harry Potter and the Half-Blood Prince (Harry Potter #6), J.K. Rowling Harry Potter and the Half-Blood Prince is a fantasy novel written by British author J. K. Rowling and the sixth and penultimate novel in the Harry Potter series. Set during protagonist Harry Potter\\'s sixth year at Hogwarts, the novel explores the past of Harry\\'s nemesis, Lord Voldemort, and Harry\\'s preparations for the final battle against Voldemort alongside his headmaster and mentor Albus Dumbledore. The book was published in the United Kingdom by Bloomsbury, and in the United States by Scholastic on 16 July 2005, as well as in several other countries. Lord Voldemort is tightening his grip on both the wizarding and Muggle worlds, with his Death Eaters kidnapping wand-maker Garrick Ollivander from Diagon Alley and destroying the Millennium Bridge. The Malfoy family is disgraced when Lucius is apprehended and sent to Azkaban for his involvement with the Death Eaters. Voldemort instead chooses Draco to carry out a secret mission at Hogwarts. Draco\\'s mother Narcissa and aunt Bellatrix Lestrange seek help from Severus Snape, who claims to have been acting as a mole within the Order of the Phoenix all along. Snape makes an Unbreakable Vow with Narcissa to protect Draco and fulfill the assignment if he fails. Harry Potter, now 16 years old, accompanies Albus Dumbledore from Surbiton to the village of Budleigh Babberton to visit former Potions professor Horace Slughorn. Slughorn, who has been in hiding, agrees to return to teach at Hogwarts. Dumbledore then takes Harry to The Burrow, where Harry reunites with his best friends, Ron Weasley and Hermione Granger. The three visit Fred and George Weasley\\'s new joke shop at Diagon Alley and see Draco entering Knockturn Alley with a group of Death Eaters including Fenrir Greyback. Harry believes Voldemort has made Draco a Death Eater, but Ron and Hermione are sceptical. On the Hogwarts Express, Harry hides in the Slytherin carriage using his Invisibility Cloak, but is spotted and petrified by Malfoy. \\\\u0639\\\\u0646\\\\u0648\\\\u0627\\\\u0646\\\\u0647\\\\u0627\\\\u06cc \\\\u0686\\\\u0627\\\\u067e \\\\u0634\\\\u062f\\\\u0647 \\\\u062f\\\\u0631 \\\\u0627\\\\u06cc\\\\u0631\\\\u0627\\\\u0646: \\\\u00ab\\\\u0647\\\\u0631\\\\u06cc \\\\u067e\\\\u0627\\\\u062a\\\\u0631 \\\\u0648 \\\\u067e\\\\u0631\\\\u0646\\\\u0633 \\\\u0646\\\\u06cc\\\\u0645\\\\u0647 \\\\u0627\\\\u0635\\\\u06cc\\\\u0644\\\\u00bb\\\\u061b \\\\u00ab\\\\u0647\\\\u0631\\\\u06cc \\\\u067e\\\\u0627\\\\u062a\\\\u0631 \\\\u0648 \\\\u0634\\\\u0627\\\\u0647\\\\u0632\\\\u0627\\\\u062f\\\\u0647 \\\\u062f\\\\u0648\\\\u0631\\\\u06af\\\\u0647\\\\u00bb\\\\u061b \\\\u00ab\\\\u0647\\\\u0631\\\\u06cc \\\\u067e\\\\u0627\\\\u062a\\\\u0631 \\\\u0648 \\\\u067e\\\\u0631\\\\u0646\\\\u0633 \\\\u062f\\\\u0648 \\\\u0631\\\\u06af\\\\u0647\\\\u00bb\\\\u061b \\\\u00ab\\\\u0647\\\\u0631\\\\u06cc \\\\u067e\\\\u0627\\\\u062a\\\\u0631 \\\\u0648 \\\\u0634\\\\u0627\\\\u0647\\\\u0632\\\\u0627\\\\u062f\\\\u0647 \\\\u0646\\\\u06cc\\\\u0645\\\\u0647 \\\\u0627\\\\u0635\\\\u06cc\\\\u0644\\\\u00bb\\\\u061b \\\\u0646\\\\u0648\\\\u06cc\\\\u0633\\\\u0646\\\\u062f\\\\u0647: \\\\u062c\\\\u06cc.\\\\u06a9\\\\u06cc \\\\u0631\\\\u0648\\\\u0644\\\\u06cc\\\\u0646\\\\u06af\\\\u061b \\\\u062a\\\\u0627\\\\u0631\\\\u06cc\\\\u062e \\\\u0646\\\\u062e\\\\u0633\\\\u062a\\\\u06cc\\\\u0646 \\\\u062e\\\\u0648\\\\u0627\\\\u0646\\\\u0634: \\\\u0645\\\\u0627\\\\u0647 \\\\u0646\\\\u0648\\\\u0627\\\\u0645\\\\u0628\\\\u0631 \\\\u0633\\\\u0627\\\\u0644 2005\\\\u0645\\\\u06cc\\\\u0644\\\\u0627\\\\u062f\\\\u06cc \\\\u0639\\\\u0646\\\\u0648\\\\u0627\\\\u0646: \\\\u0647\\\\u0631\\\\u06cc \\\\u067e\\\\u0627\\\\u062a\\\\u0631 \\\\u0648 \\\\u067e\\\\u0631\\\\u0646\\\\u0633 \\\\u0646\\\\u06cc\\\\u0645\\\\u0647 \\\\u0627\\\\u0635\\\\u06cc\\\\u0644 - \\\\u06a9\\\\u062a\\\\u0627\\\\u0628 \\\\u0634\\\\u0634 \\\\u062f\\\\u0631 \\\\u062f\\\\u0648 \\\\u062c\\\\u0644\\\\u062f\\\\u061b \\\\u0646\\\\u0648\\\\u06cc\\\\u0633\\\\u0646\\\\u062f\\\\u0647: \\\\u062c\\\\u06cc.\\\\u06a9\\\\u06cc \\\\u0631\\\\u0648\\\\u0644\\\\u06cc\\\\u0646\\\\u06af\\\\u061b \\\\u0645\\\\u062a\\\\u0631\\\\u062c\\\\u0645: \\\\u0633\\\\u0645\\\\u06cc\\\\u0647 \\\\u06af\\\\u0646\\\\u062c\\\\u06cc\\\\u061b \\\\u0633\\\\u0627\\\\u0631\\\\u06cc\\\\u060c \\\\u0632\\\\u0647\\\\u0631\\\\u0647\\\\u060c 1384\\\\u061b \\\\u062f\\\\u0631 \\\\u062f\\\\u0648\\\\u062c\\\\u0644\\\\u062f\\\\u060c \\\\u062f\\\\u0631660\\\\u0635\\\\u061b \\\\u0634\\\\u0627\\\\u0628\\\\u06a9 9645704766\\\\u061b \\\\u0645\\\\u0648\\\\u0636\\\\u0648\\\\u0639 \\\\u062f\\\\u0627\\\\u0633\\\\u062a\\\\u0627\\\\u0646\\\\u0647\\\\u0627\\\\u06cc \\\\u0646\\\\u0648\\\\u06cc\\\\u0633\\\\u0646\\\\u062f\\\\u06af\\\\u0627\\\\u0646 \\\\u0628\\\\u0631\\\\u06cc\\\\u062a\\\\u0627\\\\u0646\\\\u06cc\\\\u0627 - \\\\u0633\\\\u062f\\\\u0647 21\\\\u0645 \\\\u0639\\\\u0646\\\\u0648\\\\u0627\\\\u0646: \\\\u0647\\\\u0631\\\\u06cc \\\\u067e\\\\u0627\\\\u062a\\\\u0631 \\\\u0648 \\\\u0634\\\\u0627\\\\u0647\\\\u0632\\\\u0627\\\\u062f\\\\u0647 \\\\u06cc \\\\u062f\\\\u0648\\\\u0631\\\\u06af\\\\u0647 - \\\\u06a9\\\\u062a\\\\u0627\\\\u0628 \\\\u0634\\\\u0634 \\\\u062f\\\\u0631 \\\\u062f\\\\u0648 \\\\u062c\\\\u0644\\\\u062f \\\\u061b \\\\u0646\\\\u0648\\\\u06cc\\\\u0633\\\\u0646\\\\u062f\\\\u0647: \\\\u062c\\\\u06cc.\\\\u06a9\\\\u06cc \\\\u0631\\\\u0648\\\\u0644\\\\u06cc\\\\u0646\\\\u06af\\\\u061b \\\\u0645\\\\u062a\\\\u0631\\\\u062c\\\\u0645: \\\\u0648\\\\u06cc\\\\u062f\\\\u0627 \\\\u0627\\\\u0633\\\\u0644\\\\u0627\\\\u0645\\\\u06cc\\\\u0647\\\\u061b \\\\u062a\\\\u0647\\\\u0631\\\\u0627\\\\u0646\\\\u060c \\\\u062a\\\\u0646\\\\u062f\\\\u06cc\\\\u0633\\\\u060c 1384\\\\u061b \\\\u062f\\\\u0631 \\\\u062f\\\\u0648 \\\\u062c\\\\u0644\\\\u062f\\\\u061b \\\\u0634\\\\u0627\\\\u0628\\\\u06a9 9648944024\\\\u061b \\\\u0686\\\\u0627\\\\u067e \\\\u062f\\\\u0648\\\\u0645 \\\\u062a\\\\u0627 \\\\u0647\\\\u0634\\\\u062a\\\\u0645 1384\\\\u061b \\\\u0686\\\\u0627\\\\u067e \\\\u06cc\\\\u0627\\\\u0632\\\\u062f\\\\u0647\\\\u0645 1392\\\\u061b \\\\u0634\\\\u0627\\\\u0628\\\\u06a9 9789648944013\\\\u061b \\\\u0639\\\\u0646\\\\u0648\\\\u0627\\\\u0646: \\\\u0647\\\\u0631\\\\u06cc \\\\u067e\\\\u0627\\\\u062a\\\\u0631 \\\\u0648 \\\\u067e\\\\u0631\\\\u0646\\\\u0633 \\\\u062f\\\\u0648\\\\u0631\\\\u06af\\\\u0647 - \\\\u06a9\\\\u062a\\\\u0627\\\\u0628 \\\\u0634\\\\u0634\\\\u061b \\\\u0646\\\\u0648\\\\u06cc\\\\u0633\\\\u0646\\\\u062f\\\\u0647: \\\\u062c\\\\u06cc.\\\\u06a9\\\\u06cc \\\\u0631\\\\u0648\\\\u0644\\\\u06cc\\\\u0646\\\\u06af\\\\u061b \\\\u0645\\\\u062a\\\\u0631\\\\u062c\\\\u0645: \\\\u063a\\\\u0644\\\\u0627\\\\u0645\\\\u062d\\\\u0633\\\\u06cc\\\\u0646 \\\\u0627\\\\u0639\\\\u0631\\\\u0627\\\\u0628\\\\u06cc\\\\u061b \\\\u062a\\\\u0647\\\\u0631\\\\u0627\\\\u0646\\\\u060c \\\\u067e\\\\u0644\\\\u06cc\\\\u06a9\\\\u0627\\\\u0646\\\\u060c 1384\\\\u061b \\\\u062f\\\\u0631 912\\\\u0635\\\\u061b \\\\u0634\\\\u0627\\\\u0628\\\\u06a99648690065\\\\u061b \\\\u0639\\\\u0646\\\\u0648\\\\u0627\\\\u0646: \\\\u0647\\\\u0631\\\\u06cc\\\\u200c \\\\u067e\\\\u0627\\\\u062a\\\\u0631 \\\\u0648 \\\\u0634\\\\u0627\\\\u0647\\\\u0632\\\\u0627\\\\u062f\\\\u0647\\\\u200c \\\\u06cc \\\\u062f\\\\u0648\\\\u200c\\\\u0631\\\\u06af\\\\u0647\\\\u061b \\\\u0646\\\\u0648\\\\u06cc\\\\u0633\\\\u0646\\\\u062f\\\\u0647: \\\\u062c\\\\u06cc.\\\\u06a9\\\\u06cc \\\\u0631\\\\u0648\\\\u0644\\\\u06cc\\\\u0646\\\\u06af\\\\u061b \\\\u0645\\\\u062a\\\\u0631\\\\u062c\\\\u0645: \\\\u0645\\\\u062d\\\\u0645\\\\u062f\\\\u062d\\\\u0633\\\\u0646 \\\\u0648\\\\u0627\\\\u062d\\\\u062f\\\\u061b \\\\u0642\\\\u0645 \\\\u06af\\\\u0646\\\\u062c \\\\u0639\\\\u0631\\\\u0641\\\\u0627\\\\u0646\\\\u200f\\\\u202b\\\\u060c 1384\\\\u061b \\\\u062f\\\\u0631 \\\\u062f\\\\u0648 \\\\u062c\\\\u0644\\\\u062f\\\\u061b \\\\u0634\\\\u0627\\\\u0628\\\\u06a99647985498\\\\u061b \\\\u0639\\\\u0646\\\\u0648\\\\u0627\\\\u0646: \\\\u0647\\\\u0631\\\\u06cc\\\\u200c \\\\u067e\\\\u0627\\\\u062a\\\\u0631 \\\\u0648 \\\\u0634\\\\u0627\\\\u0647\\\\u0632\\\\u0627\\\\u062f\\\\u0647\\\\u200c \\\\u06cc \\\\u062f\\\\u0648\\\\u200c\\\\u0631\\\\u06af\\\\u0647\\\\u061b \\\\u0646\\\\u0648\\\\u06cc\\\\u0633\\\\u0646\\\\u062f\\\\u0647: \\\\u062c\\\\u06cc.\\\\u06a9\\\\u06cc \\\\u0631\\\\u0648\\\\u0644\\\\u06cc\\\\u0646\\\\u06af\\\\u061b \\\\u0645\\\\u062a\\\\u0631\\\\u062c\\\\u0645: \\\\u0645\\\\u0631\\\\u06cc\\\\u0645 \\\\u0634\\\\u0639\\\\u0628\\\\u0627\\\\u0646\\\\u06cc (\\\\u0646\\\\u0635\\\\u06cc\\\\u0631\\\\u06cc \\\\u0622\\\\u0630\\\\u0631)\\\\u061b \\\\u062a\\\\u0647\\\\u0631\\\\u0627\\\\u0646\\\\u060c \\\\u0637\\\\u062d\\\\u0627\\\\u0646\\\\u060c 1384\\\\u061b \\\\u062f\\\\u0631 \\\\u062f\\\\u0648 \\\\u062c\\\\u0644\\\\u062f\\\\u061b \\\\u0686\\\\u0627\\\\u067e \\\\u062f\\\\u06cc\\\\u06af\\\\u0631 \\\\u062a\\\\u0647\\\\u0631\\\\u0627\\\\u0646 \\\\u0639\\\\u0644\\\\u0645\\\\u06cc \\\\u0634\\\\u0627\\\\u06cc\\\\u0627\\\\u0646\\\\u200f\\\\u202b\\\\u060c 1391\\\\u061b \\\\u062f\\\\u0631 \\\\u062f\\\\u0648 \\\\u062c\\\\u0644\\\\u062f\\\\u061b \\\\u0634\\\\u0627\\\\u0628\\\\u06a9 9786009304219\\\\u061b \\\\u0639\\\\u0646\\\\u0648\\\\u0627\\\\u0646: \\\\u0647\\\\u0631\\\\u06cc\\\\u200c \\\\u067e\\\\u0627\\\\u062a\\\\u0631 \\\\u0648 \\\\u0634\\\\u0627\\\\u0647\\\\u0632\\\\u0627\\\\u062f\\\\u0647\\\\u200c \\\\u06cc \\\\u0646\\\\u06cc\\\\u0645\\\\u0647 \\\\u0627\\\\u0635\\\\u06cc\\\\u0644\\\\u061b \\\\u0646\\\\u0648\\\\u06cc\\\\u0633\\\\u0646\\\\u062f\\\\u0647: \\\\u062c\\\\u06cc.\\\\u06a9\\\\u06cc \\\\u0631\\\\u0648\\\\u0644\\\\u06cc\\\\u0646\\\\u06af\\\\u061b \\\\u0645\\\\u062a\\\\u0631\\\\u062c\\\\u0645: \\\\u0633\\\\u0639\\\\u06cc\\\\u062f \\\\u0627\\\\u0628\\\\u0631\\\\u0627\\\\u0647\\\\u06cc\\\\u0645\\\\u06cc\\\\u061b \\\\u062a\\\\u0647\\\\u0631\\\\u0627\\\\u0646\\\\u060c \\\\u0646\\\\u06af\\\\u0627\\\\u0647 \\\\u0627\\\\u0645\\\\u0631\\\\u0648\\\\u0632\\\\u200f\\\\u202b\\\\u060c 1384\\\\u061b \\\\u062f\\\\u0631 \\\\u062f\\\\u0648 \\\\u062c\\\\u0644\\\\u062f\\\\u061b \\\\u0634\\\\u0627\\\\u0628\\\\u06a9 \\\\u062f\\\\u0648\\\\u0631\\\\u06479647470002\\\\u061b \\\\u0639\\\\u0646\\\\u0648\\\\u0627\\\\u0646: \\\\u0647\\\\u0631\\\\u06cc\\\\u200c \\\\u067e\\\\u0627\\\\u062a\\\\u0631 \\\\u0648 \\\\u0634\\\\u0627\\\\u0647\\\\u0632\\\\u0627\\\\u062f\\\\u0647\\\\u200c \\\\u0646\\\\u06cc\\\\u0645\\\\u0647 \\\\u0627\\\\u0635\\\\u06cc\\\\u0644\\\\u061b \\\\u0646\\\\u0648\\\\u06cc\\\\u0633\\\\u0646\\\\u062f\\\\u0647: \\\\u062c\\\\u06cc.\\\\u06a9\\\\u06cc \\\\u0631\\\\u0648\\\\u0644\\\\u06cc\\\\u0646\\\\u06af\\\\u061b \\\\u0645\\\\u062a\\\\u0631\\\\u062c\\\\u0645: \\\\u0645\\\\u062d\\\\u0645\\\\u062f \\\\u0646\\\\u0648\\\\u0631\\\\u0627\\\\u0644\\\\u0644\\\\u0647\\\\u06cc\\\\u061b \\\\u062a\\\\u0647\\\\u0631\\\\u0627\\\\u0646\\\\u060c \\\\u0628\\\\u0647\\\\u0646\\\\u0627\\\\u0645\\\\u200f\\\\u202b\\\\u060c 1384\\\\u061b \\\\u062f\\\\u0631 \\\\u062f\\\\u0648 \\\\u062c\\\\u0644\\\\u062f\\\\u061b \\\\u0634\\\\u0627\\\\u0628\\\\u06a9 \\\\u062f\\\\u0648\\\\u0631\\\\u06479645668360\\\\u061b \\\\u0639\\\\u0646\\\\u0648\\\\u0627\\\\u0646: \\\\u0647\\\\u0631\\\\u06cc\\\\u200c \\\\u067e\\\\u0627\\\\u062a\\\\u0631 \\\\u0648 \\\\u0634\\\\u0627\\\\u0647\\\\u0632\\\\u0627\\\\u062f\\\\u0647\\\\u200c \\\\u062f\\\\u0648\\\\u0631\\\\u06af\\\\u0647\\\\u061b \\\\u0646\\\\u0648\\\\u06cc\\\\u0633\\\\u0646\\\\u062f\\\\u0647: \\\\u062c\\\\u06cc.\\\\u06a9\\\\u06cc \\\\u0631\\\\u0648\\\\u0644\\\\u06cc\\\\u0646\\\\u06af\\\\u061b \\\\u0645\\\\u062a\\\\u0631\\\\u062c\\\\u0645: \\\\u0646\\\\u0627\\\\u0645\\\\u0648\\\\u0631 \\\\u0639\\\\u0627\\\\u0628\\\\u062f\\\\u06cc\\\\u0646\\\\u06cc\\\\u061b \\\\u062a\\\\u0647\\\\u0631\\\\u0627\\\\u0646\\\\u060c \\\\u0646\\\\u0627\\\\u0645\\\\u0648\\\\u0631 \\\\u0639\\\\u0627\\\\u0628\\\\u062f\\\\u06cc\\\\u0646\\\\u06cc\\\\u200f\\\\u202b\\\\u060c 1384\\\\u061b \\\\u062f\\\\u0631 \\\\u0633\\\\u0647 \\\\u062c\\\\u0644\\\\u062f\\\\u061b \\\\u0634\\\\u0627\\\\u0628\\\\u06a9 \\\\u062f\\\\u0648\\\\u0631\\\\u06479640670464\\\\u061b \\\\u0639\\\\u0646\\\\u0648\\\\u0627\\\\u0646: \\\\u0647\\\\u0631\\\\u06cc\\\\u200c \\\\u067e\\\\u0627\\\\u062a\\\\u0631 \\\\u0648 \\\\u0634\\\\u0627\\\\u0647\\\\u0632\\\\u0627\\\\u062f\\\\u0647\\\\u200c \\\\u062f\\\\u0648\\\\u0631\\\\u06af\\\\u0647\\\\u061b \\\\u0646\\\\u0648\\\\u06cc\\\\u0633\\\\u0646\\\\u062f\\\\u0647: \\\\u062c\\\\u06cc.\\\\u06a9\\\\u06cc \\\\u0631\\\\u0648\\\\u0644\\\\u06cc\\\\u0646\\\\u06af\\\\u061b \\\\u0645\\\\u062a\\\\u0631\\\\u062c\\\\u0645: \\\\u0627\\\\u0644\\\\u0647\\\\u0627\\\\u0645 \\\\u0622\\\\u0631\\\\u0627\\\\u0645 \\\\u0646\\\\u06cc\\\\u0627\\\\u061b \\\\u0634\\\\u0645\\\\u0633 \\\\u0627\\\\u0644\\\\u062f\\\\u06cc\\\\u0646 \\\\u062d\\\\u0633\\\\u06cc\\\\u0646\\\\u06cc\\\\u061b \\\\u062a\\\\u0647\\\\u0631\\\\u0627\\\\u0646\\\\u060c \\\\u067e\\\\u06cc\\\\u06a9\\\\u0627\\\\u0646\\\\u200f\\\\u202b\\\\u060c 1384\\\\u061b \\\\u062f\\\\u0631 \\\\u062f\\\\u0648 \\\\u062c\\\\u0644\\\\u062f\\\\u061b \\\\u0634\\\\u0627\\\\u0628\\\\u06a9 \\\\u062f\\\\u0648\\\\u0631\\\\u06479643284913\\\\u061b \\\\u0639\\\\u0646\\\\u0648\\\\u0627\\\\u0646: \\\\u0647\\\\u0631\\\\u06cc\\\\u200c \\\\u067e\\\\u0627\\\\u062a\\\\u0631 \\\\u0648 \\\\u0634\\\\u0627\\\\u0647\\\\u0632\\\\u0627\\\\u062f\\\\u0647\\\\u200c \\\\u062f\\\\u0648\\\\u0631\\\\u06af\\\\u0647\\\\u061b \\\\u0646\\\\u0648\\\\u06cc\\\\u0633\\\\u0646\\\\u062f\\\\u0647: \\\\u062c\\\\u06cc.\\\\u06a9\\\\u06cc \\\\u0631\\\\u0648\\\\u0644\\\\u06cc\\\\u0646\\\\u06af\\\\u061b \\\\u0645\\\\u062a\\\\u0631\\\\u062c\\\\u0645: \\\\u0634\\\\u0647\\\\u0646\\\\u0627\\\\u0632 \\\\u0645\\\\u062c\\\\u06cc\\\\u062f\\\\u06cc\\\\u061b \\\\u062a\\\\u0647\\\\u0631\\\\u0627\\\\u0646\\\\u060c \\\\u0631\\\\u0648\\\\u0634\\\\u0627\\\\u200f\\\\u202b\\\\u060c 1384\\\\u061b \\\\u062f\\\\u0631 \\\\u062f\\\\u0648 \\\\u062c\\\\u0644\\\\u062f\\\\u061b \\\\u0641\\\\u0647\\\\u0631\\\\u0633\\\\u062a: \\\\u0622\\\\u0646 \\\\u0648\\\\u0632\\\\u06cc\\\\u0631 \\\\u062f\\\\u06cc\\\\u06af\\\\u0631\\\\u061b \\\\u0628\\\\u0646\\\\u200c\\\\u0628\\\\u0633\\\\u062a \\\\u0627\\\\u0633\\\\u067e\\\\u06cc\\\\u0646\\\\u0631\\\\u061b \\\\u0648\\\\u0635\\\\u06cc\\\\u062a\\\\u200c\\\\u0646\\\\u0627\\\\u0645\\\\u0647 \\\\u0648 \\\\u062c\\\\u0646 \\\\u062e\\\\u0627\\\\u0646\\\\u0647\\\\u061b \\\\u0647\\\\u0648\\\\u0631\\\\u06cc\\\\u0633 \\\\u0627\\\\u0633\\\\u0644\\\\u0627\\\\u06af\\\\u0647\\\\u0648\\\\u0631\\\\u0646\\\\u061b \\\\u062e\\\\u0644\\\\u0637 \\\\u0627\\\\u0636\\\\u0627\\\\u0641\\\\u06cc\\\\u061b \\\\u0645\\\\u0633\\\\u06cc\\\\u0631 \\\\u0628\\\\u06cc\\\\u0631\\\\u0627\\\\u0647\\\\u0647\\\\u200c\\\\u06cc \\\\u062f\\\\u0631\\\\u0627\\\\u06a9\\\\u0648\\\\u061b \\\\u0627\\\\u0646\\\\u062c\\\\u0645\\\\u0646 \\\\u0627\\\\u0633\\\\u0644\\\\u0627\\\\u06af\\\\u061b \\\\u0627\\\\u0633\\\\u0646\\\\u06cc\\\\u067e \\\\u067e\\\\u06cc\\\\u0631\\\\u0648\\\\u0632\\\\u061b \\\\u0634\\\\u0627\\\\u0647\\\\u0632\\\\u0627\\\\u062f\\\\u0647\\\\u200c\\\\u06cc \\\\u062f\\\\u0648\\\\u0631\\\\u06af\\\\u0647\\\\u061b \\\\u062e\\\\u0627\\\\u0646\\\\u0647\\\\u200c\\\\u06cc \\\\u06af\\\\u0648\\\\u0646\\\\u062a\\\\u061b \\\\u0647\\\\u0645\\\\u06a9\\\\u0627\\\\u0631\\\\u06cc \\\\u0647\\\\u0631\\\\u0645\\\\u06cc\\\\u0648\\\\u0646\\\\u061b \\\\u0646\\\\u0642\\\\u0631\\\\u0647 \\\\u0648 \\\\u0639\\\\u0642\\\\u06cc\\\\u0642 \\\\u0633\\\\u0644\\\\u06cc\\\\u0645\\\\u0627\\\\u0646\\\\u06cc\\\\u061b \\\\u0631\\\\u06cc\\\\u062f\\\\u0644\\\\u060c \\\\u0645\\\\u0639\\\\u0645\\\\u0627\\\\u06cc \\\\u0645\\\\u0631\\\\u0645\\\\u0648\\\\u0632\\\\u061b \\\\u0641\\\\u0644\\\\u06cc\\\\u06a9\\\\u0633 \\\\u0641\\\\u0644\\\\u06cc\\\\u0633\\\\u06cc\\\\u0633\\\\u061b \\\\u0648 \\\\u067e\\\\u06cc\\\\u0645\\\\u0627\\\\u0646 \\\\u0646\\\\u0627\\\\u06af\\\\u0633\\\\u0633\\\\u062a\\\\u0646\\\\u06cc\\\\u061b \\\\u0634\\\\u0634\\\\u0645\\\\u064a\\\\u0646 \\\\u0633\\\\u0627\\\\u0644 \\\\u062a\\\\u062d\\\\u0635\\\\u064a\\\\u0644\\\\u06cc \\\\u0647\\\\u0631\\\\u06cc \\\\u062f\\\\u0631 \\\\u0645\\\\u062f\\\\u0631\\\\u0633\\\\u0647\\\\u200c \\\\u06cc \\\\u0639\\\\u0644\\\\u0648\\\\u0645 \\\\u0648 \\\\u0641\\\\u0646\\\\u0648\\\\u0646 \\\\u062c\\\\u0627\\\\u062f\\\\u0648\\\\u06af\\\\u0631\\\\u06cc \\\\u0647\\\\u0627\\\\u06af\\\\u0648\\\\u0627\\\\u0631\\\\u062a\\\\u0632 \\\\u0622\\\\u063a\\\\u0627\\\\u0632 \\\\u0645\\\\u06cc\\\\u0634\\\\u0648\\\\u062f\\\\u061b \\\\u00ab\\\\u0622\\\\u0644\\\\u0628\\\\u0648\\\\u0633 \\\\u062f\\\\u0627\\\\u0645\\\\u0628\\\\u0644\\\\u062f\\\\u0648\\\\u0631\\\\u00bb\\\\u060c \\\\u0645\\\\u062f\\\\u06cc\\\\u0631 \\\\u0645\\\\u062f\\\\u0631\\\\u0633\\\\u0647\\\\u060c \\\\u0628\\\\u0631\\\\u0627\\\\u06cc \\\\u00ab\\\\u0647\\\\u0631\\\\u06cc\\\\u00bb \\\\u06a9\\\\u0644\\\\u0627\\\\u0633\\\\u200c\\\\u0647\\\\u0627\\\\u06cc \\\\u062e\\\\u0635\\\\u0648\\\\u0635\\\\u06cc \\\\u062a\\\\u0631\\\\u062a\\\\u06cc\\\\u0628 \\\\u0645\\\\u06cc\\\\u062f\\\\u0647\\\\u062f\\\\u060c \\\\u0648 \\\\u062f\\\\u0631 \\\\u06a9\\\\u0644\\\\u0627\\\\u0633\\\\u200c\\\\u0647\\\\u0627\\\\u060c \\\\u0627\\\\u0648 \\\\u0631\\\\u0627 \\\\u0628\\\\u0627 \\\\u06af\\\\u0630\\\\u0634\\\\u062a\\\\u0647\\\\u200c \\\\u06cc \\\\u00ab\\\\u0644\\\\u0631\\\\u062f \\\\u0648\\\\u0644\\\\u062f\\\\u0645\\\\u0648\\\\u0631\\\\u062a\\\\u00bb\\\\u060c \\\\u0648 \\\\u0627\\\\u0646\\\\u062f\\\\u06cc\\\\u0634\\\\u0647 \\\\u0647\\\\u0627 \\\\u0648 \\\\u0622\\\\u0631\\\\u0632\\\\u0648\\\\u0647\\\\u0627\\\\u06cc \\\\u0627\\\\u0648 \\\\u0622\\\\u0634\\\\u0646\\\\u0627 \\\\u0645\\\\u06cc\\\\u06a9\\\\u0646\\\\u062f\\\\u061b \\\\u0648 \\\\u0631\\\\u0627\\\\u0632 \\\\u062c\\\\u0627\\\\u0648\\\\u062f\\\\u0627\\\\u0646\\\\u06af\\\\u06cc \\\\u0627\\\\u0648 \\\\u0631\\\\u0627 \\\\u0628\\\\u0631\\\\u0645\\\\u0644\\\\u0627 \\\\u0645\\\\u06cc\\\\u0633\\\\u0627\\\\u0632\\\\u062f \\\\u0646\\\\u0642\\\\u0644 \\\\u0627\\\\u0632 \\\\u0645\\\\u062a\\\\u0646 \\\\u062c\\\\u0644\\\\u062f \\\\u0646\\\\u062e\\\\u0633\\\\u062a: (\\\\u0647\\\\u0631\\\\u06cc \\\\u067e\\\\u0627\\\\u062a\\\\u0631 \\\\u0628\\\\u0627 \\\\u0635\\\\u062f\\\\u0627\\\\u06cc \\\\u0628\\\\u0644\\\\u0646\\\\u062f\\\\u06cc \\\\u062e\\\\u0631\\\\u0648\\\\u067e\\\\u0641 \\\\u0645\\\\u06cc\\\\u200c\\\\u06a9\\\\u0631\\\\u062f\\\\u061b \\\\u0628\\\\u06cc\\\\u0634\\\\u200c\\\\u062a\\\\u0631 \\\\u0686\\\\u0647\\\\u0627\\\\u0631 \\\\u0633\\\\u0627\\\\u0639\\\\u062a \\\\u06af\\\\u0630\\\\u0634\\\\u062a\\\\u0647 \\\\u0631\\\\u0627 \\\\u062f\\\\u0631 \\\\u06a9\\\\u0646\\\\u0627\\\\u0631 \\\\u067e\\\\u0646\\\\u062c\\\\u0631\\\\u0647\\\\u200c \\\\u06cc \\\\u0627\\\\u062a\\\\u0627\\\\u0642\\\\u200c \\\\u062e\\\\u0648\\\\u0627\\\\u0628\\\\u0634\\\\u060c \\\\u0628\\\\u0631 \\\\u0631\\\\u0648\\\\u06cc \\\\u0635\\\\u0646\\\\u062f\\\\u0644\\\\u06cc \\\\u0646\\\\u0634\\\\u0633\\\\u062a\\\\u0647 \\\\u0648 \\\\u0628\\\\u0647 \\\\u0645\\\\u0646\\\\u0638\\\\u0631\\\\u0647\\\\u200c \\\\u06cc \\\\u062e\\\\u06cc\\\\u0627\\\\u0628\\\\u0627\\\\u0646 \\\\u0632\\\\u0644 \\\\u0632\\\\u062f\\\\u0647 \\\\u0628\\\\u0648\\\\u062f\\\\u060c \\\\u06a9\\\\u0647 \\\\u062f\\\\u0645\\\\u200c \\\\u0628\\\\u0647\\\\u200c \\\\u062f\\\\u0645 \\\\u062a\\\\u0627\\\\u0631\\\\u06cc\\\\u06a9\\\\u200c\\\\u062a\\\\u0631 \\\\u0645\\\\u06cc\\\\u200c\\\\u0634\\\\u062f \\\\u0648 \\\\u0633\\\\u0631\\\\u0627\\\\u0646\\\\u062c\\\\u0627\\\\u0645\\\\u060c \\\\u062f\\\\u0631 \\\\u062d\\\\u0627\\\\u0644\\\\u06cc \\\\u06a9\\\\u0647 \\\\u06cc\\\\u06a9\\\\u200c\\\\u0637\\\\u0631\\\\u0641 \\\\u0635\\\\u0648\\\\u0631\\\\u062a\\\\u0634 \\\\u0628\\\\u0647 \\\\u067e\\\\u0646\\\\u062c\\\\u0631\\\\u0647 \\\\u062a\\\\u06a9\\\\u06cc\\\\u0647 \\\\u062f\\\\u0627\\\\u0634\\\\u062a\\\\u060c \\\\u0628\\\\u0627 \\\\u062f\\\\u0647\\\\u0627\\\\u0646 \\\\u0628\\\\u0627\\\\u0632 \\\\u0648 \\\\u0639\\\\u06cc\\\\u0646\\\\u06a9\\\\u060c \\\\u06cc\\\\u06a9 \\\\u0648\\\\u0631\\\\u06cc\\\\u060c \\\\u0628\\\\u0647 \\\\u062e\\\\u0648\\\\u0627\\\\u0628 \\\\u0631\\\\u0641\\\\u062a\\\\u0647 \\\\u0628\\\\u0648\\\\u062f\\\\u061b \\\\u0628\\\\u062e\\\\u0634\\\\u06cc \\\\u0627\\\\u0632 \\\\u0634\\\\u06cc\\\\u0634\\\\u0647\\\\u200c \\\\u06cc \\\\u067e\\\\u0646\\\\u062c\\\\u0631\\\\u0647 \\\\u06a9\\\\u0647 \\\\u062f\\\\u0631 \\\\u0627\\\\u062b\\\\u0631 \\\\u0646\\\\u0641\\\\u0633\\\\u200c\\\\u0647\\\\u0627\\\\u06cc \\\\u0627\\\\u0648 \\\\u0628\\\\u062e\\\\u0627\\\\u0631 \\\\u06af\\\\u0631\\\\u0641\\\\u062a\\\\u0647 \\\\u0628\\\\u0648\\\\u062f\\\\u060c \\\\u062f\\\\u0631 \\\\u0628\\\\u0631\\\\u0627\\\\u0628\\\\u0631 \\\\u0646\\\\u0648\\\\u0631 \\\\u0646\\\\u0627\\\\u0631\\\\u0646\\\\u062c\\\\u06cc \\\\u0631\\\\u0646\\\\u06af \\\\u0686\\\\u0631\\\\u0627\\\\u063a \\\\u062e\\\\u06cc\\\\u0627\\\\u0628\\\\u0627\\\\u0646 \\\\u0645\\\\u06cc\\\\u200c\\\\u062f\\\\u0631\\\\u062e\\\\u0634\\\\u06cc\\\\u062f \\\\u0648 \\\\u062f\\\\u0631 \\\\u067e\\\\u0631\\\\u062a\\\\u0648 \\\\u0627\\\\u06cc\\\\u0646 \\\\u0646\\\\u0648\\\\u0631 \\\\u063a\\\\u06cc\\\\u0631\\\\u0637\\\\u0628\\\\u06cc\\\\u0639\\\\u06cc\\\\u060c \\\\u0647\\\\u06cc\\\\u0686 \\\\u0631\\\\u0646\\\\u06af \\\\u062f\\\\u06cc\\\\u06af\\\\u0631\\\\u06cc \\\\u0628\\\\u0631 \\\\u0686\\\\u0647\\\\u0631\\\\u0647\\\\u200c \\\\u0627\\\\u0634 \\\\u0633\\\\u0627\\\\u06cc\\\\u0647 \\\\u0646\\\\u0645\\\\u06cc\\\\u200c\\\\u0627\\\\u0646\\\\u062f\\\\u0627\\\\u062e\\\\u062a\\\\u060c \\\\u0686\\\\u0646\\\\u0627\\\\u0646 \\\\u06a9\\\\u0647 \\\\u0635\\\\u0648\\\\u0631\\\\u062a\\\\u0634 \\\\u062f\\\\u0631 \\\\u0632\\\\u06cc\\\\u0631 \\\\u0633\\\\u06cc\\\\u0627\\\\u0647\\\\u06cc \\\\u0645\\\\u062a\\\\u0636\\\\u0627\\\\u062f \\\\u0645\\\\u0648\\\\u0647\\\\u0627\\\\u06cc \\\\u0646\\\\u0627\\\\u0645\\\\u0631\\\\u062a\\\\u0628\\\\u0634\\\\u060c \\\\u0631\\\\u0646\\\\u06af \\\\u067e\\\\u0631\\\\u06cc\\\\u062f\\\\u0647 \\\\u0648 \\\\u062a\\\\u0631\\\\u0633\\\\u0646\\\\u0627\\\\u06a9 \\\\u0628\\\\u0647 \\\\u0646\\\\u0638\\\\u0631 \\\\u0645\\\\u06cc\\\\u200c\\\\u0631\\\\u0633\\\\u06cc\\\\u062f\\\\u061b \\\\u0627\\\\u062a\\\\u0627\\\\u0642\\\\u060c \\\\u067e\\\\u0631 \\\\u0627\\\\u0632 \\\\u0648\\\\u0633\\\\u0627\\\\u06cc\\\\u0644 \\\\u062f\\\\u0631\\\\u0647\\\\u0645 \\\\u0631\\\\u06cc\\\\u062e\\\\u062a\\\\u0647\\\\u200c \\\\u06cc \\\\u06af\\\\u0648\\\\u0646\\\\u0627\\\\u06af\\\\u0648\\\\u0646 \\\\u0648 \\\\u062e\\\\u0631\\\\u062f\\\\u0647 \\\\u0622\\\\u0634\\\\u063a\\\\u0627\\\\u0644\\\\u200c\\\\u0647\\\\u0627\\\\u06cc \\\\u067e\\\\u0631\\\\u0627\\\\u06a9\\\\u0646\\\\u062f\\\\u0647 \\\\u0628\\\\u0648\\\\u062f\\\\u061b \\\\u067e\\\\u0631\\\\u0647\\\\u0627\\\\u06cc \\\\u062c\\\\u063a\\\\u062f\\\\u060c \\\\u062f\\\\u0627\\\\u0646\\\\u0647\\\\u200c\\\\u0647\\\\u0627\\\\u06cc \\\\u0633\\\\u06cc\\\\u0628 \\\\u0648 \\\\u06a9\\\\u0627\\\\u063a\\\\u0630\\\\u0647\\\\u0627\\\\u06cc \\\\u0645\\\\u0686\\\\u0627\\\\u0644\\\\u0647\\\\u200c \\\\u06cc \\\\u0634\\\\u06a9\\\\u0644\\\\u0627\\\\u062a \\\\u062f\\\\u0631 \\\\u06af\\\\u0648\\\\u0634\\\\u0647 \\\\u0648 \\\\u06a9\\\\u0646\\\\u0627\\\\u0631 \\\\u0627\\\\u062a\\\\u0627\\\\u0642 \\\\u0631\\\\u064a\\\\u062e\\\\u062a\\\\u0647 \\\\u0628\\\\u0648\\\\u062f\\\\u061b \\\\u0686\\\\u0646\\\\u062f\\\\u06cc\\\\u0646 \\\\u06a9\\\\u062a\\\\u0627\\\\u0628 \\\\u062c\\\\u0627\\\\u062f\\\\u0648\\\\u06af\\\\u0631\\\\u06cc \\\\u0644\\\\u0627\\\\u0628\\\\u0647\\\\u200c\\\\u0644\\\\u0627\\\\u06cc \\\\u0631\\\\u062f\\\\u0627\\\\u0647\\\\u0627\\\\u06cc \\\\u062f\\\\u0631\\\\u0647\\\\u0645 \\\\u06af\\\\u0648\\\\u0631\\\\u06cc\\\\u062f\\\\u0647\\\\u200c \\\\u06cc \\\\u0631\\\\u0648\\\\u06cc \\\\u062a\\\\u062e\\\\u062a\\\\u0634 \\\\u0642\\\\u0631\\\\u0627\\\\u0631 \\\\u062f\\\\u0627\\\\u0634\\\\u062a \\\\u0648 \\\\u062f\\\\u0633\\\\u062a\\\\u0647\\\\u200c \\\\u06cc \\\\u0646\\\\u0627\\\\u0645\\\\u0631\\\\u062a\\\\u0628 \\\\u0631\\\\u0648\\\\u0632\\\\u0646\\\\u0627\\\\u0645\\\\u0647\\\\u200c\\\\u0647\\\\u0627 \\\\u0628\\\\u0631 \\\\u0631\\\\u0648\\\\u06cc \\\\u0645\\\\u06cc\\\\u0632 \\\\u062a\\\\u062d\\\\u0631\\\\u06cc\\\\u0631\\\\u0634 \\\\u062f\\\\u0631 \\\\u0632\\\\u06cc\\\\u0631 \\\\u0647\\\\u0627\\\\u0644\\\\u0647\\\\u200c \\\\u0627\\\\u06cc \\\\u0627\\\\u0632 \\\\u0646\\\\u0648\\\\u0631 \\\\u0628\\\\u0647 \\\\u0686\\\\u0634\\\\u0645 \\\\u0645\\\\u06cc\\\\u200c\\\\u062e\\\\u0648\\\\u0631\\\\u062f\\\\u061b \\\\u0639\\\\u0646\\\\u0648\\\\u0627\\\\u0646 \\\\u06cc\\\\u06a9\\\\u06cc \\\\u0627\\\\u0632 \\\\u0631\\\\u0648\\\\u0632\\\\u0646\\\\u0627\\\\u0645\\\\u0647\\\\u200c\\\\u0647\\\\u0627 \\\\u06af\\\\u0648\\\\u06cc\\\\u06cc \\\\u0628\\\\u0627 \\\\u062f\\\\u0627\\\\u062f \\\\u0648 \\\\u0641\\\\u0631\\\\u06cc\\\\u0627\\\\u062f\\\\u060c \\\\u062e\\\\u0648\\\\u062f\\\\u0646\\\\u0645\\\\u0627\\\\u06cc\\\\u06cc \\\\u0645\\\\u06cc\\\\u200c\\\\u06a9\\\\u0631\\\\u062f: \\\\u0647\\\\u0631\\\\u06cc \\\\u067e\\\\u0627\\\\u062a\\\\u0631: \\\\u067e\\\\u0633\\\\u0631 \\\\u0628\\\\u0631\\\\u06af\\\\u0632\\\\u06cc\\\\u062f\\\\u0647\\\\u061f)\\\\u061b \\\\u067e\\\\u0627\\\\u06cc\\\\u0627\\\\u0646 \\\\u062a\\\\u0627\\\\u0631\\\\u06cc\\\\u062e \\\\u0628\\\\u0647\\\\u0646\\\\u06af\\\\u0627\\\\u0645 \\\\u0631\\\\u0633\\\\u0627\\\\u0646\\\\u06cc 09/07/1399\\\\u0647\\\\u062c\\\\u0631\\\\u06cc \\\\u062e\\\\u0648\\\\u0631\\\\u0634\\\\u06cc\\\\u062f\\\\u06cc\\\\u061b 30/05/1400\\\\u0647\\\\u062c\\\\u0631\\\\u06cc \\\\u062e\\\\u0648\\\\u0631\\\\u0634\\\\u06cc\\\\u062f\\\\u06cc\\\\u061b \\\\u0627. \\\\u0634\\\\u0631\\\\u0628\\\\u06cc\\\\u0627\\\\u0646\\\\u06cc\"\", \"\"user\"\": {\"\"url\"\": \"\"/user/show/614778-ahmad-sharabiani\"\", \"\"name\"\": \"\"Ahmad Sharabiani\"\"}, \"\"rating\"\": 5.0, \"\"bookUrl\"\": \"\"http://www.goodreads.com/book/show/1.harry_potter_and_the_half_blood_prince.warc\"\", \"\"shelves\"\": [{\"\"url\"\": \"\"/review/list/614778-ahmad-sharabiani?shelf=childrens-young-readers\"\", \"\"name\"\": \"\"childrens-young-readers\"\"}, {\"\"url\"\": \"\"/review/list/614778-ahmad-sharabiani?shelf=british\"\", \"\"name\"\": \"\"british\"\"}, {\"\"url\"\": \"\"/review/list/614778-ahmad-sharabiani?shelf=fantasy\"\", \"\"name\"\": \"\"fantasy\"\"}, {\"\"url\"\": \"\"/review/list/614778-ahmad-sharabiani?shelf=novels\"\", \"\"name\"\": \"\"novels\"\"}, {\"\"url\"\": \"\"/review/list/614778-ahmad-sharabiani?shelf=fiction\"\", \"\"name\"\": \"\"fiction\"\"}, {\"\"url\"\": \"\"/review/list/614778-ahmad-sharabiani?shelf=21th-century\"\", \"\"name\"\": \"\"21th-century\"\"}]}, {\"\"url\"\": \"\"https://www.goodreads.com/review/show/956890387\"\", \"\"date\"\": \"\"Jun 03, 2014\"\", \"\"text\"\": \"\"I\\\\u2019m yet to mention one of the most important characters in this series in a review. I\\\\u2019m, of course, talking about Severus Snape. Severus, the unsung hero. Severus, who sacrificed his own soul. Severus, who loved another more than life itself. Severus, the half-blood prince- the truth about his character was, and will likely always be, one of the most surprising twists I\\\\u2019ve ever read in fiction. The set up is all in this book.\"\", \"\"user\"\": {\"\"url\"\": \"\"/user/show/27788046-sean-barrs\"\", \"\"name\"\": \"\"Sean Barrs \"\"}, \"\"rating\"\": 5.0, \"\"bookUrl\"\": \"\"http://www.goodreads.com/book/show/1.harry_potter_and_the_half_blood_prince.warc\"\", \"\"shelves\"\": [{\"\"url\"\": \"\"/review/list/27788046-sean-barrs?shelf=children-of-all-ages\"\", \"\"name\"\": \"\"children-of-all-ages\"\"}, {\"\"url\"\": \"\"/review/list/27788046-sean-barrs?shelf=5-star-reads\"\", \"\"name\"\": \"\"5-star-reads\"\"}, {\"\"url\"\": \"\"/review/list/27788046-sean-barrs?shelf=fantasy\"\", \"\"name\"\": \"\"fantasy\"\"}]}, {\"\"url\"\": \"\"https://www.goodreads.com/review/show/2856577\"\", \"\"date\"\": \"\"Jul 09, 2007\"\", \"\"text\"\": \"\"I was first introduced to Harry Potter in a Children\\\\u2019s Lit class in college. I had resisted this popular phenomenon until I was forced to pick it up for a grade, and Book 1 was short enough that I could read it in the course of 2 hours. I have to admit I wasn\\\\u2019t impressed to any extent, nor did I dislike the experience, but I was critical on grounds of its being derivative, even if reading the first led to reading the second. After all, if I was bored and looking for something light, I could do worse than a fantasy about a child wizard who fights evil with his friends. But it was really the third book, with its increasing darkness, that took me in and made me a fan. With a movie coming out for Order of Phoenix and Deathly Hallows on the horizon, I decided I would reread Half-Blood Prince. I figured it would take four sittings, of course, with its 600 pages, but time does fly when reading this one, and I\\\\u2019ve come to the conclusion that this is my favorite so far. What I wouldn\\\\u2019t have been willing to admit in college that I\\\\u2019m perfectly comfortable saying now is that J.K. Rowling is a fantastic storyteller; she writes with great clarity, wit, and humor; and she\\\\u2019s created a cast of loveable characters with whom most people, due to the common experience of growing up, can relate closely. That said, the reason for my preference for the 6th book is that it\\\\u2019s the most emotionally rich in the series. Here we get the backstory of Voldemort (*spoiler alert*) through a series of flashbacks (coming in HP by way of magically extracted memories), and in this way, we come to understand the villain\\\\u2019s similarities and differences with our hero. After all, the villain has to have reasons for committing heinous acts, and until now, we don\\\\u2019t know what these are. Voldemort is from a once-powerful wizard family reduced to poverty that lives in a dilapidated hovel on the edge of a small town, wary of outsiders, and their main point of pride is their pure blood, the lineage having cross-bred for generations so as not to pollute the line. Voldemort\\\\u2019s mother lives with her father and brother and yearns for the love of a nonmagical man (\\\\u201cmuggle\\\\u201d in this world) and when her father and brother are arrested, she uses the opportunity to bewitch her beloved and run off. She ends up pregnant, the man deserts her, and she dies while giving birth to her half-wizard, half-muggle son, thus making him an orphan (like Harry). (Faulkner anyone?) But whereas Harry comes to Hogwarts and befriends Ron and Hermione creating unity and strength through positive emotions, Voldemort, when growing in the orphanage shuns other children, torturing them at times (without the awareness of adults) and stealing their possessions. What fuels him is his hatred of his beginnings, his mother\\\\u2019s weakness at having died like a common person despite being a witch, and the \\\\u201cmuggle\\\\u201d blood inherited from his father. Over the course of his time at Hogwarts, Voldemort, charming as only evil can be, learns to win over people as a means to an end and disguise his insidious purposes, but he never befriends anyone. He moves, through his hatred, further away from many of the emotions that drive Harry, namely the desire to protect the people he loves and avenge his parents\\\\u2019 death. With Dumbledore\\\\u2019s help in exploring Voldemort\\\\u2019s past, Harry begins to understand that he\\\\u2019s come to be where he is through the choices he\\\\u2019s made, that his greatest strengths are an alliance with his friends, and that this might hold the key to destroying his enemy, a fact that\\\\u2019s made all the more poignant when Dumbledore, in an all-out assault on Hogwarts by Voldemort\\\\u2019s Death Eaters, is killed at the end. The stakes are higher than before, the action and pace increase as the conclusion draws near, and things are looking darker than ever, which is the setup that any fan wants when the end is looming and it leaves us with the question: How will our hero prevail?\"\", \"\"user\"\": {\"\"url\"\": \"\"/user/show/156760-aloysius\"\", \"\"name\"\": \"\"Aloysius\"\"}, \"\"rating\"\": 5.0, \"\"bookUrl\"\": \"\"http://www.goodreads.com/book/show/1.harry_potter_and_the_half_blood_prince.warc\"\", \"\"shelves\"\": []}, {\"\"url\"\": \"\"https://www.goodreads.com/review/show/842506912\"\", \"\"date\"\": \"\"Feb 02, 2014\"\", \"\"text\"\": \"\"Here\\'s the thing about the Harry Potter books... They\\'re awesome. Deep, huh? Well, deep or shallow, it\\'s the truth. I waited a long time to read the Harry Potter books because I wanted to experience them with my own children. My son (8) and I just finished the sixth book, my first daughter (6) and I are working on the first, and my youngest child (3) is content to commandeer her siblings\\' wands and run around shrieking, \\\\\"\"I have a Harry Potter stick!\\\\\"\" In other words, we all enjoy it. I could write a great deal about Harry Potter and the Half-Blood Prince, but it\\'s a tough book to write about without giving things away. And though I loved this novel for many reasons, I find it quite difficult to separate it from the other tales. This, I think, speaks to J.K. Rowling\\'s ability to connect the stories in a such a way that they each have their own identity while still continuing to trace a gigantic glowing arc through the sky along which the reader is able to ride from the first book to the seventh. So before I tell you a few things I loved about the novel, please know that there might be spoilers below. Not huge spoilers, mind you, but I\\'m always afraid of letting something slip. So...be forewarned. Don\\'t read on if you haven\\'t read this book yet. And if you haven\\'t read the book, why are you reading a review of it by a writer whose skills don\\'t yet approach J.K. Rowling\\'s? Seriously. Get off the danged Internet and read this amazing series! Some delights and terrors and sorrows... 1. Fenrir Greyback: Bet that surprised you a little. I know that this character played a relatively minor role, but on the page he was a scene-stealer, a flesh-chewer, and a perfect foil for one of my favorite characters, Remus Lupin. An aside: About a year before I began reading the series, my Creative Writing class was discussing characterization. The kids began talking about the Harry Potter books. One remarked that the supporting characters were as interesting as the leads, which led another student to bring up Remus Lupin. She was halfway through her cataloging of his merits as a character when she stopped and looked up at me, as if seeing me anew. She then said, \\\\\"\"Mr. (Insert real name here). You sort of remind me of Lupin.\\\\\"\" When I later found out he was a werewolf, I was a little bit shocked (and secretly pleased). But when I really got to know the character, I found the remark incredibly gratifying. Back to Fenrir Greyback (with whom I hope I have nothing in common)... What made Greyback so incredibly interesting to me was not only the sheer ferocity of his behavior, but the diabolical simplicity of his motives. If the Harry Potter books were likened to Lord of the Flies and Voldemort\\'s ambition were compared with Jack\\'s (the leader of the hunters), then Greyback would be Roger, the sadist. This powderkeg of a character lives only to rend flesh and to guzzle the steaming lifeblood of his victims. Greyback doesn\\'t want to rule the world; he simply wants to terrorize it. I don\\'t know what kind of a role he plays in the seventh book (if any), but his unreasoning brutality added just the right note of menace to a book that largely---and sensitively---focused on the romantic relationships of its teenagers. 2. Fleur\\'s Surprising Reaction: I admit to falling prey to a stupid prejudice here, and I feel awful about it. But I wrongly assumed Fleur Delacour was a pretty face without a soul. In Harry Potter and the Goblet of Fire she was the object of many male desires (Ron\\'s particularly), and though she was skilled at wizardry, she wasn\\'t an especially affecting character. She did seem affected, however, and when she showed up again in Book Six, I, like Mrs. Weasley, rolled my eyes and dismissed her as a fluttery, vapid future supermodel. How wrong I was. One mark of a great writer, I think, is the ability to surprise the reader without cheating. That\\'s J.K. Rowling. When something terrible befell Fleur\\'s fiance, I was all set to mentally berate her for her superficiality. But rather than making a caricature out of Fleur---as I fear I unknowingly did---Rowling transformed her and made her deeply endearing with a couple elegant lines of dialogue. And I loved that. So here\\'s to continual reminders to not judge people by appearances or even their seeming personalities. People can still surprise us, and we need to give them the opportunity to do so. *takes a deep breath* And lastly... 3. Dumbledore: If you\\'ve read this far, you\\'ve only been assailed by minor spoilers. I don\\'t want to spoil this plot twist, but I don\\'t know how to talk about it without spoiling it. And the fact is, I don\\'t want to talk about it. Rarely has a fictional character so resonated with me the way Albus Dumbledore has. In the first book he was wise, eccentric, and a constant source of comfort. As the series has developed, he has persisted in exhibiting those traits, but he has also grown more than most might think. He has revealed a penchant for trusting others too much. He has admitted how fallible he is, how prone to mistakes. He has been injured, accused of wrongdoing, and generally fed through a physical and emotional woodchipper. And he has come through it all with an open, caring heart and an enormous capacity for love. One passage in particular, I think, summarizes this amazing character for me. In a scene that chronicles how Tom Riddle became Lord Voldemort, Dumbledore attempts to gird Harry\\'s resolve and confidence in the inevitable battle with his nemesis: \\\\\"\"Yes, you have,\\\\\"\" said Dumbledore firmly. \\\\\"\"You have a power that Voldemort has never had. You can---\\\\\"\" \\\\\"\"I know!\\\\\"\" said Harry impatiently. \\\\\"\"I can love!\\\\\"\" It was only with difficult that he stopped himself adding, \\\\\"\"Big deal!\\\\\"\" \\\\\"\"Yes, Harry, you can love,\\\\\"\" said Dumbledore, who looked as though he knew perfectly well what Harry had just refrained from saying. \\\\\"\"Which, given everything that has happened to you, is a great and remarkable thing. You are still too young to understand how unusual you are, Harry.\\\\\"\" \\\\\"\"So, when the prophecy says that I\\'ll have \\'power the Dark Lord knows not,\\' it just means---love?\\\\\"\" asked Harry, feeling a little let down. \\\\\"\"Yes---just love,\\\\\"\" said Dumbledore. The above passage will strike some as too direct, too naive, or worst of all, too emotional. It struck me as incredibly beautiful. There are all sorts of belief systems in the world, and no two people are exactly alike in their beliefs. But what Dumbledore says here is something that, were it adopted by more people, would alter our world for the better. Harry, for all his flaws, usually acts with good intentions. He befriends Luna Lovegood (another one of my favorite characters in all of fiction), gives of himself to others, and is willing to suffer so that others won\\'t have to experience the same pain. In other words, Harry loves. And so can Dumbledore. Which is why this book was so memorable, wonderful, and painful to me. I\\'m going to go now. My wife is making a delicious supper. My son and first daughter are ready to wrestle. And my three-year-old is racing around the house casting spells on the furniture with her Harry Potter stick. And for that, J.K. Rowling, I thank you.\"\", \"\"user\"\": {\"\"url\"\": \"\"/user/show/4415785-jonathan-janz\"\", \"\"name\"\": \"\"Jonathan Janz\"\"}, \"\"rating\"\": 5.0, \"\"bookUrl\"\": \"\"http://www.goodreads.com/book/show/1.harry_potter_and_the_half_blood_prince.warc\"\", \"\"shelves\"\": []}, {\"\"url\"\": \"\"https://www.goodreads.com/review/show/567096841\"\", \"\"date\"\": \"\"Mar 21, 2013\"\", \"\"text\"\": \"\"I could revisit this world over and over!! Mel \\\\ud83d\\\\udda4\\\\ud83d\\\\udc3e\\\\ud83d\\\\udc3a\"\", \"\"user\"\": {\"\"url\"\": \"\"/user/show/17438949-melissa-dog-wolf-lover-martin\"\", \"\"name\"\": \"\"Melissa \\\\u2665 Dog/Wolf Lover \\\\u2665 Martin\"\"}, \"\"rating\"\": 5.0, \"\"bookUrl\"\": \"\"http://www.goodreads.com/book/show/1.harry_potter_and_the_half_blood_prince.warc\"\", \"\"shelves\"\": [{\"\"url\"\": \"\"/review/list/17438949-melissa-dog-wolf-lover-martin?shelf=childrens\"\", \"\"name\"\": \"\"childrens\"\"}, {\"\"url\"\": \"\"/review/list/17438949-melissa-dog-wolf-lover-martin?shelf=own\"\", \"\"name\"\": \"\"own\"\"}]}, {\"\"url\"\": \"\"https://www.goodreads.com/review/show/14146693\"\", \"\"date\"\": \"\"Jan 31, 2008\"\", \"\"text\"\": \"\"Since pretty much everyone I know has read these books, I figure reviewing them is pretty pointless. But with the new book coming out in a couple of days, I have to go through them beginning to end. To make the reviews more entertaining, I will be doing them in a variety of unexpected formats. For this review, I will be writing as a power ballad. (Intro: Piano and strings) You were always by my side You will always be my guide But the road I\\'m on Goes on and on And I\\'ve left you beHIIIIIND! (Big crunchy electric guitar) (DUMBLEDORE!) I will never forget the strength you showed! (DUMBLEDORE!) I will never forget the debt you\\'re owed! (DUMBLEDORE!) And when I face the final hour (DUMBLEDORE!) I will call on all your power! (Guitar solo) There\\'s no way back again But if I can find a friend To see me though And remember you I\\'ll make it to the EEEENNNND! (DUMBLEDORE!) When I finally catch that snake in the grass (DUMBLEDORE!) You will be able to rest at last! (DUMBLEDORE!) You know he never will escape (DUMBLEDORE!) I\\'m comin\\' for you SNAAAAAAAAPE!!!! (Guitar solo) (Guitar solo with children\\'s choir singing \\\\\"\"Run, Snape, Run!\\\\\"\") (Guitar solo with fireworks) (Drums explode) EDITOR\\'S NOTE: Yes, I know, it\\'s horrible. I\\'m not proud....\"\", \"\"user\"\": {\"\"url\"\": \"\"/user/show/858949-chris\"\", \"\"name\"\": \"\"Chris\"\"}, \"\"rating\"\": 4.0, \"\"bookUrl\"\": \"\"http://www.goodreads.com/book/show/1.harry_potter_and_the_half_blood_prince.warc\"\", \"\"shelves\"\": [{\"\"url\"\": \"\"/review/list/858949-chris?shelf=fantasy\"\", \"\"name\"\": \"\"fantasy\"\"}, {\"\"url\"\": \"\"/review/list/858949-chris?shelf=harry-potter\"\", \"\"name\"\": \"\"harry-potter\"\"}]}, {\"\"url\"\": \"\"https://www.goodreads.com/review/show/3179429845\"\", \"\"date\"\": \"\"Feb 06, 2020\"\", \"\"text\"\": \"\"Here\\'s my video review https://youtu.be/lgj2rQTmymw\"\", \"\"user\"\": {\"\"url\"\": \"\"/user/show/41973734-merphy-napier\"\", \"\"name\"\": \"\"Merphy Napier\"\"}, \"\"rating\"\": 5.0, \"\"bookUrl\"\": \"\"http://www.goodreads.com/book/show/1.harry_potter_and_the_half_blood_prince.warc\"\", \"\"shelves\"\": [{\"\"url\"\": \"\"/review/list/41973734-merphy-napier?shelf=fantasy\"\", \"\"name\"\": \"\"fantasy\"\"}, {\"\"url\"\": \"\"/review/list/41973734-merphy-napier?shelf=five-stars\"\", \"\"name\"\": \"\"five-stars\"\"}]}, {\"\"url\"\": \"\"https://www.goodreads.com/review/show/1792534441\"\", \"\"date\"\": \"\"Nov 11, 2016\"\", \"\"text\"\": \"\"Second Reread Review: REVIEW TO COME SOON \\\\u2022\\\\u2022\\\\u2022\\\\u2022\\\\u2022\\\\u2022\\\\u2022\\\\u2022\\\\u2022\\\\u2022\\\\u2022\\\\u2022\\\\u2022\\\\u2022\\\\u2022\\\\u2022\\\\u2022\\\\u2022\\\\u2022\\\\u2022\\\\u2022\\\\u2022\\\\u2022\\\\u2022\\\\u2022\\\\u2022\\\\u2022\\\\u2022\\\\u2022\\\\u2022\\\\u2022\\\\u2022\\\\u2022\\\\u2022\\\\u2022\\\\u2022\\\\u2022\\\\u2022\\\\u2022\\\\u2022\\\\u2022\\\\u2022\\\\u2022\\\\u2022\\\\u2022\\\\u2022\\\\u2022\\\\u2022\\\\u2022\\\\u2022\\\\u2022\\\\u2022\\\\u2022 5 GLOWING MAGICAL STARS! \\'Dumbledore says people find it far easier to forgive others for being wrong than being right,\\' said Hermione. \\'I heard him telling your mum, Ron.\\' I\\'m really enjoying this series so far but this series gets darker and darker. the first three of this series were so funny and cute even though there were sad scenes on them and the fourth, fifth and sixth books contained so much pain and I even shed more tears for these book than I did for the the first three. I have lost a favorite character that always made me laugh and smile. this character is Sirus Black. I even still can\\'t get over his death. but let\\'s admit it that maybe there\\'s a death of character that we will never get over. *takes deep breath* okay let\\'s talk about this book \\\\u30fb\\\\u3002\\\\u30fb\\\\u309c\\\\u2605\\\\u30fb\\\\u3002\\\\u30fb\\\\u3002\\\\u2606\\\\u30fb\\\\u309c\\\\u30fb\\\\u3002\\\\u30fb\\\\u309c\\\\u3002\\\\u30fb\\\\u3002\\\\u30fb\\\\u309c\\\\u2605\\\\u30fb\\\\u3002\\\\u30fb\\\\u3002\\\\u2606\\\\u30fb\\\\u3002\\\\u30fb\\\\u309c\\\\u2605\\\\u30fb\\\\u3002\\\\u30fb\\\\u3002 PHLEGM I have never liked Fleur Delacour very much since I first saw her on the book four and then I saw her again on the book four as Bill\\'s girlfriend or Fiancee and I also laughed when Ginny called Fleur Phlegm. I also still don\\'t how Bill fell in love with her but yeah, she is pretty but I thought Bill deserved someone better than her. I like Bill so much. he is so cool with his red long hair. maybe I didn\\'t like Phlegm because I was jealous hahahaha okay it is not maybe, I was jealous. but look at this scene : \\'\\'E is always so thoughtful,\\' purred Fleur adoringly, stroking Bill\\'s nose. Ginny mimed vomiting into her cereal behind Fleur. Harry choked over his cornflakes and Ron thumped him on the back. ugh ... how could I like her if she acted like that?!? that was really annoying and Ginny also found it disgusting. Hermione and Ginny didn\\'t even like her. but she changed my mind on the the end of this book because when Bill was attacked by ... that werewolf guy who bit Remus when he was a kid. Bill is no longer as handsome as he used to be but Fleur still loves him. she doesn\\'t care about how he looks and I even thought she would leave him after he was attacked but she didn\\'t and that time I changed my mind about her. She is the right girl for Bill, even though I am a little bit jealous hahaha xD Ron and Hermione I ship these two so much and I really really like Ron. Ron and Hermione are always funny. they always bicker about something and I think the first time Ron fell in love with Hermione was on the book four because he was so angry when he knew Hermione went to the Yule Ball with Viktor Krum and in this book Ron hurt me so much. He thought that Hermione kissed Krum and he was so angry and jealous because of this and he kissed Lavender in the common room that was full of people and it also broke Hermione\\'s heart. Harry looked into the corner she was indicating. There, in full view of the whole room, stood Ron wrapped so closely around Lavender Brown it was hard to tell whose hands were whose. And I was so angry in that moment \\'Er - my - nee,\\' croaked Ron unexpectedly from between them. but all my anger was gone when he was poisoned and he said that while he was asleep. I think he was trying to say Hermione, so that meant he dreamt about her and I forgave him that exact time and he also didn\\'t really like Lavender anymore since then. he even pretended to be asleep when Lavender came to visit him in the hospital wing. so that meant he didn\\'t like her anymore and I don\\'t think he actually liked Lavender before he was poisoned. I think he just kissed Lavender because he wanted to make Hermione jealous and feel hurt, which he successfully did. Harry And Ginny have you ever thought why Ginny had relationship with quite many guys? wait ... not many guys because she just dated two boys, Dean and Michael. But she always got a boyfriend as soon as she split up with her ex and my thoughs about this is probably right because Ginny said this to Harry on the end of the book \\'I never really gave up on you,\\' she said. \\'Not really. I always hoped ... Hermione told me to get on with life, maybe go out with some other people, relax a bit around you, because I never used to be able to talk if you were in the room, remember? And she thought you might take a bit more notice if I was a bit more - myself.\\' I think Ginny always dated a guy as soon as she split up with her ex because she always tried to forget Harry, so maybe if she had a boyfriend, she wouldn\\'t love Harry anymore. But according to what she said she never really gave up on Harry so that means she has always loved him. I was a bit sad when Harry said they can\\'t be together again because Harry was afraid if something would happen to Ginny if they kept seeing each other. he was afraid if Voldemort used Ginny to get him. but I didn\\'t angry with him because this just proved how much Harry loves Ginny and I am sure they will be together again. I hope so ... Dumbledore\\'s death I admit that Dumbledore is not one of my top favorite characters in this series but I always found him funny and a bit weird, in a good way, of course. But his death left me in shock because he was actually pleading to Snape but Snape killed him with The Avada Kedavra curse and I thought Snape was on the good side. What will happen now after Dumbledore died?! He is the only one Voldemort is afraid of. I have this feeling that I\\'ll to lose my favorite characters again ... thank you so much for reading and liking my review. hope you all have a great weekend, guys!\"\", \"\"user\"\": {\"\"url\"\": \"\"/user/show/43850323-reynita-the-night-reader\"\", \"\"name\"\": \"\"Reynita \\\\u2605 The Night Reader \\\\u2605\"\"}, \"\"rating\"\": 4.0, \"\"bookUrl\"\": \"\"http://www.goodreads.com/book/show/1.harry_potter_and_the_half_blood_prince.warc\"\", \"\"shelves\"\": [{\"\"url\"\": \"\"/review/list/43850323-reynita-the-night-reader?shelf=2016-reads\"\", \"\"name\"\": \"\"2016-reads\"\"}, {\"\"url\"\": \"\"/review/list/43850323-reynita-the-night-reader?shelf=amazing-books\"\", \"\"name\"\": \"\"amazing-books\"\"}, {\"\"url\"\": \"\"/review/list/43850323-reynita-the-night-reader?shelf=fantasy-books\"\", \"\"name\"\": \"\"fantasy-books\"\"}, {\"\"url\"\": \"\"/review/list/43850323-reynita-the-night-reader?shelf=stole-my-heart\"\", \"\"name\"\": \"\"stole-my-heart\"\"}, {\"\"url\"\": \"\"/review/list/43850323-reynita-the-night-reader?shelf=best-friends-to-lovers\"\", \"\"name\"\": \"\"best-friends-to-lovers\"\"}, {\"\"url\"\": \"\"/review/list/43850323-reynita-the-night-reader?shelf=breath-in-breath-out\"\", \"\"name\"\": \"\"breath-in-breath-out\"\"}, {\"\"url\"\": \"\"/review/list/43850323-reynita-the-night-reader?shelf=middle-grade\"\", \"\"name\"\": \"\"middle-grade\"\"}, {\"\"url\"\": \"\"/review/list/43850323-reynita-the-night-reader?shelf=broke-my-heart-in-half\"\", \"\"name\"\": \"\"broke-my-heart-in-half\"\"}, {\"\"url\"\": \"\"/review/list/43850323-reynita-the-night-reader?shelf=live-up-my-expectation\"\", \"\"name\"\": \"\"live-up-my-expectation\"\"}, {\"\"url\"\": \"\"/review/list/43850323-reynita-the-night-reader?shelf=i-love-the-cover\"\", \"\"name\"\": \"\"i-love-the-cover\"\"}]}, {\"\"url\"\": \"\"https://www.goodreads.com/review/show/2169299203\"\", \"\"date\"\": \"\"Oct 31, 2017\"\", \"\"text\"\": \"\"4.5 Golden Stars 92% yeah, it was dark, but probably the most Hilarious book of HP; it IS a Comedy! I was rolling in laughter! by Hilarious Ron, sassy Harry & Hermione\\'s wittiness & the unique fun in the writing style, the impression, the descriptions, the comparisons. anyway, don\\'t get mad at me, but this book is my least favourite in Harry Potter series. it was kind of disappointment for me. 3 years gap, reading the other fantastic books many times, guessing & after that shocking end in book 5, looking forward to this one, to be greater than others as we are close to end... in one sentence: I was not satisfied after reading it. (IK the book was the calm before the storm, but still.) & don\\'t get me wrong; it was a disappointment Only compared to other HP books. Boring start. (2 chapters without anything related to Hogwarts or the golden trio) Harry was obsessed with what Malfoy was up to, the whole year & for the first time, I found Harry annoying many times. maybe this is the main reason I didn\\'t like this book. (I hate \\'Sectumsempra\\' chapter , always get mad at him.) yelling many times: Don\\'t! No! you idiot, Harry! because he is my favourite character...\\\\ud83d\\\\udc94 (though now after many times re-reading, I actually found funny parts too, thankfully) at the end, he was right though. also, lack of funny sarcastic verbal fights between Harry & Draco :( almost whole events were like side-jobs (except the... you-know-what); A.K.A the Slug club truth: I don\\'t care about Slughorn either. those chapter he just talked & talked about celebrities once-were-his students... ughhhh. Adrenaline peak parts were not satisfying & not enough (amounts). the whole story was a bit ordinary & nothing happened in the whole school year, in particular. (like school wasn\\'t at an immediate, solid grave danger (book 2, 3, 7 & maybe 5), the golden trio wasn\\'t on solving mysteries (1, 2, 4, 5, 7) or something as intriguing as these. they were just attending classes, boring parties, slug club & these normal stuff. but in total, other parts (except Malfoy & Slug club); maybe not high peak of adrenaline (as I said), but interesting, we all wanted to know who the half-blood prince was, Quidditch was funny & the parts with Dumbledore was fascinating. I liked the second half of the book more, like finally this book stepped into action! & that end was the \\\\\"\"Beginning of the End\\\\\"\"! But main reason: his obsession with Malfoy; \\'OMG! Harry, just come off it!\\', therefore Harry being annoying, therefore lack of Harry\\'s sarcasm comebacks with Malfoy, lowered this book to my least favourite. BUT.... on the bright side, there are parts I love too: \\\\u2764 sassy Harry was the best! There\\'s no need to call me \\\\\"\"sir\\\\\"\", professor. Bless you JKR! Bless you Harry Potter! one of the sassiest comments in the history of sass masters! my first reaction when I see this, was: \\\\\"\"omg! Harry! did you just...!?\\\\\"\" & then re-read the sentence to see if I got it right & then... putting the book down (\\\\\"\"Hail Harry Potter!\\\\\"\") & burst out laughing! \\\\\"\"Well, you can\\\\u2019t break an Unbreakable Vow...\\\\\"\" (Gee! Thanks Ron!) \\\\\"\"I\\\\u2019d worked that much out for myself, funnily enough!\\\\u201d although there was no sarcastic comebacks between Harry & Malfoy, but this book had many funny moments by other characters. Harry was not just being sassy & sarcastic, but also being funny & clueless too, which was laughable. Ron\\'s jokes with ghosts always made me choke with laughter! \\\\\"\"and I\\'ll take his secret to the \\\\u2014\\\\\"\" \\\\\"\"\\\\u2014 not the grave, surely?\\\\\"\" said Ron with a snort. \\\\\"\"The sewers, maybe.\\\\\"\" LOL a lot! \\\\u2764 Friendships Harry & Ron\\'s friendship (always one of my favourite brotps) funny, great, looking after each other. always love it, in all books. \\\\\"\"Nice,\\\\\"\" he said. \\\\\"\"Classy. You should definitely wear it in front of Fred and George.\\\\\"\" \\\\\"\"If you tell them,\\\\\"\" said Ron, shoving the necklace out of sight under his pillow, \\\\\"\"I \\\\u2014 I \\\\u2014 I\\\\u2019ll \\\\u2014\\\\\"\" \\\\\"\"Stutter at me?\\\\\"\" said Harry, grinning. \\\\\"\"Come on, would I!?\\\\\"\" Roonil Wazlib! also Harry & Hermione\\'s. (especially after Ron & Hermione\\'s bickering), beautiful, caring, protective. again, I love it in all the books. \\\\u201cListen, Hermione, I can tell it\\\\u2019s not a girl. I can just tell.\\\\u201d \\\\u201cThe truth is that you don\\\\u2019t think a girl would have been clever enough,\\\\u201d said Hermione angrily. \\\\u201cHow can I have hung round with you for five years and not think girls are clever?\\\\u201d said Harry, stung by this. I actually noticed after years of rereading, now Romione has lowered in its place for me & I ship these two much more. they care so much for each other. (I\\'m thinking it\\'s also a brotp for me too. well, it\\'s complicated to decide if I want to accept the canon (because I do love canon too) or my mind. the point is, I love the moments with these two together :) \\\\u2764 the writing style is just Unique & perfect & funny! \\\\u2764 my favourite chapters are \\\\\"\"the Cave\\\\\"\" & \\\\\"\"Horcruxes\\\\\"\"; awesome, exciting with unexpected amount of surprises. I actually loved them. I loved the main-stream parts with Dumbledore. I loved how Harry, at some points, admired Tom. & how he unfolded this story & also sympathized with other characters. \\\\u2764 I liked Dumbledore in this book. \\\\u2764 at least after that terrible mistake (mentioned above), the chapter ended beautifully; my favourite part, that magical romantic moment, how well described, what a glamorous scene. My first ship finally sinking! \\\\\"\"Harry looked around; there was (view spoiler)[Ginny (hide spoiler)] running toward him; she had a hard, blazing look in her face as she threw her arms around him. And without thinking, without planning it, without worrying about the fact that fifty people were watching, Harry kissed her. After several long moments, or it might have been half an hour-or possibly several sunlit days- they broke apart. The creature in his chest roaring in triumph.\\\\\"\" (& I was really angry when the movie CHANGED this scene! actually I really loved the first 3 movies (they were so similar to the books) & 5 too (tho it was a bit different & they mostly deleted the humor parts), 4 was similar enough, just darker than my imagination. but movies 6 & 7 just had the same quotes (almost) & changed or deleted scenes a lot, therefore those completely disappointed me. :( \\\\u2764 & I was proud Harry became (view spoiler)[Team Captain (hide spoiler)]! Quidditch were funny, especially the first one (You Clever Harry! XD). except not the commentator, but Harry made a funny moment of that too ;) \\\\u2764 Don\\'t forget how Gracefully this book was written. (& how delicate she chose to show they were swearing without any direct swears, I love it, it doesn\\'t make me apprehensive, on the contrary, it makes me laugh very hard & respect the pure talent.) Hail Queen! 10th read; November 2019: I could\\'ve given 5 Stars because of Sassy Harry (I mean, Harry just being savagely Sassy this year! XD) & beautiful, magnificent choices of the words & compare to a few of my 5 stars this book definitely deserves 5; but I\\'m not satisfied with it (still things that annoy me) so I probably won\\'t. Although there\\'s a progress, the rating score has risen to 4.5 now. 13th read; June 2022: never have read this book this quick! thanks to BR with my new Potterhead! (slow down girl!\\\\ud83e\\\\udd23) - World building: \\\\u2605\\\\u2605\\\\u2605\\\\u2605\\\\u2605/5 Characters: \\\\u2605\\\\u2605\\\\u2605\\\\u2605\\\\u2605/5 / Characters development: \\\\u2605\\\\u2605\\\\u2605\\\\u2605(\\\\u2605)/5 Written style: \\\\u2605\\\\u2605\\\\u2605\\\\u2605\\\\u2605/5 Plot: \\\\u2605\\\\u2605\\\\u2605/5 General idea: \\\\u2605\\\\u2605\\\\u2605\\\\u2605(\\\\u2605)/5\"\", \"\"user\"\": {\"\"url\"\": \"\"/user/show/73227612-tina-the-girl-who-lives-in-fandoms\"\", \"\"name\"\": \"\"Tina \\\\u27b9 the girl who lives in Fandoms \"\"}, \"\"rating\"\": 4.0, \"\"bookUrl\"\": \"\"http://www.goodreads.com/book/show/1.harry_potter_and_the_half_blood_prince.warc\"\", \"\"shelves\"\": [{\"\"url\"\": \"\"/review/list/73227612-tina-the-girl-who-lives-in-fandoms?shelf=disappointment\"\", \"\"name\"\": \"\"disappointment\"\"}, {\"\"url\"\": \"\"/review/list/73227612-tina-the-girl-who-lives-in-fandoms?shelf=review-pride\"\", \"\"name\"\": \"\"review-pride\"\"}, {\"\"url\"\": \"\"/review/list/73227612-tina-the-girl-who-lives-in-fandoms?shelf=golden-stars\"\", \"\"name\"\": \"\"golden-stars\"\"}, {\"\"url\"\": \"\"/review/list/73227612-tina-the-girl-who-lives-in-fandoms?shelf=wow-end\"\", \"\"name\"\": \"\"wow-end\"\"}, {\"\"url\"\": \"\"/review/list/73227612-tina-the-girl-who-lives-in-fandoms?shelf=2000-2010\"\", \"\"name\"\": \"\"2000-2010\"\"}, {\"\"url\"\": \"\"/review/list/73227612-tina-the-girl-who-lives-in-fandoms?shelf=most-anticipated\"\", \"\"name\"\": \"\"most-anticipated\"\"}, {\"\"url\"\": \"\"/review/list/73227612-tina-the-girl-who-lives-in-fandoms?shelf=fun\"\", \"\"name\"\": \"\"fun\"\"}, {\"\"url\"\": \"\"/review/list/73227612-tina-the-girl-who-lives-in-fandoms?shelf=cover\"\", \"\"name\"\": \"\"cover\"\"}, {\"\"url\"\": \"\"/review/list/73227612-tina-the-girl-who-lives-in-fandoms?shelf=why-not-more\"\", \"\"name\"\": \"\"why-not-more\"\"}, {\"\"url\"\": \"\"/review/list/73227612-tina-the-girl-who-lives-in-fandoms?shelf=audiobooks\"\", \"\"name\"\": \"\"audiobooks\"\"}]}, {\"\"url\"\": \"\"https://www.goodreads.com/review/show/973869786\"\", \"\"date\"\": \"\"Jun 21, 2014\"\", \"\"text\"\": \"\"It seems like by now, everyone would realize they should listen to Harry.. Such a sad end :( I knew that was going to happen before starting the series, but didn\\'t know when. It still got me in the feels, though. The book as a whole was really fun and entertaining. I love the mystery and learning more about Voldemort. The romance drama was funny as well. I can\\'t wait to see what adventures the next book brings and how it all concludes..\"\", \"\"user\"\": {\"\"url\"\": \"\"/user/show/8937622-kassidy\"\", \"\"name\"\": \"\"Kassidy\"\"}, \"\"rating\"\": 5.0, \"\"bookUrl\"\": \"\"http://www.goodreads.com/book/show/1.harry_potter_and_the_half_blood_prince.warc\"\", \"\"shelves\"\": [{\"\"url\"\": \"\"/review/list/8937622-kassidy?shelf=favorites\"\", \"\"name\"\": \"\"favorites\"\"}]}, {\"\"url\"\": \"\"https://www.goodreads.com/review/show/1237023746\"\", \"\"date\"\": \"\"Feb 21, 2017\"\", \"\"text\"\": \"\"Reminder that all of my Harry Potter reviews contain unmarked spoilers, and lots of \\\\u2019em. If you\\\\u2019re one of the two people on Goodreads who hasn\\\\u2019t read this series, this review is not for you. So, my dear underside-of-a-rock-residing friends: https://emmareadstoomuch.wordpress.co... This review will be interesting, because this book was far (far, far) from perfect, and yet I am utterly determined to give it 5 stars. (Which I have only given to the first book in this series.) God, how do you talk about this book? It\\\\u2019s really amazing. It is really hard for me to feel anything while reading a book or generally living my life. For example, I felt nothing when Sirius died. Nothing throughout most of this series, actually. And nothing in this book, because nothing happened and everyone survived and everything is sunshiney and joyful! Ugh. I tried. The last hundred-ish pages of this book really tore me apart. Okay, even that\\\\u2019s not true. I\\\\u2019ll just come out and say it: I\\\\u2019m really f*cking sad that Dumbledore died. I love him so much. He\\\\u2019s high up in my top 5 characters. (Do I even have a top 5?) I\\\\u2019m devastated, which makes me even more upset, because I have a life to live today and can\\\\u2019t just lay around and wallow in fictional pain. I\\\\u2019m going to move on in the hopes that I just. Forget. Because I don\\\\u2019t like this at ALL. Here, we see Harry Potter - who, I think few will argue, has been a fairly mediocre character up to this point - become AMAZING. He\\\\u2019s motivated solely by his need to work against injustice and evil. He realizes his parents\\\\u2019 legacy within himself. He denounces the sucking up of others. He works hard in school! He is a good friend even when his two BFFS are being childish to one another plus refusing to believe him. In short, he\\\\u2019s really, really, five-star-level great here. Gorgeous character development in 650 pages. I didn\\\\u2019t think I liked Ginny much, because I didn\\\\u2019t remember this book well...like, at all. But she is so great! So funny. I wish there was more of her in this book. Also, I\\\\u2019ll fight anyone who says Dumbledore is ~the real villain~ of this series. He\\\\u2019s really not. (Cough, Snape is, cough.) AND YOU\\'RE NOT EDGY, PEOPLE WHO HATE DUMBLEDORE BUT LOVE SNAPE. YOU\\'RE JUST DUMB. I fell deeply in love with the guy. (Dumbledore, not Snape. BLEH.) AND I F*CKING MISS HIM. Goddamn it. Trying to forget didn\\\\u2019t last very long. Anyway. I missed Hermione and Neville. Hermione was absolutely not well-represented here at all. Maybe it\\\\u2019s a good thing she\\\\u2019s not a Ravenclaw (#RavenclawPride) because she works fully against logic throughout this book. And when she\\\\u2019s not she just, like, refuses to believe Harry. Ron is soooooooooo annoying! Is he anyone\\\\u2019s favorite character? He\\\\u2019s like, Fred or George if one of them was totally childish and attention-starved and mean. In fact, Ronald is a pretty impressive character for the number of gross character traits he embodies despite being supposed to be a good character. Mean, immature, rude, jealous, definition of an inferiority complex. Bleh. Harry and Ginny I\\\\u2019m totally for, BUT THE OTHER RELATIONSHIPS IN THIS BOOK ARE SO BORING. Can we do Hermione and Fred instead? Ron and Luna would be cute. Or, God forbid, some LGBT representation? WE KNOW YOU\\\\u2019RE A SUPPORTER, JOANNE. Don\\\\u2019t even get me started on Lupin and Tonks. Speaking of supposedly-good characters\\\\u2019 downfalls: I\\\\u2019m no longer a Hagrid fan. It started with the last book and came fully around here. Like, at a certain point, the man needs a character trait. Liking weird animals, making bad food, and being humongous don\\\\u2019t count. Harry and Hermione\\\\u2019s constant stubbornness is annoying. Plus makes the plot repetitive once in a while. Also, Tonks. You know what, I guess I AM going to get started on Lupin and Tonks! She was a hilarious badass in the last book, totally depressed and weak in this one. I know I sound like a total emotionless asshole here, but that\\\\u2019s who I am, and she\\\\u2019s annoying in this book. AND IT\\\\u2019S TOTALLY FINE BECAUSE SHE\\\\u2019S JUST BEING A SPINELESS IDIOT OVER SOME DUMB SHABBY MAN. Kill me, please. Then I can see my beloved Dumbledore again. Too much Snape. (Cannot WAIT to write the rant on him.) Too much Draco. (Why do people romanticize that little weirdo so much? I guess I get the temptation, but he\\\\u2019s a bully at best and a spineless traitor at worst.) I hate Kreacher and I hate Dobby...I hated Winky, too...I might hate house elves. If that makes me racist against a species of fictional character, SO BE IT, I GUESS. I miss Fred and George, and the fun people from the Order (if they existed), and Hermione and Neville aren\\\\u2019t here nearly enough. The price of Harry\\\\u2019s amazing and concise character development is WAY too many bad characters, not nearly enough of the good ones. EXCEPT DUMBLEDORE. UGHHHH. I\\\\u2019M SO SAD. (I think my inability to cry is making this worse. Maybe if I just creepily sobbed in front of my roommate for a few minutes I\\\\u2019d feel better. Damn you, my lack of emotions! Just kidding love you.) But I want to give this book five stars more than anything. It was so compulsively readable, more than any other book since the first for me. And it\\\\u2019s the last book where our pals are attending Hogwarts. That makes me so sad. It\\\\u2019s such a gorgeous setting and I\\\\u2019m going to miss it so much. WHY IS THIS BOOK SO SAD?! If Deathly Hallows is any sadder I\\\\u2019ll be seriously impressed. And also seriously screwed. And, okay, even though I was a harsh critic of these books...I\\\\u2019m really going to miss this series. I\\\\u2019ve been rereading it on and off (obviously) for three months, and it\\\\u2019s been a fun ride. This is one of the greatest settings of all time. And since I\\\\u2019m rereading it after 10 years, it\\\\u2019s like saying goodbye twice. AND I HATE ENDINGS. Bottom line: Okay, THIS is my favorite Harry Potter book. (Anyone else\\\\u2019s?) Unreal character development + tragic and lovely adieu to a gorgeous setting + ability to make me feel real, deep emotion + compulsively readable? An absolute dream. ----------ORIGINAL REVIEW--------------- Ron and Hermione\\'s will-they-won\\'t-they is a total snoozefest. I propose Fred & Hermione and Ron & Luna instead. Also seven more books!\"\", \"\"user\"\": {\"\"url\"\": \"\"/user/show/32879029-emma\"\", \"\"name\"\": \"\"emma\"\"}, \"\"rating\"\": 5.0, \"\"bookUrl\"\": \"\"http://www.goodreads.com/book/show/1.harry_potter_and_the_half_blood_prince.warc\"\", \"\"shelves\"\": [{\"\"url\"\": \"\"/review/list/32879029-emma?shelf=that-setting-tho\"\", \"\"name\"\": \"\"that-setting-tho\"\"}, {\"\"url\"\": \"\"/review/list/32879029-emma?shelf=favorites-2017\"\", \"\"name\"\": \"\"favorites-2017\"\"}, {\"\"url\"\": \"\"/review/list/32879029-emma?shelf=slump-worthy\"\", \"\"name\"\": \"\"slump-worthy\"\"}, {\"\"url\"\": \"\"/review/list/32879029-emma?shelf=reread\"\", \"\"name\"\": \"\"reread\"\"}, {\"\"url\"\": \"\"/review/list/32879029-emma?shelf=recommend\"\", \"\"name\"\": \"\"recommend\"\"}, {\"\"url\"\": \"\"/review/list/32879029-emma?shelf=fantasy\"\", \"\"name\"\": \"\"fantasy\"\"}, {\"\"url\"\": \"\"/review/list/32879029-emma?shelf=reviewed\"\", \"\"name\"\": \"\"reviewed\"\"}, {\"\"url\"\": \"\"/review/list/32879029-emma?shelf=5-stars\"\", \"\"name\"\": \"\"5-stars\"\"}, {\"\"url\"\": \"\"/review/list/32879029-emma?shelf=ya\"\", \"\"name\"\": \"\"ya\"\"}]}, {\"\"url\"\": \"\"https://www.goodreads.com/review/show/2065158293\"\", \"\"date\"\": \"\"Jan 13, 2020\"\", \"\"text\"\": \"\"Do you know what is better than this book (this book being already amazing)? This book narrated by Stephen Fry. I swear, this was my second attempt EVER to listen to an audiobook and the narration was so good I actually enjoyed it so much. And I hate listening to audiobooks!\"\", \"\"user\"\": {\"\"url\"\": \"\"/user/show/69603149-teodora\"\", \"\"name\"\": \"\" Teodora \"\"}, \"\"rating\"\": 5.0, \"\"bookUrl\"\": \"\"http://www.goodreads.com/book/show/1.harry_potter_and_the_half_blood_prince.warc\"\", \"\"shelves\"\": [{\"\"url\"\": \"\"/review/list/69603149-teodora?shelf=fantasy\"\", \"\"name\"\": \"\"fantasy\"\"}, {\"\"url\"\": \"\"/review/list/69603149-teodora?shelf=favorites\"\", \"\"name\"\": \"\"favorites\"\"}, {\"\"url\"\": \"\"/review/list/69603149-teodora?shelf=ya\"\", \"\"name\"\": \"\"ya\"\"}]}, {\"\"url\"\": \"\"https://www.goodreads.com/review/show/2000483921\"\", \"\"date\"\": \"\"May 15, 2017\"\", \"\"text\"\": \"\"ENGLISH (Harry Potter and the Half-Blood Prince) / ITALIANO \\\\u00abIt was nearing midnight and the Prime Minister was sitting alone in his office, reading a long memo that was slipping through his brain without leaving the slightest trace of meaning behind\\\\u00bb Due to numerous attacks of Death Eaters, the new Minister for Magic Rufus Scrimgeour, duly appointed, decides to meet the muggle British Prime Minister... It\\'s the first time that the Muggle world and the magic one come bluntly face to face. J.K. Rowling chooses that the first chapter of this novel is the right time for this interaction, highlighting the dramatic situation and the necessary cooperation to stem the enemy of all: Lord Voldemort. The bedtime reading for my daughter became less lighthearted and more serious by now. Luckily, for some difficult questions Dumbledore bails me out every time: \\\\u00abIt is the unknown we fear when we look upon death and darkness, nothing more\\\\u00bb We\\'re almost there, the end of the journey is close. Unfortunately, it will never be the same. Vote: 9 \\\\u00abEra quasi mezzanotte e il Primo Ministro stava seduto da solo nel suo ufficio, a leggere una lunga relazione che gli scivolava via dalla mente senza lasciare la minima traccia\\\\u00bb A seguito dei numerosi attacchi dei mangiamorte, Il nuovo Ministro della Magia Rufus Scrimgeour, fresco di nomina, decide di incontrare il Primo Ministro britannico babbano... E\\' la prima volta che il mondo babbano e quello magico si trovano ad interloquire senza mezzi termini. J.K. Rowling decide che il primo capitolo \\\\u00e8 il momento giusto per questa interazione, a sottolineare la drammaticit\\\\u00e0 della situazione e la necessaria collaborazione allo scopo di arginare il nemico di tutti: Voldemort. Oramai la lettura serale per mia figlia si \\\\u00e8 fatta decisamente meno spensierata e pi\\\\u00f9 impegnata. Per fortuna, per alcune questioni spinose c\\'\\\\u00e8 sempre Silente a togliermi le castagne dal fuoco: \\\\u00ab\\\\u00c8 l\\'ignoto che temiamo, quando guardiamo la morte e il buio, nient\\'altro\\\\u00bb Ci siamo quasi, la fine del viaggio \\\\u00e8 vicina. Purtroppo per noi, per\\\\u00f2, non sar\\\\u00e0 pi\\\\u00f9 come prima. Voto: 9\"\", \"\"user\"\": {\"\"url\"\": \"\"/user/show/53478239-luca-ambrosino\"\", \"\"name\"\": \"\"Luca Ambrosino\"\"}, \"\"rating\"\": 5.0, \"\"bookUrl\"\": \"\"http://www.goodreads.com/book/show/1.harry_potter_and_the_half_blood_prince.warc\"\", \"\"shelves\"\": []}, {\"\"url\"\": \"\"https://www.goodreads.com/review/show/2812346695\"\", \"\"date\"\": \"\"May 12, 2019\"\", \"\"text\"\": \"\"I have read this book many times, although the penultimate one was years ago. Let\\'s say that this was the first time I\\'ve read them in e-book form. The reading was marvellous. There were things I\\'d forgotten, e.g. how late Harry and Ginny got together. I\\'d also forgotten about most of the funeral. I\\'ll say no more, spoilers oblige. What this book tells me is that sadly the more conservative of readers, grammarians etc will place so many books above Harry Potter #6, none of which is worth mentioning in the same breath as Potter lore. To me this series is special. Nobody else will undertake waiting for each book to come out and lay our hands on them. The Potter universe will belong to our descendants forever. But it was we who helped create this fervor and unmatched popularity.\"\", \"\"user\"\": {\"\"url\"\": \"\"/user/show/7407364-luffy\"\", \"\"name\"\": \"\"Luffy\"\"}, \"\"rating\"\": 5.0, \"\"bookUrl\"\": \"\"http://www.goodreads.com/book/show/1.harry_potter_and_the_half_blood_prince.warc\"\", \"\"shelves\"\": [{\"\"url\"\": \"\"/review/list/7407364-luffy?shelf=popular\"\", \"\"name\"\": \"\"popular\"\"}, {\"\"url\"\": \"\"/review/list/7407364-luffy?shelf=5-star\"\", \"\"name\"\": \"\"5-star\"\"}, {\"\"url\"\": \"\"/review/list/7407364-luffy?shelf=funny\"\", \"\"name\"\": \"\"funny\"\"}, {\"\"url\"\": \"\"/review/list/7407364-luffy?shelf=romance\"\", \"\"name\"\": \"\"romance\"\"}, {\"\"url\"\": \"\"/review/list/7407364-luffy?shelf=chunkster\"\", \"\"name\"\": \"\"chunkster\"\"}, {\"\"url\"\": \"\"/review/list/7407364-luffy?shelf=page-turner\"\", \"\"name\"\": \"\"page-turner\"\"}, {\"\"url\"\": \"\"/review/list/7407364-luffy?shelf=fantasy\"\", \"\"name\"\": \"\"fantasy\"\"}]}, {\"\"url\"\": \"\"https://www.goodreads.com/review/show/2502441099\"\", \"\"date\"\": \"\"Aug 21, 2018\"\", \"\"text\"\": \"\"Actual rating: 4.25 stars This review and other non-spoilery reviews can be found @The Book Prescription Why did Professor Snape stand in the middle of the road? So you\\\\u2019ll never know which side he\\\\u2019s on!!\"\", \"\"user\"\": {\"\"url\"\": \"\"/user/show/54464244-hamad\"\", \"\"name\"\": \"\"Hamad\"\"}, \"\"rating\"\": 4.0, \"\"bookUrl\"\": \"\"http://www.goodreads.com/book/show/1.harry_potter_and_the_half_blood_prince.warc\"\", \"\"shelves\"\": [{\"\"url\"\": \"\"/review/list/54464244-hamad?shelf=paperbacks\"\", \"\"name\"\": \"\"paperbacks\"\"}, {\"\"url\"\": \"\"/review/list/54464244-hamad?shelf=2018-reads\"\", \"\"name\"\": \"\"2018-reads\"\"}, {\"\"url\"\": \"\"/review/list/54464244-hamad?shelf=good-covers\"\", \"\"name\"\": \"\"good-covers\"\"}, {\"\"url\"\": \"\"/review/list/54464244-hamad?shelf=e-books\"\", \"\"name\"\": \"\"e-books\"\"}]}, {\"\"url\"\": \"\"https://www.goodreads.com/review/show/777769104\"\", \"\"date\"\": \"\"Nov 30, 2013\"\", \"\"text\"\": \"\"3rd read: August 2018 - audiobook I will never get over Stephen Fry\\'s narration. It\\'s simply magical \\\\u2728 2nd read: Jan - Feb 2018 ROONIL WAZLIB\"\", \"\"user\"\": {\"\"url\"\": \"\"/user/show/10350463-chloe\"\", \"\"name\"\": \"\"chloe\"\"}, \"\"rating\"\": 5.0, \"\"bookUrl\"\": \"\"http://www.goodreads.com/book/show/1.harry_potter_and_the_half_blood_prince.warc\"\", \"\"shelves\"\": [{\"\"url\"\": \"\"/review/list/10350463-chloe?shelf=audiobooks\"\", \"\"name\"\": \"\"audiobooks\"\"}, {\"\"url\"\": \"\"/review/list/10350463-chloe?shelf=5-stars\"\", \"\"name\"\": \"\"5-stars\"\"}, {\"\"url\"\": \"\"/review/list/10350463-chloe?shelf=2018-reads\"\", \"\"name\"\": \"\"2018-reads\"\"}, {\"\"url\"\": \"\"/review/list/10350463-chloe?shelf=re-reads\"\", \"\"name\"\": \"\"re-reads\"\"}, {\"\"url\"\": \"\"/review/list/10350463-chloe?shelf=best-audiobooks\"\", \"\"name\"\": \"\"best-audiobooks\"\"}]}, {\"\"url\"\": \"\"https://www.goodreads.com/review/show/1861817425\"\", \"\"date\"\": \"\"Jan 07, 2017\"\", \"\"text\"\": \"\"Always been my favorite out of the seven.\"\", \"\"user\"\": {\"\"url\"\": \"\"/user/show/37089590-april\"\", \"\"name\"\": \"\"April\"\"}, \"\"rating\"\": 5.0, \"\"bookUrl\"\": \"\"http://www.goodreads.com/book/show/1.harry_potter_and_the_half_blood_prince.warc\"\", \"\"shelves\"\": []}, {\"\"url\"\": \"\"https://www.goodreads.com/review/show/893341687\"\", \"\"date\"\": \"\"Mar 27, 2014\"\", \"\"text\"\": \"\"\\\\u201cIt is the unknown we fear when we look upon death and darkness, nothing more.\\\\u201d This brought my right back to my 14-year old self, who was cooped up in bed, shedding tears for the first time over a book, because of the ending. I remember how I lay in bed, I remember the sun shining through the blinds and how wounded I felt that we lost one of the greats. This still remains my favourite in the series alongside Deathly Hallows. I\\\\u2019m glad this series has resonated with me for so long, is still stuck with me and will continue to do so always. \\\\u2014\\\\u2014\\\\u2014\\\\u2014\\\\u2014\\\\u2014\\\\u2014\\\\u2014\\\\u2014\\\\u2014\\\\u2014\\\\u2014\\\\u2014\\\\u2014\\\\u2014 I read this many times when I was younger. But this is the first time I\\\\u2019m picking it back up in over a decade. Buddy-reading with two questionable characters: Snape\\\\u2019s wife and his brother. \\\\ud83d\\\\ude2c\"\", \"\"user\"\": {\"\"url\"\": \"\"/user/show/30036082-warda\"\", \"\"name\"\": \"\"Warda\"\"}, \"\"rating\"\": 5.0, \"\"bookUrl\"\": \"\"http://www.goodreads.com/book/show/1.harry_potter_and_the_half_blood_prince.warc\"\", \"\"shelves\"\": [{\"\"url\"\": \"\"/review/list/30036082-warda?shelf=i-fell-in-love\"\", \"\"name\"\": \"\"i-fell-in-love\"\"}, {\"\"url\"\": \"\"/review/list/30036082-warda?shelf=reread-worthy\"\", \"\"name\"\": \"\"reread-worthy\"\"}, {\"\"url\"\": \"\"/review/list/30036082-warda?shelf=re-reads\"\", \"\"name\"\": \"\"re-reads\"\"}]}, {\"\"url\"\": \"\"https://www.goodreads.com/review/show/659760081\"\", \"\"date\"\": \"\"Jul 05, 2013\"\", \"\"text\"\": \"\"1.) Harry Potter and the Philosopher\\'s Stone \\\\u2605\\\\u2605\\\\u2605\\\\u2605\\\\u2605 2.) Harry Potter and the Chamber of Secrets \\\\u2605\\\\u2605\\\\u2605\\\\u2605\\\\u2605 3.) Harry Potter and the Prisoner of Azkaban \\\\u2605\\\\u2605\\\\u2605\\\\u2605\\\\u2605 4.) Harry Potter and the Goblet of Fire \\\\u2605\\\\u2605\\\\u2605\\\\u2605\\\\u2605 5) Harry Potter and the Order of the Phoenix \\\\u2605\\\\u2605\\\\u2605\\\\u2605\\\\u2605 6.) Harry Potter and the Half Blood Prince \\\\u2605\\\\u2605\\\\u2605\\\\u2605\\\\u2605 7) Harry Potter and the Deathly Hallows \\\\u2605\\\\u2605\\\\u2605\\\\u2605\\\\u2605 8.) Harry Potter and the Cursed Child \\\\u2605\\\\u2605 --------------------------------------------------\"\", \"\"user\"\": {\"\"url\"\": \"\"/user/show/20658145-april-aprilius-maximus\"\", \"\"name\"\": \"\"April (Aprilius Maximus)\"\"}, \"\"rating\"\": 5.0, \"\"bookUrl\"\": \"\"http://www.goodreads.com/book/show/1.harry_potter_and_the_half_blood_prince.warc\"\", \"\"shelves\"\": []}, {\"\"url\"\": \"\"https://www.goodreads.com/review/show/1559687349\"\", \"\"date\"\": \"\"Feb 24, 2016\"\", \"\"text\"\": \"\"Buddyread with the cutest Trixi. *sniffs* I have actually finished this several days ago but I spent those days mourning for the loss of one of my favorite characters of all time and before I start bawling my heart and eyes out again, let me straight away proceed to the random thoughts while and after reading the book. *sniffs* 1. *Gasps* Professor Snape??? 2. Harry\\\\u2019s Quidditch Captain! Yaaas! 3. Weasleys\\\\u2019 Wizzard Wheezes (Say this ten times) 4. Malfoy\\\\u2019s head on Pansy Parkinson\\\\u2019s lap and Pansy stroking his head. *shudders* 5. Slughorn\\\\u2019s belly preceded him out of the door. Bahaha 6. Potions class has never been this cheerful. Thanks Grampy Sloghorn and Harry has never performed better. Thanks to cheating. Lol. 7. Ron, you bollocks! Stop being an idiot, WonWon! 8. Voldemort as a student seems to me even more sinister than the Dark Lord he already is. *shivers* 9. Like Harry, I am Dumbledore\\\\u2019s man through and through. Take that, Rufus! 10. I\\\\u2019d go back to school anytime if it meant having Professor Dumbledore as a teacher. 11. Aherm! Why do you keep looking for Ginny, now Harry? 12. There\\\\u2019s a reason a Dark Arts teacher stays only for a year. It\\\\u2019s all clear now. 13. Who would have thought that the once timid Ginny will blossom into a confident, beautiful, charming, funny and best of all, snarky girl? 14. Chapter 24 will particularly make you swoon! Gaaah! (view spoiler)[ I ship Harry and Ginny! <3 (hide spoiler)] 15. RIP, Aragog. 16. For the first time, I solved the mystery! (view spoiler)[ I have guessed early on in the story that the Half Blood Prince was Snape! Yaaas! (hide spoiler)] 17. I knew there was a reason Harry spent so much time with Professor Dumbledore. I can\\\\u2019t\\\\u2026*sobs* Some of the things/characters missing in the movie: 1. Kreacher and Dobby 2. Bill and Fleur 3. Dumbledore\\\\u2019s Army and the Order of the Phoenix putting up a fight against the Dark Eaters. 4. . Harry breaking up with Ginny which reminds me of Peter Parker and Mj. Finally, as a simple tribute to the wisest, kindest, most revered and one of the most powerful wizards (whose death out of the many deaths hurts me the most that I cried so much, I may have cried harder than Hagrid), the following is a collection of a few of his great thoughts and words that\\\\u2019ll be forever etched in our hearts. *sniffs* \\\\u201cIn fact, being-forgive me- rather cleverer than most men, my mistakes tend to be correspondingly huger.\\\\u201d \\\\u201cPeople find it a lot easier to forgive others for being wrong than being right.\\\\u201d \\\\u201cIt does not do to dwell on dreams and forget to live.\\\\u201d \\\\u201cWords are, in my not-so-humble opinion, our most inexhaustible source of magic. Capable of both inflicting injury, and remedying it.\\\\\"\" \\\\u201cThe pain is part of being human. The fact that you can feel pain like this is your greatest strength.\\\\u201d \\\\u201cTo the well organized mind, death is but the next adventure.\\\\u201d \\\\u201cIt\\\\u2019s not really goodbye after all.\\\\u201d On a lighter note, it\\'s beautiful Katerina\\'s birthday today, let\\'s spare a few moments to greet her a HAPPIEST BIRTHDAY! Even though you\\'re quite busy for Goodreads and reading atm, I hope you\\'re doing something that\\'s making you happy today! Enjoy! <3\"\", \"\"user\"\": {\"\"url\"\": \"\"/user/show/30248594-aj-the-ravenous-reader\"\", \"\"name\"\": \"\"Aj the Ravenous Reader\"\"}, \"\"rating\"\": 5.0, \"\"bookUrl\"\": \"\"http://www.goodreads.com/book/show/1.harry_potter_and_the_half_blood_prince.warc\"\", \"\"shelves\"\": [{\"\"url\"\": \"\"/review/list/30248594-aj-the-ravenous-reader?shelf=emotionally-intense\"\", \"\"name\"\": \"\"emotionally-intense\"\"}, {\"\"url\"\": \"\"/review/list/30248594-aj-the-ravenous-reader?shelf=fantasy\"\", \"\"name\"\": \"\"fantasy\"\"}, {\"\"url\"\": \"\"/review/list/30248594-aj-the-ravenous-reader?shelf=classic\"\", \"\"name\"\": \"\"classic\"\"}, {\"\"url\"\": \"\"/review/list/30248594-aj-the-ravenous-reader?shelf=five-stars\"\", \"\"name\"\": \"\"five-stars\"\"}]}, {\"\"url\"\": \"\"https://www.goodreads.com/review/show/207711145\"\", \"\"date\"\": \"\"Sep 12, 2011\"\", \"\"text\"\": \"\"Spoilers for anyone who has never read the books or seen the movies. In which case, have you been living under a rock?! (view spoiler)[\\\\\"\"Do not pity the dead, Harry. Pity the living, and, above all those who live without love.\\\\\"\" Albus Dumbledore is by far one of my favourite characters. He is clever, kind, badass, but most of all, he is weird. And I like weird. I like the way his first-day-of-the-year speeches make no sense at all. I like how he uses different types of candy for his office passwords. I like how he says he sees a new pair of socks in the Mirror of Erised. I like how he believes Harry unconditionally, no matter how farfetched his story may seem. He\\\\u2019s been a guide, a counselor, a friend, not only to Harry, but to everyone Albus cared about. He\\\\u2019s been a shoulder, a rock, some form of hope to everyone who had the privilege to be a part of his life. Everyone looked up to him. The darkest wizard of all time feared him. Yet he never looks dangerous. He is always this calm, serene person with a smile on his face, entertaining us with his wise, often odd sayings. He never put himself first; always thought of others. And even after his death will he be a beacon of hope, of faith, of everything the good side represents. Professor Dumbledore, I will always be loyal to you. You will never be forgotten. May you rest in peace. Even though he was a bit of a dick sometimes. (hide spoiler)]\"\", \"\"user\"\": {\"\"url\"\": \"\"/user/show/6278820-inge\"\", \"\"name\"\": \"\"Inge\"\"}, \"\"rating\"\": 5.0, \"\"bookUrl\"\": \"\"http://www.goodreads.com/book/show/1.harry_potter_and_the_half_blood_prince.warc\"\", \"\"shelves\"\": [{\"\"url\"\": \"\"/review/list/6278820-inge?shelf=magic\"\", \"\"name\"\": \"\"magic\"\"}, {\"\"url\"\": \"\"/review/list/6278820-inge?shelf=faeries-fae-elves\"\", \"\"name\"\": \"\"faeries-fae-elves\"\"}, {\"\"url\"\": \"\"/review/list/6278820-inge?shelf=all-time-favourites\"\", \"\"name\"\": \"\"all-time-favourites\"\"}, {\"\"url\"\": \"\"/review/list/6278820-inge?shelf=villain-antihero-love\"\", \"\"name\"\": \"\"villain-antihero-love\"\"}, {\"\"url\"\": \"\"/review/list/6278820-inge?shelf=young-adult\"\", \"\"name\"\": \"\"young-adult\"\"}, {\"\"url\"\": \"\"/review/list/6278820-inge?shelf=fantasy\"\", \"\"name\"\": \"\"fantasy\"\"}]}, {\"\"url\"\": \"\"https://www.goodreads.com/review/show/1829616949\"\", \"\"date\"\": \"\"Dec 04, 2016\"\", \"\"text\"\": \"\"Harry Potter and the Half Blood Prince. \\\\u2028\\\\u2028There were some things I truly loved about this one. I loved how the bulk of the book, nothing crazy happened. It felt like some of the older books and I love that feeling. All the Harry and Dumbledore time we got, the memories of Voldemort\\\\u2019s past (which were very interesting) and of course Harry and Ginny, who I\\\\u2019ve shipped for a while now finally got their shot. That\\\\u2019s the good. There is also a lot of sadness and despair. A very important and influential character dies. Sides are chosen. People you trust turn out to be not who they say they are (or so we think\\\\u2026) The last 2 hours of this 18 hour audio book broke my heart. I almost want to wait a while to do the final book, but I really want to finish these books by the end of 2016 so I better start it straight away. Wish me luck! I know I\\\\u2019ll need it xoxo\"\", \"\"user\"\": {\"\"url\"\": \"\"/user/show/11284813-christy\"\", \"\"name\"\": \"\"Christy\"\"}, \"\"rating\"\": 5.0, \"\"bookUrl\"\": \"\"http://www.goodreads.com/book/show/1.harry_potter_and_the_half_blood_prince.warc\"\", \"\"shelves\"\": [{\"\"url\"\": \"\"/review/list/11284813-christy?shelf=2016-ya-challenge\"\", \"\"name\"\": \"\"2016-ya-challenge\"\"}, {\"\"url\"\": \"\"/review/list/11284813-christy?shelf=2016-audios\"\", \"\"name\"\": \"\"2016-audios\"\"}]}], \"\"language\"\": \"\"English\"\", \"\"numPages\"\": 652, \"\"seriesUrl\"\": \"\"/series/45175-harry-potter\"\", \"\"numRatings\"\": 2861252, \"\"numReviews\"\": 47883, \"\"description\"\": \"\"The war against Voldemort is not going well; even Muggle governments are noticing. Ron scans the obituary pages of the Daily Prophet, looking for familiar names. Dumbledore is absent from Hogwarts for long stretches of time, and the Order of the Phoenix has already suffered losses. And yet . . . As in all wars, life goes on. The Weasley twins expand their business. Sixth-year students learn to Apparate - and lose a few eyebrows in the process. Teenagers flirt and fight and fall in love. Classes are never straightforward, through Harry receives some extraordinary help from the mysterious Half-Blood Prince. So it\\'s the home front that takes center stage in the multilayered sixth installment of the story of Harry Potter. Here at Hogwarts, Harry will search for the full and complete story of the boy who became Lord Voldemort - and thereby find what may be his only vulnerability.\"\", \"\"averageRating\"\": 4.57, \"\"seriesAndOrdinal\"\": \"\"(Harry Potter #6)\"\", \"\"otherEditionsLink\"\": \"\"/work/editions/41335427-harry-potter-and-the-half-blood-prince\"\", \"\"publicationDetails\"\": \"\"Published September 16th 2006 by Scholastic Inc. (first published July 16th 2005)\"\"}\"')"
      ]
     },
     "execution_count": 10,
     "metadata": {},
     "output_type": "execute_result"
    }
   ],
   "source": [
    "df.select(\"data\").first()"
   ]
  },
  {
   "cell_type": "markdown",
   "id": "8cbc8c3e-84d0-4f51-8a58-8800bb0ea678",
   "metadata": {},
   "source": [
    "### Fix the JSON string in the data column\n",
    "1. Remove surrounding quotes\n",
    "2. Replace escaped quotes with normal quotes\n",
    "> **Regex pattern:** \\\n",
    "> Removes outer quotes and replaces double double quotes\n"
   ]
  },
  {
   "cell_type": "code",
   "execution_count": 12,
   "id": "92e0d624-5e2e-4fa1-9067-35fa9d8f5754",
   "metadata": {},
   "outputs": [],
   "source": [
    "json_data = df.withColumn(\"json_data\", expr(\"regexp_replace(regexp_replace(data, '^\\\"|\\\"$', ''), '\\\"\\\"', '\\\"')\"))"
   ]
  },
  {
   "cell_type": "code",
   "execution_count": 13,
   "id": "106aa81b-a278-48a8-b83c-348895599824",
   "metadata": {},
   "outputs": [
    {
     "name": "stdout",
     "output_type": "stream",
     "text": [
      "+--------------------+--------------------+--------------------+\n",
      "|                 url|                data|           json_data|\n",
      "+--------------------+--------------------+--------------------+\n",
      "|http://www.goodre...|\"{\"\"isbn\"\": null,...|{\"isbn\": null, \"t...|\n",
      "+--------------------+--------------------+--------------------+\n",
      "only showing top 1 row\n",
      "\n"
     ]
    }
   ],
   "source": [
    "json_data.show(1)"
   ]
  },
  {
   "cell_type": "code",
   "execution_count": 14,
   "id": "9b988571-e6b4-4c3c-ac83-804cd153de0c",
   "metadata": {},
   "outputs": [
    {
     "data": {
      "text/plain": [
       "'{\"isbn\": null, \"title\": \"Harry Potter and the Half-Blood Prince\", \"format\": null, \"authors\": [{\"url\": \"https://www.goodreads.com/author/show/1077326.J_K_Rowling\", \"name\": \"J.K. Rowling\"}], \"reviews\": [{\"url\": \"https://www.goodreads.com/review/show/683662307\", \"date\": \"Aug 01, 2013\", \"text\": \"(A) 86% | Extraordinary Notes: It dwells on the delightfully mundane aspects of the magical world, and adds new dimensions to familiar characters.\", \"user\": {\"url\": \"/user/show/22106879-jayson\", \"name\": \"Jayson\"}, \"rating\": 5.0, \"bookUrl\": \"http://www.goodreads.com/book/show/1.harry_potter_and_the_half_blood_prince.warc\", \"shelves\": [{\"url\": \"/review/list/22106879-jayson?shelf=author-british\", \"name\": \"author-british\"}, {\"url\": \"/review/list/22106879-jayson?shelf=format-illustrated\", \"name\": \"format-illustrated\"}, {\"url\": \"/review/list/22106879-jayson?shelf=subject-boarding-school\", \"name\": \"subject-boarding-school\"}, {\"url\": \"/review/list/22106879-jayson?shelf=genre-juvenile-fantasy\", \"name\": \"genre-juvenile-fantasy\"}, {\"url\": \"/review/list/22106879-jayson?shelf=read-in-2009\", \"name\": \"read-in-2009\"}, {\"url\": \"/review/list/22106879-jayson?shelf=600-plus-pp\", \"name\": \"600-plus-pp\"}, {\"url\": \"/review/list/22106879-jayson?shelf=genre-young-adult\", \"name\": \"genre-young-adult\"}]}, {\"url\": \"https://www.goodreads.com/review/show/737648743\", \"date\": \"Oct 09, 2013\", \"text\": \"i dont want to talk to anyone dont even look at me i was expecting it and i still cried for like 30 minutes\", \"user\": {\"url\": \"/user/show/14457130-whitney-atkinson\", \"name\": \"Whitney Atkinson\"}, \"rating\": 5.0, \"bookUrl\": \"http://www.goodreads.com/book/show/1.harry_potter_and_the_half_blood_prince.warc\", \"shelves\": [{\"url\": \"/review/list/14457130-whitney-atkinson?shelf=favorites\", \"name\": \"favorites\"}, {\"url\": \"/review/list/14457130-whitney-atkinson?shelf=childrens\", \"name\": \"childrens\"}, {\"url\": \"/review/list/14457130-whitney-atkinson?shelf=read-in-2015\", \"name\": \"read-in-2015\"}, {\"url\": \"/review/list/14457130-whitney-atkinson?shelf=made-me-cry\", \"name\": \"made-me-cry\"}]}, {\"url\": \"https://www.goodreads.com/review/show/3001353016\", \"date\": \"Jun 28, 2020\", \"text\": \"(A) 86% | Extraordinary Notes: A relationshippy respite, it\\\\u2019s Sturm und Drang defogging: all lovesick woe, observing foes, and problematic snogging.\", \"user\": {\"url\": \"/user/show/22106879-jayson\", \"name\": \"Jayson\"}, \"rating\": 5.0, \"bookUrl\": \"http://www.goodreads.com/book/show/1.harry_potter_and_the_half_blood_prince.warc\", \"shelves\": [{\"url\": \"/review/list/22106879-jayson?shelf=author-british\", \"name\": \"author-british\"}, {\"url\": \"/review/list/22106879-jayson?shelf=genre-juvenile-fantasy\", \"name\": \"genre-juvenile-fantasy\"}, {\"url\": \"/review/list/22106879-jayson?shelf=subject-boarding-school\", \"name\": \"subject-boarding-school\"}, {\"url\": \"/review/list/22106879-jayson?shelf=genre-young-adult\", \"name\": \"genre-young-adult\"}, {\"url\": \"/review/list/22106879-jayson?shelf=audiobook-audible\", \"name\": \"audiobook-audible\"}, {\"url\": \"/review/list/22106879-jayson?shelf=read-in-2020\", \"name\": \"read-in-2020\"}]}, {\"url\": \"https://www.goodreads.com/review/show/1246195113\", \"date\": \"Aug 28, 2019\", \"text\": \"Holy shit, I\\'m in all sorts right now. Video Review: https://www.youtube.com/watch?v=sTfaG...\", \"user\": {\"url\": \"/user/show/30728719-lily\", \"name\": \"\\\\u2740 Lily \\\\u2740\"}, \"rating\": null, \"bookUrl\": \"http://www.goodreads.com/book/show/1.harry_potter_and_the_half_blood_prince.warc\", \"shelves\": []}, {\"url\": \"https://www.goodreads.com/review/show/3749175894\", \"date\": \"Jan 09, 2021\", \"text\": \"\\\\\"5. Should you feel that a family member, colleague, friend, or neighbor is acting in a strange manner, contact the Magical Law Enforcement Squad at once. They may have been put under the Imperius Curse.\\\\\" Time for interesting little subplots is over. We\\'ve arrived finally, where everything is closely tied to the core of the story and progressing fast. It\\'s always delightful to see, everything that was great about the series still remains the same, if not better. However, disappointments, sorrow and hardships are what the reader is going to encounter for the most part. As I finished reading Half-Blood Prince, more than ever before, I feel being trapped in a hopeless situation filled with nothing but forebodings. \\\\\"Destination...determination...deliberation...\\\\\" One would imagine, we\\'re beyond being accommodated with new characters, but the author will quickly convince you otherwise, and introduction of new and interesting characters continues. It\\'s great to see how Rowling keeps outperforming herself with each new book . Harry\\'s ill-tempered nature and suspicions does not end with the last book as I hoped it would, but the results are quite the opposite this time around. Honestly, I did not anticipate the way how things turned out right till the last three chapters. \\\\\"To friendship! To generosity! To ten Galleons a hair! We\\'ve been somewhat used to happy ending in the first four books (relatively) with 5th being a bit disappointing but this one, it was the most depressing ending for me yet. It probably comes down to reinforcing the suspense toward the final book but, it\\'s a difficult place to be in - especially if you had to wait for a year.. \\\\\"Eet \\'as been too long!\\\\\"\", \"user\": {\"url\": \"/user/show/101693182-tharindu-dissanayake\", \"name\": \"Tharindu Dissanayake\"}, \"rating\": 5.0, \"bookUrl\": \"http://www.goodreads.com/book/show/1.harry_potter_and_the_half_blood_prince.warc\", \"shelves\": [{\"url\": \"/review/list/101693182-tharindu-dissanayake?shelf=favorites-fiction\", \"name\": \"favorites-fiction\"}]}, {\"url\": \"https://www.goodreads.com/review/show/1243718880\", \"date\": \"Apr 02, 2015\", \"text\": \"\\\\u201cI am a wizard, not a baboon or a transphobe.\\\\u201d - Not JKR Mermaids UK The Trevor Project Black Visions Collective because Black trans lives matter.\", \"user\": {\"url\": \"/user/show/41788524-kai-spellmeier\", \"name\": \"Kai Spellmeier\"}, \"rating\": null, \"bookUrl\": \"http://www.goodreads.com/book/show/1.harry_potter_and_the_half_blood_prince.warc\", \"shelves\": [{\"url\": \"/review/list/41788524-kai-spellmeier?shelf=finished-series\", \"name\": \"finished-series\"}]}, {\"url\": \"https://www.goodreads.com/review/show/2533600835\", \"date\": \"Oct 18, 2018\", \"text\": \"I\\'m not sure why, but this one took me completely by surprise. I was expecting this installment to be mainly filler to get us to the Deathly Hallows, but so much happened here that I must have forgotten from the movie. The Half-Blood prince was considerably darker than the previous 5 books, and I just adore how this series has progressed and grown just like most of its readers have. Obviously I knew what the big reveal was prior to finishing the book due to my viewing the films before, but it didn\\'t take away from the experience the novel had to offer. I have this nervous lump in my throat knowing that the next book is the final one, but am simultaneously excited to finally read what the films surely have left out surrounding the conclusion of the series.\", \"user\": {\"url\": \"/user/show/47207032-chelsea-humphrey\", \"name\": \"Chelsea Humphrey\"}, \"rating\": 5.0, \"bookUrl\": \"http://www.goodreads.com/book/show/1.harry_potter_and_the_half_blood_prince.warc\", \"shelves\": []}, {\"url\": \"https://www.goodreads.com/review/show/730488284\", \"date\": \"Sep 29, 2013\", \"text\": \"Welcome to my re-read of the phenomenal series \\\\u201cHarry Potter\\\\u201d. \\\\ud83e\\\\udd13\\\\u26a1\\\\ufe0fI\\'m reading the books, listening to a fun (adult) podcast and watching the movies. \\\\u2764\\\\ufe0f\\\\ud83d\\\\udcda\\\\ud83c\\\\udfa7\\\\ud83c\\\\udfac \\\\u26a0\\\\ufe0fThis review contains spoilers\\\\u26a0\\\\ufe0f If you don\\\\u2019t yet know: *why the elf made wine is the one to try tonight *why the dragons blood is a bit dusty *why Hermione\\\\u2019s confiscating fanged frisbees from 4th years *why the mouth organ was always just a mouth organ *why we hide sherry bottles *why it is our mercy that matters now *why we\\\\u2019re reaching into the lake for water \\\\u2014\\\\u2014-Then proceed with extreme caution!\\\\u2014\\\\u2014- Spoiler Credit: Podcast: Binge Mode (listen on Spotify) Personal Opinion Note: I\\\\u2019m terribly sad for you, if you\\\\u2019ve never read the books (or at least watched the movies). \\\\ud83d\\\\ude09\\\\ud83d\\\\udcda\\\\ud83c\\\\udfa7\\\\ud83c\\\\udfac You really should jump on the Hogwarts Express with me! I\\\\u2019ll be making notes of my favorite part of each chapter/podcast as I finish. \\\\ud83d\\\\udcdaChapter 1: The Other Minister Fudges resignation. \\\\ud83d\\\\udcdaChapter 2: Spinner\\\\u2019s End Draco\\\\u2019s mother begging Snape to protect him. \\\\ud83c\\\\udfa7Podcast: Binge Mode: Chapters 1-2 ***Warning: Binge Mode contains adult content*** Snape insights and how he embeds himself in Voldemort\\'s camp. \\\\ud83d\\\\udcdaChapter 3: Will and Won\\'t Dumbledore calling out the Dursley\\'s on their treatment of Harry throughout his life. \\\\ud83d\\\\udcdaChapter 4: Horace Slughorn Dumbledore admitting that it was cruel for Harry and Sirius to have such little time together. \\\\ud83d\\\\udcdaChapter 5: An Excess of Phlegm Ginny\\'s expressed dislike of Fleur. \\\\ud83d\\\\udcdaChapter 6: Draco\\'s Detour Fred and George\\\\u2019s shop lighting up the street in Diagon Alley and their joke about \\\\u2018you know who, versus you know poo\\\\u2019 and Mrs. Weasley being worried they\\\\u2019ll be murdered in their beds. \\\\ud83d\\\\udcdaChapter 7: The Slug Club Groups of girls asking Harry to join him in their compartment on the train and Harry declining saying he\\'ll sit with his friends (Luna and Neville). \\\\ud83c\\\\udfa7Podcast: Binge Mode: Chapters 3-7 ***Warning: Binge Mode contains adult content*** The history of the Hogwarts Express. \\\\ud83d\\\\udcdaChapter 8: Snape Victorious Hagrid\\\\u2019s waving at Harry from the head table, with McGonagall shaking her head at his unprofessionalism. \\\\ud83d\\\\udcdaChapter 9: The Half-Blood Prince Harry\\\\u2019s perfect potion and Hermione\\\\u2019s reaction. \\\\ud83d\\\\udcdaChapter 10: The House of Gaunt Dumbledore\\\\u2019s slowly opening the curtain, for Harry to better understand, Voldemort\\\\u2019s past, present and future. \\\\ud83d\\\\udcdaChapter 11: Hermione\\\\u2019s Helping Hand Harry\\\\u2019s calling out Hermione on spelling McLaggen to miss a goal at keeper tryouts, pointing out that it was dishonest of a prefect to do. \\\\ud83c\\\\udfa7Podcast: Binge Mode: Chapters 8-11 ***Warning: Binge Mode contains adult content*** The Ginny/Harry foreshadowing. Also, the added insights into the Gaunt family (Slytherin descendants). \\\\ud83d\\\\udcdaChapter 12: Silver and Opals Harry\\\\u2019s relentless insistence that Malfoy is a death eater. \\\\ud83d\\\\udcdaChapter 13: The Secret Riddle Harry\\\\u2019s not shy about asking Dumbledore the hard questions. \\\\ud83d\\\\udcdaChapter 14: Felix Felicis This is the point where Harry really starts to recognize his real feelings for Ginny. But it\\\\u2019s also the angst of Hermione\\\\u2019s true feelings about Ron. Ahhhh\\\\u2026 teenage hearts and jealousy. \\\\ud83d\\\\udcdaChapter 15: The Unbreakable Vow I love that Harry chose Luna to go to the party with him. \\\\ud83c\\\\udfa7Podcast: Binge Mode: Chapters 12-15 ***Warning: Binge Mode contains adult content*** History and process of potion making and the hilarious jokes about Ron being a virgin. \\\\ud83d\\\\udcdaChapter 16: A Very Frosty Christmas Mrs. Weasley continually turning up the volume on the radio over Fleur. \\\\ud83d\\\\udcdaChapter 17: A Sluggish Memory Whawn whawn\\\\u2026 and the pensive Voldemort bits. \\\\ud83d\\\\udcdaChapter 18: Birthday Surprises Harry honestly asking Slughorn about horcruxes and admitting that Dumbledore shared his memory. \\\\ud83d\\\\udcdaChapter 19: Elf Tails Ron recovering in hospital saying Hermione\\\\u2019s name. \\\\ud83c\\\\udfa7Podcast: Binge Mode: Chapters 16-19 ***Warning: Binge Mode contains adult content*** Jason\\\\u2019s impression of Fleur commenting on Mrs. Weasley\\\\u2019s music had me rolling. \\\\ud83d\\\\udcdaChapter 20: Lord Voldemort\\\\u2019s Request Back into the pensive... Dumbledore refusing to hire Voldemort for the Defense Against the Dark Arts post. \\\\ud83d\\\\udcdaChapter 21: The Unknowable Room Harry scaring Goyle as he was guarding the room of requirement disguised as a girl. \\\\ud83d\\\\udcdaChapter 22: After the Burial Harry getting Slughorn and Hagrid trashed at the funeral. \\\\ud83d\\\\udcdaChapter 23: Horcruxes Diving into the pensive to finally see Slughorn communicate with Tom. \\\\ud83c\\\\udfa7Podcast: Binge Mode: Chapters 20-23 ***Warning: Binge Mode contains adult content*** All of the insights into horcruxes. \\\\ud83d\\\\udcdaChapter 24: Sectumsempra Finally! Harry and Ginny!! Harry and Ginny!! \\\\ud83d\\\\udcdaChapter 25: The Seer Overheard Trelawney trying to hide her booze. \\\\ud83d\\\\udcdaChapter 26: The Cave Man, this chapter was rough- but that last sentence uttered my Dumbledore- \\\\u201cI am not worried Harry, I am with you.\\\\u201d \\\\ud83c\\\\udfa7Podcast: Binge Mode: Chapters 24-26 ***Warning: Binge Mode contains adult content*** Dumbledore\\\\u2019s history and his passing of torch to Harry. \\\\ud83d\\\\udcdaChapter 27: The Lightning-Struck Tower Dumbledore\\\\u2019s belief that Malfoy would choose the right side, all the way to his end. \\\\ud83d\\\\udcdaChapter 28: Flight of the Prince Shapes refusal to kill or fight Harry. \\\\ud83c\\\\udfa7Podcast: Binge Mode: Chapters 27-28 ***Warning: Binge Mode contains adult content*** Cry fest episode\\\\u2026 all heart wrenching. \\\\ud83d\\\\udcdaChapter 29: The Phoenix Lament Fleur and Mrs Weasley\\\\u2019s bonding over Bill. \\\\ud83d\\\\udcdaChapter 30: The White Tomb Harry loving Ginny enough to let her go. Plus, Ron and Hermione\\\\u2019s unwavering friendship. \\\\ud83c\\\\udfa7Podcast: Binge Mode: Chapters 29-30 ***Warning: Binge Mode contains adult content*** All about Dumbledore\\\\u2026 my heart aches. \\\\ud83c\\\\udfacMovie #6 I have a hard time with all the liberties taken in the film adaption- but the casting of Lavender and Luna is really great. \\\\ud83c\\\\udfa7Podcast: Binge Mode: Movie ***Warning: Binge Mode contains adult content*** They put into words all the things I felt about the movie adaptation. So, spot, on. This concludes my re-reading/listening/watching of Harry Potter and the Half Blood Prince. I\\\\u2019m sad that I\\\\u2019m so close to the end now. It\\\\u2019s been such an amazing adventure.\", \"user\": {\"url\": \"/user/show/23302801-danielle\", \"name\": \"Danielle\"}, \"rating\": 5.0, \"bookUrl\": \"http://www.goodreads.com/book/show/1.harry_potter_and_the_half_blood_prince.warc\", \"shelves\": [{\"url\": \"/review/list/23302801-danielle?shelf=books-to-read-with-kids\", \"name\": \"books-to-read-with-kids\"}]}, {\"url\": \"https://www.goodreads.com/review/show/35089462\", \"date\": \"Oct 11, 2008\", \"text\": \"Harry Potter and the Half-Blood Prince (Harry Potter #6), J.K. Rowling Harry Potter and the Half-Blood Prince is a fantasy novel written by British author J. K. Rowling and the sixth and penultimate novel in the Harry Potter series. Set during protagonist Harry Potter\\'s sixth year at Hogwarts, the novel explores the past of Harry\\'s nemesis, Lord Voldemort, and Harry\\'s preparations for the final battle against Voldemort alongside his headmaster and mentor Albus Dumbledore. The book was published in the United Kingdom by Bloomsbury, and in the United States by Scholastic on 16 July 2005, as well as in several other countries. Lord Voldemort is tightening his grip on both the wizarding and Muggle worlds, with his Death Eaters kidnapping wand-maker Garrick Ollivander from Diagon Alley and destroying the Millennium Bridge. The Malfoy family is disgraced when Lucius is apprehended and sent to Azkaban for his involvement with the Death Eaters. Voldemort instead chooses Draco to carry out a secret mission at Hogwarts. Draco\\'s mother Narcissa and aunt Bellatrix Lestrange seek help from Severus Snape, who claims to have been acting as a mole within the Order of the Phoenix all along. Snape makes an Unbreakable Vow with Narcissa to protect Draco and fulfill the assignment if he fails. Harry Potter, now 16 years old, accompanies Albus Dumbledore from Surbiton to the village of Budleigh Babberton to visit former Potions professor Horace Slughorn. Slughorn, who has been in hiding, agrees to return to teach at Hogwarts. Dumbledore then takes Harry to The Burrow, where Harry reunites with his best friends, Ron Weasley and Hermione Granger. The three visit Fred and George Weasley\\'s new joke shop at Diagon Alley and see Draco entering Knockturn Alley with a group of Death Eaters including Fenrir Greyback. Harry believes Voldemort has made Draco a Death Eater, but Ron and Hermione are sceptical. On the Hogwarts Express, Harry hides in the Slytherin carriage using his Invisibility Cloak, but is spotted and petrified by Malfoy. \\\\u0639\\\\u0646\\\\u0648\\\\u0627\\\\u0646\\\\u0647\\\\u0627\\\\u06cc \\\\u0686\\\\u0627\\\\u067e \\\\u0634\\\\u062f\\\\u0647 \\\\u062f\\\\u0631 \\\\u0627\\\\u06cc\\\\u0631\\\\u0627\\\\u0646: \\\\u00ab\\\\u0647\\\\u0631\\\\u06cc \\\\u067e\\\\u0627\\\\u062a\\\\u0631 \\\\u0648 \\\\u067e\\\\u0631\\\\u0646\\\\u0633 \\\\u0646\\\\u06cc\\\\u0645\\\\u0647 \\\\u0627\\\\u0635\\\\u06cc\\\\u0644\\\\u00bb\\\\u061b \\\\u00ab\\\\u0647\\\\u0631\\\\u06cc \\\\u067e\\\\u0627\\\\u062a\\\\u0631 \\\\u0648 \\\\u0634\\\\u0627\\\\u0647\\\\u0632\\\\u0627\\\\u062f\\\\u0647 \\\\u062f\\\\u0648\\\\u0631\\\\u06af\\\\u0647\\\\u00bb\\\\u061b \\\\u00ab\\\\u0647\\\\u0631\\\\u06cc \\\\u067e\\\\u0627\\\\u062a\\\\u0631 \\\\u0648 \\\\u067e\\\\u0631\\\\u0646\\\\u0633 \\\\u062f\\\\u0648 \\\\u0631\\\\u06af\\\\u0647\\\\u00bb\\\\u061b \\\\u00ab\\\\u0647\\\\u0631\\\\u06cc \\\\u067e\\\\u0627\\\\u062a\\\\u0631 \\\\u0648 \\\\u0634\\\\u0627\\\\u0647\\\\u0632\\\\u0627\\\\u062f\\\\u0647 \\\\u0646\\\\u06cc\\\\u0645\\\\u0647 \\\\u0627\\\\u0635\\\\u06cc\\\\u0644\\\\u00bb\\\\u061b \\\\u0646\\\\u0648\\\\u06cc\\\\u0633\\\\u0646\\\\u062f\\\\u0647: \\\\u062c\\\\u06cc.\\\\u06a9\\\\u06cc \\\\u0631\\\\u0648\\\\u0644\\\\u06cc\\\\u0646\\\\u06af\\\\u061b \\\\u062a\\\\u0627\\\\u0631\\\\u06cc\\\\u062e \\\\u0646\\\\u062e\\\\u0633\\\\u062a\\\\u06cc\\\\u0646 \\\\u062e\\\\u0648\\\\u0627\\\\u0646\\\\u0634: \\\\u0645\\\\u0627\\\\u0647 \\\\u0646\\\\u0648\\\\u0627\\\\u0645\\\\u0628\\\\u0631 \\\\u0633\\\\u0627\\\\u0644 2005\\\\u0645\\\\u06cc\\\\u0644\\\\u0627\\\\u062f\\\\u06cc \\\\u0639\\\\u0646\\\\u0648\\\\u0627\\\\u0646: \\\\u0647\\\\u0631\\\\u06cc \\\\u067e\\\\u0627\\\\u062a\\\\u0631 \\\\u0648 \\\\u067e\\\\u0631\\\\u0646\\\\u0633 \\\\u0646\\\\u06cc\\\\u0645\\\\u0647 \\\\u0627\\\\u0635\\\\u06cc\\\\u0644 - \\\\u06a9\\\\u062a\\\\u0627\\\\u0628 \\\\u0634\\\\u0634 \\\\u062f\\\\u0631 \\\\u062f\\\\u0648 \\\\u062c\\\\u0644\\\\u062f\\\\u061b \\\\u0646\\\\u0648\\\\u06cc\\\\u0633\\\\u0646\\\\u062f\\\\u0647: \\\\u062c\\\\u06cc.\\\\u06a9\\\\u06cc \\\\u0631\\\\u0648\\\\u0644\\\\u06cc\\\\u0646\\\\u06af\\\\u061b \\\\u0645\\\\u062a\\\\u0631\\\\u062c\\\\u0645: \\\\u0633\\\\u0645\\\\u06cc\\\\u0647 \\\\u06af\\\\u0646\\\\u062c\\\\u06cc\\\\u061b \\\\u0633\\\\u0627\\\\u0631\\\\u06cc\\\\u060c \\\\u0632\\\\u0647\\\\u0631\\\\u0647\\\\u060c 1384\\\\u061b \\\\u062f\\\\u0631 \\\\u062f\\\\u0648\\\\u062c\\\\u0644\\\\u062f\\\\u060c \\\\u062f\\\\u0631660\\\\u0635\\\\u061b \\\\u0634\\\\u0627\\\\u0628\\\\u06a9 9645704766\\\\u061b \\\\u0645\\\\u0648\\\\u0636\\\\u0648\\\\u0639 \\\\u062f\\\\u0627\\\\u0633\\\\u062a\\\\u0627\\\\u0646\\\\u0647\\\\u0627\\\\u06cc \\\\u0646\\\\u0648\\\\u06cc\\\\u0633\\\\u0646\\\\u062f\\\\u06af\\\\u0627\\\\u0646 \\\\u0628\\\\u0631\\\\u06cc\\\\u062a\\\\u0627\\\\u0646\\\\u06cc\\\\u0627 - \\\\u0633\\\\u062f\\\\u0647 21\\\\u0645 \\\\u0639\\\\u0646\\\\u0648\\\\u0627\\\\u0646: \\\\u0647\\\\u0631\\\\u06cc \\\\u067e\\\\u0627\\\\u062a\\\\u0631 \\\\u0648 \\\\u0634\\\\u0627\\\\u0647\\\\u0632\\\\u0627\\\\u062f\\\\u0647 \\\\u06cc \\\\u062f\\\\u0648\\\\u0631\\\\u06af\\\\u0647 - \\\\u06a9\\\\u062a\\\\u0627\\\\u0628 \\\\u0634\\\\u0634 \\\\u062f\\\\u0631 \\\\u062f\\\\u0648 \\\\u062c\\\\u0644\\\\u062f \\\\u061b \\\\u0646\\\\u0648\\\\u06cc\\\\u0633\\\\u0646\\\\u062f\\\\u0647: \\\\u062c\\\\u06cc.\\\\u06a9\\\\u06cc \\\\u0631\\\\u0648\\\\u0644\\\\u06cc\\\\u0646\\\\u06af\\\\u061b \\\\u0645\\\\u062a\\\\u0631\\\\u062c\\\\u0645: \\\\u0648\\\\u06cc\\\\u062f\\\\u0627 \\\\u0627\\\\u0633\\\\u0644\\\\u0627\\\\u0645\\\\u06cc\\\\u0647\\\\u061b \\\\u062a\\\\u0647\\\\u0631\\\\u0627\\\\u0646\\\\u060c \\\\u062a\\\\u0646\\\\u062f\\\\u06cc\\\\u0633\\\\u060c 1384\\\\u061b \\\\u062f\\\\u0631 \\\\u062f\\\\u0648 \\\\u062c\\\\u0644\\\\u062f\\\\u061b \\\\u0634\\\\u0627\\\\u0628\\\\u06a9 9648944024\\\\u061b \\\\u0686\\\\u0627\\\\u067e \\\\u062f\\\\u0648\\\\u0645 \\\\u062a\\\\u0627 \\\\u0647\\\\u0634\\\\u062a\\\\u0645 1384\\\\u061b \\\\u0686\\\\u0627\\\\u067e \\\\u06cc\\\\u0627\\\\u0632\\\\u062f\\\\u0647\\\\u0645 1392\\\\u061b \\\\u0634\\\\u0627\\\\u0628\\\\u06a9 9789648944013\\\\u061b \\\\u0639\\\\u0646\\\\u0648\\\\u0627\\\\u0646: \\\\u0647\\\\u0631\\\\u06cc \\\\u067e\\\\u0627\\\\u062a\\\\u0631 \\\\u0648 \\\\u067e\\\\u0631\\\\u0646\\\\u0633 \\\\u062f\\\\u0648\\\\u0631\\\\u06af\\\\u0647 - \\\\u06a9\\\\u062a\\\\u0627\\\\u0628 \\\\u0634\\\\u0634\\\\u061b \\\\u0646\\\\u0648\\\\u06cc\\\\u0633\\\\u0646\\\\u062f\\\\u0647: \\\\u062c\\\\u06cc.\\\\u06a9\\\\u06cc \\\\u0631\\\\u0648\\\\u0644\\\\u06cc\\\\u0646\\\\u06af\\\\u061b \\\\u0645\\\\u062a\\\\u0631\\\\u062c\\\\u0645: \\\\u063a\\\\u0644\\\\u0627\\\\u0645\\\\u062d\\\\u0633\\\\u06cc\\\\u0646 \\\\u0627\\\\u0639\\\\u0631\\\\u0627\\\\u0628\\\\u06cc\\\\u061b \\\\u062a\\\\u0647\\\\u0631\\\\u0627\\\\u0646\\\\u060c \\\\u067e\\\\u0644\\\\u06cc\\\\u06a9\\\\u0627\\\\u0646\\\\u060c 1384\\\\u061b \\\\u062f\\\\u0631 912\\\\u0635\\\\u061b \\\\u0634\\\\u0627\\\\u0628\\\\u06a99648690065\\\\u061b \\\\u0639\\\\u0646\\\\u0648\\\\u0627\\\\u0646: \\\\u0647\\\\u0631\\\\u06cc\\\\u200c \\\\u067e\\\\u0627\\\\u062a\\\\u0631 \\\\u0648 \\\\u0634\\\\u0627\\\\u0647\\\\u0632\\\\u0627\\\\u062f\\\\u0647\\\\u200c \\\\u06cc \\\\u062f\\\\u0648\\\\u200c\\\\u0631\\\\u06af\\\\u0647\\\\u061b \\\\u0646\\\\u0648\\\\u06cc\\\\u0633\\\\u0646\\\\u062f\\\\u0647: \\\\u062c\\\\u06cc.\\\\u06a9\\\\u06cc \\\\u0631\\\\u0648\\\\u0644\\\\u06cc\\\\u0646\\\\u06af\\\\u061b \\\\u0645\\\\u062a\\\\u0631\\\\u062c\\\\u0645: \\\\u0645\\\\u062d\\\\u0645\\\\u062f\\\\u062d\\\\u0633\\\\u0646 \\\\u0648\\\\u0627\\\\u062d\\\\u062f\\\\u061b \\\\u0642\\\\u0645 \\\\u06af\\\\u0646\\\\u062c \\\\u0639\\\\u0631\\\\u0641\\\\u0627\\\\u0646\\\\u200f\\\\u202b\\\\u060c 1384\\\\u061b \\\\u062f\\\\u0631 \\\\u062f\\\\u0648 \\\\u062c\\\\u0644\\\\u062f\\\\u061b \\\\u0634\\\\u0627\\\\u0628\\\\u06a99647985498\\\\u061b \\\\u0639\\\\u0646\\\\u0648\\\\u0627\\\\u0646: \\\\u0647\\\\u0631\\\\u06cc\\\\u200c \\\\u067e\\\\u0627\\\\u062a\\\\u0631 \\\\u0648 \\\\u0634\\\\u0627\\\\u0647\\\\u0632\\\\u0627\\\\u062f\\\\u0647\\\\u200c \\\\u06cc \\\\u062f\\\\u0648\\\\u200c\\\\u0631\\\\u06af\\\\u0647\\\\u061b \\\\u0646\\\\u0648\\\\u06cc\\\\u0633\\\\u0646\\\\u062f\\\\u0647: \\\\u062c\\\\u06cc.\\\\u06a9\\\\u06cc \\\\u0631\\\\u0648\\\\u0644\\\\u06cc\\\\u0646\\\\u06af\\\\u061b \\\\u0645\\\\u062a\\\\u0631\\\\u062c\\\\u0645: \\\\u0645\\\\u0631\\\\u06cc\\\\u0645 \\\\u0634\\\\u0639\\\\u0628\\\\u0627\\\\u0646\\\\u06cc (\\\\u0646\\\\u0635\\\\u06cc\\\\u0631\\\\u06cc \\\\u0622\\\\u0630\\\\u0631)\\\\u061b \\\\u062a\\\\u0647\\\\u0631\\\\u0627\\\\u0646\\\\u060c \\\\u0637\\\\u062d\\\\u0627\\\\u0646\\\\u060c 1384\\\\u061b \\\\u062f\\\\u0631 \\\\u062f\\\\u0648 \\\\u062c\\\\u0644\\\\u062f\\\\u061b \\\\u0686\\\\u0627\\\\u067e \\\\u062f\\\\u06cc\\\\u06af\\\\u0631 \\\\u062a\\\\u0647\\\\u0631\\\\u0627\\\\u0646 \\\\u0639\\\\u0644\\\\u0645\\\\u06cc \\\\u0634\\\\u0627\\\\u06cc\\\\u0627\\\\u0646\\\\u200f\\\\u202b\\\\u060c 1391\\\\u061b \\\\u062f\\\\u0631 \\\\u062f\\\\u0648 \\\\u062c\\\\u0644\\\\u062f\\\\u061b \\\\u0634\\\\u0627\\\\u0628\\\\u06a9 9786009304219\\\\u061b \\\\u0639\\\\u0646\\\\u0648\\\\u0627\\\\u0646: \\\\u0647\\\\u0631\\\\u06cc\\\\u200c \\\\u067e\\\\u0627\\\\u062a\\\\u0631 \\\\u0648 \\\\u0634\\\\u0627\\\\u0647\\\\u0632\\\\u0627\\\\u062f\\\\u0647\\\\u200c \\\\u06cc \\\\u0646\\\\u06cc\\\\u0645\\\\u0647 \\\\u0627\\\\u0635\\\\u06cc\\\\u0644\\\\u061b \\\\u0646\\\\u0648\\\\u06cc\\\\u0633\\\\u0646\\\\u062f\\\\u0647: \\\\u062c\\\\u06cc.\\\\u06a9\\\\u06cc \\\\u0631\\\\u0648\\\\u0644\\\\u06cc\\\\u0646\\\\u06af\\\\u061b \\\\u0645\\\\u062a\\\\u0631\\\\u062c\\\\u0645: \\\\u0633\\\\u0639\\\\u06cc\\\\u062f \\\\u0627\\\\u0628\\\\u0631\\\\u0627\\\\u0647\\\\u06cc\\\\u0645\\\\u06cc\\\\u061b \\\\u062a\\\\u0647\\\\u0631\\\\u0627\\\\u0646\\\\u060c \\\\u0646\\\\u06af\\\\u0627\\\\u0647 \\\\u0627\\\\u0645\\\\u0631\\\\u0648\\\\u0632\\\\u200f\\\\u202b\\\\u060c 1384\\\\u061b \\\\u062f\\\\u0631 \\\\u062f\\\\u0648 \\\\u062c\\\\u0644\\\\u062f\\\\u061b \\\\u0634\\\\u0627\\\\u0628\\\\u06a9 \\\\u062f\\\\u0648\\\\u0631\\\\u06479647470002\\\\u061b \\\\u0639\\\\u0646\\\\u0648\\\\u0627\\\\u0646: \\\\u0647\\\\u0631\\\\u06cc\\\\u200c \\\\u067e\\\\u0627\\\\u062a\\\\u0631 \\\\u0648 \\\\u0634\\\\u0627\\\\u0647\\\\u0632\\\\u0627\\\\u062f\\\\u0647\\\\u200c \\\\u0646\\\\u06cc\\\\u0645\\\\u0647 \\\\u0627\\\\u0635\\\\u06cc\\\\u0644\\\\u061b \\\\u0646\\\\u0648\\\\u06cc\\\\u0633\\\\u0646\\\\u062f\\\\u0647: \\\\u062c\\\\u06cc.\\\\u06a9\\\\u06cc \\\\u0631\\\\u0648\\\\u0644\\\\u06cc\\\\u0646\\\\u06af\\\\u061b \\\\u0645\\\\u062a\\\\u0631\\\\u062c\\\\u0645: \\\\u0645\\\\u062d\\\\u0645\\\\u062f \\\\u0646\\\\u0648\\\\u0631\\\\u0627\\\\u0644\\\\u0644\\\\u0647\\\\u06cc\\\\u061b \\\\u062a\\\\u0647\\\\u0631\\\\u0627\\\\u0646\\\\u060c \\\\u0628\\\\u0647\\\\u0646\\\\u0627\\\\u0645\\\\u200f\\\\u202b\\\\u060c 1384\\\\u061b \\\\u062f\\\\u0631 \\\\u062f\\\\u0648 \\\\u062c\\\\u0644\\\\u062f\\\\u061b \\\\u0634\\\\u0627\\\\u0628\\\\u06a9 \\\\u062f\\\\u0648\\\\u0631\\\\u06479645668360\\\\u061b \\\\u0639\\\\u0646\\\\u0648\\\\u0627\\\\u0646: \\\\u0647\\\\u0631\\\\u06cc\\\\u200c \\\\u067e\\\\u0627\\\\u062a\\\\u0631 \\\\u0648 \\\\u0634\\\\u0627\\\\u0647\\\\u0632\\\\u0627\\\\u062f\\\\u0647\\\\u200c \\\\u062f\\\\u0648\\\\u0631\\\\u06af\\\\u0647\\\\u061b \\\\u0646\\\\u0648\\\\u06cc\\\\u0633\\\\u0646\\\\u062f\\\\u0647: \\\\u062c\\\\u06cc.\\\\u06a9\\\\u06cc \\\\u0631\\\\u0648\\\\u0644\\\\u06cc\\\\u0646\\\\u06af\\\\u061b \\\\u0645\\\\u062a\\\\u0631\\\\u062c\\\\u0645: \\\\u0646\\\\u0627\\\\u0645\\\\u0648\\\\u0631 \\\\u0639\\\\u0627\\\\u0628\\\\u062f\\\\u06cc\\\\u0646\\\\u06cc\\\\u061b \\\\u062a\\\\u0647\\\\u0631\\\\u0627\\\\u0646\\\\u060c \\\\u0646\\\\u0627\\\\u0645\\\\u0648\\\\u0631 \\\\u0639\\\\u0627\\\\u0628\\\\u062f\\\\u06cc\\\\u0646\\\\u06cc\\\\u200f\\\\u202b\\\\u060c 1384\\\\u061b \\\\u062f\\\\u0631 \\\\u0633\\\\u0647 \\\\u062c\\\\u0644\\\\u062f\\\\u061b \\\\u0634\\\\u0627\\\\u0628\\\\u06a9 \\\\u062f\\\\u0648\\\\u0631\\\\u06479640670464\\\\u061b \\\\u0639\\\\u0646\\\\u0648\\\\u0627\\\\u0646: \\\\u0647\\\\u0631\\\\u06cc\\\\u200c \\\\u067e\\\\u0627\\\\u062a\\\\u0631 \\\\u0648 \\\\u0634\\\\u0627\\\\u0647\\\\u0632\\\\u0627\\\\u062f\\\\u0647\\\\u200c \\\\u062f\\\\u0648\\\\u0631\\\\u06af\\\\u0647\\\\u061b \\\\u0646\\\\u0648\\\\u06cc\\\\u0633\\\\u0646\\\\u062f\\\\u0647: \\\\u062c\\\\u06cc.\\\\u06a9\\\\u06cc \\\\u0631\\\\u0648\\\\u0644\\\\u06cc\\\\u0646\\\\u06af\\\\u061b \\\\u0645\\\\u062a\\\\u0631\\\\u062c\\\\u0645: \\\\u0627\\\\u0644\\\\u0647\\\\u0627\\\\u0645 \\\\u0622\\\\u0631\\\\u0627\\\\u0645 \\\\u0646\\\\u06cc\\\\u0627\\\\u061b \\\\u0634\\\\u0645\\\\u0633 \\\\u0627\\\\u0644\\\\u062f\\\\u06cc\\\\u0646 \\\\u062d\\\\u0633\\\\u06cc\\\\u0646\\\\u06cc\\\\u061b \\\\u062a\\\\u0647\\\\u0631\\\\u0627\\\\u0646\\\\u060c \\\\u067e\\\\u06cc\\\\u06a9\\\\u0627\\\\u0646\\\\u200f\\\\u202b\\\\u060c 1384\\\\u061b \\\\u062f\\\\u0631 \\\\u062f\\\\u0648 \\\\u062c\\\\u0644\\\\u062f\\\\u061b \\\\u0634\\\\u0627\\\\u0628\\\\u06a9 \\\\u062f\\\\u0648\\\\u0631\\\\u06479643284913\\\\u061b \\\\u0639\\\\u0646\\\\u0648\\\\u0627\\\\u0646: \\\\u0647\\\\u0631\\\\u06cc\\\\u200c \\\\u067e\\\\u0627\\\\u062a\\\\u0631 \\\\u0648 \\\\u0634\\\\u0627\\\\u0647\\\\u0632\\\\u0627\\\\u062f\\\\u0647\\\\u200c \\\\u062f\\\\u0648\\\\u0631\\\\u06af\\\\u0647\\\\u061b \\\\u0646\\\\u0648\\\\u06cc\\\\u0633\\\\u0646\\\\u062f\\\\u0647: \\\\u062c\\\\u06cc.\\\\u06a9\\\\u06cc \\\\u0631\\\\u0648\\\\u0644\\\\u06cc\\\\u0646\\\\u06af\\\\u061b \\\\u0645\\\\u062a\\\\u0631\\\\u062c\\\\u0645: \\\\u0634\\\\u0647\\\\u0646\\\\u0627\\\\u0632 \\\\u0645\\\\u062c\\\\u06cc\\\\u062f\\\\u06cc\\\\u061b \\\\u062a\\\\u0647\\\\u0631\\\\u0627\\\\u0646\\\\u060c \\\\u0631\\\\u0648\\\\u0634\\\\u0627\\\\u200f\\\\u202b\\\\u060c 1384\\\\u061b \\\\u062f\\\\u0631 \\\\u062f\\\\u0648 \\\\u062c\\\\u0644\\\\u062f\\\\u061b \\\\u0641\\\\u0647\\\\u0631\\\\u0633\\\\u062a: \\\\u0622\\\\u0646 \\\\u0648\\\\u0632\\\\u06cc\\\\u0631 \\\\u062f\\\\u06cc\\\\u06af\\\\u0631\\\\u061b \\\\u0628\\\\u0646\\\\u200c\\\\u0628\\\\u0633\\\\u062a \\\\u0627\\\\u0633\\\\u067e\\\\u06cc\\\\u0646\\\\u0631\\\\u061b \\\\u0648\\\\u0635\\\\u06cc\\\\u062a\\\\u200c\\\\u0646\\\\u0627\\\\u0645\\\\u0647 \\\\u0648 \\\\u062c\\\\u0646 \\\\u062e\\\\u0627\\\\u0646\\\\u0647\\\\u061b \\\\u0647\\\\u0648\\\\u0631\\\\u06cc\\\\u0633 \\\\u0627\\\\u0633\\\\u0644\\\\u0627\\\\u06af\\\\u0647\\\\u0648\\\\u0631\\\\u0646\\\\u061b \\\\u062e\\\\u0644\\\\u0637 \\\\u0627\\\\u0636\\\\u0627\\\\u0641\\\\u06cc\\\\u061b \\\\u0645\\\\u0633\\\\u06cc\\\\u0631 \\\\u0628\\\\u06cc\\\\u0631\\\\u0627\\\\u0647\\\\u0647\\\\u200c\\\\u06cc \\\\u062f\\\\u0631\\\\u0627\\\\u06a9\\\\u0648\\\\u061b \\\\u0627\\\\u0646\\\\u062c\\\\u0645\\\\u0646 \\\\u0627\\\\u0633\\\\u0644\\\\u0627\\\\u06af\\\\u061b \\\\u0627\\\\u0633\\\\u0646\\\\u06cc\\\\u067e \\\\u067e\\\\u06cc\\\\u0631\\\\u0648\\\\u0632\\\\u061b \\\\u0634\\\\u0627\\\\u0647\\\\u0632\\\\u0627\\\\u062f\\\\u0647\\\\u200c\\\\u06cc \\\\u062f\\\\u0648\\\\u0631\\\\u06af\\\\u0647\\\\u061b \\\\u062e\\\\u0627\\\\u0646\\\\u0647\\\\u200c\\\\u06cc \\\\u06af\\\\u0648\\\\u0646\\\\u062a\\\\u061b \\\\u0647\\\\u0645\\\\u06a9\\\\u0627\\\\u0631\\\\u06cc \\\\u0647\\\\u0631\\\\u0645\\\\u06cc\\\\u0648\\\\u0646\\\\u061b \\\\u0646\\\\u0642\\\\u0631\\\\u0647 \\\\u0648 \\\\u0639\\\\u0642\\\\u06cc\\\\u0642 \\\\u0633\\\\u0644\\\\u06cc\\\\u0645\\\\u0627\\\\u0646\\\\u06cc\\\\u061b \\\\u0631\\\\u06cc\\\\u062f\\\\u0644\\\\u060c \\\\u0645\\\\u0639\\\\u0645\\\\u0627\\\\u06cc \\\\u0645\\\\u0631\\\\u0645\\\\u0648\\\\u0632\\\\u061b \\\\u0641\\\\u0644\\\\u06cc\\\\u06a9\\\\u0633 \\\\u0641\\\\u0644\\\\u06cc\\\\u0633\\\\u06cc\\\\u0633\\\\u061b \\\\u0648 \\\\u067e\\\\u06cc\\\\u0645\\\\u0627\\\\u0646 \\\\u0646\\\\u0627\\\\u06af\\\\u0633\\\\u0633\\\\u062a\\\\u0646\\\\u06cc\\\\u061b \\\\u0634\\\\u0634\\\\u0645\\\\u064a\\\\u0646 \\\\u0633\\\\u0627\\\\u0644 \\\\u062a\\\\u062d\\\\u0635\\\\u064a\\\\u0644\\\\u06cc \\\\u0647\\\\u0631\\\\u06cc \\\\u062f\\\\u0631 \\\\u0645\\\\u062f\\\\u0631\\\\u0633\\\\u0647\\\\u200c \\\\u06cc \\\\u0639\\\\u0644\\\\u0648\\\\u0645 \\\\u0648 \\\\u0641\\\\u0646\\\\u0648\\\\u0646 \\\\u062c\\\\u0627\\\\u062f\\\\u0648\\\\u06af\\\\u0631\\\\u06cc \\\\u0647\\\\u0627\\\\u06af\\\\u0648\\\\u0627\\\\u0631\\\\u062a\\\\u0632 \\\\u0622\\\\u063a\\\\u0627\\\\u0632 \\\\u0645\\\\u06cc\\\\u0634\\\\u0648\\\\u062f\\\\u061b \\\\u00ab\\\\u0622\\\\u0644\\\\u0628\\\\u0648\\\\u0633 \\\\u062f\\\\u0627\\\\u0645\\\\u0628\\\\u0644\\\\u062f\\\\u0648\\\\u0631\\\\u00bb\\\\u060c \\\\u0645\\\\u062f\\\\u06cc\\\\u0631 \\\\u0645\\\\u062f\\\\u0631\\\\u0633\\\\u0647\\\\u060c \\\\u0628\\\\u0631\\\\u0627\\\\u06cc \\\\u00ab\\\\u0647\\\\u0631\\\\u06cc\\\\u00bb \\\\u06a9\\\\u0644\\\\u0627\\\\u0633\\\\u200c\\\\u0647\\\\u0627\\\\u06cc \\\\u062e\\\\u0635\\\\u0648\\\\u0635\\\\u06cc \\\\u062a\\\\u0631\\\\u062a\\\\u06cc\\\\u0628 \\\\u0645\\\\u06cc\\\\u062f\\\\u0647\\\\u062f\\\\u060c \\\\u0648 \\\\u062f\\\\u0631 \\\\u06a9\\\\u0644\\\\u0627\\\\u0633\\\\u200c\\\\u0647\\\\u0627\\\\u060c \\\\u0627\\\\u0648 \\\\u0631\\\\u0627 \\\\u0628\\\\u0627 \\\\u06af\\\\u0630\\\\u0634\\\\u062a\\\\u0647\\\\u200c \\\\u06cc \\\\u00ab\\\\u0644\\\\u0631\\\\u062f \\\\u0648\\\\u0644\\\\u062f\\\\u0645\\\\u0648\\\\u0631\\\\u062a\\\\u00bb\\\\u060c \\\\u0648 \\\\u0627\\\\u0646\\\\u062f\\\\u06cc\\\\u0634\\\\u0647 \\\\u0647\\\\u0627 \\\\u0648 \\\\u0622\\\\u0631\\\\u0632\\\\u0648\\\\u0647\\\\u0627\\\\u06cc \\\\u0627\\\\u0648 \\\\u0622\\\\u0634\\\\u0646\\\\u0627 \\\\u0645\\\\u06cc\\\\u06a9\\\\u0646\\\\u062f\\\\u061b \\\\u0648 \\\\u0631\\\\u0627\\\\u0632 \\\\u062c\\\\u0627\\\\u0648\\\\u062f\\\\u0627\\\\u0646\\\\u06af\\\\u06cc \\\\u0627\\\\u0648 \\\\u0631\\\\u0627 \\\\u0628\\\\u0631\\\\u0645\\\\u0644\\\\u0627 \\\\u0645\\\\u06cc\\\\u0633\\\\u0627\\\\u0632\\\\u062f \\\\u0646\\\\u0642\\\\u0644 \\\\u0627\\\\u0632 \\\\u0645\\\\u062a\\\\u0646 \\\\u062c\\\\u0644\\\\u062f \\\\u0646\\\\u062e\\\\u0633\\\\u062a: (\\\\u0647\\\\u0631\\\\u06cc \\\\u067e\\\\u0627\\\\u062a\\\\u0631 \\\\u0628\\\\u0627 \\\\u0635\\\\u062f\\\\u0627\\\\u06cc \\\\u0628\\\\u0644\\\\u0646\\\\u062f\\\\u06cc \\\\u062e\\\\u0631\\\\u0648\\\\u067e\\\\u0641 \\\\u0645\\\\u06cc\\\\u200c\\\\u06a9\\\\u0631\\\\u062f\\\\u061b \\\\u0628\\\\u06cc\\\\u0634\\\\u200c\\\\u062a\\\\u0631 \\\\u0686\\\\u0647\\\\u0627\\\\u0631 \\\\u0633\\\\u0627\\\\u0639\\\\u062a \\\\u06af\\\\u0630\\\\u0634\\\\u062a\\\\u0647 \\\\u0631\\\\u0627 \\\\u062f\\\\u0631 \\\\u06a9\\\\u0646\\\\u0627\\\\u0631 \\\\u067e\\\\u0646\\\\u062c\\\\u0631\\\\u0647\\\\u200c \\\\u06cc \\\\u0627\\\\u062a\\\\u0627\\\\u0642\\\\u200c \\\\u062e\\\\u0648\\\\u0627\\\\u0628\\\\u0634\\\\u060c \\\\u0628\\\\u0631 \\\\u0631\\\\u0648\\\\u06cc \\\\u0635\\\\u0646\\\\u062f\\\\u0644\\\\u06cc \\\\u0646\\\\u0634\\\\u0633\\\\u062a\\\\u0647 \\\\u0648 \\\\u0628\\\\u0647 \\\\u0645\\\\u0646\\\\u0638\\\\u0631\\\\u0647\\\\u200c \\\\u06cc \\\\u062e\\\\u06cc\\\\u0627\\\\u0628\\\\u0627\\\\u0646 \\\\u0632\\\\u0644 \\\\u0632\\\\u062f\\\\u0647 \\\\u0628\\\\u0648\\\\u062f\\\\u060c \\\\u06a9\\\\u0647 \\\\u062f\\\\u0645\\\\u200c \\\\u0628\\\\u0647\\\\u200c \\\\u062f\\\\u0645 \\\\u062a\\\\u0627\\\\u0631\\\\u06cc\\\\u06a9\\\\u200c\\\\u062a\\\\u0631 \\\\u0645\\\\u06cc\\\\u200c\\\\u0634\\\\u062f \\\\u0648 \\\\u0633\\\\u0631\\\\u0627\\\\u0646\\\\u062c\\\\u0627\\\\u0645\\\\u060c \\\\u062f\\\\u0631 \\\\u062d\\\\u0627\\\\u0644\\\\u06cc \\\\u06a9\\\\u0647 \\\\u06cc\\\\u06a9\\\\u200c\\\\u0637\\\\u0631\\\\u0641 \\\\u0635\\\\u0648\\\\u0631\\\\u062a\\\\u0634 \\\\u0628\\\\u0647 \\\\u067e\\\\u0646\\\\u062c\\\\u0631\\\\u0647 \\\\u062a\\\\u06a9\\\\u06cc\\\\u0647 \\\\u062f\\\\u0627\\\\u0634\\\\u062a\\\\u060c \\\\u0628\\\\u0627 \\\\u062f\\\\u0647\\\\u0627\\\\u0646 \\\\u0628\\\\u0627\\\\u0632 \\\\u0648 \\\\u0639\\\\u06cc\\\\u0646\\\\u06a9\\\\u060c \\\\u06cc\\\\u06a9 \\\\u0648\\\\u0631\\\\u06cc\\\\u060c \\\\u0628\\\\u0647 \\\\u062e\\\\u0648\\\\u0627\\\\u0628 \\\\u0631\\\\u0641\\\\u062a\\\\u0647 \\\\u0628\\\\u0648\\\\u062f\\\\u061b \\\\u0628\\\\u062e\\\\u0634\\\\u06cc \\\\u0627\\\\u0632 \\\\u0634\\\\u06cc\\\\u0634\\\\u0647\\\\u200c \\\\u06cc \\\\u067e\\\\u0646\\\\u062c\\\\u0631\\\\u0647 \\\\u06a9\\\\u0647 \\\\u062f\\\\u0631 \\\\u0627\\\\u062b\\\\u0631 \\\\u0646\\\\u0641\\\\u0633\\\\u200c\\\\u0647\\\\u0627\\\\u06cc \\\\u0627\\\\u0648 \\\\u0628\\\\u062e\\\\u0627\\\\u0631 \\\\u06af\\\\u0631\\\\u0641\\\\u062a\\\\u0647 \\\\u0628\\\\u0648\\\\u062f\\\\u060c \\\\u062f\\\\u0631 \\\\u0628\\\\u0631\\\\u0627\\\\u0628\\\\u0631 \\\\u0646\\\\u0648\\\\u0631 \\\\u0646\\\\u0627\\\\u0631\\\\u0646\\\\u062c\\\\u06cc \\\\u0631\\\\u0646\\\\u06af \\\\u0686\\\\u0631\\\\u0627\\\\u063a \\\\u062e\\\\u06cc\\\\u0627\\\\u0628\\\\u0627\\\\u0646 \\\\u0645\\\\u06cc\\\\u200c\\\\u062f\\\\u0631\\\\u062e\\\\u0634\\\\u06cc\\\\u062f \\\\u0648 \\\\u062f\\\\u0631 \\\\u067e\\\\u0631\\\\u062a\\\\u0648 \\\\u0627\\\\u06cc\\\\u0646 \\\\u0646\\\\u0648\\\\u0631 \\\\u063a\\\\u06cc\\\\u0631\\\\u0637\\\\u0628\\\\u06cc\\\\u0639\\\\u06cc\\\\u060c \\\\u0647\\\\u06cc\\\\u0686 \\\\u0631\\\\u0646\\\\u06af \\\\u062f\\\\u06cc\\\\u06af\\\\u0631\\\\u06cc \\\\u0628\\\\u0631 \\\\u0686\\\\u0647\\\\u0631\\\\u0647\\\\u200c \\\\u0627\\\\u0634 \\\\u0633\\\\u0627\\\\u06cc\\\\u0647 \\\\u0646\\\\u0645\\\\u06cc\\\\u200c\\\\u0627\\\\u0646\\\\u062f\\\\u0627\\\\u062e\\\\u062a\\\\u060c \\\\u0686\\\\u0646\\\\u0627\\\\u0646 \\\\u06a9\\\\u0647 \\\\u0635\\\\u0648\\\\u0631\\\\u062a\\\\u0634 \\\\u062f\\\\u0631 \\\\u0632\\\\u06cc\\\\u0631 \\\\u0633\\\\u06cc\\\\u0627\\\\u0647\\\\u06cc \\\\u0645\\\\u062a\\\\u0636\\\\u0627\\\\u062f \\\\u0645\\\\u0648\\\\u0647\\\\u0627\\\\u06cc \\\\u0646\\\\u0627\\\\u0645\\\\u0631\\\\u062a\\\\u0628\\\\u0634\\\\u060c \\\\u0631\\\\u0646\\\\u06af \\\\u067e\\\\u0631\\\\u06cc\\\\u062f\\\\u0647 \\\\u0648 \\\\u062a\\\\u0631\\\\u0633\\\\u0646\\\\u0627\\\\u06a9 \\\\u0628\\\\u0647 \\\\u0646\\\\u0638\\\\u0631 \\\\u0645\\\\u06cc\\\\u200c\\\\u0631\\\\u0633\\\\u06cc\\\\u062f\\\\u061b \\\\u0627\\\\u062a\\\\u0627\\\\u0642\\\\u060c \\\\u067e\\\\u0631 \\\\u0627\\\\u0632 \\\\u0648\\\\u0633\\\\u0627\\\\u06cc\\\\u0644 \\\\u062f\\\\u0631\\\\u0647\\\\u0645 \\\\u0631\\\\u06cc\\\\u062e\\\\u062a\\\\u0647\\\\u200c \\\\u06cc \\\\u06af\\\\u0648\\\\u0646\\\\u0627\\\\u06af\\\\u0648\\\\u0646 \\\\u0648 \\\\u062e\\\\u0631\\\\u062f\\\\u0647 \\\\u0622\\\\u0634\\\\u063a\\\\u0627\\\\u0644\\\\u200c\\\\u0647\\\\u0627\\\\u06cc \\\\u067e\\\\u0631\\\\u0627\\\\u06a9\\\\u0646\\\\u062f\\\\u0647 \\\\u0628\\\\u0648\\\\u062f\\\\u061b \\\\u067e\\\\u0631\\\\u0647\\\\u0627\\\\u06cc \\\\u062c\\\\u063a\\\\u062f\\\\u060c \\\\u062f\\\\u0627\\\\u0646\\\\u0647\\\\u200c\\\\u0647\\\\u0627\\\\u06cc \\\\u0633\\\\u06cc\\\\u0628 \\\\u0648 \\\\u06a9\\\\u0627\\\\u063a\\\\u0630\\\\u0647\\\\u0627\\\\u06cc \\\\u0645\\\\u0686\\\\u0627\\\\u0644\\\\u0647\\\\u200c \\\\u06cc \\\\u0634\\\\u06a9\\\\u0644\\\\u0627\\\\u062a \\\\u062f\\\\u0631 \\\\u06af\\\\u0648\\\\u0634\\\\u0647 \\\\u0648 \\\\u06a9\\\\u0646\\\\u0627\\\\u0631 \\\\u0627\\\\u062a\\\\u0627\\\\u0642 \\\\u0631\\\\u064a\\\\u062e\\\\u062a\\\\u0647 \\\\u0628\\\\u0648\\\\u062f\\\\u061b \\\\u0686\\\\u0646\\\\u062f\\\\u06cc\\\\u0646 \\\\u06a9\\\\u062a\\\\u0627\\\\u0628 \\\\u062c\\\\u0627\\\\u062f\\\\u0648\\\\u06af\\\\u0631\\\\u06cc \\\\u0644\\\\u0627\\\\u0628\\\\u0647\\\\u200c\\\\u0644\\\\u0627\\\\u06cc \\\\u0631\\\\u062f\\\\u0627\\\\u0647\\\\u0627\\\\u06cc \\\\u062f\\\\u0631\\\\u0647\\\\u0645 \\\\u06af\\\\u0648\\\\u0631\\\\u06cc\\\\u062f\\\\u0647\\\\u200c \\\\u06cc \\\\u0631\\\\u0648\\\\u06cc \\\\u062a\\\\u062e\\\\u062a\\\\u0634 \\\\u0642\\\\u0631\\\\u0627\\\\u0631 \\\\u062f\\\\u0627\\\\u0634\\\\u062a \\\\u0648 \\\\u062f\\\\u0633\\\\u062a\\\\u0647\\\\u200c \\\\u06cc \\\\u0646\\\\u0627\\\\u0645\\\\u0631\\\\u062a\\\\u0628 \\\\u0631\\\\u0648\\\\u0632\\\\u0646\\\\u0627\\\\u0645\\\\u0647\\\\u200c\\\\u0647\\\\u0627 \\\\u0628\\\\u0631 \\\\u0631\\\\u0648\\\\u06cc \\\\u0645\\\\u06cc\\\\u0632 \\\\u062a\\\\u062d\\\\u0631\\\\u06cc\\\\u0631\\\\u0634 \\\\u062f\\\\u0631 \\\\u0632\\\\u06cc\\\\u0631 \\\\u0647\\\\u0627\\\\u0644\\\\u0647\\\\u200c \\\\u0627\\\\u06cc \\\\u0627\\\\u0632 \\\\u0646\\\\u0648\\\\u0631 \\\\u0628\\\\u0647 \\\\u0686\\\\u0634\\\\u0645 \\\\u0645\\\\u06cc\\\\u200c\\\\u062e\\\\u0648\\\\u0631\\\\u062f\\\\u061b \\\\u0639\\\\u0646\\\\u0648\\\\u0627\\\\u0646 \\\\u06cc\\\\u06a9\\\\u06cc \\\\u0627\\\\u0632 \\\\u0631\\\\u0648\\\\u0632\\\\u0646\\\\u0627\\\\u0645\\\\u0647\\\\u200c\\\\u0647\\\\u0627 \\\\u06af\\\\u0648\\\\u06cc\\\\u06cc \\\\u0628\\\\u0627 \\\\u062f\\\\u0627\\\\u062f \\\\u0648 \\\\u0641\\\\u0631\\\\u06cc\\\\u0627\\\\u062f\\\\u060c \\\\u062e\\\\u0648\\\\u062f\\\\u0646\\\\u0645\\\\u0627\\\\u06cc\\\\u06cc \\\\u0645\\\\u06cc\\\\u200c\\\\u06a9\\\\u0631\\\\u062f: \\\\u0647\\\\u0631\\\\u06cc \\\\u067e\\\\u0627\\\\u062a\\\\u0631: \\\\u067e\\\\u0633\\\\u0631 \\\\u0628\\\\u0631\\\\u06af\\\\u0632\\\\u06cc\\\\u062f\\\\u0647\\\\u061f)\\\\u061b \\\\u067e\\\\u0627\\\\u06cc\\\\u0627\\\\u0646 \\\\u062a\\\\u0627\\\\u0631\\\\u06cc\\\\u062e \\\\u0628\\\\u0647\\\\u0646\\\\u06af\\\\u0627\\\\u0645 \\\\u0631\\\\u0633\\\\u0627\\\\u0646\\\\u06cc 09/07/1399\\\\u0647\\\\u062c\\\\u0631\\\\u06cc \\\\u062e\\\\u0648\\\\u0631\\\\u0634\\\\u06cc\\\\u062f\\\\u06cc\\\\u061b 30/05/1400\\\\u0647\\\\u062c\\\\u0631\\\\u06cc \\\\u062e\\\\u0648\\\\u0631\\\\u0634\\\\u06cc\\\\u062f\\\\u06cc\\\\u061b \\\\u0627. \\\\u0634\\\\u0631\\\\u0628\\\\u06cc\\\\u0627\\\\u0646\\\\u06cc\", \"user\": {\"url\": \"/user/show/614778-ahmad-sharabiani\", \"name\": \"Ahmad Sharabiani\"}, \"rating\": 5.0, \"bookUrl\": \"http://www.goodreads.com/book/show/1.harry_potter_and_the_half_blood_prince.warc\", \"shelves\": [{\"url\": \"/review/list/614778-ahmad-sharabiani?shelf=childrens-young-readers\", \"name\": \"childrens-young-readers\"}, {\"url\": \"/review/list/614778-ahmad-sharabiani?shelf=british\", \"name\": \"british\"}, {\"url\": \"/review/list/614778-ahmad-sharabiani?shelf=fantasy\", \"name\": \"fantasy\"}, {\"url\": \"/review/list/614778-ahmad-sharabiani?shelf=novels\", \"name\": \"novels\"}, {\"url\": \"/review/list/614778-ahmad-sharabiani?shelf=fiction\", \"name\": \"fiction\"}, {\"url\": \"/review/list/614778-ahmad-sharabiani?shelf=21th-century\", \"name\": \"21th-century\"}]}, {\"url\": \"https://www.goodreads.com/review/show/956890387\", \"date\": \"Jun 03, 2014\", \"text\": \"I\\\\u2019m yet to mention one of the most important characters in this series in a review. I\\\\u2019m, of course, talking about Severus Snape. Severus, the unsung hero. Severus, who sacrificed his own soul. Severus, who loved another more than life itself. Severus, the half-blood prince- the truth about his character was, and will likely always be, one of the most surprising twists I\\\\u2019ve ever read in fiction. The set up is all in this book.\", \"user\": {\"url\": \"/user/show/27788046-sean-barrs\", \"name\": \"Sean Barrs \"}, \"rating\": 5.0, \"bookUrl\": \"http://www.goodreads.com/book/show/1.harry_potter_and_the_half_blood_prince.warc\", \"shelves\": [{\"url\": \"/review/list/27788046-sean-barrs?shelf=children-of-all-ages\", \"name\": \"children-of-all-ages\"}, {\"url\": \"/review/list/27788046-sean-barrs?shelf=5-star-reads\", \"name\": \"5-star-reads\"}, {\"url\": \"/review/list/27788046-sean-barrs?shelf=fantasy\", \"name\": \"fantasy\"}]}, {\"url\": \"https://www.goodreads.com/review/show/2856577\", \"date\": \"Jul 09, 2007\", \"text\": \"I was first introduced to Harry Potter in a Children\\\\u2019s Lit class in college. I had resisted this popular phenomenon until I was forced to pick it up for a grade, and Book 1 was short enough that I could read it in the course of 2 hours. I have to admit I wasn\\\\u2019t impressed to any extent, nor did I dislike the experience, but I was critical on grounds of its being derivative, even if reading the first led to reading the second. After all, if I was bored and looking for something light, I could do worse than a fantasy about a child wizard who fights evil with his friends. But it was really the third book, with its increasing darkness, that took me in and made me a fan. With a movie coming out for Order of Phoenix and Deathly Hallows on the horizon, I decided I would reread Half-Blood Prince. I figured it would take four sittings, of course, with its 600 pages, but time does fly when reading this one, and I\\\\u2019ve come to the conclusion that this is my favorite so far. What I wouldn\\\\u2019t have been willing to admit in college that I\\\\u2019m perfectly comfortable saying now is that J.K. Rowling is a fantastic storyteller; she writes with great clarity, wit, and humor; and she\\\\u2019s created a cast of loveable characters with whom most people, due to the common experience of growing up, can relate closely. That said, the reason for my preference for the 6th book is that it\\\\u2019s the most emotionally rich in the series. Here we get the backstory of Voldemort (*spoiler alert*) through a series of flashbacks (coming in HP by way of magically extracted memories), and in this way, we come to understand the villain\\\\u2019s similarities and differences with our hero. After all, the villain has to have reasons for committing heinous acts, and until now, we don\\\\u2019t know what these are. Voldemort is from a once-powerful wizard family reduced to poverty that lives in a dilapidated hovel on the edge of a small town, wary of outsiders, and their main point of pride is their pure blood, the lineage having cross-bred for generations so as not to pollute the line. Voldemort\\\\u2019s mother lives with her father and brother and yearns for the love of a nonmagical man (\\\\u201cmuggle\\\\u201d in this world) and when her father and brother are arrested, she uses the opportunity to bewitch her beloved and run off. She ends up pregnant, the man deserts her, and she dies while giving birth to her half-wizard, half-muggle son, thus making him an orphan (like Harry). (Faulkner anyone?) But whereas Harry comes to Hogwarts and befriends Ron and Hermione creating unity and strength through positive emotions, Voldemort, when growing in the orphanage shuns other children, torturing them at times (without the awareness of adults) and stealing their possessions. What fuels him is his hatred of his beginnings, his mother\\\\u2019s weakness at having died like a common person despite being a witch, and the \\\\u201cmuggle\\\\u201d blood inherited from his father. Over the course of his time at Hogwarts, Voldemort, charming as only evil can be, learns to win over people as a means to an end and disguise his insidious purposes, but he never befriends anyone. He moves, through his hatred, further away from many of the emotions that drive Harry, namely the desire to protect the people he loves and avenge his parents\\\\u2019 death. With Dumbledore\\\\u2019s help in exploring Voldemort\\\\u2019s past, Harry begins to understand that he\\\\u2019s come to be where he is through the choices he\\\\u2019s made, that his greatest strengths are an alliance with his friends, and that this might hold the key to destroying his enemy, a fact that\\\\u2019s made all the more poignant when Dumbledore, in an all-out assault on Hogwarts by Voldemort\\\\u2019s Death Eaters, is killed at the end. The stakes are higher than before, the action and pace increase as the conclusion draws near, and things are looking darker than ever, which is the setup that any fan wants when the end is looming and it leaves us with the question: How will our hero prevail?\", \"user\": {\"url\": \"/user/show/156760-aloysius\", \"name\": \"Aloysius\"}, \"rating\": 5.0, \"bookUrl\": \"http://www.goodreads.com/book/show/1.harry_potter_and_the_half_blood_prince.warc\", \"shelves\": []}, {\"url\": \"https://www.goodreads.com/review/show/842506912\", \"date\": \"Feb 02, 2014\", \"text\": \"Here\\'s the thing about the Harry Potter books... They\\'re awesome. Deep, huh? Well, deep or shallow, it\\'s the truth. I waited a long time to read the Harry Potter books because I wanted to experience them with my own children. My son (8) and I just finished the sixth book, my first daughter (6) and I are working on the first, and my youngest child (3) is content to commandeer her siblings\\' wands and run around shrieking, \\\\\"I have a Harry Potter stick!\\\\\" In other words, we all enjoy it. I could write a great deal about Harry Potter and the Half-Blood Prince, but it\\'s a tough book to write about without giving things away. And though I loved this novel for many reasons, I find it quite difficult to separate it from the other tales. This, I think, speaks to J.K. Rowling\\'s ability to connect the stories in a such a way that they each have their own identity while still continuing to trace a gigantic glowing arc through the sky along which the reader is able to ride from the first book to the seventh. So before I tell you a few things I loved about the novel, please know that there might be spoilers below. Not huge spoilers, mind you, but I\\'m always afraid of letting something slip. So...be forewarned. Don\\'t read on if you haven\\'t read this book yet. And if you haven\\'t read the book, why are you reading a review of it by a writer whose skills don\\'t yet approach J.K. Rowling\\'s? Seriously. Get off the danged Internet and read this amazing series! Some delights and terrors and sorrows... 1. Fenrir Greyback: Bet that surprised you a little. I know that this character played a relatively minor role, but on the page he was a scene-stealer, a flesh-chewer, and a perfect foil for one of my favorite characters, Remus Lupin. An aside: About a year before I began reading the series, my Creative Writing class was discussing characterization. The kids began talking about the Harry Potter books. One remarked that the supporting characters were as interesting as the leads, which led another student to bring up Remus Lupin. She was halfway through her cataloging of his merits as a character when she stopped and looked up at me, as if seeing me anew. She then said, \\\\\"Mr. (Insert real name here). You sort of remind me of Lupin.\\\\\" When I later found out he was a werewolf, I was a little bit shocked (and secretly pleased). But when I really got to know the character, I found the remark incredibly gratifying. Back to Fenrir Greyback (with whom I hope I have nothing in common)... What made Greyback so incredibly interesting to me was not only the sheer ferocity of his behavior, but the diabolical simplicity of his motives. If the Harry Potter books were likened to Lord of the Flies and Voldemort\\'s ambition were compared with Jack\\'s (the leader of the hunters), then Greyback would be Roger, the sadist. This powderkeg of a character lives only to rend flesh and to guzzle the steaming lifeblood of his victims. Greyback doesn\\'t want to rule the world; he simply wants to terrorize it. I don\\'t know what kind of a role he plays in the seventh book (if any), but his unreasoning brutality added just the right note of menace to a book that largely---and sensitively---focused on the romantic relationships of its teenagers. 2. Fleur\\'s Surprising Reaction: I admit to falling prey to a stupid prejudice here, and I feel awful about it. But I wrongly assumed Fleur Delacour was a pretty face without a soul. In Harry Potter and the Goblet of Fire she was the object of many male desires (Ron\\'s particularly), and though she was skilled at wizardry, she wasn\\'t an especially affecting character. She did seem affected, however, and when she showed up again in Book Six, I, like Mrs. Weasley, rolled my eyes and dismissed her as a fluttery, vapid future supermodel. How wrong I was. One mark of a great writer, I think, is the ability to surprise the reader without cheating. That\\'s J.K. Rowling. When something terrible befell Fleur\\'s fiance, I was all set to mentally berate her for her superficiality. But rather than making a caricature out of Fleur---as I fear I unknowingly did---Rowling transformed her and made her deeply endearing with a couple elegant lines of dialogue. And I loved that. So here\\'s to continual reminders to not judge people by appearances or even their seeming personalities. People can still surprise us, and we need to give them the opportunity to do so. *takes a deep breath* And lastly... 3. Dumbledore: If you\\'ve read this far, you\\'ve only been assailed by minor spoilers. I don\\'t want to spoil this plot twist, but I don\\'t know how to talk about it without spoiling it. And the fact is, I don\\'t want to talk about it. Rarely has a fictional character so resonated with me the way Albus Dumbledore has. In the first book he was wise, eccentric, and a constant source of comfort. As the series has developed, he has persisted in exhibiting those traits, but he has also grown more than most might think. He has revealed a penchant for trusting others too much. He has admitted how fallible he is, how prone to mistakes. He has been injured, accused of wrongdoing, and generally fed through a physical and emotional woodchipper. And he has come through it all with an open, caring heart and an enormous capacity for love. One passage in particular, I think, summarizes this amazing character for me. In a scene that chronicles how Tom Riddle became Lord Voldemort, Dumbledore attempts to gird Harry\\'s resolve and confidence in the inevitable battle with his nemesis: \\\\\"Yes, you have,\\\\\" said Dumbledore firmly. \\\\\"You have a power that Voldemort has never had. You can---\\\\\" \\\\\"I know!\\\\\" said Harry impatiently. \\\\\"I can love!\\\\\" It was only with difficult that he stopped himself adding, \\\\\"Big deal!\\\\\" \\\\\"Yes, Harry, you can love,\\\\\" said Dumbledore, who looked as though he knew perfectly well what Harry had just refrained from saying. \\\\\"Which, given everything that has happened to you, is a great and remarkable thing. You are still too young to understand how unusual you are, Harry.\\\\\" \\\\\"So, when the prophecy says that I\\'ll have \\'power the Dark Lord knows not,\\' it just means---love?\\\\\" asked Harry, feeling a little let down. \\\\\"Yes---just love,\\\\\" said Dumbledore. The above passage will strike some as too direct, too naive, or worst of all, too emotional. It struck me as incredibly beautiful. There are all sorts of belief systems in the world, and no two people are exactly alike in their beliefs. But what Dumbledore says here is something that, were it adopted by more people, would alter our world for the better. Harry, for all his flaws, usually acts with good intentions. He befriends Luna Lovegood (another one of my favorite characters in all of fiction), gives of himself to others, and is willing to suffer so that others won\\'t have to experience the same pain. In other words, Harry loves. And so can Dumbledore. Which is why this book was so memorable, wonderful, and painful to me. I\\'m going to go now. My wife is making a delicious supper. My son and first daughter are ready to wrestle. And my three-year-old is racing around the house casting spells on the furniture with her Harry Potter stick. And for that, J.K. Rowling, I thank you.\", \"user\": {\"url\": \"/user/show/4415785-jonathan-janz\", \"name\": \"Jonathan Janz\"}, \"rating\": 5.0, \"bookUrl\": \"http://www.goodreads.com/book/show/1.harry_potter_and_the_half_blood_prince.warc\", \"shelves\": []}, {\"url\": \"https://www.goodreads.com/review/show/567096841\", \"date\": \"Mar 21, 2013\", \"text\": \"I could revisit this world over and over!! Mel \\\\ud83d\\\\udda4\\\\ud83d\\\\udc3e\\\\ud83d\\\\udc3a\", \"user\": {\"url\": \"/user/show/17438949-melissa-dog-wolf-lover-martin\", \"name\": \"Melissa \\\\u2665 Dog/Wolf Lover \\\\u2665 Martin\"}, \"rating\": 5.0, \"bookUrl\": \"http://www.goodreads.com/book/show/1.harry_potter_and_the_half_blood_prince.warc\", \"shelves\": [{\"url\": \"/review/list/17438949-melissa-dog-wolf-lover-martin?shelf=childrens\", \"name\": \"childrens\"}, {\"url\": \"/review/list/17438949-melissa-dog-wolf-lover-martin?shelf=own\", \"name\": \"own\"}]}, {\"url\": \"https://www.goodreads.com/review/show/14146693\", \"date\": \"Jan 31, 2008\", \"text\": \"Since pretty much everyone I know has read these books, I figure reviewing them is pretty pointless. But with the new book coming out in a couple of days, I have to go through them beginning to end. To make the reviews more entertaining, I will be doing them in a variety of unexpected formats. For this review, I will be writing as a power ballad. (Intro: Piano and strings) You were always by my side You will always be my guide But the road I\\'m on Goes on and on And I\\'ve left you beHIIIIIND! (Big crunchy electric guitar) (DUMBLEDORE!) I will never forget the strength you showed! (DUMBLEDORE!) I will never forget the debt you\\'re owed! (DUMBLEDORE!) And when I face the final hour (DUMBLEDORE!) I will call on all your power! (Guitar solo) There\\'s no way back again But if I can find a friend To see me though And remember you I\\'ll make it to the EEEENNNND! (DUMBLEDORE!) When I finally catch that snake in the grass (DUMBLEDORE!) You will be able to rest at last! (DUMBLEDORE!) You know he never will escape (DUMBLEDORE!) I\\'m comin\\' for you SNAAAAAAAAPE!!!! (Guitar solo) (Guitar solo with children\\'s choir singing \\\\\"Run, Snape, Run!\\\\\") (Guitar solo with fireworks) (Drums explode) EDITOR\\'S NOTE: Yes, I know, it\\'s horrible. I\\'m not proud....\", \"user\": {\"url\": \"/user/show/858949-chris\", \"name\": \"Chris\"}, \"rating\": 4.0, \"bookUrl\": \"http://www.goodreads.com/book/show/1.harry_potter_and_the_half_blood_prince.warc\", \"shelves\": [{\"url\": \"/review/list/858949-chris?shelf=fantasy\", \"name\": \"fantasy\"}, {\"url\": \"/review/list/858949-chris?shelf=harry-potter\", \"name\": \"harry-potter\"}]}, {\"url\": \"https://www.goodreads.com/review/show/3179429845\", \"date\": \"Feb 06, 2020\", \"text\": \"Here\\'s my video review https://youtu.be/lgj2rQTmymw\", \"user\": {\"url\": \"/user/show/41973734-merphy-napier\", \"name\": \"Merphy Napier\"}, \"rating\": 5.0, \"bookUrl\": \"http://www.goodreads.com/book/show/1.harry_potter_and_the_half_blood_prince.warc\", \"shelves\": [{\"url\": \"/review/list/41973734-merphy-napier?shelf=fantasy\", \"name\": \"fantasy\"}, {\"url\": \"/review/list/41973734-merphy-napier?shelf=five-stars\", \"name\": \"five-stars\"}]}, {\"url\": \"https://www.goodreads.com/review/show/1792534441\", \"date\": \"Nov 11, 2016\", \"text\": \"Second Reread Review: REVIEW TO COME SOON \\\\u2022\\\\u2022\\\\u2022\\\\u2022\\\\u2022\\\\u2022\\\\u2022\\\\u2022\\\\u2022\\\\u2022\\\\u2022\\\\u2022\\\\u2022\\\\u2022\\\\u2022\\\\u2022\\\\u2022\\\\u2022\\\\u2022\\\\u2022\\\\u2022\\\\u2022\\\\u2022\\\\u2022\\\\u2022\\\\u2022\\\\u2022\\\\u2022\\\\u2022\\\\u2022\\\\u2022\\\\u2022\\\\u2022\\\\u2022\\\\u2022\\\\u2022\\\\u2022\\\\u2022\\\\u2022\\\\u2022\\\\u2022\\\\u2022\\\\u2022\\\\u2022\\\\u2022\\\\u2022\\\\u2022\\\\u2022\\\\u2022\\\\u2022\\\\u2022\\\\u2022\\\\u2022 5 GLOWING MAGICAL STARS! \\'Dumbledore says people find it far easier to forgive others for being wrong than being right,\\' said Hermione. \\'I heard him telling your mum, Ron.\\' I\\'m really enjoying this series so far but this series gets darker and darker. the first three of this series were so funny and cute even though there were sad scenes on them and the fourth, fifth and sixth books contained so much pain and I even shed more tears for these book than I did for the the first three. I have lost a favorite character that always made me laugh and smile. this character is Sirus Black. I even still can\\'t get over his death. but let\\'s admit it that maybe there\\'s a death of character that we will never get over. *takes deep breath* okay let\\'s talk about this book \\\\u30fb\\\\u3002\\\\u30fb\\\\u309c\\\\u2605\\\\u30fb\\\\u3002\\\\u30fb\\\\u3002\\\\u2606\\\\u30fb\\\\u309c\\\\u30fb\\\\u3002\\\\u30fb\\\\u309c\\\\u3002\\\\u30fb\\\\u3002\\\\u30fb\\\\u309c\\\\u2605\\\\u30fb\\\\u3002\\\\u30fb\\\\u3002\\\\u2606\\\\u30fb\\\\u3002\\\\u30fb\\\\u309c\\\\u2605\\\\u30fb\\\\u3002\\\\u30fb\\\\u3002 PHLEGM I have never liked Fleur Delacour very much since I first saw her on the book four and then I saw her again on the book four as Bill\\'s girlfriend or Fiancee and I also laughed when Ginny called Fleur Phlegm. I also still don\\'t how Bill fell in love with her but yeah, she is pretty but I thought Bill deserved someone better than her. I like Bill so much. he is so cool with his red long hair. maybe I didn\\'t like Phlegm because I was jealous hahahaha okay it is not maybe, I was jealous. but look at this scene : \\'\\'E is always so thoughtful,\\' purred Fleur adoringly, stroking Bill\\'s nose. Ginny mimed vomiting into her cereal behind Fleur. Harry choked over his cornflakes and Ron thumped him on the back. ugh ... how could I like her if she acted like that?!? that was really annoying and Ginny also found it disgusting. Hermione and Ginny didn\\'t even like her. but she changed my mind on the the end of this book because when Bill was attacked by ... that werewolf guy who bit Remus when he was a kid. Bill is no longer as handsome as he used to be but Fleur still loves him. she doesn\\'t care about how he looks and I even thought she would leave him after he was attacked but she didn\\'t and that time I changed my mind about her. She is the right girl for Bill, even though I am a little bit jealous hahaha xD Ron and Hermione I ship these two so much and I really really like Ron. Ron and Hermione are always funny. they always bicker about something and I think the first time Ron fell in love with Hermione was on the book four because he was so angry when he knew Hermione went to the Yule Ball with Viktor Krum and in this book Ron hurt me so much. He thought that Hermione kissed Krum and he was so angry and jealous because of this and he kissed Lavender in the common room that was full of people and it also broke Hermione\\'s heart. Harry looked into the corner she was indicating. There, in full view of the whole room, stood Ron wrapped so closely around Lavender Brown it was hard to tell whose hands were whose. And I was so angry in that moment \\'Er - my - nee,\\' croaked Ron unexpectedly from between them. but all my anger was gone when he was poisoned and he said that while he was asleep. I think he was trying to say Hermione, so that meant he dreamt about her and I forgave him that exact time and he also didn\\'t really like Lavender anymore since then. he even pretended to be asleep when Lavender came to visit him in the hospital wing. so that meant he didn\\'t like her anymore and I don\\'t think he actually liked Lavender before he was poisoned. I think he just kissed Lavender because he wanted to make Hermione jealous and feel hurt, which he successfully did. Harry And Ginny have you ever thought why Ginny had relationship with quite many guys? wait ... not many guys because she just dated two boys, Dean and Michael. But she always got a boyfriend as soon as she split up with her ex and my thoughs about this is probably right because Ginny said this to Harry on the end of the book \\'I never really gave up on you,\\' she said. \\'Not really. I always hoped ... Hermione told me to get on with life, maybe go out with some other people, relax a bit around you, because I never used to be able to talk if you were in the room, remember? And she thought you might take a bit more notice if I was a bit more - myself.\\' I think Ginny always dated a guy as soon as she split up with her ex because she always tried to forget Harry, so maybe if she had a boyfriend, she wouldn\\'t love Harry anymore. But according to what she said she never really gave up on Harry so that means she has always loved him. I was a bit sad when Harry said they can\\'t be together again because Harry was afraid if something would happen to Ginny if they kept seeing each other. he was afraid if Voldemort used Ginny to get him. but I didn\\'t angry with him because this just proved how much Harry loves Ginny and I am sure they will be together again. I hope so ... Dumbledore\\'s death I admit that Dumbledore is not one of my top favorite characters in this series but I always found him funny and a bit weird, in a good way, of course. But his death left me in shock because he was actually pleading to Snape but Snape killed him with The Avada Kedavra curse and I thought Snape was on the good side. What will happen now after Dumbledore died?! He is the only one Voldemort is afraid of. I have this feeling that I\\'ll to lose my favorite characters again ... thank you so much for reading and liking my review. hope you all have a great weekend, guys!\", \"user\": {\"url\": \"/user/show/43850323-reynita-the-night-reader\", \"name\": \"Reynita \\\\u2605 The Night Reader \\\\u2605\"}, \"rating\": 4.0, \"bookUrl\": \"http://www.goodreads.com/book/show/1.harry_potter_and_the_half_blood_prince.warc\", \"shelves\": [{\"url\": \"/review/list/43850323-reynita-the-night-reader?shelf=2016-reads\", \"name\": \"2016-reads\"}, {\"url\": \"/review/list/43850323-reynita-the-night-reader?shelf=amazing-books\", \"name\": \"amazing-books\"}, {\"url\": \"/review/list/43850323-reynita-the-night-reader?shelf=fantasy-books\", \"name\": \"fantasy-books\"}, {\"url\": \"/review/list/43850323-reynita-the-night-reader?shelf=stole-my-heart\", \"name\": \"stole-my-heart\"}, {\"url\": \"/review/list/43850323-reynita-the-night-reader?shelf=best-friends-to-lovers\", \"name\": \"best-friends-to-lovers\"}, {\"url\": \"/review/list/43850323-reynita-the-night-reader?shelf=breath-in-breath-out\", \"name\": \"breath-in-breath-out\"}, {\"url\": \"/review/list/43850323-reynita-the-night-reader?shelf=middle-grade\", \"name\": \"middle-grade\"}, {\"url\": \"/review/list/43850323-reynita-the-night-reader?shelf=broke-my-heart-in-half\", \"name\": \"broke-my-heart-in-half\"}, {\"url\": \"/review/list/43850323-reynita-the-night-reader?shelf=live-up-my-expectation\", \"name\": \"live-up-my-expectation\"}, {\"url\": \"/review/list/43850323-reynita-the-night-reader?shelf=i-love-the-cover\", \"name\": \"i-love-the-cover\"}]}, {\"url\": \"https://www.goodreads.com/review/show/2169299203\", \"date\": \"Oct 31, 2017\", \"text\": \"4.5 Golden Stars 92% yeah, it was dark, but probably the most Hilarious book of HP; it IS a Comedy! I was rolling in laughter! by Hilarious Ron, sassy Harry & Hermione\\'s wittiness & the unique fun in the writing style, the impression, the descriptions, the comparisons. anyway, don\\'t get mad at me, but this book is my least favourite in Harry Potter series. it was kind of disappointment for me. 3 years gap, reading the other fantastic books many times, guessing & after that shocking end in book 5, looking forward to this one, to be greater than others as we are close to end... in one sentence: I was not satisfied after reading it. (IK the book was the calm before the storm, but still.) & don\\'t get me wrong; it was a disappointment Only compared to other HP books. Boring start. (2 chapters without anything related to Hogwarts or the golden trio) Harry was obsessed with what Malfoy was up to, the whole year & for the first time, I found Harry annoying many times. maybe this is the main reason I didn\\'t like this book. (I hate \\'Sectumsempra\\' chapter , always get mad at him.) yelling many times: Don\\'t! No! you idiot, Harry! because he is my favourite character...\\\\ud83d\\\\udc94 (though now after many times re-reading, I actually found funny parts too, thankfully) at the end, he was right though. also, lack of funny sarcastic verbal fights between Harry & Draco :( almost whole events were like side-jobs (except the... you-know-what); A.K.A the Slug club truth: I don\\'t care about Slughorn either. those chapter he just talked & talked about celebrities once-were-his students... ughhhh. Adrenaline peak parts were not satisfying & not enough (amounts). the whole story was a bit ordinary & nothing happened in the whole school year, in particular. (like school wasn\\'t at an immediate, solid grave danger (book 2, 3, 7 & maybe 5), the golden trio wasn\\'t on solving mysteries (1, 2, 4, 5, 7) or something as intriguing as these. they were just attending classes, boring parties, slug club & these normal stuff. but in total, other parts (except Malfoy & Slug club); maybe not high peak of adrenaline (as I said), but interesting, we all wanted to know who the half-blood prince was, Quidditch was funny & the parts with Dumbledore was fascinating. I liked the second half of the book more, like finally this book stepped into action! & that end was the \\\\\"Beginning of the End\\\\\"! But main reason: his obsession with Malfoy; \\'OMG! Harry, just come off it!\\', therefore Harry being annoying, therefore lack of Harry\\'s sarcasm comebacks with Malfoy, lowered this book to my least favourite. BUT.... on the bright side, there are parts I love too: \\\\u2764 sassy Harry was the best! There\\'s no need to call me \\\\\"sir\\\\\", professor. Bless you JKR! Bless you Harry Potter! one of the sassiest comments in the history of sass masters! my first reaction when I see this, was: \\\\\"omg! Harry! did you just...!?\\\\\" & then re-read the sentence to see if I got it right & then... putting the book down (\\\\\"Hail Harry Potter!\\\\\") & burst out laughing! \\\\\"Well, you can\\\\u2019t break an Unbreakable Vow...\\\\\" (Gee! Thanks Ron!) \\\\\"I\\\\u2019d worked that much out for myself, funnily enough!\\\\u201d although there was no sarcastic comebacks between Harry & Malfoy, but this book had many funny moments by other characters. Harry was not just being sassy & sarcastic, but also being funny & clueless too, which was laughable. Ron\\'s jokes with ghosts always made me choke with laughter! \\\\\"and I\\'ll take his secret to the \\\\u2014\\\\\" \\\\\"\\\\u2014 not the grave, surely?\\\\\" said Ron with a snort. \\\\\"The sewers, maybe.\\\\\" LOL a lot! \\\\u2764 Friendships Harry & Ron\\'s friendship (always one of my favourite brotps) funny, great, looking after each other. always love it, in all books. \\\\\"Nice,\\\\\" he said. \\\\\"Classy. You should definitely wear it in front of Fred and George.\\\\\" \\\\\"If you tell them,\\\\\" said Ron, shoving the necklace out of sight under his pillow, \\\\\"I \\\\u2014 I \\\\u2014 I\\\\u2019ll \\\\u2014\\\\\" \\\\\"Stutter at me?\\\\\" said Harry, grinning. \\\\\"Come on, would I!?\\\\\" Roonil Wazlib! also Harry & Hermione\\'s. (especially after Ron & Hermione\\'s bickering), beautiful, caring, protective. again, I love it in all the books. \\\\u201cListen, Hermione, I can tell it\\\\u2019s not a girl. I can just tell.\\\\u201d \\\\u201cThe truth is that you don\\\\u2019t think a girl would have been clever enough,\\\\u201d said Hermione angrily. \\\\u201cHow can I have hung round with you for five years and not think girls are clever?\\\\u201d said Harry, stung by this. I actually noticed after years of rereading, now Romione has lowered in its place for me & I ship these two much more. they care so much for each other. (I\\'m thinking it\\'s also a brotp for me too. well, it\\'s complicated to decide if I want to accept the canon (because I do love canon too) or my mind. the point is, I love the moments with these two together :) \\\\u2764 the writing style is just Unique & perfect & funny! \\\\u2764 my favourite chapters are \\\\\"the Cave\\\\\" & \\\\\"Horcruxes\\\\\"; awesome, exciting with unexpected amount of surprises. I actually loved them. I loved the main-stream parts with Dumbledore. I loved how Harry, at some points, admired Tom. & how he unfolded this story & also sympathized with other characters. \\\\u2764 I liked Dumbledore in this book. \\\\u2764 at least after that terrible mistake (mentioned above), the chapter ended beautifully; my favourite part, that magical romantic moment, how well described, what a glamorous scene. My first ship finally sinking! \\\\\"Harry looked around; there was (view spoiler)[Ginny (hide spoiler)] running toward him; she had a hard, blazing look in her face as she threw her arms around him. And without thinking, without planning it, without worrying about the fact that fifty people were watching, Harry kissed her. After several long moments, or it might have been half an hour-or possibly several sunlit days- they broke apart. The creature in his chest roaring in triumph.\\\\\" (& I was really angry when the movie CHANGED this scene! actually I really loved the first 3 movies (they were so similar to the books) & 5 too (tho it was a bit different & they mostly deleted the humor parts), 4 was similar enough, just darker than my imagination. but movies 6 & 7 just had the same quotes (almost) & changed or deleted scenes a lot, therefore those completely disappointed me. :( \\\\u2764 & I was proud Harry became (view spoiler)[Team Captain (hide spoiler)]! Quidditch were funny, especially the first one (You Clever Harry! XD). except not the commentator, but Harry made a funny moment of that too ;) \\\\u2764 Don\\'t forget how Gracefully this book was written. (& how delicate she chose to show they were swearing without any direct swears, I love it, it doesn\\'t make me apprehensive, on the contrary, it makes me laugh very hard & respect the pure talent.) Hail Queen! 10th read; November 2019: I could\\'ve given 5 Stars because of Sassy Harry (I mean, Harry just being savagely Sassy this year! XD) & beautiful, magnificent choices of the words & compare to a few of my 5 stars this book definitely deserves 5; but I\\'m not satisfied with it (still things that annoy me) so I probably won\\'t. Although there\\'s a progress, the rating score has risen to 4.5 now. 13th read; June 2022: never have read this book this quick! thanks to BR with my new Potterhead! (slow down girl!\\\\ud83e\\\\udd23) - World building: \\\\u2605\\\\u2605\\\\u2605\\\\u2605\\\\u2605/5 Characters: \\\\u2605\\\\u2605\\\\u2605\\\\u2605\\\\u2605/5 / Characters development: \\\\u2605\\\\u2605\\\\u2605\\\\u2605(\\\\u2605)/5 Written style: \\\\u2605\\\\u2605\\\\u2605\\\\u2605\\\\u2605/5 Plot: \\\\u2605\\\\u2605\\\\u2605/5 General idea: \\\\u2605\\\\u2605\\\\u2605\\\\u2605(\\\\u2605)/5\", \"user\": {\"url\": \"/user/show/73227612-tina-the-girl-who-lives-in-fandoms\", \"name\": \"Tina \\\\u27b9 the girl who lives in Fandoms \"}, \"rating\": 4.0, \"bookUrl\": \"http://www.goodreads.com/book/show/1.harry_potter_and_the_half_blood_prince.warc\", \"shelves\": [{\"url\": \"/review/list/73227612-tina-the-girl-who-lives-in-fandoms?shelf=disappointment\", \"name\": \"disappointment\"}, {\"url\": \"/review/list/73227612-tina-the-girl-who-lives-in-fandoms?shelf=review-pride\", \"name\": \"review-pride\"}, {\"url\": \"/review/list/73227612-tina-the-girl-who-lives-in-fandoms?shelf=golden-stars\", \"name\": \"golden-stars\"}, {\"url\": \"/review/list/73227612-tina-the-girl-who-lives-in-fandoms?shelf=wow-end\", \"name\": \"wow-end\"}, {\"url\": \"/review/list/73227612-tina-the-girl-who-lives-in-fandoms?shelf=2000-2010\", \"name\": \"2000-2010\"}, {\"url\": \"/review/list/73227612-tina-the-girl-who-lives-in-fandoms?shelf=most-anticipated\", \"name\": \"most-anticipated\"}, {\"url\": \"/review/list/73227612-tina-the-girl-who-lives-in-fandoms?shelf=fun\", \"name\": \"fun\"}, {\"url\": \"/review/list/73227612-tina-the-girl-who-lives-in-fandoms?shelf=cover\", \"name\": \"cover\"}, {\"url\": \"/review/list/73227612-tina-the-girl-who-lives-in-fandoms?shelf=why-not-more\", \"name\": \"why-not-more\"}, {\"url\": \"/review/list/73227612-tina-the-girl-who-lives-in-fandoms?shelf=audiobooks\", \"name\": \"audiobooks\"}]}, {\"url\": \"https://www.goodreads.com/review/show/973869786\", \"date\": \"Jun 21, 2014\", \"text\": \"It seems like by now, everyone would realize they should listen to Harry.. Such a sad end :( I knew that was going to happen before starting the series, but didn\\'t know when. It still got me in the feels, though. The book as a whole was really fun and entertaining. I love the mystery and learning more about Voldemort. The romance drama was funny as well. I can\\'t wait to see what adventures the next book brings and how it all concludes..\", \"user\": {\"url\": \"/user/show/8937622-kassidy\", \"name\": \"Kassidy\"}, \"rating\": 5.0, \"bookUrl\": \"http://www.goodreads.com/book/show/1.harry_potter_and_the_half_blood_prince.warc\", \"shelves\": [{\"url\": \"/review/list/8937622-kassidy?shelf=favorites\", \"name\": \"favorites\"}]}, {\"url\": \"https://www.goodreads.com/review/show/1237023746\", \"date\": \"Feb 21, 2017\", \"text\": \"Reminder that all of my Harry Potter reviews contain unmarked spoilers, and lots of \\\\u2019em. If you\\\\u2019re one of the two people on Goodreads who hasn\\\\u2019t read this series, this review is not for you. So, my dear underside-of-a-rock-residing friends: https://emmareadstoomuch.wordpress.co... This review will be interesting, because this book was far (far, far) from perfect, and yet I am utterly determined to give it 5 stars. (Which I have only given to the first book in this series.) God, how do you talk about this book? It\\\\u2019s really amazing. It is really hard for me to feel anything while reading a book or generally living my life. For example, I felt nothing when Sirius died. Nothing throughout most of this series, actually. And nothing in this book, because nothing happened and everyone survived and everything is sunshiney and joyful! Ugh. I tried. The last hundred-ish pages of this book really tore me apart. Okay, even that\\\\u2019s not true. I\\\\u2019ll just come out and say it: I\\\\u2019m really f*cking sad that Dumbledore died. I love him so much. He\\\\u2019s high up in my top 5 characters. (Do I even have a top 5?) I\\\\u2019m devastated, which makes me even more upset, because I have a life to live today and can\\\\u2019t just lay around and wallow in fictional pain. I\\\\u2019m going to move on in the hopes that I just. Forget. Because I don\\\\u2019t like this at ALL. Here, we see Harry Potter - who, I think few will argue, has been a fairly mediocre character up to this point - become AMAZING. He\\\\u2019s motivated solely by his need to work against injustice and evil. He realizes his parents\\\\u2019 legacy within himself. He denounces the sucking up of others. He works hard in school! He is a good friend even when his two BFFS are being childish to one another plus refusing to believe him. In short, he\\\\u2019s really, really, five-star-level great here. Gorgeous character development in 650 pages. I didn\\\\u2019t think I liked Ginny much, because I didn\\\\u2019t remember this book well...like, at all. But she is so great! So funny. I wish there was more of her in this book. Also, I\\\\u2019ll fight anyone who says Dumbledore is ~the real villain~ of this series. He\\\\u2019s really not. (Cough, Snape is, cough.) AND YOU\\'RE NOT EDGY, PEOPLE WHO HATE DUMBLEDORE BUT LOVE SNAPE. YOU\\'RE JUST DUMB. I fell deeply in love with the guy. (Dumbledore, not Snape. BLEH.) AND I F*CKING MISS HIM. Goddamn it. Trying to forget didn\\\\u2019t last very long. Anyway. I missed Hermione and Neville. Hermione was absolutely not well-represented here at all. Maybe it\\\\u2019s a good thing she\\\\u2019s not a Ravenclaw (#RavenclawPride) because she works fully against logic throughout this book. And when she\\\\u2019s not she just, like, refuses to believe Harry. Ron is soooooooooo annoying! Is he anyone\\\\u2019s favorite character? He\\\\u2019s like, Fred or George if one of them was totally childish and attention-starved and mean. In fact, Ronald is a pretty impressive character for the number of gross character traits he embodies despite being supposed to be a good character. Mean, immature, rude, jealous, definition of an inferiority complex. Bleh. Harry and Ginny I\\\\u2019m totally for, BUT THE OTHER RELATIONSHIPS IN THIS BOOK ARE SO BORING. Can we do Hermione and Fred instead? Ron and Luna would be cute. Or, God forbid, some LGBT representation? WE KNOW YOU\\\\u2019RE A SUPPORTER, JOANNE. Don\\\\u2019t even get me started on Lupin and Tonks. Speaking of supposedly-good characters\\\\u2019 downfalls: I\\\\u2019m no longer a Hagrid fan. It started with the last book and came fully around here. Like, at a certain point, the man needs a character trait. Liking weird animals, making bad food, and being humongous don\\\\u2019t count. Harry and Hermione\\\\u2019s constant stubbornness is annoying. Plus makes the plot repetitive once in a while. Also, Tonks. You know what, I guess I AM going to get started on Lupin and Tonks! She was a hilarious badass in the last book, totally depressed and weak in this one. I know I sound like a total emotionless asshole here, but that\\\\u2019s who I am, and she\\\\u2019s annoying in this book. AND IT\\\\u2019S TOTALLY FINE BECAUSE SHE\\\\u2019S JUST BEING A SPINELESS IDIOT OVER SOME DUMB SHABBY MAN. Kill me, please. Then I can see my beloved Dumbledore again. Too much Snape. (Cannot WAIT to write the rant on him.) Too much Draco. (Why do people romanticize that little weirdo so much? I guess I get the temptation, but he\\\\u2019s a bully at best and a spineless traitor at worst.) I hate Kreacher and I hate Dobby...I hated Winky, too...I might hate house elves. If that makes me racist against a species of fictional character, SO BE IT, I GUESS. I miss Fred and George, and the fun people from the Order (if they existed), and Hermione and Neville aren\\\\u2019t here nearly enough. The price of Harry\\\\u2019s amazing and concise character development is WAY too many bad characters, not nearly enough of the good ones. EXCEPT DUMBLEDORE. UGHHHH. I\\\\u2019M SO SAD. (I think my inability to cry is making this worse. Maybe if I just creepily sobbed in front of my roommate for a few minutes I\\\\u2019d feel better. Damn you, my lack of emotions! Just kidding love you.) But I want to give this book five stars more than anything. It was so compulsively readable, more than any other book since the first for me. And it\\\\u2019s the last book where our pals are attending Hogwarts. That makes me so sad. It\\\\u2019s such a gorgeous setting and I\\\\u2019m going to miss it so much. WHY IS THIS BOOK SO SAD?! If Deathly Hallows is any sadder I\\\\u2019ll be seriously impressed. And also seriously screwed. And, okay, even though I was a harsh critic of these books...I\\\\u2019m really going to miss this series. I\\\\u2019ve been rereading it on and off (obviously) for three months, and it\\\\u2019s been a fun ride. This is one of the greatest settings of all time. And since I\\\\u2019m rereading it after 10 years, it\\\\u2019s like saying goodbye twice. AND I HATE ENDINGS. Bottom line: Okay, THIS is my favorite Harry Potter book. (Anyone else\\\\u2019s?) Unreal character development + tragic and lovely adieu to a gorgeous setting + ability to make me feel real, deep emotion + compulsively readable? An absolute dream. ----------ORIGINAL REVIEW--------------- Ron and Hermione\\'s will-they-won\\'t-they is a total snoozefest. I propose Fred & Hermione and Ron & Luna instead. Also seven more books!\", \"user\": {\"url\": \"/user/show/32879029-emma\", \"name\": \"emma\"}, \"rating\": 5.0, \"bookUrl\": \"http://www.goodreads.com/book/show/1.harry_potter_and_the_half_blood_prince.warc\", \"shelves\": [{\"url\": \"/review/list/32879029-emma?shelf=that-setting-tho\", \"name\": \"that-setting-tho\"}, {\"url\": \"/review/list/32879029-emma?shelf=favorites-2017\", \"name\": \"favorites-2017\"}, {\"url\": \"/review/list/32879029-emma?shelf=slump-worthy\", \"name\": \"slump-worthy\"}, {\"url\": \"/review/list/32879029-emma?shelf=reread\", \"name\": \"reread\"}, {\"url\": \"/review/list/32879029-emma?shelf=recommend\", \"name\": \"recommend\"}, {\"url\": \"/review/list/32879029-emma?shelf=fantasy\", \"name\": \"fantasy\"}, {\"url\": \"/review/list/32879029-emma?shelf=reviewed\", \"name\": \"reviewed\"}, {\"url\": \"/review/list/32879029-emma?shelf=5-stars\", \"name\": \"5-stars\"}, {\"url\": \"/review/list/32879029-emma?shelf=ya\", \"name\": \"ya\"}]}, {\"url\": \"https://www.goodreads.com/review/show/2065158293\", \"date\": \"Jan 13, 2020\", \"text\": \"Do you know what is better than this book (this book being already amazing)? This book narrated by Stephen Fry. I swear, this was my second attempt EVER to listen to an audiobook and the narration was so good I actually enjoyed it so much. And I hate listening to audiobooks!\", \"user\": {\"url\": \"/user/show/69603149-teodora\", \"name\": \" Teodora \"}, \"rating\": 5.0, \"bookUrl\": \"http://www.goodreads.com/book/show/1.harry_potter_and_the_half_blood_prince.warc\", \"shelves\": [{\"url\": \"/review/list/69603149-teodora?shelf=fantasy\", \"name\": \"fantasy\"}, {\"url\": \"/review/list/69603149-teodora?shelf=favorites\", \"name\": \"favorites\"}, {\"url\": \"/review/list/69603149-teodora?shelf=ya\", \"name\": \"ya\"}]}, {\"url\": \"https://www.goodreads.com/review/show/2000483921\", \"date\": \"May 15, 2017\", \"text\": \"ENGLISH (Harry Potter and the Half-Blood Prince) / ITALIANO \\\\u00abIt was nearing midnight and the Prime Minister was sitting alone in his office, reading a long memo that was slipping through his brain without leaving the slightest trace of meaning behind\\\\u00bb Due to numerous attacks of Death Eaters, the new Minister for Magic Rufus Scrimgeour, duly appointed, decides to meet the muggle British Prime Minister... It\\'s the first time that the Muggle world and the magic one come bluntly face to face. J.K. Rowling chooses that the first chapter of this novel is the right time for this interaction, highlighting the dramatic situation and the necessary cooperation to stem the enemy of all: Lord Voldemort. The bedtime reading for my daughter became less lighthearted and more serious by now. Luckily, for some difficult questions Dumbledore bails me out every time: \\\\u00abIt is the unknown we fear when we look upon death and darkness, nothing more\\\\u00bb We\\'re almost there, the end of the journey is close. Unfortunately, it will never be the same. Vote: 9 \\\\u00abEra quasi mezzanotte e il Primo Ministro stava seduto da solo nel suo ufficio, a leggere una lunga relazione che gli scivolava via dalla mente senza lasciare la minima traccia\\\\u00bb A seguito dei numerosi attacchi dei mangiamorte, Il nuovo Ministro della Magia Rufus Scrimgeour, fresco di nomina, decide di incontrare il Primo Ministro britannico babbano... E\\' la prima volta che il mondo babbano e quello magico si trovano ad interloquire senza mezzi termini. J.K. Rowling decide che il primo capitolo \\\\u00e8 il momento giusto per questa interazione, a sottolineare la drammaticit\\\\u00e0 della situazione e la necessaria collaborazione allo scopo di arginare il nemico di tutti: Voldemort. Oramai la lettura serale per mia figlia si \\\\u00e8 fatta decisamente meno spensierata e pi\\\\u00f9 impegnata. Per fortuna, per alcune questioni spinose c\\'\\\\u00e8 sempre Silente a togliermi le castagne dal fuoco: \\\\u00ab\\\\u00c8 l\\'ignoto che temiamo, quando guardiamo la morte e il buio, nient\\'altro\\\\u00bb Ci siamo quasi, la fine del viaggio \\\\u00e8 vicina. Purtroppo per noi, per\\\\u00f2, non sar\\\\u00e0 pi\\\\u00f9 come prima. Voto: 9\", \"user\": {\"url\": \"/user/show/53478239-luca-ambrosino\", \"name\": \"Luca Ambrosino\"}, \"rating\": 5.0, \"bookUrl\": \"http://www.goodreads.com/book/show/1.harry_potter_and_the_half_blood_prince.warc\", \"shelves\": []}, {\"url\": \"https://www.goodreads.com/review/show/2812346695\", \"date\": \"May 12, 2019\", \"text\": \"I have read this book many times, although the penultimate one was years ago. Let\\'s say that this was the first time I\\'ve read them in e-book form. The reading was marvellous. There were things I\\'d forgotten, e.g. how late Harry and Ginny got together. I\\'d also forgotten about most of the funeral. I\\'ll say no more, spoilers oblige. What this book tells me is that sadly the more conservative of readers, grammarians etc will place so many books above Harry Potter #6, none of which is worth mentioning in the same breath as Potter lore. To me this series is special. Nobody else will undertake waiting for each book to come out and lay our hands on them. The Potter universe will belong to our descendants forever. But it was we who helped create this fervor and unmatched popularity.\", \"user\": {\"url\": \"/user/show/7407364-luffy\", \"name\": \"Luffy\"}, \"rating\": 5.0, \"bookUrl\": \"http://www.goodreads.com/book/show/1.harry_potter_and_the_half_blood_prince.warc\", \"shelves\": [{\"url\": \"/review/list/7407364-luffy?shelf=popular\", \"name\": \"popular\"}, {\"url\": \"/review/list/7407364-luffy?shelf=5-star\", \"name\": \"5-star\"}, {\"url\": \"/review/list/7407364-luffy?shelf=funny\", \"name\": \"funny\"}, {\"url\": \"/review/list/7407364-luffy?shelf=romance\", \"name\": \"romance\"}, {\"url\": \"/review/list/7407364-luffy?shelf=chunkster\", \"name\": \"chunkster\"}, {\"url\": \"/review/list/7407364-luffy?shelf=page-turner\", \"name\": \"page-turner\"}, {\"url\": \"/review/list/7407364-luffy?shelf=fantasy\", \"name\": \"fantasy\"}]}, {\"url\": \"https://www.goodreads.com/review/show/2502441099\", \"date\": \"Aug 21, 2018\", \"text\": \"Actual rating: 4.25 stars This review and other non-spoilery reviews can be found @The Book Prescription Why did Professor Snape stand in the middle of the road? So you\\\\u2019ll never know which side he\\\\u2019s on!!\", \"user\": {\"url\": \"/user/show/54464244-hamad\", \"name\": \"Hamad\"}, \"rating\": 4.0, \"bookUrl\": \"http://www.goodreads.com/book/show/1.harry_potter_and_the_half_blood_prince.warc\", \"shelves\": [{\"url\": \"/review/list/54464244-hamad?shelf=paperbacks\", \"name\": \"paperbacks\"}, {\"url\": \"/review/list/54464244-hamad?shelf=2018-reads\", \"name\": \"2018-reads\"}, {\"url\": \"/review/list/54464244-hamad?shelf=good-covers\", \"name\": \"good-covers\"}, {\"url\": \"/review/list/54464244-hamad?shelf=e-books\", \"name\": \"e-books\"}]}, {\"url\": \"https://www.goodreads.com/review/show/777769104\", \"date\": \"Nov 30, 2013\", \"text\": \"3rd read: August 2018 - audiobook I will never get over Stephen Fry\\'s narration. It\\'s simply magical \\\\u2728 2nd read: Jan - Feb 2018 ROONIL WAZLIB\", \"user\": {\"url\": \"/user/show/10350463-chloe\", \"name\": \"chloe\"}, \"rating\": 5.0, \"bookUrl\": \"http://www.goodreads.com/book/show/1.harry_potter_and_the_half_blood_prince.warc\", \"shelves\": [{\"url\": \"/review/list/10350463-chloe?shelf=audiobooks\", \"name\": \"audiobooks\"}, {\"url\": \"/review/list/10350463-chloe?shelf=5-stars\", \"name\": \"5-stars\"}, {\"url\": \"/review/list/10350463-chloe?shelf=2018-reads\", \"name\": \"2018-reads\"}, {\"url\": \"/review/list/10350463-chloe?shelf=re-reads\", \"name\": \"re-reads\"}, {\"url\": \"/review/list/10350463-chloe?shelf=best-audiobooks\", \"name\": \"best-audiobooks\"}]}, {\"url\": \"https://www.goodreads.com/review/show/1861817425\", \"date\": \"Jan 07, 2017\", \"text\": \"Always been my favorite out of the seven.\", \"user\": {\"url\": \"/user/show/37089590-april\", \"name\": \"April\"}, \"rating\": 5.0, \"bookUrl\": \"http://www.goodreads.com/book/show/1.harry_potter_and_the_half_blood_prince.warc\", \"shelves\": []}, {\"url\": \"https://www.goodreads.com/review/show/893341687\", \"date\": \"Mar 27, 2014\", \"text\": \"\\\\u201cIt is the unknown we fear when we look upon death and darkness, nothing more.\\\\u201d This brought my right back to my 14-year old self, who was cooped up in bed, shedding tears for the first time over a book, because of the ending. I remember how I lay in bed, I remember the sun shining through the blinds and how wounded I felt that we lost one of the greats. This still remains my favourite in the series alongside Deathly Hallows. I\\\\u2019m glad this series has resonated with me for so long, is still stuck with me and will continue to do so always. \\\\u2014\\\\u2014\\\\u2014\\\\u2014\\\\u2014\\\\u2014\\\\u2014\\\\u2014\\\\u2014\\\\u2014\\\\u2014\\\\u2014\\\\u2014\\\\u2014\\\\u2014 I read this many times when I was younger. But this is the first time I\\\\u2019m picking it back up in over a decade. Buddy-reading with two questionable characters: Snape\\\\u2019s wife and his brother. \\\\ud83d\\\\ude2c\", \"user\": {\"url\": \"/user/show/30036082-warda\", \"name\": \"Warda\"}, \"rating\": 5.0, \"bookUrl\": \"http://www.goodreads.com/book/show/1.harry_potter_and_the_half_blood_prince.warc\", \"shelves\": [{\"url\": \"/review/list/30036082-warda?shelf=i-fell-in-love\", \"name\": \"i-fell-in-love\"}, {\"url\": \"/review/list/30036082-warda?shelf=reread-worthy\", \"name\": \"reread-worthy\"}, {\"url\": \"/review/list/30036082-warda?shelf=re-reads\", \"name\": \"re-reads\"}]}, {\"url\": \"https://www.goodreads.com/review/show/659760081\", \"date\": \"Jul 05, 2013\", \"text\": \"1.) Harry Potter and the Philosopher\\'s Stone \\\\u2605\\\\u2605\\\\u2605\\\\u2605\\\\u2605 2.) Harry Potter and the Chamber of Secrets \\\\u2605\\\\u2605\\\\u2605\\\\u2605\\\\u2605 3.) Harry Potter and the Prisoner of Azkaban \\\\u2605\\\\u2605\\\\u2605\\\\u2605\\\\u2605 4.) Harry Potter and the Goblet of Fire \\\\u2605\\\\u2605\\\\u2605\\\\u2605\\\\u2605 5) Harry Potter and the Order of the Phoenix \\\\u2605\\\\u2605\\\\u2605\\\\u2605\\\\u2605 6.) Harry Potter and the Half Blood Prince \\\\u2605\\\\u2605\\\\u2605\\\\u2605\\\\u2605 7) Harry Potter and the Deathly Hallows \\\\u2605\\\\u2605\\\\u2605\\\\u2605\\\\u2605 8.) Harry Potter and the Cursed Child \\\\u2605\\\\u2605 --------------------------------------------------\", \"user\": {\"url\": \"/user/show/20658145-april-aprilius-maximus\", \"name\": \"April (Aprilius Maximus)\"}, \"rating\": 5.0, \"bookUrl\": \"http://www.goodreads.com/book/show/1.harry_potter_and_the_half_blood_prince.warc\", \"shelves\": []}, {\"url\": \"https://www.goodreads.com/review/show/1559687349\", \"date\": \"Feb 24, 2016\", \"text\": \"Buddyread with the cutest Trixi. *sniffs* I have actually finished this several days ago but I spent those days mourning for the loss of one of my favorite characters of all time and before I start bawling my heart and eyes out again, let me straight away proceed to the random thoughts while and after reading the book. *sniffs* 1. *Gasps* Professor Snape??? 2. Harry\\\\u2019s Quidditch Captain! Yaaas! 3. Weasleys\\\\u2019 Wizzard Wheezes (Say this ten times) 4. Malfoy\\\\u2019s head on Pansy Parkinson\\\\u2019s lap and Pansy stroking his head. *shudders* 5. Slughorn\\\\u2019s belly preceded him out of the door. Bahaha 6. Potions class has never been this cheerful. Thanks Grampy Sloghorn and Harry has never performed better. Thanks to cheating. Lol. 7. Ron, you bollocks! Stop being an idiot, WonWon! 8. Voldemort as a student seems to me even more sinister than the Dark Lord he already is. *shivers* 9. Like Harry, I am Dumbledore\\\\u2019s man through and through. Take that, Rufus! 10. I\\\\u2019d go back to school anytime if it meant having Professor Dumbledore as a teacher. 11. Aherm! Why do you keep looking for Ginny, now Harry? 12. There\\\\u2019s a reason a Dark Arts teacher stays only for a year. It\\\\u2019s all clear now. 13. Who would have thought that the once timid Ginny will blossom into a confident, beautiful, charming, funny and best of all, snarky girl? 14. Chapter 24 will particularly make you swoon! Gaaah! (view spoiler)[ I ship Harry and Ginny! <3 (hide spoiler)] 15. RIP, Aragog. 16. For the first time, I solved the mystery! (view spoiler)[ I have guessed early on in the story that the Half Blood Prince was Snape! Yaaas! (hide spoiler)] 17. I knew there was a reason Harry spent so much time with Professor Dumbledore. I can\\\\u2019t\\\\u2026*sobs* Some of the things/characters missing in the movie: 1. Kreacher and Dobby 2. Bill and Fleur 3. Dumbledore\\\\u2019s Army and the Order of the Phoenix putting up a fight against the Dark Eaters. 4. . Harry breaking up with Ginny which reminds me of Peter Parker and Mj. Finally, as a simple tribute to the wisest, kindest, most revered and one of the most powerful wizards (whose death out of the many deaths hurts me the most that I cried so much, I may have cried harder than Hagrid), the following is a collection of a few of his great thoughts and words that\\\\u2019ll be forever etched in our hearts. *sniffs* \\\\u201cIn fact, being-forgive me- rather cleverer than most men, my mistakes tend to be correspondingly huger.\\\\u201d \\\\u201cPeople find it a lot easier to forgive others for being wrong than being right.\\\\u201d \\\\u201cIt does not do to dwell on dreams and forget to live.\\\\u201d \\\\u201cWords are, in my not-so-humble opinion, our most inexhaustible source of magic. Capable of both inflicting injury, and remedying it.\\\\\" \\\\u201cThe pain is part of being human. The fact that you can feel pain like this is your greatest strength.\\\\u201d \\\\u201cTo the well organized mind, death is but the next adventure.\\\\u201d \\\\u201cIt\\\\u2019s not really goodbye after all.\\\\u201d On a lighter note, it\\'s beautiful Katerina\\'s birthday today, let\\'s spare a few moments to greet her a HAPPIEST BIRTHDAY! Even though you\\'re quite busy for Goodreads and reading atm, I hope you\\'re doing something that\\'s making you happy today! Enjoy! <3\", \"user\": {\"url\": \"/user/show/30248594-aj-the-ravenous-reader\", \"name\": \"Aj the Ravenous Reader\"}, \"rating\": 5.0, \"bookUrl\": \"http://www.goodreads.com/book/show/1.harry_potter_and_the_half_blood_prince.warc\", \"shelves\": [{\"url\": \"/review/list/30248594-aj-the-ravenous-reader?shelf=emotionally-intense\", \"name\": \"emotionally-intense\"}, {\"url\": \"/review/list/30248594-aj-the-ravenous-reader?shelf=fantasy\", \"name\": \"fantasy\"}, {\"url\": \"/review/list/30248594-aj-the-ravenous-reader?shelf=classic\", \"name\": \"classic\"}, {\"url\": \"/review/list/30248594-aj-the-ravenous-reader?shelf=five-stars\", \"name\": \"five-stars\"}]}, {\"url\": \"https://www.goodreads.com/review/show/207711145\", \"date\": \"Sep 12, 2011\", \"text\": \"Spoilers for anyone who has never read the books or seen the movies. In which case, have you been living under a rock?! (view spoiler)[\\\\\"Do not pity the dead, Harry. Pity the living, and, above all those who live without love.\\\\\" Albus Dumbledore is by far one of my favourite characters. He is clever, kind, badass, but most of all, he is weird. And I like weird. I like the way his first-day-of-the-year speeches make no sense at all. I like how he uses different types of candy for his office passwords. I like how he says he sees a new pair of socks in the Mirror of Erised. I like how he believes Harry unconditionally, no matter how farfetched his story may seem. He\\\\u2019s been a guide, a counselor, a friend, not only to Harry, but to everyone Albus cared about. He\\\\u2019s been a shoulder, a rock, some form of hope to everyone who had the privilege to be a part of his life. Everyone looked up to him. The darkest wizard of all time feared him. Yet he never looks dangerous. He is always this calm, serene person with a smile on his face, entertaining us with his wise, often odd sayings. He never put himself first; always thought of others. And even after his death will he be a beacon of hope, of faith, of everything the good side represents. Professor Dumbledore, I will always be loyal to you. You will never be forgotten. May you rest in peace. Even though he was a bit of a dick sometimes. (hide spoiler)]\", \"user\": {\"url\": \"/user/show/6278820-inge\", \"name\": \"Inge\"}, \"rating\": 5.0, \"bookUrl\": \"http://www.goodreads.com/book/show/1.harry_potter_and_the_half_blood_prince.warc\", \"shelves\": [{\"url\": \"/review/list/6278820-inge?shelf=magic\", \"name\": \"magic\"}, {\"url\": \"/review/list/6278820-inge?shelf=faeries-fae-elves\", \"name\": \"faeries-fae-elves\"}, {\"url\": \"/review/list/6278820-inge?shelf=all-time-favourites\", \"name\": \"all-time-favourites\"}, {\"url\": \"/review/list/6278820-inge?shelf=villain-antihero-love\", \"name\": \"villain-antihero-love\"}, {\"url\": \"/review/list/6278820-inge?shelf=young-adult\", \"name\": \"young-adult\"}, {\"url\": \"/review/list/6278820-inge?shelf=fantasy\", \"name\": \"fantasy\"}]}, {\"url\": \"https://www.goodreads.com/review/show/1829616949\", \"date\": \"Dec 04, 2016\", \"text\": \"Harry Potter and the Half Blood Prince. \\\\u2028\\\\u2028There were some things I truly loved about this one. I loved how the bulk of the book, nothing crazy happened. It felt like some of the older books and I love that feeling. All the Harry and Dumbledore time we got, the memories of Voldemort\\\\u2019s past (which were very interesting) and of course Harry and Ginny, who I\\\\u2019ve shipped for a while now finally got their shot. That\\\\u2019s the good. There is also a lot of sadness and despair. A very important and influential character dies. Sides are chosen. People you trust turn out to be not who they say they are (or so we think\\\\u2026) The last 2 hours of this 18 hour audio book broke my heart. I almost want to wait a while to do the final book, but I really want to finish these books by the end of 2016 so I better start it straight away. Wish me luck! I know I\\\\u2019ll need it xoxo\", \"user\": {\"url\": \"/user/show/11284813-christy\", \"name\": \"Christy\"}, \"rating\": 5.0, \"bookUrl\": \"http://www.goodreads.com/book/show/1.harry_potter_and_the_half_blood_prince.warc\", \"shelves\": [{\"url\": \"/review/list/11284813-christy?shelf=2016-ya-challenge\", \"name\": \"2016-ya-challenge\"}, {\"url\": \"/review/list/11284813-christy?shelf=2016-audios\", \"name\": \"2016-audios\"}]}], \"language\": \"English\", \"numPages\": 652, \"seriesUrl\": \"/series/45175-harry-potter\", \"numRatings\": 2861252, \"numReviews\": 47883, \"description\": \"The war against Voldemort is not going well; even Muggle governments are noticing. Ron scans the obituary pages of the Daily Prophet, looking for familiar names. Dumbledore is absent from Hogwarts for long stretches of time, and the Order of the Phoenix has already suffered losses. And yet . . . As in all wars, life goes on. The Weasley twins expand their business. Sixth-year students learn to Apparate - and lose a few eyebrows in the process. Teenagers flirt and fight and fall in love. Classes are never straightforward, through Harry receives some extraordinary help from the mysterious Half-Blood Prince. So it\\'s the home front that takes center stage in the multilayered sixth installment of the story of Harry Potter. Here at Hogwarts, Harry will search for the full and complete story of the boy who became Lord Voldemort - and thereby find what may be his only vulnerability.\", \"averageRating\": 4.57, \"seriesAndOrdinal\": \"(Harry Potter #6)\", \"otherEditionsLink\": \"/work/editions/41335427-harry-potter-and-the-half-blood-prince\", \"publicationDetails\": \"Published September 16th 2006 by Scholastic Inc. (first published July 16th 2005)\"}'"
      ]
     },
     "execution_count": 14,
     "metadata": {},
     "output_type": "execute_result"
    }
   ],
   "source": [
    "json_data.select(\"json_data\").first()[0]"
   ]
  },
  {
   "cell_type": "markdown",
   "id": "d7ac9bbd-fbda-46eb-bb08-47b37c2739b2",
   "metadata": {},
   "source": [
    "### Parse the fixed JSON string into a structured DataFrame\n",
    "**selectExpr**: \n",
    "> allows you to perform operations on your DataFrame using SQL like expressions.\n",
    "\n",
    "**from_json**: converts json string into corresponding object or data structure\n",
    "> it deserializes a JSON string, meaning it interprets the text as data that can be used in your app."
   ]
  },
  {
   "cell_type": "code",
   "execution_count": 16,
   "id": "575b83e1-f0c0-4a26-a20a-14ed40ce804c",
   "metadata": {},
   "outputs": [],
   "source": [
    "j_string = json_data.select(\"json_data\").first()[0]\n",
    "parsed_dict = json.loads(j_string)\n"
   ]
  },
  {
   "cell_type": "code",
   "execution_count": 17,
   "id": "87f0c8fa-694c-436d-bbf6-f0d57e329066",
   "metadata": {},
   "outputs": [
    {
     "data": {
      "text/plain": [
       "{'isbn': None,\n",
       " 'title': 'Harry Potter and the Half-Blood Prince',\n",
       " 'format': None,\n",
       " 'authors': [{'url': 'https://www.goodreads.com/author/show/1077326.J_K_Rowling',\n",
       "   'name': 'J.K. Rowling'}],\n",
       " 'reviews': [{'url': 'https://www.goodreads.com/review/show/683662307',\n",
       "   'date': 'Aug 01, 2013',\n",
       "   'text': '(A) 86% | Extraordinary Notes: It dwells on the delightfully mundane aspects of the magical world, and adds new dimensions to familiar characters.',\n",
       "   'user': {'url': '/user/show/22106879-jayson', 'name': 'Jayson'},\n",
       "   'rating': 5.0,\n",
       "   'bookUrl': 'http://www.goodreads.com/book/show/1.harry_potter_and_the_half_blood_prince.warc',\n",
       "   'shelves': [{'url': '/review/list/22106879-jayson?shelf=author-british',\n",
       "     'name': 'author-british'},\n",
       "    {'url': '/review/list/22106879-jayson?shelf=format-illustrated',\n",
       "     'name': 'format-illustrated'},\n",
       "    {'url': '/review/list/22106879-jayson?shelf=subject-boarding-school',\n",
       "     'name': 'subject-boarding-school'},\n",
       "    {'url': '/review/list/22106879-jayson?shelf=genre-juvenile-fantasy',\n",
       "     'name': 'genre-juvenile-fantasy'},\n",
       "    {'url': '/review/list/22106879-jayson?shelf=read-in-2009',\n",
       "     'name': 'read-in-2009'},\n",
       "    {'url': '/review/list/22106879-jayson?shelf=600-plus-pp',\n",
       "     'name': '600-plus-pp'},\n",
       "    {'url': '/review/list/22106879-jayson?shelf=genre-young-adult',\n",
       "     'name': 'genre-young-adult'}]},\n",
       "  {'url': 'https://www.goodreads.com/review/show/737648743',\n",
       "   'date': 'Oct 09, 2013',\n",
       "   'text': 'i dont want to talk to anyone dont even look at me i was expecting it and i still cried for like 30 minutes',\n",
       "   'user': {'url': '/user/show/14457130-whitney-atkinson',\n",
       "    'name': 'Whitney Atkinson'},\n",
       "   'rating': 5.0,\n",
       "   'bookUrl': 'http://www.goodreads.com/book/show/1.harry_potter_and_the_half_blood_prince.warc',\n",
       "   'shelves': [{'url': '/review/list/14457130-whitney-atkinson?shelf=favorites',\n",
       "     'name': 'favorites'},\n",
       "    {'url': '/review/list/14457130-whitney-atkinson?shelf=childrens',\n",
       "     'name': 'childrens'},\n",
       "    {'url': '/review/list/14457130-whitney-atkinson?shelf=read-in-2015',\n",
       "     'name': 'read-in-2015'},\n",
       "    {'url': '/review/list/14457130-whitney-atkinson?shelf=made-me-cry',\n",
       "     'name': 'made-me-cry'}]},\n",
       "  {'url': 'https://www.goodreads.com/review/show/3001353016',\n",
       "   'date': 'Jun 28, 2020',\n",
       "   'text': '(A) 86% | Extraordinary Notes: A relationshippy respite, it’s Sturm und Drang defogging: all lovesick woe, observing foes, and problematic snogging.',\n",
       "   'user': {'url': '/user/show/22106879-jayson', 'name': 'Jayson'},\n",
       "   'rating': 5.0,\n",
       "   'bookUrl': 'http://www.goodreads.com/book/show/1.harry_potter_and_the_half_blood_prince.warc',\n",
       "   'shelves': [{'url': '/review/list/22106879-jayson?shelf=author-british',\n",
       "     'name': 'author-british'},\n",
       "    {'url': '/review/list/22106879-jayson?shelf=genre-juvenile-fantasy',\n",
       "     'name': 'genre-juvenile-fantasy'},\n",
       "    {'url': '/review/list/22106879-jayson?shelf=subject-boarding-school',\n",
       "     'name': 'subject-boarding-school'},\n",
       "    {'url': '/review/list/22106879-jayson?shelf=genre-young-adult',\n",
       "     'name': 'genre-young-adult'},\n",
       "    {'url': '/review/list/22106879-jayson?shelf=audiobook-audible',\n",
       "     'name': 'audiobook-audible'},\n",
       "    {'url': '/review/list/22106879-jayson?shelf=read-in-2020',\n",
       "     'name': 'read-in-2020'}]},\n",
       "  {'url': 'https://www.goodreads.com/review/show/1246195113',\n",
       "   'date': 'Aug 28, 2019',\n",
       "   'text': \"Holy shit, I'm in all sorts right now. Video Review: https://www.youtube.com/watch?v=sTfaG...\",\n",
       "   'user': {'url': '/user/show/30728719-lily', 'name': '❀ Lily ❀'},\n",
       "   'rating': None,\n",
       "   'bookUrl': 'http://www.goodreads.com/book/show/1.harry_potter_and_the_half_blood_prince.warc',\n",
       "   'shelves': []},\n",
       "  {'url': 'https://www.goodreads.com/review/show/3749175894',\n",
       "   'date': 'Jan 09, 2021',\n",
       "   'text': '\"5. Should you feel that a family member, colleague, friend, or neighbor is acting in a strange manner, contact the Magical Law Enforcement Squad at once. They may have been put under the Imperius Curse.\" Time for interesting little subplots is over. We\\'ve arrived finally, where everything is closely tied to the core of the story and progressing fast. It\\'s always delightful to see, everything that was great about the series still remains the same, if not better. However, disappointments, sorrow and hardships are what the reader is going to encounter for the most part. As I finished reading Half-Blood Prince, more than ever before, I feel being trapped in a hopeless situation filled with nothing but forebodings. \"Destination...determination...deliberation...\" One would imagine, we\\'re beyond being accommodated with new characters, but the author will quickly convince you otherwise, and introduction of new and interesting characters continues. It\\'s great to see how Rowling keeps outperforming herself with each new book . Harry\\'s ill-tempered nature and suspicions does not end with the last book as I hoped it would, but the results are quite the opposite this time around. Honestly, I did not anticipate the way how things turned out right till the last three chapters. \"To friendship! To generosity! To ten Galleons a hair! We\\'ve been somewhat used to happy ending in the first four books (relatively) with 5th being a bit disappointing but this one, it was the most depressing ending for me yet. It probably comes down to reinforcing the suspense toward the final book but, it\\'s a difficult place to be in - especially if you had to wait for a year.. \"Eet \\'as been too long!\"',\n",
       "   'user': {'url': '/user/show/101693182-tharindu-dissanayake',\n",
       "    'name': 'Tharindu Dissanayake'},\n",
       "   'rating': 5.0,\n",
       "   'bookUrl': 'http://www.goodreads.com/book/show/1.harry_potter_and_the_half_blood_prince.warc',\n",
       "   'shelves': [{'url': '/review/list/101693182-tharindu-dissanayake?shelf=favorites-fiction',\n",
       "     'name': 'favorites-fiction'}]},\n",
       "  {'url': 'https://www.goodreads.com/review/show/1243718880',\n",
       "   'date': 'Apr 02, 2015',\n",
       "   'text': '“I am a wizard, not a baboon or a transphobe.” - Not JKR Mermaids UK The Trevor Project Black Visions Collective because Black trans lives matter.',\n",
       "   'user': {'url': '/user/show/41788524-kai-spellmeier',\n",
       "    'name': 'Kai Spellmeier'},\n",
       "   'rating': None,\n",
       "   'bookUrl': 'http://www.goodreads.com/book/show/1.harry_potter_and_the_half_blood_prince.warc',\n",
       "   'shelves': [{'url': '/review/list/41788524-kai-spellmeier?shelf=finished-series',\n",
       "     'name': 'finished-series'}]},\n",
       "  {'url': 'https://www.goodreads.com/review/show/2533600835',\n",
       "   'date': 'Oct 18, 2018',\n",
       "   'text': \"I'm not sure why, but this one took me completely by surprise. I was expecting this installment to be mainly filler to get us to the Deathly Hallows, but so much happened here that I must have forgotten from the movie. The Half-Blood prince was considerably darker than the previous 5 books, and I just adore how this series has progressed and grown just like most of its readers have. Obviously I knew what the big reveal was prior to finishing the book due to my viewing the films before, but it didn't take away from the experience the novel had to offer. I have this nervous lump in my throat knowing that the next book is the final one, but am simultaneously excited to finally read what the films surely have left out surrounding the conclusion of the series.\",\n",
       "   'user': {'url': '/user/show/47207032-chelsea-humphrey',\n",
       "    'name': 'Chelsea Humphrey'},\n",
       "   'rating': 5.0,\n",
       "   'bookUrl': 'http://www.goodreads.com/book/show/1.harry_potter_and_the_half_blood_prince.warc',\n",
       "   'shelves': []},\n",
       "  {'url': 'https://www.goodreads.com/review/show/730488284',\n",
       "   'date': 'Sep 29, 2013',\n",
       "   'text': \"Welcome to my re-read of the phenomenal series “Harry Potter”. 🤓⚡️I'm reading the books, listening to a fun (adult) podcast and watching the movies. ❤️📚🎧🎬 ⚠️This review contains spoilers⚠️ If you don’t yet know: *why the elf made wine is the one to try tonight *why the dragons blood is a bit dusty *why Hermione’s confiscating fanged frisbees from 4th years *why the mouth organ was always just a mouth organ *why we hide sherry bottles *why it is our mercy that matters now *why we’re reaching into the lake for water ——-Then proceed with extreme caution!——- Spoiler Credit: Podcast: Binge Mode (listen on Spotify) Personal Opinion Note: I’m terribly sad for you, if you’ve never read the books (or at least watched the movies). 😉📚🎧🎬 You really should jump on the Hogwarts Express with me! I’ll be making notes of my favorite part of each chapter/podcast as I finish. 📚Chapter 1: The Other Minister Fudges resignation. 📚Chapter 2: Spinner’s End Draco’s mother begging Snape to protect him. 🎧Podcast: Binge Mode: Chapters 1-2 ***Warning: Binge Mode contains adult content*** Snape insights and how he embeds himself in Voldemort's camp. 📚Chapter 3: Will and Won't Dumbledore calling out the Dursley's on their treatment of Harry throughout his life. 📚Chapter 4: Horace Slughorn Dumbledore admitting that it was cruel for Harry and Sirius to have such little time together. 📚Chapter 5: An Excess of Phlegm Ginny's expressed dislike of Fleur. 📚Chapter 6: Draco's Detour Fred and George’s shop lighting up the street in Diagon Alley and their joke about ‘you know who, versus you know poo’ and Mrs. Weasley being worried they’ll be murdered in their beds. 📚Chapter 7: The Slug Club Groups of girls asking Harry to join him in their compartment on the train and Harry declining saying he'll sit with his friends (Luna and Neville). 🎧Podcast: Binge Mode: Chapters 3-7 ***Warning: Binge Mode contains adult content*** The history of the Hogwarts Express. 📚Chapter 8: Snape Victorious Hagrid’s waving at Harry from the head table, with McGonagall shaking her head at his unprofessionalism. 📚Chapter 9: The Half-Blood Prince Harry’s perfect potion and Hermione’s reaction. 📚Chapter 10: The House of Gaunt Dumbledore’s slowly opening the curtain, for Harry to better understand, Voldemort’s past, present and future. 📚Chapter 11: Hermione’s Helping Hand Harry’s calling out Hermione on spelling McLaggen to miss a goal at keeper tryouts, pointing out that it was dishonest of a prefect to do. 🎧Podcast: Binge Mode: Chapters 8-11 ***Warning: Binge Mode contains adult content*** The Ginny/Harry foreshadowing. Also, the added insights into the Gaunt family (Slytherin descendants). 📚Chapter 12: Silver and Opals Harry’s relentless insistence that Malfoy is a death eater. 📚Chapter 13: The Secret Riddle Harry’s not shy about asking Dumbledore the hard questions. 📚Chapter 14: Felix Felicis This is the point where Harry really starts to recognize his real feelings for Ginny. But it’s also the angst of Hermione’s true feelings about Ron. Ahhhh… teenage hearts and jealousy. 📚Chapter 15: The Unbreakable Vow I love that Harry chose Luna to go to the party with him. 🎧Podcast: Binge Mode: Chapters 12-15 ***Warning: Binge Mode contains adult content*** History and process of potion making and the hilarious jokes about Ron being a virgin. 📚Chapter 16: A Very Frosty Christmas Mrs. Weasley continually turning up the volume on the radio over Fleur. 📚Chapter 17: A Sluggish Memory Whawn whawn… and the pensive Voldemort bits. 📚Chapter 18: Birthday Surprises Harry honestly asking Slughorn about horcruxes and admitting that Dumbledore shared his memory. 📚Chapter 19: Elf Tails Ron recovering in hospital saying Hermione’s name. 🎧Podcast: Binge Mode: Chapters 16-19 ***Warning: Binge Mode contains adult content*** Jason’s impression of Fleur commenting on Mrs. Weasley’s music had me rolling. 📚Chapter 20: Lord Voldemort’s Request Back into the pensive... Dumbledore refusing to hire Voldemort for the Defense Against the Dark Arts post. 📚Chapter 21: The Unknowable Room Harry scaring Goyle as he was guarding the room of requirement disguised as a girl. 📚Chapter 22: After the Burial Harry getting Slughorn and Hagrid trashed at the funeral. 📚Chapter 23: Horcruxes Diving into the pensive to finally see Slughorn communicate with Tom. 🎧Podcast: Binge Mode: Chapters 20-23 ***Warning: Binge Mode contains adult content*** All of the insights into horcruxes. 📚Chapter 24: Sectumsempra Finally! Harry and Ginny!! Harry and Ginny!! 📚Chapter 25: The Seer Overheard Trelawney trying to hide her booze. 📚Chapter 26: The Cave Man, this chapter was rough- but that last sentence uttered my Dumbledore- “I am not worried Harry, I am with you.” 🎧Podcast: Binge Mode: Chapters 24-26 ***Warning: Binge Mode contains adult content*** Dumbledore’s history and his passing of torch to Harry. 📚Chapter 27: The Lightning-Struck Tower Dumbledore’s belief that Malfoy would choose the right side, all the way to his end. 📚Chapter 28: Flight of the Prince Shapes refusal to kill or fight Harry. 🎧Podcast: Binge Mode: Chapters 27-28 ***Warning: Binge Mode contains adult content*** Cry fest episode… all heart wrenching. 📚Chapter 29: The Phoenix Lament Fleur and Mrs Weasley’s bonding over Bill. 📚Chapter 30: The White Tomb Harry loving Ginny enough to let her go. Plus, Ron and Hermione’s unwavering friendship. 🎧Podcast: Binge Mode: Chapters 29-30 ***Warning: Binge Mode contains adult content*** All about Dumbledore… my heart aches. 🎬Movie #6 I have a hard time with all the liberties taken in the film adaption- but the casting of Lavender and Luna is really great. 🎧Podcast: Binge Mode: Movie ***Warning: Binge Mode contains adult content*** They put into words all the things I felt about the movie adaptation. So, spot, on. This concludes my re-reading/listening/watching of Harry Potter and the Half Blood Prince. I’m sad that I’m so close to the end now. It’s been such an amazing adventure.\",\n",
       "   'user': {'url': '/user/show/23302801-danielle', 'name': 'Danielle'},\n",
       "   'rating': 5.0,\n",
       "   'bookUrl': 'http://www.goodreads.com/book/show/1.harry_potter_and_the_half_blood_prince.warc',\n",
       "   'shelves': [{'url': '/review/list/23302801-danielle?shelf=books-to-read-with-kids',\n",
       "     'name': 'books-to-read-with-kids'}]},\n",
       "  {'url': 'https://www.goodreads.com/review/show/35089462',\n",
       "   'date': 'Oct 11, 2008',\n",
       "   'text': \"Harry Potter and the Half-Blood Prince (Harry Potter #6), J.K. Rowling Harry Potter and the Half-Blood Prince is a fantasy novel written by British author J. K. Rowling and the sixth and penultimate novel in the Harry Potter series. Set during protagonist Harry Potter's sixth year at Hogwarts, the novel explores the past of Harry's nemesis, Lord Voldemort, and Harry's preparations for the final battle against Voldemort alongside his headmaster and mentor Albus Dumbledore. The book was published in the United Kingdom by Bloomsbury, and in the United States by Scholastic on 16 July 2005, as well as in several other countries. Lord Voldemort is tightening his grip on both the wizarding and Muggle worlds, with his Death Eaters kidnapping wand-maker Garrick Ollivander from Diagon Alley and destroying the Millennium Bridge. The Malfoy family is disgraced when Lucius is apprehended and sent to Azkaban for his involvement with the Death Eaters. Voldemort instead chooses Draco to carry out a secret mission at Hogwarts. Draco's mother Narcissa and aunt Bellatrix Lestrange seek help from Severus Snape, who claims to have been acting as a mole within the Order of the Phoenix all along. Snape makes an Unbreakable Vow with Narcissa to protect Draco and fulfill the assignment if he fails. Harry Potter, now 16 years old, accompanies Albus Dumbledore from Surbiton to the village of Budleigh Babberton to visit former Potions professor Horace Slughorn. Slughorn, who has been in hiding, agrees to return to teach at Hogwarts. Dumbledore then takes Harry to The Burrow, where Harry reunites with his best friends, Ron Weasley and Hermione Granger. The three visit Fred and George Weasley's new joke shop at Diagon Alley and see Draco entering Knockturn Alley with a group of Death Eaters including Fenrir Greyback. Harry believes Voldemort has made Draco a Death Eater, but Ron and Hermione are sceptical. On the Hogwarts Express, Harry hides in the Slytherin carriage using his Invisibility Cloak, but is spotted and petrified by Malfoy. عنوانهای چاپ شده در ایران: «هری پاتر و پرنس نیمه اصیل»؛ «هری پاتر و شاهزاده دورگه»؛ «هری پاتر و پرنس دو رگه»؛ «هری پاتر و شاهزاده نیمه اصیل»؛ نویسنده: جی.کی رولینگ؛ تاریخ نخستین خوانش: ماه نوامبر سال 2005میلادی عنوان: هری پاتر و پرنس نیمه اصیل - کتاب شش در دو جلد؛ نویسنده: جی.کی رولینگ؛ مترجم: سمیه گنجی؛ ساری، زهره، 1384؛ در دوجلد، در660ص؛ شابک 9645704766؛ موضوع داستانهای نویسندگان بریتانیا - سده 21م عنوان: هری پاتر و شاهزاده ی دورگه - کتاب شش در دو جلد ؛ نویسنده: جی.کی رولینگ؛ مترجم: ویدا اسلامیه؛ تهران، تندیس، 1384؛ در دو جلد؛ شابک 9648944024؛ چاپ دوم تا هشتم 1384؛ چاپ یازدهم 1392؛ شابک 9789648944013؛ عنوان: هری پاتر و پرنس دورگه - کتاب شش؛ نویسنده: جی.کی رولینگ؛ مترجم: غلامحسین اعرابی؛ تهران، پلیکان، 1384؛ در 912ص؛ شابک9648690065؛ عنوان: هری\\u200c پاتر و شاهزاده\\u200c ی دو\\u200cرگه؛ نویسنده: جی.کی رولینگ؛ مترجم: محمدحسن واحد؛ قم گنج عرفان\\u200f\\u202b، 1384؛ در دو جلد؛ شابک9647985498؛ عنوان: هری\\u200c پاتر و شاهزاده\\u200c ی دو\\u200cرگه؛ نویسنده: جی.کی رولینگ؛ مترجم: مریم شعبانی (نصیری آذر)؛ تهران، طحان، 1384؛ در دو جلد؛ چاپ دیگر تهران علمی شایان\\u200f\\u202b، 1391؛ در دو جلد؛ شابک 9786009304219؛ عنوان: هری\\u200c پاتر و شاهزاده\\u200c ی نیمه اصیل؛ نویسنده: جی.کی رولینگ؛ مترجم: سعید ابراهیمی؛ تهران، نگاه امروز\\u200f\\u202b، 1384؛ در دو جلد؛ شابک دوره9647470002؛ عنوان: هری\\u200c پاتر و شاهزاده\\u200c نیمه اصیل؛ نویسنده: جی.کی رولینگ؛ مترجم: محمد نوراللهی؛ تهران، بهنام\\u200f\\u202b، 1384؛ در دو جلد؛ شابک دوره9645668360؛ عنوان: هری\\u200c پاتر و شاهزاده\\u200c دورگه؛ نویسنده: جی.کی رولینگ؛ مترجم: نامور عابدینی؛ تهران، نامور عابدینی\\u200f\\u202b، 1384؛ در سه جلد؛ شابک دوره9640670464؛ عنوان: هری\\u200c پاتر و شاهزاده\\u200c دورگه؛ نویسنده: جی.کی رولینگ؛ مترجم: الهام آرام نیا؛ شمس الدین حسینی؛ تهران، پیکان\\u200f\\u202b، 1384؛ در دو جلد؛ شابک دوره9643284913؛ عنوان: هری\\u200c پاتر و شاهزاده\\u200c دورگه؛ نویسنده: جی.کی رولینگ؛ مترجم: شهناز مجیدی؛ تهران، روشا\\u200f\\u202b، 1384؛ در دو جلد؛ فهرست: آن وزیر دیگر؛ بن\\u200cبست اسپینر؛ وصیت\\u200cنامه و جن خانه؛ هوریس اسلاگهورن؛ خلط اضافی؛ مسیر بیراهه\\u200cی دراکو؛ انجمن اسلاگ؛ اسنیپ پیروز؛ شاهزاده\\u200cی دورگه؛ خانه\\u200cی گونت؛ همکاری هرمیون؛ نقره و عقیق سلیمانی؛ ریدل، معمای مرموز؛ فلیکس فلیسیس؛ و پیمان ناگسستنی؛ ششمين سال تحصيلی هری در مدرسه\\u200c ی علوم و فنون جادوگری هاگوارتز آغاز میشود؛ «آلبوس دامبلدور»، مدیر مدرسه، برای «هری» کلاس\\u200cهای خصوصی ترتیب میدهد، و در کلاس\\u200cها، او را با گذشته\\u200c ی «لرد ولدمورت»، و اندیشه ها و آرزوهای او آشنا میکند؛ و راز جاودانگی او را برملا میسازد نقل از متن جلد نخست: (هری پاتر با صدای بلندی خروپف می\\u200cکرد؛ بیش\\u200cتر چهار ساعت گذشته را در کنار پنجره\\u200c ی اتاق\\u200c خوابش، بر روی صندلی نشسته و به منظره\\u200c ی خیابان زل زده بود، که دم\\u200c به\\u200c دم تاریک\\u200cتر می\\u200cشد و سرانجام، در حالی که یک\\u200cطرف صورتش به پنجره تکیه داشت، با دهان باز و عینک، یک وری، به خواب رفته بود؛ بخشی از شیشه\\u200c ی پنجره که در اثر نفس\\u200cهای او بخار گرفته بود، در برابر نور نارنجی رنگ چراغ خیابان می\\u200cدرخشید و در پرتو این نور غیرطبیعی، هیچ رنگ دیگری بر چهره\\u200c اش سایه نمی\\u200cانداخت، چنان که صورتش در زیر سیاهی متضاد موهای نامرتبش، رنگ پریده و ترسناک به نظر می\\u200cرسید؛ اتاق، پر از وسایل درهم ریخته\\u200c ی گوناگون و خرده آشغال\\u200cهای پراکنده بود؛ پرهای جغد، دانه\\u200cهای سیب و کاغذهای مچاله\\u200c ی شکلات در گوشه و کنار اتاق ريخته بود؛ چندین کتاب جادوگری لابه\\u200cلای رداهای درهم گوریده\\u200c ی روی تختش قرار داشت و دسته\\u200c ی نامرتب روزنامه\\u200cها بر روی میز تحریرش در زیر هاله\\u200c ای از نور به چشم می\\u200cخورد؛ عنوان یکی از روزنامه\\u200cها گویی با داد و فریاد، خودنمایی می\\u200cکرد: هری پاتر: پسر برگزیده؟)؛ پایان تاریخ بهنگام رسانی 09/07/1399هجری خورشیدی؛ 30/05/1400هجری خورشیدی؛ ا. شربیانی\",\n",
       "   'user': {'url': '/user/show/614778-ahmad-sharabiani',\n",
       "    'name': 'Ahmad Sharabiani'},\n",
       "   'rating': 5.0,\n",
       "   'bookUrl': 'http://www.goodreads.com/book/show/1.harry_potter_and_the_half_blood_prince.warc',\n",
       "   'shelves': [{'url': '/review/list/614778-ahmad-sharabiani?shelf=childrens-young-readers',\n",
       "     'name': 'childrens-young-readers'},\n",
       "    {'url': '/review/list/614778-ahmad-sharabiani?shelf=british',\n",
       "     'name': 'british'},\n",
       "    {'url': '/review/list/614778-ahmad-sharabiani?shelf=fantasy',\n",
       "     'name': 'fantasy'},\n",
       "    {'url': '/review/list/614778-ahmad-sharabiani?shelf=novels',\n",
       "     'name': 'novels'},\n",
       "    {'url': '/review/list/614778-ahmad-sharabiani?shelf=fiction',\n",
       "     'name': 'fiction'},\n",
       "    {'url': '/review/list/614778-ahmad-sharabiani?shelf=21th-century',\n",
       "     'name': '21th-century'}]},\n",
       "  {'url': 'https://www.goodreads.com/review/show/956890387',\n",
       "   'date': 'Jun 03, 2014',\n",
       "   'text': 'I’m yet to mention one of the most important characters in this series in a review. I’m, of course, talking about Severus Snape. Severus, the unsung hero. Severus, who sacrificed his own soul. Severus, who loved another more than life itself. Severus, the half-blood prince- the truth about his character was, and will likely always be, one of the most surprising twists I’ve ever read in fiction. The set up is all in this book.',\n",
       "   'user': {'url': '/user/show/27788046-sean-barrs', 'name': 'Sean Barrs '},\n",
       "   'rating': 5.0,\n",
       "   'bookUrl': 'http://www.goodreads.com/book/show/1.harry_potter_and_the_half_blood_prince.warc',\n",
       "   'shelves': [{'url': '/review/list/27788046-sean-barrs?shelf=children-of-all-ages',\n",
       "     'name': 'children-of-all-ages'},\n",
       "    {'url': '/review/list/27788046-sean-barrs?shelf=5-star-reads',\n",
       "     'name': '5-star-reads'},\n",
       "    {'url': '/review/list/27788046-sean-barrs?shelf=fantasy',\n",
       "     'name': 'fantasy'}]},\n",
       "  {'url': 'https://www.goodreads.com/review/show/2856577',\n",
       "   'date': 'Jul 09, 2007',\n",
       "   'text': 'I was first introduced to Harry Potter in a Children’s Lit class in college. I had resisted this popular phenomenon until I was forced to pick it up for a grade, and Book 1 was short enough that I could read it in the course of 2 hours. I have to admit I wasn’t impressed to any extent, nor did I dislike the experience, but I was critical on grounds of its being derivative, even if reading the first led to reading the second. After all, if I was bored and looking for something light, I could do worse than a fantasy about a child wizard who fights evil with his friends. But it was really the third book, with its increasing darkness, that took me in and made me a fan. With a movie coming out for Order of Phoenix and Deathly Hallows on the horizon, I decided I would reread Half-Blood Prince. I figured it would take four sittings, of course, with its 600 pages, but time does fly when reading this one, and I’ve come to the conclusion that this is my favorite so far. What I wouldn’t have been willing to admit in college that I’m perfectly comfortable saying now is that J.K. Rowling is a fantastic storyteller; she writes with great clarity, wit, and humor; and she’s created a cast of loveable characters with whom most people, due to the common experience of growing up, can relate closely. That said, the reason for my preference for the 6th book is that it’s the most emotionally rich in the series. Here we get the backstory of Voldemort (*spoiler alert*) through a series of flashbacks (coming in HP by way of magically extracted memories), and in this way, we come to understand the villain’s similarities and differences with our hero. After all, the villain has to have reasons for committing heinous acts, and until now, we don’t know what these are. Voldemort is from a once-powerful wizard family reduced to poverty that lives in a dilapidated hovel on the edge of a small town, wary of outsiders, and their main point of pride is their pure blood, the lineage having cross-bred for generations so as not to pollute the line. Voldemort’s mother lives with her father and brother and yearns for the love of a nonmagical man (“muggle” in this world) and when her father and brother are arrested, she uses the opportunity to bewitch her beloved and run off. She ends up pregnant, the man deserts her, and she dies while giving birth to her half-wizard, half-muggle son, thus making him an orphan (like Harry). (Faulkner anyone?) But whereas Harry comes to Hogwarts and befriends Ron and Hermione creating unity and strength through positive emotions, Voldemort, when growing in the orphanage shuns other children, torturing them at times (without the awareness of adults) and stealing their possessions. What fuels him is his hatred of his beginnings, his mother’s weakness at having died like a common person despite being a witch, and the “muggle” blood inherited from his father. Over the course of his time at Hogwarts, Voldemort, charming as only evil can be, learns to win over people as a means to an end and disguise his insidious purposes, but he never befriends anyone. He moves, through his hatred, further away from many of the emotions that drive Harry, namely the desire to protect the people he loves and avenge his parents’ death. With Dumbledore’s help in exploring Voldemort’s past, Harry begins to understand that he’s come to be where he is through the choices he’s made, that his greatest strengths are an alliance with his friends, and that this might hold the key to destroying his enemy, a fact that’s made all the more poignant when Dumbledore, in an all-out assault on Hogwarts by Voldemort’s Death Eaters, is killed at the end. The stakes are higher than before, the action and pace increase as the conclusion draws near, and things are looking darker than ever, which is the setup that any fan wants when the end is looming and it leaves us with the question: How will our hero prevail?',\n",
       "   'user': {'url': '/user/show/156760-aloysius', 'name': 'Aloysius'},\n",
       "   'rating': 5.0,\n",
       "   'bookUrl': 'http://www.goodreads.com/book/show/1.harry_potter_and_the_half_blood_prince.warc',\n",
       "   'shelves': []},\n",
       "  {'url': 'https://www.goodreads.com/review/show/842506912',\n",
       "   'date': 'Feb 02, 2014',\n",
       "   'text': 'Here\\'s the thing about the Harry Potter books... They\\'re awesome. Deep, huh? Well, deep or shallow, it\\'s the truth. I waited a long time to read the Harry Potter books because I wanted to experience them with my own children. My son (8) and I just finished the sixth book, my first daughter (6) and I are working on the first, and my youngest child (3) is content to commandeer her siblings\\' wands and run around shrieking, \"I have a Harry Potter stick!\" In other words, we all enjoy it. I could write a great deal about Harry Potter and the Half-Blood Prince, but it\\'s a tough book to write about without giving things away. And though I loved this novel for many reasons, I find it quite difficult to separate it from the other tales. This, I think, speaks to J.K. Rowling\\'s ability to connect the stories in a such a way that they each have their own identity while still continuing to trace a gigantic glowing arc through the sky along which the reader is able to ride from the first book to the seventh. So before I tell you a few things I loved about the novel, please know that there might be spoilers below. Not huge spoilers, mind you, but I\\'m always afraid of letting something slip. So...be forewarned. Don\\'t read on if you haven\\'t read this book yet. And if you haven\\'t read the book, why are you reading a review of it by a writer whose skills don\\'t yet approach J.K. Rowling\\'s? Seriously. Get off the danged Internet and read this amazing series! Some delights and terrors and sorrows... 1. Fenrir Greyback: Bet that surprised you a little. I know that this character played a relatively minor role, but on the page he was a scene-stealer, a flesh-chewer, and a perfect foil for one of my favorite characters, Remus Lupin. An aside: About a year before I began reading the series, my Creative Writing class was discussing characterization. The kids began talking about the Harry Potter books. One remarked that the supporting characters were as interesting as the leads, which led another student to bring up Remus Lupin. She was halfway through her cataloging of his merits as a character when she stopped and looked up at me, as if seeing me anew. She then said, \"Mr. (Insert real name here). You sort of remind me of Lupin.\" When I later found out he was a werewolf, I was a little bit shocked (and secretly pleased). But when I really got to know the character, I found the remark incredibly gratifying. Back to Fenrir Greyback (with whom I hope I have nothing in common)... What made Greyback so incredibly interesting to me was not only the sheer ferocity of his behavior, but the diabolical simplicity of his motives. If the Harry Potter books were likened to Lord of the Flies and Voldemort\\'s ambition were compared with Jack\\'s (the leader of the hunters), then Greyback would be Roger, the sadist. This powderkeg of a character lives only to rend flesh and to guzzle the steaming lifeblood of his victims. Greyback doesn\\'t want to rule the world; he simply wants to terrorize it. I don\\'t know what kind of a role he plays in the seventh book (if any), but his unreasoning brutality added just the right note of menace to a book that largely---and sensitively---focused on the romantic relationships of its teenagers. 2. Fleur\\'s Surprising Reaction: I admit to falling prey to a stupid prejudice here, and I feel awful about it. But I wrongly assumed Fleur Delacour was a pretty face without a soul. In Harry Potter and the Goblet of Fire she was the object of many male desires (Ron\\'s particularly), and though she was skilled at wizardry, she wasn\\'t an especially affecting character. She did seem affected, however, and when she showed up again in Book Six, I, like Mrs. Weasley, rolled my eyes and dismissed her as a fluttery, vapid future supermodel. How wrong I was. One mark of a great writer, I think, is the ability to surprise the reader without cheating. That\\'s J.K. Rowling. When something terrible befell Fleur\\'s fiance, I was all set to mentally berate her for her superficiality. But rather than making a caricature out of Fleur---as I fear I unknowingly did---Rowling transformed her and made her deeply endearing with a couple elegant lines of dialogue. And I loved that. So here\\'s to continual reminders to not judge people by appearances or even their seeming personalities. People can still surprise us, and we need to give them the opportunity to do so. *takes a deep breath* And lastly... 3. Dumbledore: If you\\'ve read this far, you\\'ve only been assailed by minor spoilers. I don\\'t want to spoil this plot twist, but I don\\'t know how to talk about it without spoiling it. And the fact is, I don\\'t want to talk about it. Rarely has a fictional character so resonated with me the way Albus Dumbledore has. In the first book he was wise, eccentric, and a constant source of comfort. As the series has developed, he has persisted in exhibiting those traits, but he has also grown more than most might think. He has revealed a penchant for trusting others too much. He has admitted how fallible he is, how prone to mistakes. He has been injured, accused of wrongdoing, and generally fed through a physical and emotional woodchipper. And he has come through it all with an open, caring heart and an enormous capacity for love. One passage in particular, I think, summarizes this amazing character for me. In a scene that chronicles how Tom Riddle became Lord Voldemort, Dumbledore attempts to gird Harry\\'s resolve and confidence in the inevitable battle with his nemesis: \"Yes, you have,\" said Dumbledore firmly. \"You have a power that Voldemort has never had. You can---\" \"I know!\" said Harry impatiently. \"I can love!\" It was only with difficult that he stopped himself adding, \"Big deal!\" \"Yes, Harry, you can love,\" said Dumbledore, who looked as though he knew perfectly well what Harry had just refrained from saying. \"Which, given everything that has happened to you, is a great and remarkable thing. You are still too young to understand how unusual you are, Harry.\" \"So, when the prophecy says that I\\'ll have \\'power the Dark Lord knows not,\\' it just means---love?\" asked Harry, feeling a little let down. \"Yes---just love,\" said Dumbledore. The above passage will strike some as too direct, too naive, or worst of all, too emotional. It struck me as incredibly beautiful. There are all sorts of belief systems in the world, and no two people are exactly alike in their beliefs. But what Dumbledore says here is something that, were it adopted by more people, would alter our world for the better. Harry, for all his flaws, usually acts with good intentions. He befriends Luna Lovegood (another one of my favorite characters in all of fiction), gives of himself to others, and is willing to suffer so that others won\\'t have to experience the same pain. In other words, Harry loves. And so can Dumbledore. Which is why this book was so memorable, wonderful, and painful to me. I\\'m going to go now. My wife is making a delicious supper. My son and first daughter are ready to wrestle. And my three-year-old is racing around the house casting spells on the furniture with her Harry Potter stick. And for that, J.K. Rowling, I thank you.',\n",
       "   'user': {'url': '/user/show/4415785-jonathan-janz',\n",
       "    'name': 'Jonathan Janz'},\n",
       "   'rating': 5.0,\n",
       "   'bookUrl': 'http://www.goodreads.com/book/show/1.harry_potter_and_the_half_blood_prince.warc',\n",
       "   'shelves': []},\n",
       "  {'url': 'https://www.goodreads.com/review/show/567096841',\n",
       "   'date': 'Mar 21, 2013',\n",
       "   'text': 'I could revisit this world over and over!! Mel 🖤🐾🐺',\n",
       "   'user': {'url': '/user/show/17438949-melissa-dog-wolf-lover-martin',\n",
       "    'name': 'Melissa ♥ Dog/Wolf Lover ♥ Martin'},\n",
       "   'rating': 5.0,\n",
       "   'bookUrl': 'http://www.goodreads.com/book/show/1.harry_potter_and_the_half_blood_prince.warc',\n",
       "   'shelves': [{'url': '/review/list/17438949-melissa-dog-wolf-lover-martin?shelf=childrens',\n",
       "     'name': 'childrens'},\n",
       "    {'url': '/review/list/17438949-melissa-dog-wolf-lover-martin?shelf=own',\n",
       "     'name': 'own'}]},\n",
       "  {'url': 'https://www.goodreads.com/review/show/14146693',\n",
       "   'date': 'Jan 31, 2008',\n",
       "   'text': 'Since pretty much everyone I know has read these books, I figure reviewing them is pretty pointless. But with the new book coming out in a couple of days, I have to go through them beginning to end. To make the reviews more entertaining, I will be doing them in a variety of unexpected formats. For this review, I will be writing as a power ballad. (Intro: Piano and strings) You were always by my side You will always be my guide But the road I\\'m on Goes on and on And I\\'ve left you beHIIIIIND! (Big crunchy electric guitar) (DUMBLEDORE!) I will never forget the strength you showed! (DUMBLEDORE!) I will never forget the debt you\\'re owed! (DUMBLEDORE!) And when I face the final hour (DUMBLEDORE!) I will call on all your power! (Guitar solo) There\\'s no way back again But if I can find a friend To see me though And remember you I\\'ll make it to the EEEENNNND! (DUMBLEDORE!) When I finally catch that snake in the grass (DUMBLEDORE!) You will be able to rest at last! (DUMBLEDORE!) You know he never will escape (DUMBLEDORE!) I\\'m comin\\' for you SNAAAAAAAAPE!!!! (Guitar solo) (Guitar solo with children\\'s choir singing \"Run, Snape, Run!\") (Guitar solo with fireworks) (Drums explode) EDITOR\\'S NOTE: Yes, I know, it\\'s horrible. I\\'m not proud....',\n",
       "   'user': {'url': '/user/show/858949-chris', 'name': 'Chris'},\n",
       "   'rating': 4.0,\n",
       "   'bookUrl': 'http://www.goodreads.com/book/show/1.harry_potter_and_the_half_blood_prince.warc',\n",
       "   'shelves': [{'url': '/review/list/858949-chris?shelf=fantasy',\n",
       "     'name': 'fantasy'},\n",
       "    {'url': '/review/list/858949-chris?shelf=harry-potter',\n",
       "     'name': 'harry-potter'}]},\n",
       "  {'url': 'https://www.goodreads.com/review/show/3179429845',\n",
       "   'date': 'Feb 06, 2020',\n",
       "   'text': \"Here's my video review https://youtu.be/lgj2rQTmymw\",\n",
       "   'user': {'url': '/user/show/41973734-merphy-napier',\n",
       "    'name': 'Merphy Napier'},\n",
       "   'rating': 5.0,\n",
       "   'bookUrl': 'http://www.goodreads.com/book/show/1.harry_potter_and_the_half_blood_prince.warc',\n",
       "   'shelves': [{'url': '/review/list/41973734-merphy-napier?shelf=fantasy',\n",
       "     'name': 'fantasy'},\n",
       "    {'url': '/review/list/41973734-merphy-napier?shelf=five-stars',\n",
       "     'name': 'five-stars'}]},\n",
       "  {'url': 'https://www.goodreads.com/review/show/1792534441',\n",
       "   'date': 'Nov 11, 2016',\n",
       "   'text': \"Second Reread Review: REVIEW TO COME SOON ••••••••••••••••••••••••••••••••••••••••••••••••••••• 5 GLOWING MAGICAL STARS! 'Dumbledore says people find it far easier to forgive others for being wrong than being right,' said Hermione. 'I heard him telling your mum, Ron.' I'm really enjoying this series so far but this series gets darker and darker. the first three of this series were so funny and cute even though there were sad scenes on them and the fourth, fifth and sixth books contained so much pain and I even shed more tears for these book than I did for the the first three. I have lost a favorite character that always made me laugh and smile. this character is Sirus Black. I even still can't get over his death. but let's admit it that maybe there's a death of character that we will never get over. *takes deep breath* okay let's talk about this book ・。・゜★・。・。☆・゜・。・゜。・。・゜★・。・。☆・。・゜★・。・。 PHLEGM I have never liked Fleur Delacour very much since I first saw her on the book four and then I saw her again on the book four as Bill's girlfriend or Fiancee and I also laughed when Ginny called Fleur Phlegm. I also still don't how Bill fell in love with her but yeah, she is pretty but I thought Bill deserved someone better than her. I like Bill so much. he is so cool with his red long hair. maybe I didn't like Phlegm because I was jealous hahahaha okay it is not maybe, I was jealous. but look at this scene : ''E is always so thoughtful,' purred Fleur adoringly, stroking Bill's nose. Ginny mimed vomiting into her cereal behind Fleur. Harry choked over his cornflakes and Ron thumped him on the back. ugh ... how could I like her if she acted like that?!? that was really annoying and Ginny also found it disgusting. Hermione and Ginny didn't even like her. but she changed my mind on the the end of this book because when Bill was attacked by ... that werewolf guy who bit Remus when he was a kid. Bill is no longer as handsome as he used to be but Fleur still loves him. she doesn't care about how he looks and I even thought she would leave him after he was attacked but she didn't and that time I changed my mind about her. She is the right girl for Bill, even though I am a little bit jealous hahaha xD Ron and Hermione I ship these two so much and I really really like Ron. Ron and Hermione are always funny. they always bicker about something and I think the first time Ron fell in love with Hermione was on the book four because he was so angry when he knew Hermione went to the Yule Ball with Viktor Krum and in this book Ron hurt me so much. He thought that Hermione kissed Krum and he was so angry and jealous because of this and he kissed Lavender in the common room that was full of people and it also broke Hermione's heart. Harry looked into the corner she was indicating. There, in full view of the whole room, stood Ron wrapped so closely around Lavender Brown it was hard to tell whose hands were whose. And I was so angry in that moment 'Er - my - nee,' croaked Ron unexpectedly from between them. but all my anger was gone when he was poisoned and he said that while he was asleep. I think he was trying to say Hermione, so that meant he dreamt about her and I forgave him that exact time and he also didn't really like Lavender anymore since then. he even pretended to be asleep when Lavender came to visit him in the hospital wing. so that meant he didn't like her anymore and I don't think he actually liked Lavender before he was poisoned. I think he just kissed Lavender because he wanted to make Hermione jealous and feel hurt, which he successfully did. Harry And Ginny have you ever thought why Ginny had relationship with quite many guys? wait ... not many guys because she just dated two boys, Dean and Michael. But she always got a boyfriend as soon as she split up with her ex and my thoughs about this is probably right because Ginny said this to Harry on the end of the book 'I never really gave up on you,' she said. 'Not really. I always hoped ... Hermione told me to get on with life, maybe go out with some other people, relax a bit around you, because I never used to be able to talk if you were in the room, remember? And she thought you might take a bit more notice if I was a bit more - myself.' I think Ginny always dated a guy as soon as she split up with her ex because she always tried to forget Harry, so maybe if she had a boyfriend, she wouldn't love Harry anymore. But according to what she said she never really gave up on Harry so that means she has always loved him. I was a bit sad when Harry said they can't be together again because Harry was afraid if something would happen to Ginny if they kept seeing each other. he was afraid if Voldemort used Ginny to get him. but I didn't angry with him because this just proved how much Harry loves Ginny and I am sure they will be together again. I hope so ... Dumbledore's death I admit that Dumbledore is not one of my top favorite characters in this series but I always found him funny and a bit weird, in a good way, of course. But his death left me in shock because he was actually pleading to Snape but Snape killed him with The Avada Kedavra curse and I thought Snape was on the good side. What will happen now after Dumbledore died?! He is the only one Voldemort is afraid of. I have this feeling that I'll to lose my favorite characters again ... thank you so much for reading and liking my review. hope you all have a great weekend, guys!\",\n",
       "   'user': {'url': '/user/show/43850323-reynita-the-night-reader',\n",
       "    'name': 'Reynita ★ The Night Reader ★'},\n",
       "   'rating': 4.0,\n",
       "   'bookUrl': 'http://www.goodreads.com/book/show/1.harry_potter_and_the_half_blood_prince.warc',\n",
       "   'shelves': [{'url': '/review/list/43850323-reynita-the-night-reader?shelf=2016-reads',\n",
       "     'name': '2016-reads'},\n",
       "    {'url': '/review/list/43850323-reynita-the-night-reader?shelf=amazing-books',\n",
       "     'name': 'amazing-books'},\n",
       "    {'url': '/review/list/43850323-reynita-the-night-reader?shelf=fantasy-books',\n",
       "     'name': 'fantasy-books'},\n",
       "    {'url': '/review/list/43850323-reynita-the-night-reader?shelf=stole-my-heart',\n",
       "     'name': 'stole-my-heart'},\n",
       "    {'url': '/review/list/43850323-reynita-the-night-reader?shelf=best-friends-to-lovers',\n",
       "     'name': 'best-friends-to-lovers'},\n",
       "    {'url': '/review/list/43850323-reynita-the-night-reader?shelf=breath-in-breath-out',\n",
       "     'name': 'breath-in-breath-out'},\n",
       "    {'url': '/review/list/43850323-reynita-the-night-reader?shelf=middle-grade',\n",
       "     'name': 'middle-grade'},\n",
       "    {'url': '/review/list/43850323-reynita-the-night-reader?shelf=broke-my-heart-in-half',\n",
       "     'name': 'broke-my-heart-in-half'},\n",
       "    {'url': '/review/list/43850323-reynita-the-night-reader?shelf=live-up-my-expectation',\n",
       "     'name': 'live-up-my-expectation'},\n",
       "    {'url': '/review/list/43850323-reynita-the-night-reader?shelf=i-love-the-cover',\n",
       "     'name': 'i-love-the-cover'}]},\n",
       "  {'url': 'https://www.goodreads.com/review/show/2169299203',\n",
       "   'date': 'Oct 31, 2017',\n",
       "   'text': '4.5 Golden Stars 92% yeah, it was dark, but probably the most Hilarious book of HP; it IS a Comedy! I was rolling in laughter! by Hilarious Ron, sassy Harry & Hermione\\'s wittiness & the unique fun in the writing style, the impression, the descriptions, the comparisons. anyway, don\\'t get mad at me, but this book is my least favourite in Harry Potter series. it was kind of disappointment for me. 3 years gap, reading the other fantastic books many times, guessing & after that shocking end in book 5, looking forward to this one, to be greater than others as we are close to end... in one sentence: I was not satisfied after reading it. (IK the book was the calm before the storm, but still.) & don\\'t get me wrong; it was a disappointment Only compared to other HP books. Boring start. (2 chapters without anything related to Hogwarts or the golden trio) Harry was obsessed with what Malfoy was up to, the whole year & for the first time, I found Harry annoying many times. maybe this is the main reason I didn\\'t like this book. (I hate \\'Sectumsempra\\' chapter , always get mad at him.) yelling many times: Don\\'t! No! you idiot, Harry! because he is my favourite character...💔 (though now after many times re-reading, I actually found funny parts too, thankfully) at the end, he was right though. also, lack of funny sarcastic verbal fights between Harry & Draco :( almost whole events were like side-jobs (except the... you-know-what); A.K.A the Slug club truth: I don\\'t care about Slughorn either. those chapter he just talked & talked about celebrities once-were-his students... ughhhh. Adrenaline peak parts were not satisfying & not enough (amounts). the whole story was a bit ordinary & nothing happened in the whole school year, in particular. (like school wasn\\'t at an immediate, solid grave danger (book 2, 3, 7 & maybe 5), the golden trio wasn\\'t on solving mysteries (1, 2, 4, 5, 7) or something as intriguing as these. they were just attending classes, boring parties, slug club & these normal stuff. but in total, other parts (except Malfoy & Slug club); maybe not high peak of adrenaline (as I said), but interesting, we all wanted to know who the half-blood prince was, Quidditch was funny & the parts with Dumbledore was fascinating. I liked the second half of the book more, like finally this book stepped into action! & that end was the \"Beginning of the End\"! But main reason: his obsession with Malfoy; \\'OMG! Harry, just come off it!\\', therefore Harry being annoying, therefore lack of Harry\\'s sarcasm comebacks with Malfoy, lowered this book to my least favourite. BUT.... on the bright side, there are parts I love too: ❤ sassy Harry was the best! There\\'s no need to call me \"sir\", professor. Bless you JKR! Bless you Harry Potter! one of the sassiest comments in the history of sass masters! my first reaction when I see this, was: \"omg! Harry! did you just...!?\" & then re-read the sentence to see if I got it right & then... putting the book down (\"Hail Harry Potter!\") & burst out laughing! \"Well, you can’t break an Unbreakable Vow...\" (Gee! Thanks Ron!) \"I’d worked that much out for myself, funnily enough!” although there was no sarcastic comebacks between Harry & Malfoy, but this book had many funny moments by other characters. Harry was not just being sassy & sarcastic, but also being funny & clueless too, which was laughable. Ron\\'s jokes with ghosts always made me choke with laughter! \"and I\\'ll take his secret to the —\" \"— not the grave, surely?\" said Ron with a snort. \"The sewers, maybe.\" LOL a lot! ❤ Friendships Harry & Ron\\'s friendship (always one of my favourite brotps) funny, great, looking after each other. always love it, in all books. \"Nice,\" he said. \"Classy. You should definitely wear it in front of Fred and George.\" \"If you tell them,\" said Ron, shoving the necklace out of sight under his pillow, \"I — I — I’ll —\" \"Stutter at me?\" said Harry, grinning. \"Come on, would I!?\" Roonil Wazlib! also Harry & Hermione\\'s. (especially after Ron & Hermione\\'s bickering), beautiful, caring, protective. again, I love it in all the books. “Listen, Hermione, I can tell it’s not a girl. I can just tell.” “The truth is that you don’t think a girl would have been clever enough,” said Hermione angrily. “How can I have hung round with you for five years and not think girls are clever?” said Harry, stung by this. I actually noticed after years of rereading, now Romione has lowered in its place for me & I ship these two much more. they care so much for each other. (I\\'m thinking it\\'s also a brotp for me too. well, it\\'s complicated to decide if I want to accept the canon (because I do love canon too) or my mind. the point is, I love the moments with these two together :) ❤ the writing style is just Unique & perfect & funny! ❤ my favourite chapters are \"the Cave\" & \"Horcruxes\"; awesome, exciting with unexpected amount of surprises. I actually loved them. I loved the main-stream parts with Dumbledore. I loved how Harry, at some points, admired Tom. & how he unfolded this story & also sympathized with other characters. ❤ I liked Dumbledore in this book. ❤ at least after that terrible mistake (mentioned above), the chapter ended beautifully; my favourite part, that magical romantic moment, how well described, what a glamorous scene. My first ship finally sinking! \"Harry looked around; there was (view spoiler)[Ginny (hide spoiler)] running toward him; she had a hard, blazing look in her face as she threw her arms around him. And without thinking, without planning it, without worrying about the fact that fifty people were watching, Harry kissed her. After several long moments, or it might have been half an hour-or possibly several sunlit days- they broke apart. The creature in his chest roaring in triumph.\" (& I was really angry when the movie CHANGED this scene! actually I really loved the first 3 movies (they were so similar to the books) & 5 too (tho it was a bit different & they mostly deleted the humor parts), 4 was similar enough, just darker than my imagination. but movies 6 & 7 just had the same quotes (almost) & changed or deleted scenes a lot, therefore those completely disappointed me. :( ❤ & I was proud Harry became (view spoiler)[Team Captain (hide spoiler)]! Quidditch were funny, especially the first one (You Clever Harry! XD). except not the commentator, but Harry made a funny moment of that too ;) ❤ Don\\'t forget how Gracefully this book was written. (& how delicate she chose to show they were swearing without any direct swears, I love it, it doesn\\'t make me apprehensive, on the contrary, it makes me laugh very hard & respect the pure talent.) Hail Queen! 10th read; November 2019: I could\\'ve given 5 Stars because of Sassy Harry (I mean, Harry just being savagely Sassy this year! XD) & beautiful, magnificent choices of the words & compare to a few of my 5 stars this book definitely deserves 5; but I\\'m not satisfied with it (still things that annoy me) so I probably won\\'t. Although there\\'s a progress, the rating score has risen to 4.5 now. 13th read; June 2022: never have read this book this quick! thanks to BR with my new Potterhead! (slow down girl!🤣) - World building: ★★★★★/5 Characters: ★★★★★/5 / Characters development: ★★★★(★)/5 Written style: ★★★★★/5 Plot: ★★★/5 General idea: ★★★★(★)/5',\n",
       "   'user': {'url': '/user/show/73227612-tina-the-girl-who-lives-in-fandoms',\n",
       "    'name': 'Tina ➹ the girl who lives in Fandoms '},\n",
       "   'rating': 4.0,\n",
       "   'bookUrl': 'http://www.goodreads.com/book/show/1.harry_potter_and_the_half_blood_prince.warc',\n",
       "   'shelves': [{'url': '/review/list/73227612-tina-the-girl-who-lives-in-fandoms?shelf=disappointment',\n",
       "     'name': 'disappointment'},\n",
       "    {'url': '/review/list/73227612-tina-the-girl-who-lives-in-fandoms?shelf=review-pride',\n",
       "     'name': 'review-pride'},\n",
       "    {'url': '/review/list/73227612-tina-the-girl-who-lives-in-fandoms?shelf=golden-stars',\n",
       "     'name': 'golden-stars'},\n",
       "    {'url': '/review/list/73227612-tina-the-girl-who-lives-in-fandoms?shelf=wow-end',\n",
       "     'name': 'wow-end'},\n",
       "    {'url': '/review/list/73227612-tina-the-girl-who-lives-in-fandoms?shelf=2000-2010',\n",
       "     'name': '2000-2010'},\n",
       "    {'url': '/review/list/73227612-tina-the-girl-who-lives-in-fandoms?shelf=most-anticipated',\n",
       "     'name': 'most-anticipated'},\n",
       "    {'url': '/review/list/73227612-tina-the-girl-who-lives-in-fandoms?shelf=fun',\n",
       "     'name': 'fun'},\n",
       "    {'url': '/review/list/73227612-tina-the-girl-who-lives-in-fandoms?shelf=cover',\n",
       "     'name': 'cover'},\n",
       "    {'url': '/review/list/73227612-tina-the-girl-who-lives-in-fandoms?shelf=why-not-more',\n",
       "     'name': 'why-not-more'},\n",
       "    {'url': '/review/list/73227612-tina-the-girl-who-lives-in-fandoms?shelf=audiobooks',\n",
       "     'name': 'audiobooks'}]},\n",
       "  {'url': 'https://www.goodreads.com/review/show/973869786',\n",
       "   'date': 'Jun 21, 2014',\n",
       "   'text': \"It seems like by now, everyone would realize they should listen to Harry.. Such a sad end :( I knew that was going to happen before starting the series, but didn't know when. It still got me in the feels, though. The book as a whole was really fun and entertaining. I love the mystery and learning more about Voldemort. The romance drama was funny as well. I can't wait to see what adventures the next book brings and how it all concludes..\",\n",
       "   'user': {'url': '/user/show/8937622-kassidy', 'name': 'Kassidy'},\n",
       "   'rating': 5.0,\n",
       "   'bookUrl': 'http://www.goodreads.com/book/show/1.harry_potter_and_the_half_blood_prince.warc',\n",
       "   'shelves': [{'url': '/review/list/8937622-kassidy?shelf=favorites',\n",
       "     'name': 'favorites'}]},\n",
       "  {'url': 'https://www.goodreads.com/review/show/1237023746',\n",
       "   'date': 'Feb 21, 2017',\n",
       "   'text': \"Reminder that all of my Harry Potter reviews contain unmarked spoilers, and lots of ’em. If you’re one of the two people on Goodreads who hasn’t read this series, this review is not for you. So, my dear underside-of-a-rock-residing friends: https://emmareadstoomuch.wordpress.co... This review will be interesting, because this book was far (far, far) from perfect, and yet I am utterly determined to give it 5 stars. (Which I have only given to the first book in this series.) God, how do you talk about this book? It’s really amazing. It is really hard for me to feel anything while reading a book or generally living my life. For example, I felt nothing when Sirius died. Nothing throughout most of this series, actually. And nothing in this book, because nothing happened and everyone survived and everything is sunshiney and joyful! Ugh. I tried. The last hundred-ish pages of this book really tore me apart. Okay, even that’s not true. I’ll just come out and say it: I’m really f*cking sad that Dumbledore died. I love him so much. He’s high up in my top 5 characters. (Do I even have a top 5?) I’m devastated, which makes me even more upset, because I have a life to live today and can’t just lay around and wallow in fictional pain. I’m going to move on in the hopes that I just. Forget. Because I don’t like this at ALL. Here, we see Harry Potter - who, I think few will argue, has been a fairly mediocre character up to this point - become AMAZING. He’s motivated solely by his need to work against injustice and evil. He realizes his parents’ legacy within himself. He denounces the sucking up of others. He works hard in school! He is a good friend even when his two BFFS are being childish to one another plus refusing to believe him. In short, he’s really, really, five-star-level great here. Gorgeous character development in 650 pages. I didn’t think I liked Ginny much, because I didn’t remember this book well...like, at all. But she is so great! So funny. I wish there was more of her in this book. Also, I’ll fight anyone who says Dumbledore is ~the real villain~ of this series. He’s really not. (Cough, Snape is, cough.) AND YOU'RE NOT EDGY, PEOPLE WHO HATE DUMBLEDORE BUT LOVE SNAPE. YOU'RE JUST DUMB. I fell deeply in love with the guy. (Dumbledore, not Snape. BLEH.) AND I F*CKING MISS HIM. Goddamn it. Trying to forget didn’t last very long. Anyway. I missed Hermione and Neville. Hermione was absolutely not well-represented here at all. Maybe it’s a good thing she’s not a Ravenclaw (#RavenclawPride) because she works fully against logic throughout this book. And when she’s not she just, like, refuses to believe Harry. Ron is soooooooooo annoying! Is he anyone’s favorite character? He’s like, Fred or George if one of them was totally childish and attention-starved and mean. In fact, Ronald is a pretty impressive character for the number of gross character traits he embodies despite being supposed to be a good character. Mean, immature, rude, jealous, definition of an inferiority complex. Bleh. Harry and Ginny I’m totally for, BUT THE OTHER RELATIONSHIPS IN THIS BOOK ARE SO BORING. Can we do Hermione and Fred instead? Ron and Luna would be cute. Or, God forbid, some LGBT representation? WE KNOW YOU’RE A SUPPORTER, JOANNE. Don’t even get me started on Lupin and Tonks. Speaking of supposedly-good characters’ downfalls: I’m no longer a Hagrid fan. It started with the last book and came fully around here. Like, at a certain point, the man needs a character trait. Liking weird animals, making bad food, and being humongous don’t count. Harry and Hermione’s constant stubbornness is annoying. Plus makes the plot repetitive once in a while. Also, Tonks. You know what, I guess I AM going to get started on Lupin and Tonks! She was a hilarious badass in the last book, totally depressed and weak in this one. I know I sound like a total emotionless asshole here, but that’s who I am, and she’s annoying in this book. AND IT’S TOTALLY FINE BECAUSE SHE’S JUST BEING A SPINELESS IDIOT OVER SOME DUMB SHABBY MAN. Kill me, please. Then I can see my beloved Dumbledore again. Too much Snape. (Cannot WAIT to write the rant on him.) Too much Draco. (Why do people romanticize that little weirdo so much? I guess I get the temptation, but he’s a bully at best and a spineless traitor at worst.) I hate Kreacher and I hate Dobby...I hated Winky, too...I might hate house elves. If that makes me racist against a species of fictional character, SO BE IT, I GUESS. I miss Fred and George, and the fun people from the Order (if they existed), and Hermione and Neville aren’t here nearly enough. The price of Harry’s amazing and concise character development is WAY too many bad characters, not nearly enough of the good ones. EXCEPT DUMBLEDORE. UGHHHH. I’M SO SAD. (I think my inability to cry is making this worse. Maybe if I just creepily sobbed in front of my roommate for a few minutes I’d feel better. Damn you, my lack of emotions! Just kidding love you.) But I want to give this book five stars more than anything. It was so compulsively readable, more than any other book since the first for me. And it’s the last book where our pals are attending Hogwarts. That makes me so sad. It’s such a gorgeous setting and I’m going to miss it so much. WHY IS THIS BOOK SO SAD?! If Deathly Hallows is any sadder I’ll be seriously impressed. And also seriously screwed. And, okay, even though I was a harsh critic of these books...I’m really going to miss this series. I’ve been rereading it on and off (obviously) for three months, and it’s been a fun ride. This is one of the greatest settings of all time. And since I’m rereading it after 10 years, it’s like saying goodbye twice. AND I HATE ENDINGS. Bottom line: Okay, THIS is my favorite Harry Potter book. (Anyone else’s?) Unreal character development + tragic and lovely adieu to a gorgeous setting + ability to make me feel real, deep emotion + compulsively readable? An absolute dream. ----------ORIGINAL REVIEW--------------- Ron and Hermione's will-they-won't-they is a total snoozefest. I propose Fred & Hermione and Ron & Luna instead. Also seven more books!\",\n",
       "   'user': {'url': '/user/show/32879029-emma', 'name': 'emma'},\n",
       "   'rating': 5.0,\n",
       "   'bookUrl': 'http://www.goodreads.com/book/show/1.harry_potter_and_the_half_blood_prince.warc',\n",
       "   'shelves': [{'url': '/review/list/32879029-emma?shelf=that-setting-tho',\n",
       "     'name': 'that-setting-tho'},\n",
       "    {'url': '/review/list/32879029-emma?shelf=favorites-2017',\n",
       "     'name': 'favorites-2017'},\n",
       "    {'url': '/review/list/32879029-emma?shelf=slump-worthy',\n",
       "     'name': 'slump-worthy'},\n",
       "    {'url': '/review/list/32879029-emma?shelf=reread', 'name': 'reread'},\n",
       "    {'url': '/review/list/32879029-emma?shelf=recommend', 'name': 'recommend'},\n",
       "    {'url': '/review/list/32879029-emma?shelf=fantasy', 'name': 'fantasy'},\n",
       "    {'url': '/review/list/32879029-emma?shelf=reviewed', 'name': 'reviewed'},\n",
       "    {'url': '/review/list/32879029-emma?shelf=5-stars', 'name': '5-stars'},\n",
       "    {'url': '/review/list/32879029-emma?shelf=ya', 'name': 'ya'}]},\n",
       "  {'url': 'https://www.goodreads.com/review/show/2065158293',\n",
       "   'date': 'Jan 13, 2020',\n",
       "   'text': 'Do you know what is better than this book (this book being already amazing)? This book narrated by Stephen Fry. I swear, this was my second attempt EVER to listen to an audiobook and the narration was so good I actually enjoyed it so much. And I hate listening to audiobooks!',\n",
       "   'user': {'url': '/user/show/69603149-teodora', 'name': ' Teodora '},\n",
       "   'rating': 5.0,\n",
       "   'bookUrl': 'http://www.goodreads.com/book/show/1.harry_potter_and_the_half_blood_prince.warc',\n",
       "   'shelves': [{'url': '/review/list/69603149-teodora?shelf=fantasy',\n",
       "     'name': 'fantasy'},\n",
       "    {'url': '/review/list/69603149-teodora?shelf=favorites',\n",
       "     'name': 'favorites'},\n",
       "    {'url': '/review/list/69603149-teodora?shelf=ya', 'name': 'ya'}]},\n",
       "  {'url': 'https://www.goodreads.com/review/show/2000483921',\n",
       "   'date': 'May 15, 2017',\n",
       "   'text': \"ENGLISH (Harry Potter and the Half-Blood Prince) / ITALIANO «It was nearing midnight and the Prime Minister was sitting alone in his office, reading a long memo that was slipping through his brain without leaving the slightest trace of meaning behind» Due to numerous attacks of Death Eaters, the new Minister for Magic Rufus Scrimgeour, duly appointed, decides to meet the muggle British Prime Minister... It's the first time that the Muggle world and the magic one come bluntly face to face. J.K. Rowling chooses that the first chapter of this novel is the right time for this interaction, highlighting the dramatic situation and the necessary cooperation to stem the enemy of all: Lord Voldemort. The bedtime reading for my daughter became less lighthearted and more serious by now. Luckily, for some difficult questions Dumbledore bails me out every time: «It is the unknown we fear when we look upon death and darkness, nothing more» We're almost there, the end of the journey is close. Unfortunately, it will never be the same. Vote: 9 «Era quasi mezzanotte e il Primo Ministro stava seduto da solo nel suo ufficio, a leggere una lunga relazione che gli scivolava via dalla mente senza lasciare la minima traccia» A seguito dei numerosi attacchi dei mangiamorte, Il nuovo Ministro della Magia Rufus Scrimgeour, fresco di nomina, decide di incontrare il Primo Ministro britannico babbano... E' la prima volta che il mondo babbano e quello magico si trovano ad interloquire senza mezzi termini. J.K. Rowling decide che il primo capitolo è il momento giusto per questa interazione, a sottolineare la drammaticità della situazione e la necessaria collaborazione allo scopo di arginare il nemico di tutti: Voldemort. Oramai la lettura serale per mia figlia si è fatta decisamente meno spensierata e più impegnata. Per fortuna, per alcune questioni spinose c'è sempre Silente a togliermi le castagne dal fuoco: «È l'ignoto che temiamo, quando guardiamo la morte e il buio, nient'altro» Ci siamo quasi, la fine del viaggio è vicina. Purtroppo per noi, però, non sarà più come prima. Voto: 9\",\n",
       "   'user': {'url': '/user/show/53478239-luca-ambrosino',\n",
       "    'name': 'Luca Ambrosino'},\n",
       "   'rating': 5.0,\n",
       "   'bookUrl': 'http://www.goodreads.com/book/show/1.harry_potter_and_the_half_blood_prince.warc',\n",
       "   'shelves': []},\n",
       "  {'url': 'https://www.goodreads.com/review/show/2812346695',\n",
       "   'date': 'May 12, 2019',\n",
       "   'text': \"I have read this book many times, although the penultimate one was years ago. Let's say that this was the first time I've read them in e-book form. The reading was marvellous. There were things I'd forgotten, e.g. how late Harry and Ginny got together. I'd also forgotten about most of the funeral. I'll say no more, spoilers oblige. What this book tells me is that sadly the more conservative of readers, grammarians etc will place so many books above Harry Potter #6, none of which is worth mentioning in the same breath as Potter lore. To me this series is special. Nobody else will undertake waiting for each book to come out and lay our hands on them. The Potter universe will belong to our descendants forever. But it was we who helped create this fervor and unmatched popularity.\",\n",
       "   'user': {'url': '/user/show/7407364-luffy', 'name': 'Luffy'},\n",
       "   'rating': 5.0,\n",
       "   'bookUrl': 'http://www.goodreads.com/book/show/1.harry_potter_and_the_half_blood_prince.warc',\n",
       "   'shelves': [{'url': '/review/list/7407364-luffy?shelf=popular',\n",
       "     'name': 'popular'},\n",
       "    {'url': '/review/list/7407364-luffy?shelf=5-star', 'name': '5-star'},\n",
       "    {'url': '/review/list/7407364-luffy?shelf=funny', 'name': 'funny'},\n",
       "    {'url': '/review/list/7407364-luffy?shelf=romance', 'name': 'romance'},\n",
       "    {'url': '/review/list/7407364-luffy?shelf=chunkster', 'name': 'chunkster'},\n",
       "    {'url': '/review/list/7407364-luffy?shelf=page-turner',\n",
       "     'name': 'page-turner'},\n",
       "    {'url': '/review/list/7407364-luffy?shelf=fantasy', 'name': 'fantasy'}]},\n",
       "  {'url': 'https://www.goodreads.com/review/show/2502441099',\n",
       "   'date': 'Aug 21, 2018',\n",
       "   'text': 'Actual rating: 4.25 stars This review and other non-spoilery reviews can be found @The Book Prescription Why did Professor Snape stand in the middle of the road? So you’ll never know which side he’s on!!',\n",
       "   'user': {'url': '/user/show/54464244-hamad', 'name': 'Hamad'},\n",
       "   'rating': 4.0,\n",
       "   'bookUrl': 'http://www.goodreads.com/book/show/1.harry_potter_and_the_half_blood_prince.warc',\n",
       "   'shelves': [{'url': '/review/list/54464244-hamad?shelf=paperbacks',\n",
       "     'name': 'paperbacks'},\n",
       "    {'url': '/review/list/54464244-hamad?shelf=2018-reads',\n",
       "     'name': '2018-reads'},\n",
       "    {'url': '/review/list/54464244-hamad?shelf=good-covers',\n",
       "     'name': 'good-covers'},\n",
       "    {'url': '/review/list/54464244-hamad?shelf=e-books', 'name': 'e-books'}]},\n",
       "  {'url': 'https://www.goodreads.com/review/show/777769104',\n",
       "   'date': 'Nov 30, 2013',\n",
       "   'text': \"3rd read: August 2018 - audiobook I will never get over Stephen Fry's narration. It's simply magical ✨ 2nd read: Jan - Feb 2018 ROONIL WAZLIB\",\n",
       "   'user': {'url': '/user/show/10350463-chloe', 'name': 'chloe'},\n",
       "   'rating': 5.0,\n",
       "   'bookUrl': 'http://www.goodreads.com/book/show/1.harry_potter_and_the_half_blood_prince.warc',\n",
       "   'shelves': [{'url': '/review/list/10350463-chloe?shelf=audiobooks',\n",
       "     'name': 'audiobooks'},\n",
       "    {'url': '/review/list/10350463-chloe?shelf=5-stars', 'name': '5-stars'},\n",
       "    {'url': '/review/list/10350463-chloe?shelf=2018-reads',\n",
       "     'name': '2018-reads'},\n",
       "    {'url': '/review/list/10350463-chloe?shelf=re-reads', 'name': 're-reads'},\n",
       "    {'url': '/review/list/10350463-chloe?shelf=best-audiobooks',\n",
       "     'name': 'best-audiobooks'}]},\n",
       "  {'url': 'https://www.goodreads.com/review/show/1861817425',\n",
       "   'date': 'Jan 07, 2017',\n",
       "   'text': 'Always been my favorite out of the seven.',\n",
       "   'user': {'url': '/user/show/37089590-april', 'name': 'April'},\n",
       "   'rating': 5.0,\n",
       "   'bookUrl': 'http://www.goodreads.com/book/show/1.harry_potter_and_the_half_blood_prince.warc',\n",
       "   'shelves': []},\n",
       "  {'url': 'https://www.goodreads.com/review/show/893341687',\n",
       "   'date': 'Mar 27, 2014',\n",
       "   'text': '“It is the unknown we fear when we look upon death and darkness, nothing more.” This brought my right back to my 14-year old self, who was cooped up in bed, shedding tears for the first time over a book, because of the ending. I remember how I lay in bed, I remember the sun shining through the blinds and how wounded I felt that we lost one of the greats. This still remains my favourite in the series alongside Deathly Hallows. I’m glad this series has resonated with me for so long, is still stuck with me and will continue to do so always. ——————————————— I read this many times when I was younger. But this is the first time I’m picking it back up in over a decade. Buddy-reading with two questionable characters: Snape’s wife and his brother. 😬',\n",
       "   'user': {'url': '/user/show/30036082-warda', 'name': 'Warda'},\n",
       "   'rating': 5.0,\n",
       "   'bookUrl': 'http://www.goodreads.com/book/show/1.harry_potter_and_the_half_blood_prince.warc',\n",
       "   'shelves': [{'url': '/review/list/30036082-warda?shelf=i-fell-in-love',\n",
       "     'name': 'i-fell-in-love'},\n",
       "    {'url': '/review/list/30036082-warda?shelf=reread-worthy',\n",
       "     'name': 'reread-worthy'},\n",
       "    {'url': '/review/list/30036082-warda?shelf=re-reads',\n",
       "     'name': 're-reads'}]},\n",
       "  {'url': 'https://www.goodreads.com/review/show/659760081',\n",
       "   'date': 'Jul 05, 2013',\n",
       "   'text': \"1.) Harry Potter and the Philosopher's Stone ★★★★★ 2.) Harry Potter and the Chamber of Secrets ★★★★★ 3.) Harry Potter and the Prisoner of Azkaban ★★★★★ 4.) Harry Potter and the Goblet of Fire ★★★★★ 5) Harry Potter and the Order of the Phoenix ★★★★★ 6.) Harry Potter and the Half Blood Prince ★★★★★ 7) Harry Potter and the Deathly Hallows ★★★★★ 8.) Harry Potter and the Cursed Child ★★ --------------------------------------------------\",\n",
       "   'user': {'url': '/user/show/20658145-april-aprilius-maximus',\n",
       "    'name': 'April (Aprilius Maximus)'},\n",
       "   'rating': 5.0,\n",
       "   'bookUrl': 'http://www.goodreads.com/book/show/1.harry_potter_and_the_half_blood_prince.warc',\n",
       "   'shelves': []},\n",
       "  {'url': 'https://www.goodreads.com/review/show/1559687349',\n",
       "   'date': 'Feb 24, 2016',\n",
       "   'text': 'Buddyread with the cutest Trixi. *sniffs* I have actually finished this several days ago but I spent those days mourning for the loss of one of my favorite characters of all time and before I start bawling my heart and eyes out again, let me straight away proceed to the random thoughts while and after reading the book. *sniffs* 1. *Gasps* Professor Snape??? 2. Harry’s Quidditch Captain! Yaaas! 3. Weasleys’ Wizzard Wheezes (Say this ten times) 4. Malfoy’s head on Pansy Parkinson’s lap and Pansy stroking his head. *shudders* 5. Slughorn’s belly preceded him out of the door. Bahaha 6. Potions class has never been this cheerful. Thanks Grampy Sloghorn and Harry has never performed better. Thanks to cheating. Lol. 7. Ron, you bollocks! Stop being an idiot, WonWon! 8. Voldemort as a student seems to me even more sinister than the Dark Lord he already is. *shivers* 9. Like Harry, I am Dumbledore’s man through and through. Take that, Rufus! 10. I’d go back to school anytime if it meant having Professor Dumbledore as a teacher. 11. Aherm! Why do you keep looking for Ginny, now Harry? 12. There’s a reason a Dark Arts teacher stays only for a year. It’s all clear now. 13. Who would have thought that the once timid Ginny will blossom into a confident, beautiful, charming, funny and best of all, snarky girl? 14. Chapter 24 will particularly make you swoon! Gaaah! (view spoiler)[ I ship Harry and Ginny! <3 (hide spoiler)] 15. RIP, Aragog. 16. For the first time, I solved the mystery! (view spoiler)[ I have guessed early on in the story that the Half Blood Prince was Snape! Yaaas! (hide spoiler)] 17. I knew there was a reason Harry spent so much time with Professor Dumbledore. I can’t…*sobs* Some of the things/characters missing in the movie: 1. Kreacher and Dobby 2. Bill and Fleur 3. Dumbledore’s Army and the Order of the Phoenix putting up a fight against the Dark Eaters. 4. . Harry breaking up with Ginny which reminds me of Peter Parker and Mj. Finally, as a simple tribute to the wisest, kindest, most revered and one of the most powerful wizards (whose death out of the many deaths hurts me the most that I cried so much, I may have cried harder than Hagrid), the following is a collection of a few of his great thoughts and words that’ll be forever etched in our hearts. *sniffs* “In fact, being-forgive me- rather cleverer than most men, my mistakes tend to be correspondingly huger.” “People find it a lot easier to forgive others for being wrong than being right.” “It does not do to dwell on dreams and forget to live.” “Words are, in my not-so-humble opinion, our most inexhaustible source of magic. Capable of both inflicting injury, and remedying it.\" “The pain is part of being human. The fact that you can feel pain like this is your greatest strength.” “To the well organized mind, death is but the next adventure.” “It’s not really goodbye after all.” On a lighter note, it\\'s beautiful Katerina\\'s birthday today, let\\'s spare a few moments to greet her a HAPPIEST BIRTHDAY! Even though you\\'re quite busy for Goodreads and reading atm, I hope you\\'re doing something that\\'s making you happy today! Enjoy! <3',\n",
       "   'user': {'url': '/user/show/30248594-aj-the-ravenous-reader',\n",
       "    'name': 'Aj the Ravenous Reader'},\n",
       "   'rating': 5.0,\n",
       "   'bookUrl': 'http://www.goodreads.com/book/show/1.harry_potter_and_the_half_blood_prince.warc',\n",
       "   'shelves': [{'url': '/review/list/30248594-aj-the-ravenous-reader?shelf=emotionally-intense',\n",
       "     'name': 'emotionally-intense'},\n",
       "    {'url': '/review/list/30248594-aj-the-ravenous-reader?shelf=fantasy',\n",
       "     'name': 'fantasy'},\n",
       "    {'url': '/review/list/30248594-aj-the-ravenous-reader?shelf=classic',\n",
       "     'name': 'classic'},\n",
       "    {'url': '/review/list/30248594-aj-the-ravenous-reader?shelf=five-stars',\n",
       "     'name': 'five-stars'}]},\n",
       "  {'url': 'https://www.goodreads.com/review/show/207711145',\n",
       "   'date': 'Sep 12, 2011',\n",
       "   'text': 'Spoilers for anyone who has never read the books or seen the movies. In which case, have you been living under a rock?! (view spoiler)[\"Do not pity the dead, Harry. Pity the living, and, above all those who live without love.\" Albus Dumbledore is by far one of my favourite characters. He is clever, kind, badass, but most of all, he is weird. And I like weird. I like the way his first-day-of-the-year speeches make no sense at all. I like how he uses different types of candy for his office passwords. I like how he says he sees a new pair of socks in the Mirror of Erised. I like how he believes Harry unconditionally, no matter how farfetched his story may seem. He’s been a guide, a counselor, a friend, not only to Harry, but to everyone Albus cared about. He’s been a shoulder, a rock, some form of hope to everyone who had the privilege to be a part of his life. Everyone looked up to him. The darkest wizard of all time feared him. Yet he never looks dangerous. He is always this calm, serene person with a smile on his face, entertaining us with his wise, often odd sayings. He never put himself first; always thought of others. And even after his death will he be a beacon of hope, of faith, of everything the good side represents. Professor Dumbledore, I will always be loyal to you. You will never be forgotten. May you rest in peace. Even though he was a bit of a dick sometimes. (hide spoiler)]',\n",
       "   'user': {'url': '/user/show/6278820-inge', 'name': 'Inge'},\n",
       "   'rating': 5.0,\n",
       "   'bookUrl': 'http://www.goodreads.com/book/show/1.harry_potter_and_the_half_blood_prince.warc',\n",
       "   'shelves': [{'url': '/review/list/6278820-inge?shelf=magic',\n",
       "     'name': 'magic'},\n",
       "    {'url': '/review/list/6278820-inge?shelf=faeries-fae-elves',\n",
       "     'name': 'faeries-fae-elves'},\n",
       "    {'url': '/review/list/6278820-inge?shelf=all-time-favourites',\n",
       "     'name': 'all-time-favourites'},\n",
       "    {'url': '/review/list/6278820-inge?shelf=villain-antihero-love',\n",
       "     'name': 'villain-antihero-love'},\n",
       "    {'url': '/review/list/6278820-inge?shelf=young-adult',\n",
       "     'name': 'young-adult'},\n",
       "    {'url': '/review/list/6278820-inge?shelf=fantasy', 'name': 'fantasy'}]},\n",
       "  {'url': 'https://www.goodreads.com/review/show/1829616949',\n",
       "   'date': 'Dec 04, 2016',\n",
       "   'text': 'Harry Potter and the Half Blood Prince. \\u2028\\u2028There were some things I truly loved about this one. I loved how the bulk of the book, nothing crazy happened. It felt like some of the older books and I love that feeling. All the Harry and Dumbledore time we got, the memories of Voldemort’s past (which were very interesting) and of course Harry and Ginny, who I’ve shipped for a while now finally got their shot. That’s the good. There is also a lot of sadness and despair. A very important and influential character dies. Sides are chosen. People you trust turn out to be not who they say they are (or so we think…) The last 2 hours of this 18 hour audio book broke my heart. I almost want to wait a while to do the final book, but I really want to finish these books by the end of 2016 so I better start it straight away. Wish me luck! I know I’ll need it xoxo',\n",
       "   'user': {'url': '/user/show/11284813-christy', 'name': 'Christy'},\n",
       "   'rating': 5.0,\n",
       "   'bookUrl': 'http://www.goodreads.com/book/show/1.harry_potter_and_the_half_blood_prince.warc',\n",
       "   'shelves': [{'url': '/review/list/11284813-christy?shelf=2016-ya-challenge',\n",
       "     'name': '2016-ya-challenge'},\n",
       "    {'url': '/review/list/11284813-christy?shelf=2016-audios',\n",
       "     'name': '2016-audios'}]}],\n",
       " 'language': 'English',\n",
       " 'numPages': 652,\n",
       " 'seriesUrl': '/series/45175-harry-potter',\n",
       " 'numRatings': 2861252,\n",
       " 'numReviews': 47883,\n",
       " 'description': \"The war against Voldemort is not going well; even Muggle governments are noticing. Ron scans the obituary pages of the Daily Prophet, looking for familiar names. Dumbledore is absent from Hogwarts for long stretches of time, and the Order of the Phoenix has already suffered losses. And yet . . . As in all wars, life goes on. The Weasley twins expand their business. Sixth-year students learn to Apparate - and lose a few eyebrows in the process. Teenagers flirt and fight and fall in love. Classes are never straightforward, through Harry receives some extraordinary help from the mysterious Half-Blood Prince. So it's the home front that takes center stage in the multilayered sixth installment of the story of Harry Potter. Here at Hogwarts, Harry will search for the full and complete story of the boy who became Lord Voldemort - and thereby find what may be his only vulnerability.\",\n",
       " 'averageRating': 4.57,\n",
       " 'seriesAndOrdinal': '(Harry Potter #6)',\n",
       " 'otherEditionsLink': '/work/editions/41335427-harry-potter-and-the-half-blood-prince',\n",
       " 'publicationDetails': 'Published September 16th 2006 by Scholastic Inc. (first published July 16th 2005)'}"
      ]
     },
     "execution_count": 17,
     "metadata": {},
     "output_type": "execute_result"
    }
   ],
   "source": [
    "parsed_dict"
   ]
  },
  {
   "cell_type": "code",
   "execution_count": 18,
   "id": "73465476-4499-4f51-8247-d08dd94ef26c",
   "metadata": {},
   "outputs": [],
   "source": [
    "# import json\n",
    "\n",
    "# with open(\"parsed_output.json\", \"w\") as file:\n",
    "#     json.dump(parsed_dict, file, indent=4)\n"
   ]
  },
  {
   "cell_type": "code",
   "execution_count": 19,
   "id": "40814878-d046-4acc-9b85-8e81d7cdbed7",
   "metadata": {},
   "outputs": [
    {
     "name": "stdout",
     "output_type": "stream",
     "text": [
      "isbn\n",
      "\n",
      "title\n",
      "\n",
      "format\n",
      "\n",
      "\t1: url\n",
      "\t2: name\n",
      "\n",
      "authors\n",
      "\n",
      "\t1: url\n",
      "\t2: date\n",
      "\t3: text\n",
      "\t4: user\n",
      "\t5: rating\n",
      "\t6: bookUrl\n",
      "\t7: shelves\n",
      "\n",
      "\t1: url\n",
      "\t2: date\n",
      "\t3: text\n",
      "\t4: user\n",
      "\t5: rating\n",
      "\t6: bookUrl\n",
      "\t7: shelves\n",
      "\n",
      "\t1: url\n",
      "\t2: date\n",
      "\t3: text\n",
      "\t4: user\n",
      "\t5: rating\n",
      "\t6: bookUrl\n",
      "\t7: shelves\n",
      "\n",
      "\t1: url\n",
      "\t2: date\n",
      "\t3: text\n",
      "\t4: user\n",
      "\t5: rating\n",
      "\t6: bookUrl\n",
      "\t7: shelves\n",
      "\n",
      "\t1: url\n",
      "\t2: date\n",
      "\t3: text\n",
      "\t4: user\n",
      "\t5: rating\n",
      "\t6: bookUrl\n",
      "\t7: shelves\n",
      "\n",
      "\t1: url\n",
      "\t2: date\n",
      "\t3: text\n",
      "\t4: user\n",
      "\t5: rating\n",
      "\t6: bookUrl\n",
      "\t7: shelves\n",
      "\n",
      "\t1: url\n",
      "\t2: date\n",
      "\t3: text\n",
      "\t4: user\n",
      "\t5: rating\n",
      "\t6: bookUrl\n",
      "\t7: shelves\n",
      "\n",
      "\t1: url\n",
      "\t2: date\n",
      "\t3: text\n",
      "\t4: user\n",
      "\t5: rating\n",
      "\t6: bookUrl\n",
      "\t7: shelves\n",
      "\n",
      "\t1: url\n",
      "\t2: date\n",
      "\t3: text\n",
      "\t4: user\n",
      "\t5: rating\n",
      "\t6: bookUrl\n",
      "\t7: shelves\n",
      "\n",
      "\t1: url\n",
      "\t2: date\n",
      "\t3: text\n",
      "\t4: user\n",
      "\t5: rating\n",
      "\t6: bookUrl\n",
      "\t7: shelves\n",
      "\n",
      "\t1: url\n",
      "\t2: date\n",
      "\t3: text\n",
      "\t4: user\n",
      "\t5: rating\n",
      "\t6: bookUrl\n",
      "\t7: shelves\n",
      "\n",
      "\t1: url\n",
      "\t2: date\n",
      "\t3: text\n",
      "\t4: user\n",
      "\t5: rating\n",
      "\t6: bookUrl\n",
      "\t7: shelves\n",
      "\n",
      "\t1: url\n",
      "\t2: date\n",
      "\t3: text\n",
      "\t4: user\n",
      "\t5: rating\n",
      "\t6: bookUrl\n",
      "\t7: shelves\n",
      "\n",
      "\t1: url\n",
      "\t2: date\n",
      "\t3: text\n",
      "\t4: user\n",
      "\t5: rating\n",
      "\t6: bookUrl\n",
      "\t7: shelves\n",
      "\n",
      "\t1: url\n",
      "\t2: date\n",
      "\t3: text\n",
      "\t4: user\n",
      "\t5: rating\n",
      "\t6: bookUrl\n",
      "\t7: shelves\n",
      "\n",
      "\t1: url\n",
      "\t2: date\n",
      "\t3: text\n",
      "\t4: user\n",
      "\t5: rating\n",
      "\t6: bookUrl\n",
      "\t7: shelves\n",
      "\n",
      "\t1: url\n",
      "\t2: date\n",
      "\t3: text\n",
      "\t4: user\n",
      "\t5: rating\n",
      "\t6: bookUrl\n",
      "\t7: shelves\n",
      "\n",
      "\t1: url\n",
      "\t2: date\n",
      "\t3: text\n",
      "\t4: user\n",
      "\t5: rating\n",
      "\t6: bookUrl\n",
      "\t7: shelves\n",
      "\n",
      "\t1: url\n",
      "\t2: date\n",
      "\t3: text\n",
      "\t4: user\n",
      "\t5: rating\n",
      "\t6: bookUrl\n",
      "\t7: shelves\n",
      "\n",
      "\t1: url\n",
      "\t2: date\n",
      "\t3: text\n",
      "\t4: user\n",
      "\t5: rating\n",
      "\t6: bookUrl\n",
      "\t7: shelves\n",
      "\n",
      "\t1: url\n",
      "\t2: date\n",
      "\t3: text\n",
      "\t4: user\n",
      "\t5: rating\n",
      "\t6: bookUrl\n",
      "\t7: shelves\n",
      "\n",
      "\t1: url\n",
      "\t2: date\n",
      "\t3: text\n",
      "\t4: user\n",
      "\t5: rating\n",
      "\t6: bookUrl\n",
      "\t7: shelves\n",
      "\n",
      "\t1: url\n",
      "\t2: date\n",
      "\t3: text\n",
      "\t4: user\n",
      "\t5: rating\n",
      "\t6: bookUrl\n",
      "\t7: shelves\n",
      "\n",
      "\t1: url\n",
      "\t2: date\n",
      "\t3: text\n",
      "\t4: user\n",
      "\t5: rating\n",
      "\t6: bookUrl\n",
      "\t7: shelves\n",
      "\n",
      "\t1: url\n",
      "\t2: date\n",
      "\t3: text\n",
      "\t4: user\n",
      "\t5: rating\n",
      "\t6: bookUrl\n",
      "\t7: shelves\n",
      "\n",
      "\t1: url\n",
      "\t2: date\n",
      "\t3: text\n",
      "\t4: user\n",
      "\t5: rating\n",
      "\t6: bookUrl\n",
      "\t7: shelves\n",
      "\n",
      "\t1: url\n",
      "\t2: date\n",
      "\t3: text\n",
      "\t4: user\n",
      "\t5: rating\n",
      "\t6: bookUrl\n",
      "\t7: shelves\n",
      "\n",
      "\t1: url\n",
      "\t2: date\n",
      "\t3: text\n",
      "\t4: user\n",
      "\t5: rating\n",
      "\t6: bookUrl\n",
      "\t7: shelves\n",
      "\n",
      "\t1: url\n",
      "\t2: date\n",
      "\t3: text\n",
      "\t4: user\n",
      "\t5: rating\n",
      "\t6: bookUrl\n",
      "\t7: shelves\n",
      "\n",
      "\t1: url\n",
      "\t2: date\n",
      "\t3: text\n",
      "\t4: user\n",
      "\t5: rating\n",
      "\t6: bookUrl\n",
      "\t7: shelves\n",
      "\n",
      "reviews\n",
      "\n",
      "language\n",
      "\n",
      "numPages\n",
      "\n",
      "seriesUrl\n",
      "\n",
      "numRatings\n",
      "\n",
      "numReviews\n",
      "\n",
      "description\n",
      "\n",
      "averageRating\n",
      "\n",
      "seriesAndOrdinal\n",
      "\n",
      "otherEditionsLink\n",
      "\n",
      "publicationDetails\n",
      "\n"
     ]
    }
   ],
   "source": [
    "for key, value in parsed_dict.items():\n",
    "    if isinstance(value, list):\n",
    "        for i in range(len(value)):\n",
    "            counter = 0\n",
    "            for s_key, s_value in value[i-1].items():\n",
    "                counter += 1\n",
    "                print(f\"\\t{counter}: {s_key}\", end=\"\\n\")\n",
    "            print()\n",
    "\n",
    "    print(f\"{key}\\n\")"
   ]
  },
  {
   "cell_type": "code",
   "execution_count": 20,
   "id": "99660a52-cf69-4a5e-8fec-99baa03c9bdd",
   "metadata": {},
   "outputs": [
    {
     "data": {
      "text/plain": [
       "['isbn',\n",
       " 'title',\n",
       " 'format',\n",
       " 'authors',\n",
       " 'reviews',\n",
       " 'language',\n",
       " 'numPages',\n",
       " 'seriesUrl',\n",
       " 'numRatings',\n",
       " 'numReviews',\n",
       " 'description',\n",
       " 'averageRating',\n",
       " 'seriesAndOrdinal',\n",
       " 'otherEditionsLink',\n",
       " 'publicationDetails']"
      ]
     },
     "execution_count": 20,
     "metadata": {},
     "output_type": "execute_result"
    }
   ],
   "source": [
    "list(parsed_dict.keys())"
   ]
  },
  {
   "cell_type": "markdown",
   "id": "0d1abd53-7fcb-4ef6-9eac-ec332b6a7368",
   "metadata": {},
   "source": [
    "# Selecting columns from the dataset\n",
    "#### Defining the Schema\n",
    "isbn \\\n",
    "title \\\n",
    "format\n",
    "1. url\n",
    "2. name\n",
    "   \n",
    "authors\n",
    "1. url \n",
    "2. date \n",
    "3. text \n",
    "4. user\n",
    "5. rating\n",
    "6. bookUrl\n",
    "7. shelves\n",
    " \n",
    "reviews \\\n",
    "language \\\n",
    "numPages \\\n",
    "seriesUrl \\\n",
    "numRatings \\\n",
    "numReviews \\\n",
    "description \\\n",
    "averageRating \\\n",
    "seriesAndOrdinal \\\n",
    "otherEditionsLink \\\n",
    "publicationDetails\n"
   ]
  },
  {
   "cell_type": "code",
   "execution_count": 22,
   "id": "0cfb14c9-3cd7-4969-bf09-ae448fb2da54",
   "metadata": {},
   "outputs": [],
   "source": [
    "# Define schema for JSON\n",
    "schema = StructType([\n",
    "    StructField(\"isbn\", StringType(), True),\n",
    "    StructField(\"title\", StringType(), True),\n",
    "    StructField(\"authors\", ArrayType(StructType([\n",
    "        StructField(\"url\", StringType(), True),\n",
    "        StructField(\"name\", StringType(), True),\n",
    "    ])), True),\n",
    "    StructField(\"reviews\", ArrayType(StructType([\n",
    "        StructField(\"url\", StringType(), True),\n",
    "        StructField(\"date\", StringType(), True),\n",
    "        StructField(\"text\", StringType(), True),\n",
    "        StructField(\"user\", StructType([\n",
    "            StructField(\"url\", StringType(), True), \n",
    "            StructField(\"name\", StringType(), True),\n",
    "        ]), True),\n",
    "        StructField(\"rating\", DoubleType(), True),\n",
    "        StructField(\"bookUrl\", StringType(), True),\n",
    "    ])), True),\n",
    "    StructField(\"language\", StringType(), True),\n",
    "    StructField(\"numPages\", DoubleType(), True),\n",
    "    StructField(\"seriesUrl\", StringType(), True),\n",
    "    StructField(\"numRatings\", DoubleType(), True),\n",
    "    StructField(\"numReviews\", StringType(), True),\n",
    "    StructField(\"description\", StringType(), True),\n",
    "    StructField(\"averageRating\", StringType(), True),\n",
    "    StructField(\"seriesAndOrdinal\", StringType(), True),    \n",
    "])"
   ]
  },
  {
   "cell_type": "code",
   "execution_count": 23,
   "id": "7f149b68-a97d-4f91-8a27-a70d27c71857",
   "metadata": {},
   "outputs": [],
   "source": [
    "parsed_df = json_data.selectExpr(f\"from_json(json_data, '{schema.simpleString()}') as parsed_data\")"
   ]
  },
  {
   "cell_type": "code",
   "execution_count": 24,
   "id": "5a866d57-b538-428d-b134-74c6366816f3",
   "metadata": {},
   "outputs": [
    {
     "name": "stdout",
     "output_type": "stream",
     "text": [
      "root\n",
      " |-- parsed_data: struct (nullable = true)\n",
      " |    |-- isbn: string (nullable = true)\n",
      " |    |-- title: string (nullable = true)\n",
      " |    |-- authors: array (nullable = true)\n",
      " |    |    |-- element: struct (containsNull = true)\n",
      " |    |    |    |-- url: string (nullable = true)\n",
      " |    |    |    |-- name: string (nullable = true)\n",
      " |    |-- reviews: array (nullable = true)\n",
      " |    |    |-- element: struct (containsNull = true)\n",
      " |    |    |    |-- url: string (nullable = true)\n",
      " |    |    |    |-- date: string (nullable = true)\n",
      " |    |    |    |-- text: string (nullable = true)\n",
      " |    |    |    |-- user: struct (nullable = true)\n",
      " |    |    |    |    |-- url: string (nullable = true)\n",
      " |    |    |    |    |-- name: string (nullable = true)\n",
      " |    |    |    |-- rating: double (nullable = true)\n",
      " |    |    |    |-- bookUrl: string (nullable = true)\n",
      " |    |-- language: string (nullable = true)\n",
      " |    |-- numPages: double (nullable = true)\n",
      " |    |-- seriesUrl: string (nullable = true)\n",
      " |    |-- numRatings: double (nullable = true)\n",
      " |    |-- numReviews: string (nullable = true)\n",
      " |    |-- description: string (nullable = true)\n",
      " |    |-- averageRating: string (nullable = true)\n",
      " |    |-- seriesAndOrdinal: string (nullable = true)\n",
      "\n"
     ]
    }
   ],
   "source": [
    "parsed_df.printSchema()"
   ]
  },
  {
   "cell_type": "code",
   "execution_count": 25,
   "id": "55115930-0628-4536-ab2f-937100136560",
   "metadata": {},
   "outputs": [
    {
     "name": "stdout",
     "output_type": "stream",
     "text": [
      "+--------------------+\n",
      "|         parsed_data|\n",
      "+--------------------+\n",
      "|{NULL, Harry Pott...|\n",
      "|{9780439785969, H...|\n",
      "|{NULL, Harry Pott...|\n",
      "|{NULL, Harry Pott...|\n",
      "|{NULL, Harry Pott...|\n",
      "|{9780439785969, H...|\n",
      "|{9780439827607, H...|\n",
      "|{9780439827607, H...|\n",
      "|{9781581805635, S...|\n",
      "|{9780761458050, H...|\n",
      "+--------------------+\n",
      "only showing top 10 rows\n",
      "\n"
     ]
    }
   ],
   "source": [
    "parsed_df.show(10)"
   ]
  },
  {
   "cell_type": "code",
   "execution_count": 26,
   "id": "79a9a3a6-2d0c-442c-9614-b592e70cc7d7",
   "metadata": {},
   "outputs": [
    {
     "name": "stdout",
     "output_type": "stream",
     "text": [
      "                                          parsed_data\n",
      "0   (None, Harry Potter and the Half-Blood Prince,...\n",
      "1   (9780439785969, Harry Potter and the Half-Bloo...\n",
      "2   (None, Harry Potter and the Half-Blood Prince,...\n",
      "3   (None, Harry Potter and the Half-Blood Prince,...\n",
      "4   (None, Harry Potter and the Half-Blood Prince,...\n",
      "5   (9780439785969, Harry Potter and the Half-Bloo...\n",
      "6   (9780439827607, Harry Potter Collection, [(htt...\n",
      "7   (9780439827607, Harry Potter Collection, [(htt...\n",
      "8   (9781581805635, Simply Beautiful Beading: 53 Q...\n",
      "9   (9780761458050, How to Teach a Slug to Read, [...\n",
      "10  (9781455814244, Warmth of Other Suns, The: The...\n",
      "11  (9781441786258, What Women Want: The Global Ma...\n",
      "12  (9788497932806, Una pasion Indomable, [(https:...\n",
      "13  (9780984502202, Yellow Crocus, [(https://www.g...\n",
      "14  (9780984502202, Yellow Crocus, [(https://www.g...\n",
      "15  (B003AYEMX4, Treacherous Moon, [(https://www.g...\n",
      "16  (9789774215001, الغجر وأعمال أخرى, [(https://w...\n",
      "17  (9784906574735, Making Good Shape, [(https://w...\n",
      "18  (9781587732669, Weiss Ratings' Guide to Life, ...\n",
      "19  (9780450011849, Dune, [(https://www.goodreads....\n",
      "20  (9780007376131, A Friend Like Ben: the Cat Tha...\n",
      "21  (9789774216584, الليبرالية المصرية قبل يوليو 1...\n",
      "22  (9781439198667, Tao II: The Way of Healing, Re...\n",
      "23  (9780571215669, A Married Woman, [(https://www...\n",
      "24  (9781441152244, The Soul Hypothesis: Investiga...\n",
      "25  (9780399150807, Trojan Odyssey, [(https://www....\n",
      "26  (B004AYCSA2, Explorations of Ridiculous Realit...\n",
      "27  (9781415961674, The End of the Road: A Maxie a...\n",
      "28  (9789892309767, Dragon Ball, Vol. 1: Son Goku,...\n",
      "29  (B004H1TAA4, The Gods of Dream, [(https://www....\n"
     ]
    }
   ],
   "source": [
    "v = parsed_df.limit(30).toPandas()\n",
    "print(v)"
   ]
  },
  {
   "cell_type": "code",
   "execution_count": 27,
   "id": "98bfb8ad-339f-4c93-946c-35562f069502",
   "metadata": {},
   "outputs": [],
   "source": [
    "# parsed_df.limit(100).toPandas().to_csv(\"output.csv\", index=False)"
   ]
  },
  {
   "cell_type": "code",
   "execution_count": 28,
   "id": "e4631842-7e09-4d99-a422-cc66f03c39e0",
   "metadata": {},
   "outputs": [],
   "source": [
    "# Extract individual fields into their own columns\n",
    "# final_df = parsed_df.selectExpr(\"parsed_data.isbn\", \"parsed_data.title\", \"parsed_data.format\", \"parsed_data.format.url\", \"parsed_data.format.name\", \n",
    "#                                \"parsed_data.authors\", \"parsed_data.authors.url\", \"parsed_data.authors.date\", \"parsed_data.authors.text\",\n",
    "#                                 \"parsed_data.authors.user\", \"parsed_data.authors.rating\", \"parsed_data.authors.bookUrl\", \"parsed_data.authors.shelves\",\n",
    "#                                \"parsed_data.reviews\", \"parsed_data.language\", \"parsed_data.numPages\", \"parsed_data.seriesUrl\", \"parsed_data.numRatings\",\n",
    "#                                \"parsed_data.numReviews\", \"parsed_data.description\", \"parsed_data.averageRating\", \"parsed_data.seriesAndOrdinal\",\n",
    "#                                 \"parsed_data.publicationDetails\")\n",
    "final_df = parsed_df.selectExpr(\"parsed_data.*\")"
   ]
  },
  {
   "cell_type": "code",
   "execution_count": 29,
   "id": "2b69d9b7-0d2e-4e61-8de2-de51ecc3c783",
   "metadata": {},
   "outputs": [
    {
     "name": "stdout",
     "output_type": "stream",
     "text": [
      "+----+--------------------+--------------------+--------------------+--------+--------+--------------------+----------+----------+--------------------+-------------+-----------------+\n",
      "|isbn|               title|             authors|             reviews|language|numPages|           seriesUrl|numRatings|numReviews|         description|averageRating| seriesAndOrdinal|\n",
      "+----+--------------------+--------------------+--------------------+--------+--------+--------------------+----------+----------+--------------------+-------------+-----------------+\n",
      "|NULL|Harry Potter and ...|[{https://www.goo...|[{https://www.goo...| English|   652.0|/series/45175-har...| 2861252.0|     47883|The war against V...|         4.57|(Harry Potter #6)|\n",
      "+----+--------------------+--------------------+--------------------+--------+--------+--------------------+----------+----------+--------------------+-------------+-----------------+\n",
      "only showing top 1 row\n",
      "\n"
     ]
    }
   ],
   "source": [
    "final_df.show(1)"
   ]
  },
  {
   "cell_type": "code",
   "execution_count": 30,
   "id": "02a4a558-158d-493a-9010-242c4ce8c3be",
   "metadata": {},
   "outputs": [],
   "source": [
    "# final_df.limit(200).toPandas().to_csv(\"final_output.csv\", index=False)"
   ]
  },
  {
   "cell_type": "code",
   "execution_count": 31,
   "id": "07d45f86-d460-4304-a607-a6624e8989ff",
   "metadata": {},
   "outputs": [],
   "source": [
    "# final_df.count()"
   ]
  },
  {
   "cell_type": "code",
   "execution_count": 32,
   "id": "25384a85-70ae-4069-a715-01553f761aa5",
   "metadata": {},
   "outputs": [],
   "source": [
    "# final_df.explain()"
   ]
  },
  {
   "cell_type": "code",
   "execution_count": 33,
   "id": "6fda33e8-c7fe-4aac-9080-4adf5f96bfab",
   "metadata": {},
   "outputs": [
    {
     "data": {
      "text/plain": [
       "127"
      ]
     },
     "execution_count": 33,
     "metadata": {},
     "output_type": "execute_result"
    }
   ],
   "source": [
    "num_partitions = final_df.rdd.getNumPartitions()\n",
    "num_partitions"
   ]
  },
  {
   "cell_type": "code",
   "execution_count": 34,
   "id": "be3bc40a-1a03-4efa-8617-d42d78c3413d",
   "metadata": {},
   "outputs": [],
   "source": [
    "final_df_limited = parsed_df.select(\n",
    "    col(\"parsed_data.isbn\").alias(\"isbn\"),\n",
    "    col(\"parsed_data.title\").alias(\"title\"),\n",
    "    col(\"parsed_data.averageRating\").alias(\"Avg.rating\"),\n",
    "    col(\"parsed_data.numPages\").alias(\"numberOfpages\"),\n",
    "    col(\"parsed_data.language\").alias(\"language\"),\n",
    "    col(\"parsed_data.numRatings\").alias(\"numOfRatings\"),\n",
    "    col(\"parsed_data.numReviews\").alias(\"numOfReviews\"),\n",
    "    col(\"parsed_data.authors.name\").alias(\"authorName\"),\n",
    "    col(\"parsed_data.reviews.user.name\").alias(\"userNames\"),\n",
    "    col(\"parsed_data.reviews.user.url\").alias(\"userUrls\"),\n",
    "    col(\"parsed_data.reviews.rating\").alias(\"userRatings\"),\n",
    "    col(\"parsed_data.reviews.bookUrl\").alias(\"bookUrl\"),\n",
    ")"
   ]
  },
  {
   "cell_type": "code",
   "execution_count": 35,
   "id": "c5e24a22-0513-450e-93a4-38ad1b3c3991",
   "metadata": {},
   "outputs": [
    {
     "name": "stdout",
     "output_type": "stream",
     "text": [
      "+----------+----------+----------+-------------+--------+------------+------------+----------+----------+----------+-----------+----------+\n",
      "|      isbn|     title|Avg.rating|numberOfpages|language|numOfRatings|numOfReviews|authorName| userNames|  userUrls|userRatings|   bookUrl|\n",
      "+----------+----------+----------+-------------+--------+------------+------------+----------+----------+----------+-----------+----------+\n",
      "|      NULL|Harry P...|      4.57|        652.0| English|   2861252.0|       47883|[J.K. R...|[Jayson...|[/user/...| [5.0, 5...|[http:/...|\n",
      "|9780439...|Harry P...|      4.57|        652.0| English|   2259210.0|       35863|[J.K. R...|[C.G. D...|[/user/...| [5.0, 5...|[http:/...|\n",
      "|      NULL|Harry P...|      4.57|        652.0| English|   2419016.0|       39173|[J.K. R...|[Whitne...|[/user/...| [5.0, 5...|[http:/...|\n",
      "|      NULL|Harry P...|      4.57|        652.0| English|   2683533.0|       44073|[J.K. R...|[Jayson...|[/user/...| [5.0, 5...|[http:/...|\n",
      "|      NULL|Harry P...|      4.57|        652.0| English|   2623552.0|       42940|[J.K. R...|[Jayson...|[/user/...| [5.0, 5...|[http:/...|\n",
      "|9780439...|Harry P...|      4.56|        652.0| English|   2087194.0|       33639|[J.K. R...|[C.G. D...|[/user/...| [5.0, 5...|[http:/...|\n",
      "|9780439...|Harry P...|      4.73|       3342.0| English|     29681.0|         922|[J.K. R...|[Ida, J...|[/user/...| [NULL, ...|[http:/...|\n",
      "+----------+----------+----------+-------------+--------+------------+------------+----------+----------+----------+-----------+----------+\n",
      "only showing top 7 rows\n",
      "\n"
     ]
    }
   ],
   "source": [
    "final_df_limited.show(7, truncate=10)"
   ]
  },
  {
   "cell_type": "code",
   "execution_count": 36,
   "id": "9dc75c3c-7409-45ee-b931-e9d63961a698",
   "metadata": {},
   "outputs": [
    {
     "data": {
      "text/html": [
       "<div>\n",
       "<style scoped>\n",
       "    .dataframe tbody tr th:only-of-type {\n",
       "        vertical-align: middle;\n",
       "    }\n",
       "\n",
       "    .dataframe tbody tr th {\n",
       "        vertical-align: top;\n",
       "    }\n",
       "\n",
       "    .dataframe thead th {\n",
       "        text-align: right;\n",
       "    }\n",
       "</style>\n",
       "<table border=\"1\" class=\"dataframe\">\n",
       "  <thead>\n",
       "    <tr style=\"text-align: right;\">\n",
       "      <th></th>\n",
       "      <th>isbn</th>\n",
       "      <th>title</th>\n",
       "      <th>Avg.rating</th>\n",
       "      <th>numberOfpages</th>\n",
       "      <th>language</th>\n",
       "      <th>numOfRatings</th>\n",
       "      <th>numOfReviews</th>\n",
       "      <th>authorName</th>\n",
       "      <th>userNames</th>\n",
       "      <th>userUrls</th>\n",
       "      <th>userRatings</th>\n",
       "      <th>bookUrl</th>\n",
       "    </tr>\n",
       "  </thead>\n",
       "  <tbody>\n",
       "    <tr>\n",
       "      <th>0</th>\n",
       "      <td>None</td>\n",
       "      <td>Harry Potter and the Half-Blood Prince</td>\n",
       "      <td>4.57</td>\n",
       "      <td>652.0</td>\n",
       "      <td>English</td>\n",
       "      <td>2861252.0</td>\n",
       "      <td>47883</td>\n",
       "      <td>[J.K. Rowling]</td>\n",
       "      <td>[Jayson, Whitney Atkinson, Jayson, ❀ Lily ❀, T...</td>\n",
       "      <td>[/user/show/22106879-jayson, /user/show/144571...</td>\n",
       "      <td>[5.0, 5.0, 5.0, None, 5.0, None, 5.0, 5.0, 5.0...</td>\n",
       "      <td>[http://www.goodreads.com/book/show/1.harry_po...</td>\n",
       "    </tr>\n",
       "    <tr>\n",
       "      <th>1</th>\n",
       "      <td>9780439785969</td>\n",
       "      <td>Harry Potter and the Half-Blood Prince</td>\n",
       "      <td>4.57</td>\n",
       "      <td>652.0</td>\n",
       "      <td>English</td>\n",
       "      <td>2259210.0</td>\n",
       "      <td>35863</td>\n",
       "      <td>[J.K. Rowling]</td>\n",
       "      <td>[C.G. Drews, Whitney Atkinson, Jayson, Lily C,...</td>\n",
       "      <td>[/user/show/11375137-c-g-drews, /user/show/144...</td>\n",
       "      <td>[5.0, 5.0, 5.0, None, 5.0, 5.0, 5.0, 5.0, 5.0,...</td>\n",
       "      <td>[http://www.goodreads.com/book/show/1.harry_po...</td>\n",
       "    </tr>\n",
       "    <tr>\n",
       "      <th>2</th>\n",
       "      <td>None</td>\n",
       "      <td>Harry Potter and the Half-Blood Prince</td>\n",
       "      <td>4.57</td>\n",
       "      <td>652.0</td>\n",
       "      <td>English</td>\n",
       "      <td>2419016.0</td>\n",
       "      <td>39173</td>\n",
       "      <td>[J.K. Rowling]</td>\n",
       "      <td>[Whitney Atkinson, Jayson, Jayson, Lily C, C.G...</td>\n",
       "      <td>[/user/show/14457130-whitney-atkinson, /user/s...</td>\n",
       "      <td>[5.0, 5.0, 5.0, None, None, 5.0, None, 5.0, 5....</td>\n",
       "      <td>[http://www.goodreads.com/book/show/1.harry_po...</td>\n",
       "    </tr>\n",
       "    <tr>\n",
       "      <th>3</th>\n",
       "      <td>None</td>\n",
       "      <td>Harry Potter and the Half-Blood Prince</td>\n",
       "      <td>4.57</td>\n",
       "      <td>652.0</td>\n",
       "      <td>English</td>\n",
       "      <td>2683533.0</td>\n",
       "      <td>44073</td>\n",
       "      <td>[J.K. Rowling]</td>\n",
       "      <td>[Jayson, Whitney Atkinson, Jayson, LilyCReads,...</td>\n",
       "      <td>[/user/show/22106879-jayson, /user/show/144571...</td>\n",
       "      <td>[5.0, 5.0, 5.0, None, 5.0, 5.0, 5.0, None, 5.0...</td>\n",
       "      <td>[http://www.goodreads.com/book/show/1.harry_po...</td>\n",
       "    </tr>\n",
       "    <tr>\n",
       "      <th>4</th>\n",
       "      <td>None</td>\n",
       "      <td>Harry Potter and the Half-Blood Prince</td>\n",
       "      <td>4.57</td>\n",
       "      <td>652.0</td>\n",
       "      <td>English</td>\n",
       "      <td>2623552.0</td>\n",
       "      <td>42940</td>\n",
       "      <td>[J.K. Rowling]</td>\n",
       "      <td>[Jayson, Whitney Atkinson, Jayson, LilyCReads,...</td>\n",
       "      <td>[/user/show/22106879-jayson, /user/show/144571...</td>\n",
       "      <td>[5.0, 5.0, 5.0, None, 5.0, 5.0, None, 5.0, 5.0...</td>\n",
       "      <td>[http://www.goodreads.com/book/show/1.harry_po...</td>\n",
       "    </tr>\n",
       "    <tr>\n",
       "      <th>5</th>\n",
       "      <td>9780439785969</td>\n",
       "      <td>Harry Potter and the Half-Blood Prince</td>\n",
       "      <td>4.56</td>\n",
       "      <td>652.0</td>\n",
       "      <td>English</td>\n",
       "      <td>2087194.0</td>\n",
       "      <td>33639</td>\n",
       "      <td>[J.K. Rowling]</td>\n",
       "      <td>[C.G. Drews, Whitney Atkinson, Jayson, Adam Si...</td>\n",
       "      <td>[/user/show/11375137-c-g-drews, /user/show/144...</td>\n",
       "      <td>[5.0, 5.0, 5.0, 5.0, 5.0, 5.0, 5.0, 5.0, 5.0, ...</td>\n",
       "      <td>[http://www.goodreads.com/book/show/1.harry_po...</td>\n",
       "    </tr>\n",
       "    <tr>\n",
       "      <th>6</th>\n",
       "      <td>9780439827607</td>\n",
       "      <td>Harry Potter Collection</td>\n",
       "      <td>4.73</td>\n",
       "      <td>3342.0</td>\n",
       "      <td>English</td>\n",
       "      <td>29681.0</td>\n",
       "      <td>922</td>\n",
       "      <td>[J.K. Rowling]</td>\n",
       "      <td>[Ida, Jen Holman, Stephen, Jennifer Dater, Hen...</td>\n",
       "      <td>[/user/show/23173697-ida, /user/show/1767810-j...</td>\n",
       "      <td>[None, 5.0, 5.0, 5.0, 4.0, 5.0, 5.0, 5.0, 5.0,...</td>\n",
       "      <td>[http://www.goodreads.com/book/show/10.harry_p...</td>\n",
       "    </tr>\n",
       "  </tbody>\n",
       "</table>\n",
       "</div>"
      ],
      "text/plain": [
       "            isbn                                   title Avg.rating  \\\n",
       "0           None  Harry Potter and the Half-Blood Prince       4.57   \n",
       "1  9780439785969  Harry Potter and the Half-Blood Prince       4.57   \n",
       "2           None  Harry Potter and the Half-Blood Prince       4.57   \n",
       "3           None  Harry Potter and the Half-Blood Prince       4.57   \n",
       "4           None  Harry Potter and the Half-Blood Prince       4.57   \n",
       "5  9780439785969  Harry Potter and the Half-Blood Prince       4.56   \n",
       "6  9780439827607                 Harry Potter Collection       4.73   \n",
       "\n",
       "   numberOfpages language  numOfRatings numOfReviews      authorName  \\\n",
       "0          652.0  English     2861252.0        47883  [J.K. Rowling]   \n",
       "1          652.0  English     2259210.0        35863  [J.K. Rowling]   \n",
       "2          652.0  English     2419016.0        39173  [J.K. Rowling]   \n",
       "3          652.0  English     2683533.0        44073  [J.K. Rowling]   \n",
       "4          652.0  English     2623552.0        42940  [J.K. Rowling]   \n",
       "5          652.0  English     2087194.0        33639  [J.K. Rowling]   \n",
       "6         3342.0  English       29681.0          922  [J.K. Rowling]   \n",
       "\n",
       "                                           userNames  \\\n",
       "0  [Jayson, Whitney Atkinson, Jayson, ❀ Lily ❀, T...   \n",
       "1  [C.G. Drews, Whitney Atkinson, Jayson, Lily C,...   \n",
       "2  [Whitney Atkinson, Jayson, Jayson, Lily C, C.G...   \n",
       "3  [Jayson, Whitney Atkinson, Jayson, LilyCReads,...   \n",
       "4  [Jayson, Whitney Atkinson, Jayson, LilyCReads,...   \n",
       "5  [C.G. Drews, Whitney Atkinson, Jayson, Adam Si...   \n",
       "6  [Ida, Jen Holman, Stephen, Jennifer Dater, Hen...   \n",
       "\n",
       "                                            userUrls  \\\n",
       "0  [/user/show/22106879-jayson, /user/show/144571...   \n",
       "1  [/user/show/11375137-c-g-drews, /user/show/144...   \n",
       "2  [/user/show/14457130-whitney-atkinson, /user/s...   \n",
       "3  [/user/show/22106879-jayson, /user/show/144571...   \n",
       "4  [/user/show/22106879-jayson, /user/show/144571...   \n",
       "5  [/user/show/11375137-c-g-drews, /user/show/144...   \n",
       "6  [/user/show/23173697-ida, /user/show/1767810-j...   \n",
       "\n",
       "                                         userRatings  \\\n",
       "0  [5.0, 5.0, 5.0, None, 5.0, None, 5.0, 5.0, 5.0...   \n",
       "1  [5.0, 5.0, 5.0, None, 5.0, 5.0, 5.0, 5.0, 5.0,...   \n",
       "2  [5.0, 5.0, 5.0, None, None, 5.0, None, 5.0, 5....   \n",
       "3  [5.0, 5.0, 5.0, None, 5.0, 5.0, 5.0, None, 5.0...   \n",
       "4  [5.0, 5.0, 5.0, None, 5.0, 5.0, None, 5.0, 5.0...   \n",
       "5  [5.0, 5.0, 5.0, 5.0, 5.0, 5.0, 5.0, 5.0, 5.0, ...   \n",
       "6  [None, 5.0, 5.0, 5.0, 4.0, 5.0, 5.0, 5.0, 5.0,...   \n",
       "\n",
       "                                             bookUrl  \n",
       "0  [http://www.goodreads.com/book/show/1.harry_po...  \n",
       "1  [http://www.goodreads.com/book/show/1.harry_po...  \n",
       "2  [http://www.goodreads.com/book/show/1.harry_po...  \n",
       "3  [http://www.goodreads.com/book/show/1.harry_po...  \n",
       "4  [http://www.goodreads.com/book/show/1.harry_po...  \n",
       "5  [http://www.goodreads.com/book/show/1.harry_po...  \n",
       "6  [http://www.goodreads.com/book/show/10.harry_p...  "
      ]
     },
     "execution_count": 36,
     "metadata": {},
     "output_type": "execute_result"
    }
   ],
   "source": [
    "pandas_df = final_df_limited.limit(7).toPandas()\n",
    "pandas_df"
   ]
  },
  {
   "cell_type": "code",
   "execution_count": 37,
   "id": "a70235ff-10b1-403e-9880-9d5bfc83ce0d",
   "metadata": {},
   "outputs": [],
   "source": [
    "collab_df = parsed_df.select(\n",
    "    col(\"parsed_data.isbn\").alias(\"isbn\"),\n",
    "    col(\"parsed_data.title\").alias(\"title\"),\n",
    "    col(\"parsed_data.numPages\").alias(\"numberOfpages\"),\n",
    "    col(\"parsed_data.averageRating\").alias(\"Avg.rating\"),\n",
    "    col(\"parsed_data.authors.name\").alias(\"authorName\"),\n",
    "    col(\"parsed_data.reviews.user.name\").alias(\"userNames\"),\n",
    "    col(\"parsed_data.reviews.user.url\").alias(\"userUrls\"),\n",
    "    col(\"parsed_data.reviews.rating\").alias(\"userRatings\"),\n",
    ")"
   ]
  },
  {
   "cell_type": "code",
   "execution_count": 38,
   "id": "7a79b077-0d63-459e-9e71-5ce452367b83",
   "metadata": {},
   "outputs": [
    {
     "name": "stdout",
     "output_type": "stream",
     "text": [
      "+----------+----------+-------------+----------+----------+----------+----------+-----------+\n",
      "|      isbn|     title|numberOfpages|Avg.rating|authorName| userNames|  userUrls|userRatings|\n",
      "+----------+----------+-------------+----------+----------+----------+----------+-----------+\n",
      "|      NULL|Harry P...|        652.0|      4.57|[J.K. R...|[Jayson...|[/user/...| [5.0, 5...|\n",
      "|9780439...|Harry P...|        652.0|      4.57|[J.K. R...|[C.G. D...|[/user/...| [5.0, 5...|\n",
      "|      NULL|Harry P...|        652.0|      4.57|[J.K. R...|[Whitne...|[/user/...| [5.0, 5...|\n",
      "|      NULL|Harry P...|        652.0|      4.57|[J.K. R...|[Jayson...|[/user/...| [5.0, 5...|\n",
      "|      NULL|Harry P...|        652.0|      4.57|[J.K. R...|[Jayson...|[/user/...| [5.0, 5...|\n",
      "|9780439...|Harry P...|        652.0|      4.56|[J.K. R...|[C.G. D...|[/user/...| [5.0, 5...|\n",
      "|9780439...|Harry P...|       3342.0|      4.73|[J.K. R...|[Ida, J...|[/user/...| [NULL, ...|\n",
      "|9780439...|Harry P...|       3342.0|      4.73|[J.K. R...|[Ida, J...|[/user/...| [5.0, 5...|\n",
      "|9781581...|Simply ...|        128.0|       3.8|[Heidi ...|[Leslie...|[/user/...| [3.0, 4...|\n",
      "|9780761...|How to ...|         32.0|      3.93|[Susan ...|[Arminz...|[/user/...| [4.0, 4...|\n",
      "|9781455...|Warmth ...|         NULL|      4.32|[Isabel...|[Brina,...|[/user/...| [5.0, 5...|\n",
      "|9781441...|What Wo...|          6.0|      3.23|[Paco U...|[Andrea...|[/user/...| [NULL, ...|\n",
      "|9788497...|Una pas...|        572.0|      3.82|[Penelo...|[►Ŋǿęπỉ...|[/user/...| [2.0, 1...|\n",
      "|9780984...|Yellow ...|        229.0|      4.29|[Laila ...|[Caz (l...|[/user/...| [4.0, 4...|\n",
      "|9780984...|Yellow ...|        229.0|      4.27|[Laila ...|[Catrio...|[/user/...| [4.0, 4...|\n",
      "+----------+----------+-------------+----------+----------+----------+----------+-----------+\n",
      "only showing top 15 rows\n",
      "\n"
     ]
    }
   ],
   "source": [
    "collab_df.show(15, truncate=10)"
   ]
  },
  {
   "cell_type": "markdown",
   "id": "952e1966-9d21-4f56-8928-f74e1df532d1",
   "metadata": {},
   "source": [
    "### Detecting early duplicates in the dataset"
   ]
  },
  {
   "cell_type": "code",
   "execution_count": 40,
   "id": "c53fef3c-2556-4c42-8c4a-d9aabc2f14c8",
   "metadata": {},
   "outputs": [
    {
     "name": "stdout",
     "output_type": "stream",
     "text": [
      "+--------------------------------------+\n",
      "|title                                 |\n",
      "+--------------------------------------+\n",
      "|Harry Potter and the Half-Blood Prince|\n",
      "|Harry Potter and the Half-Blood Prince|\n",
      "|Harry Potter and the Half-Blood Prince|\n",
      "|Harry Potter and the Half-Blood Prince|\n",
      "|Harry Potter and the Half-Blood Prince|\n",
      "|Harry Potter and the Half-Blood Prince|\n",
      "|Harry Potter Collection               |\n",
      "|Harry Potter Collection               |\n",
      "+--------------------------------------+\n",
      "only showing top 8 rows\n",
      "\n"
     ]
    }
   ],
   "source": [
    "collab_df.select(\"title\").show(8, truncate=False)"
   ]
  },
  {
   "cell_type": "markdown",
   "id": "23a0345b-6f19-41ce-9a8f-23ed9dd7af97",
   "metadata": {},
   "source": [
    "### Dropping inital duplicates to reduce the size of the dataset"
   ]
  },
  {
   "cell_type": "code",
   "execution_count": 42,
   "id": "100ae6a2-57e6-4510-8618-9203696c31e1",
   "metadata": {},
   "outputs": [],
   "source": [
    "new_collab_df = collab_df.dropDuplicates()"
   ]
  },
  {
   "cell_type": "code",
   "execution_count": 43,
   "id": "0f7a576b-99f6-4394-ac5a-1343cc20470d",
   "metadata": {},
   "outputs": [
    {
     "data": {
      "text/plain": [
       "DataFrame[isbn: string, title: string, numberOfpages: double, Avg.rating: string, authorName: array<string>, userNames: array<string>, userUrls: array<string>, userRatings: array<double>]"
      ]
     },
     "execution_count": 43,
     "metadata": {},
     "output_type": "execute_result"
    }
   ],
   "source": [
    "new_collab_df.cache()"
   ]
  },
  {
   "cell_type": "code",
   "execution_count": 44,
   "id": "d030ec1c-3ff7-41f8-99d6-d831899f7026",
   "metadata": {},
   "outputs": [
    {
     "name": "stdout",
     "output_type": "stream",
     "text": [
      "+-------------+--------------------+-------------+----------+------------------+--------------------+--------------------+--------------------+\n",
      "|         isbn|               title|numberOfpages|Avg.rating|        authorName|           userNames|            userUrls|         userRatings|\n",
      "+-------------+--------------------+-------------+----------+------------------+--------------------+--------------------+--------------------+\n",
      "|9781101478288|How to Be a Menta...|        256.0|      3.71|  [Simon Winthrop]|[Billy, Nick, Kel...|[/user/show/49121...|[1.0, 1.0, 1.0, 4...|\n",
      "|9780679738954|   The Age of Reason|        408.0|      3.98|[Jean-Paul Sartre]|[melissa, Manny, ...|[/user/show/26694...|[4.0, 5.0, 4.0, 4...|\n",
      "|9780670061792|                Epic|        384.0|      3.95|   [Conor Kostick]|[Kyle, Karin, Ski...|[/user/show/52906...|[NULL, 4.0, 2.0, ...|\n",
      "|9780470181416|The Battle Over t...|        256.0|       3.0|     [Gordy Slack]|[Genelina Rivera,...|[/user/show/45115...|         [3.0, NULL]|\n",
      "|9781426872686|       Take Me Twice|        256.0|      3.42|   [Isabel Sharpe]|[Mombo, Maggie Ti...|[/user/show/31492...|[4.0, NULL, 3.0, ...|\n",
      "+-------------+--------------------+-------------+----------+------------------+--------------------+--------------------+--------------------+\n",
      "only showing top 5 rows\n",
      "\n"
     ]
    }
   ],
   "source": [
    "new_collab_df.show(5)"
   ]
  },
  {
   "cell_type": "code",
   "execution_count": 45,
   "id": "10a04ba2-c685-435f-b92a-7015648e293e",
   "metadata": {},
   "outputs": [
    {
     "name": "stdout",
     "output_type": "stream",
     "text": [
      "root\n",
      " |-- isbn: string (nullable = true)\n",
      " |-- title: string (nullable = true)\n",
      " |-- numberOfpages: double (nullable = true)\n",
      " |-- Avg.rating: string (nullable = true)\n",
      " |-- authorName: array (nullable = true)\n",
      " |    |-- element: string (containsNull = true)\n",
      " |-- userNames: array (nullable = true)\n",
      " |    |-- element: string (containsNull = true)\n",
      " |-- userUrls: array (nullable = true)\n",
      " |    |-- element: string (containsNull = true)\n",
      " |-- userRatings: array (nullable = true)\n",
      " |    |-- element: double (containsNull = true)\n",
      "\n"
     ]
    }
   ],
   "source": [
    "new_collab_df.printSchema()"
   ]
  },
  {
   "cell_type": "code",
   "execution_count": 46,
   "id": "e5940458-d085-4233-b9d0-9e0aec018ecf",
   "metadata": {},
   "outputs": [
    {
     "name": "stdout",
     "output_type": "stream",
     "text": [
      "+-------------+--------------------+-------------+----------+------------------+--------------------+--------------------+--------------------+\n",
      "|         isbn|               title|numberOfpages|Avg.rating|        authorName|           userNames|            userUrls|         userRatings|\n",
      "+-------------+--------------------+-------------+----------+------------------+--------------------+--------------------+--------------------+\n",
      "|9781101478288|How to Be a Menta...|        256.0|      3.71|  [Simon Winthrop]|[Billy, Nick, Kel...|[/user/show/49121...|[1.0, 1.0, 1.0, 4...|\n",
      "|9780679738954|   The Age of Reason|        408.0|      3.98|[Jean-Paul Sartre]|[melissa, Manny, ...|[/user/show/26694...|[4.0, 5.0, 4.0, 4...|\n",
      "|9780670061792|                Epic|        384.0|      3.95|   [Conor Kostick]|[Kyle, Karin, Ski...|[/user/show/52906...|[NULL, 4.0, 2.0, ...|\n",
      "|9780470181416|The Battle Over t...|        256.0|       3.0|     [Gordy Slack]|[Genelina Rivera,...|[/user/show/45115...|         [3.0, NULL]|\n",
      "|9781426872686|       Take Me Twice|        256.0|      3.42|   [Isabel Sharpe]|[Mombo, Maggie Ti...|[/user/show/31492...|[4.0, NULL, 3.0, ...|\n",
      "+-------------+--------------------+-------------+----------+------------------+--------------------+--------------------+--------------------+\n",
      "only showing top 5 rows\n",
      "\n"
     ]
    }
   ],
   "source": [
    "new_collab_df.show(5)"
   ]
  },
  {
   "cell_type": "code",
   "execution_count": 47,
   "id": "f7f79008-71bf-4c08-9528-98a17ef3b066",
   "metadata": {},
   "outputs": [
    {
     "data": {
      "text/plain": [
       "398339"
      ]
     },
     "execution_count": 47,
     "metadata": {},
     "output_type": "execute_result"
    }
   ],
   "source": [
    "new_collab_df.count()"
   ]
  },
  {
   "cell_type": "markdown",
   "id": "3ac24f7c-6f59-43e5-bf10-06ccfe288d64",
   "metadata": {},
   "source": [
    "Detected: \n",
    "1. Duplicates still exist after the initial duplicate drop.\n",
    "   - Probably due to a difference in an instances features. \n",
    "3. Duplicates in different languages -> Which may not be an issue\n"
   ]
  },
  {
   "cell_type": "code",
   "execution_count": 49,
   "id": "2cdd0883-14ff-4451-bfa5-b7816fd5b730",
   "metadata": {},
   "outputs": [],
   "source": [
    "filtered_df = new_collab_df.filter(\n",
    "    (col(\"title\").startswith(\"Harry\")) | (col(\"title\") == \"Harry Potter\")\n",
    ")"
   ]
  },
  {
   "cell_type": "code",
   "execution_count": 50,
   "id": "c43b7a10-6f61-4481-ba79-4062d41b6c87",
   "metadata": {},
   "outputs": [
    {
     "name": "stdout",
     "output_type": "stream",
     "text": [
      "+-----------------------------------------------------------------------------------------------------------------+\n",
      "|title                                                                                                            |\n",
      "+-----------------------------------------------------------------------------------------------------------------+\n",
      "|Harry Potter e il Principe Mezzosangue                                                                           |\n",
      "|Harry Potter and the Half-Blood Prince                                                                           |\n",
      "|Harry Potter E A Pedra Filosofal: Livro Pôster                                                                   |\n",
      "|Harry Potter and the Prisoner of Azkaban                                                                         |\n",
      "|Harry Potter and the Sorcerer's Stone                                                                            |\n",
      "|Harry Potter and the Sorcerer's Stone: MinaLima Edition (Harry Potter, Book 1)                                   |\n",
      "|Harry the Poisonous Centipede: A Story to Make You Squirm                                                        |\n",
      "|Harry Potter e la maledizione dell'erede                                                                         |\n",
      "|Harry Potter and the Chamber of Secrets                                                                          |\n",
      "|Harry Potter and the Prisoner of Azkaban                                                                         |\n",
      "|Harry Potter and the Order of the Phoenix                                                                        |\n",
      "|Harry the Hairless Wonder Dog in HARRY TAKES FIRST!                                                              |\n",
      "|Harry Potter and the Goblet of Fire                                                                              |\n",
      "|Harry Potter and the Half-Blood Prince                                                                           |\n",
      "|Harry Potter and the Goblet of Fire                                                                              |\n",
      "|Harry Potter and the Order of the Phoenix                                                                        |\n",
      "|Harry Potter and the Sorcerer's Stone                                                                            |\n",
      "|Harry Potter und die Heiligtümer des Todes                                                                       |\n",
      "|Harry Potter and the Philosopher's Stone                                                                         |\n",
      "|Harry Potter Collection                                                                                          |\n",
      "|Harry Potter e a Ordem da Fénix                                                                                  |\n",
      "|Harry Potter and the Sorcerer's Stone                                                                            |\n",
      "|Harry Potter and the Sorcerer's Stone                                                                            |\n",
      "|Harry Potter and the Order of the Phoenix                                                                        |\n",
      "|Harry Potter and the Prisoner of Azkaban                                                                         |\n",
      "|Harry Potter and the Sorcerer's Stone                                                                            |\n",
      "|Harry Potter y el cáliz de fuego                                                                                 |\n",
      "|Harry Potter and the Prisoner of Azkaban                                                                         |\n",
      "|Harry Potter and the Order of the Phoenix (Harry Potter, #5, Part 1)                                             |\n",
      "|Harry the Happy Mouse                                                                                            |\n",
      "|Harry Potter and the Prisoner of Azkaban                                                                         |\n",
      "|Harry Potter and the Half-Blood Prince                                                                           |\n",
      "|Harry Saves The Ocean!: Teaching children about plastic pollution and recycling. (Harry The Happy Mouse)         |\n",
      "|Harry Potter and the Prisoner of Azkaban                                                                         |\n",
      "|Harry Potter y la Orden del Fénix                                                                                |\n",
      "|Harry Potter and the Order of the Phoenix                                                                        |\n",
      "|Harry Potter y la Orden del Fénix                                                                                |\n",
      "|Harry's Trees                                                                                                    |\n",
      "|Harry Potter Boxed Set: The Complete Collection                                                                  |\n",
      "|Harry Potter und der Feuerkelch                                                                                  |\n",
      "|Harry Potter and the Half-Blood Prince                                                                           |\n",
      "|Harry Potter Series Box Set                                                                                      |\n",
      "|Harry Potter and the Order of the Phoenix                                                                        |\n",
      "|Harry Potter y la cámara secreta                                                                                 |\n",
      "|Harry Potter and the Time of Good Intentions                                                                     |\n",
      "|Harry Potter and the Goblet of Fire                                                                              |\n",
      "|Harry Potter y la Cámara Secreta                                                                                 |\n",
      "|Harry Potter and the Philosopher's Stone                                                                         |\n",
      "|Harry Potter and the Prisoner of Azkaban                                                                         |\n",
      "|Harry Potter and the Philosopher's Stone                                                                         |\n",
      "|Harry Potter and the Goblet of Fire                                                                              |\n",
      "|Harry Potter and the Cursed Child: Parts One and Two                                                             |\n",
      "|Harry Potter and the Half-Blood Prince                                                                           |\n",
      "|Harry Potter and the Sorcerer's Stone                                                                            |\n",
      "|Harry Potter and the Philosopher's Stone                                                                         |\n",
      "|Harry Takes Off                                                                                                  |\n",
      "|Harry Potter and the Prisoner of Azkaban                                                                         |\n",
      "|Harry Potter and the Chamber of Secrets                                                                          |\n",
      "|Harry Potter and the Order of the Phoenix                                                                        |\n",
      "|Harry Potter: La magie des films                                                                                 |\n",
      "|Harry Potter and the Cursed Child, Parts One and Two: The Official Playscript of the Original West End Production|\n",
      "|Harry Potter and the Order of the Phoenix                                                                        |\n",
      "|Harry Potter and the Prisoner of Azkaban                                                                         |\n",
      "|Harry Potter and the Order of the Phoenix                                                                        |\n",
      "|Harry Potter and the Prisoner of Azkaban                                                                         |\n",
      "|Harry Potter and the Half-Blood Prince                                                                           |\n",
      "|Harry Potter Boxed Set (Harry Potter, #1-5)                                                                      |\n",
      "|Harry Potter and the Goblet of Fire                                                                              |\n",
      "|Harry Potter and the Half-Blood Prince                                                                           |\n",
      "|Harry Potter and the Sorcerer's Stone                                                                            |\n",
      "|Harry Potter and the Goblet of Fire                                                                              |\n",
      "|Harry Potter and the Philosopher's Stone                                                                         |\n",
      "|Harry Potter and the Sorcerer's Stone                                                                            |\n",
      "|Harry Potter and History                                                                                         |\n",
      "|Harry Potter and the Sorcerer's Stone                                                                            |\n",
      "|Harry Potter: The Prequel                                                                                        |\n",
      "|Harry Potter: A Journey Through A History of Magic                                                               |\n",
      "|Harry Potter and the Sorcerer's Stone                                                                            |\n",
      "|Harry Potter and the Goblet of Fire                                                                              |\n",
      "|Harry Potter y el misterio del príncipe                                                                          |\n",
      "|Harry Potter e a Criança Amaldiçoada                                                                             |\n",
      "|Harry Potter and the Deathly Hallows                                                                             |\n",
      "|Harry Potter and the Philosopher's Stone                                                                         |\n",
      "|Harry Potter and the Goblet of Fire – Slytherin Edition                                                          |\n",
      "|Harry Potter: the Artifact Vault                                                                                 |\n",
      "|Harry Potter and the Sorcerer's Stone                                                                            |\n",
      "|Harry Potter and the Philosopher's Stone                                                                         |\n",
      "|Harry Smith: The Avant-Garde in the American Vernacular                                                          |\n",
      "|Harry Potter and the Deathly Hallows                                                                             |\n",
      "|Harry Potter and the Goblet of Fire                                                                              |\n",
      "|Harry and Walter                                                                                                 |\n",
      "|Harry Potter ve Zümrüdüanka Yoldaşlığı                                                                           |\n",
      "|Harry Potter e i Doni della Morte                                                                                |\n",
      "|Harry Potter and the Cursed Child: Parts One and Two                                                             |\n",
      "|Harry Potter and the Sorcerer's Stone                                                                            |\n",
      "|Harry Potter and the Deathly Hallows                                                                             |\n",
      "|Harry Potter and the Goblet of Fire                                                                              |\n",
      "|Harry Potter's Bookshelf: The Great Books behind the Hogwarts Adventures                                         |\n",
      "|Harry Potter and the Chamber of Secrets                                                                          |\n",
      "|Harry Potter and the Cursed Child: Parts One and Two                                                             |\n",
      "|Harry Potter and the Prisoner of Azkaban                                                                         |\n",
      "|Harry Potter a Kámen mudrců                                                                                      |\n",
      "|Harry Potter and the Order of the Phoenix                                                                        |\n",
      "|Harry Kemp: The Last Bohemian                                                                                    |\n",
      "|Harry Potter and the Sorcerer's Stone                                                                            |\n",
      "|Harry Potter a Kameň mudrcov                                                                                     |\n",
      "|Harry Potter and the Deathly Hallows                                                                             |\n",
      "|Harry Potter and the Chamber of Secrets                                                                          |\n",
      "|Harry Potter and the Deathly Hallows                                                                             |\n",
      "|Harry Potter and the Philosopher's Stone                                                                         |\n",
      "|Harry Potter and the Order of the Phoenix                                                                        |\n",
      "|Harry Potter and the Chamber of Secrets                                                                          |\n",
      "|Harry Potter et la Chambre des Secrets                                                                           |\n",
      "|Harry Potter and the Deathly Hallows                                                                             |\n",
      "|Harry Potter à l'école des sorciers                                                                              |\n",
      "|Harry Potter and the Goblet of Fire                                                                              |\n",
      "|Harry Potter and the Half-Blood Prince                                                                           |\n",
      "|Harry Potter and the Chamber of Secrets                                                                          |\n",
      "|Harry Potter and the Goblet of Fire                                                                              |\n",
      "|Harry Potter: the Creature Vault                                                                                 |\n",
      "|Harry Potter y el misterio del príncipe                                                                          |\n",
      "|Harry Potter e l'Ordine della Fenice                                                                             |\n",
      "|Harry Potter and the Deathly Hallows                                                                             |\n",
      "|Harry Potter und die Heiligtümer des Todes                                                                       |\n",
      "|Harry Potter and the Cursed Child, Parts 1 & 2                                                                   |\n",
      "|Harry Potter and the Deathly Hallows                                                                             |\n",
      "|Harry Potter y La Piedra Filosofal                                                                               |\n",
      "|Harry Potter y el Prisionero de Azkaban                                                                          |\n",
      "|Harry Potter's Bookshelf: The Great Books behind the Hogwarts Adventures                                         |\n",
      "|Harry Potter and the Millennials: Research Methods and the Politics of the Muggle Generation                     |\n",
      "|Harry Potter and the Deathly Hallows                                                                             |\n",
      "|Harry Potter and the Sorcerer's Stone                                                                            |\n",
      "|Harry, a History: The True Story of a Boy Wizard, His Fans, and Life Inside the Harry Potter Phenomenon          |\n",
      "|Harry Houdini : Young Magician                                                                                   |\n",
      "|Harry Potter and the Sorcerer's Stone                                                                            |\n",
      "|Harry Potter en de Steen der Wijzen                                                                              |\n",
      "|Harry Potter en de Steen der Wijzen                                                                              |\n",
      "|Harry Potter and the Goblet of Fire                                                                              |\n",
      "|Harry Potter and the Philosopher's Stone                                                                         |\n",
      "|Harry and the Lady Next Door                                                                                     |\n",
      "|Harry Potter and the Half-Blood Prince                                                                           |\n",
      "|Harry Potter and the Chamber of Secrets                                                                          |\n",
      "|Harry's First Holiday                                                                                            |\n",
      "|Harry Potter and the Chamber of Secrets: Teacher's Guide, with Poster                                            |\n",
      "|Harry Potter: the Artifact Vault                                                                                 |\n",
      "|Harry Potter und der Halbblutprinz                                                                               |\n",
      "|Harry Potter and the Chamber of Secrets                                                                          |\n",
      "|Harry Potter und das verwunschene Kind                                                                           |\n",
      "|Harry Potter and the Prisoner of Azkaban                                                                         |\n",
      "|Harry Potter and the Goblet of Fire                                                                              |\n",
      "|Harry Potter e i doni della morte                                                                                |\n",
      "|Harry Potter y la piedra filosofal                                                                               |\n",
      "|Harry Potter and the Philosopher's Stone                                                                         |\n",
      "|Harry Potter und der Gefangene von Askaban                                                                       |\n",
      "|Harry Potter y la piedra filosofal                                                                               |\n",
      "|Harry Potter and the Chamber of Secrets                                                                          |\n",
      "|Harry Potter and the Goblet of Fire                                                                              |\n",
      "|Harry and Clare's Amazing Staycation                                                                             |\n",
      "|Harry Potter Series Box Set                                                                                      |\n",
      "|Harry Potter und die Heiligtümer des Todes                                                                       |\n",
      "|Harry Potter and the Prisoner of Azkaban                                                                         |\n",
      "|Harry Potter: The Complete Series                                                                                |\n",
      "|Harry Potter and the Half-Blood Prince                                                                           |\n",
      "|Harry Potter and the Goblet of Fire                                                                              |\n",
      "|Harry Potter y la Cámara Secreta                                                                                 |\n",
      "|Harry Putter and the Chamber of Cheesecakes                                                                      |\n",
      "|Harry Cat and Tucker Mouse: Harry to the Rescue!                                                                 |\n",
      "|Harry Potter for Nerds II                                                                                        |\n",
      "|Harry Potter and the Philosopher's Stone                                                                         |\n",
      "|Harry Potter and the Goblet of Fire                                                                              |\n",
      "|Harry Potter Collection                                                                                          |\n",
      "|Harry Potter och fången från Azkaban                                                                             |\n",
      "|Harry Potter and the Goblet of Fire                                                                              |\n",
      "|Harry Potter and the Chamber of Secrets                                                                          |\n",
      "|Harry Potter Boxed Set, Books 1-5 (Harry Potter, #1-5)                                                           |\n",
      "|Harry Potter and the Order of the Phoenix                                                                        |\n",
      "|Harry Potter and the Sorcerer's Stone                                                                            |\n",
      "|Harry Potter and the Philosopher's Stone: L-I-T Guide                                                            |\n",
      "|Harry Potter and the Prisoner of Azkaban                                                                         |\n",
      "|Harry's Dog                                                                                                      |\n",
      "|Harry Potter and the Goblet of Fire: Heroes, Villains And Creatures: Postcard Book                               |\n",
      "|Harry the Dirty Dog                                                                                              |\n",
      "|Harry Potter and the Half-Blood Prince                                                                           |\n",
      "|Harry Potter and the Sorcerer's Stone                                                                            |\n",
      "|Harry Potter and the Chamber of Secrets                                                                          |\n",
      "|Harry Potter Series Box Set                                                                                      |\n",
      "|Harry Potter and the Prisoner of Azkaban                                                                         |\n",
      "|Harry Potter and the Sorcerer's Stone                                                                            |\n",
      "|Harry Potter and the Prisoner of Azkaban                                                                         |\n",
      "|Harry Potter and the Order of the Phoenix                                                                        |\n",
      "|Harry Potter en de Vuurbeker                                                                                     |\n",
      "|Harry Potter and the Half-Blood Prince                                                                           |\n",
      "|Harry Potter and the Order of the Phoenix                                                                        |\n",
      "|Harry Potter and the Sorcerer's Stone                                                                            |\n",
      "|Harry Potter and the Prisoner of Azkaban                                                                         |\n",
      "|Harry Potter e la pietra filosofale                                                                              |\n",
      "|Harry Potter and the Deathly Hallows                                                                             |\n",
      "|Harry Potter and the Deathly Hallows                                                                             |\n",
      "|Harry Potter and the Philosopher's Stone                                                                         |\n",
      "|Harry Potter and the Deathly Hallows                                                                             |\n",
      "+-----------------------------------------------------------------------------------------------------------------+\n",
      "only showing top 200 rows\n",
      "\n"
     ]
    }
   ],
   "source": [
    "filtered_df.select(\"title\").show(200, truncate=False)"
   ]
  },
  {
   "cell_type": "code",
   "execution_count": 51,
   "id": "618e3280-ee49-47ef-86cb-e1b5da76efdb",
   "metadata": {},
   "outputs": [
    {
     "name": "stdout",
     "output_type": "stream",
     "text": [
      "+-------------+--------------------+-------------+----------+------------------+--------------------+--------------------+--------------------+\n",
      "|         isbn|               title|numberOfpages|Avg.rating|        authorName|           userNames|            userUrls|         userRatings|\n",
      "+-------------+--------------------+-------------+----------+------------------+--------------------+--------------------+--------------------+\n",
      "|9788867156009|Harry Potter e il...|        567.0|      4.57|    [J.K. Rowling]|[Whitney Atkinson...|[/user/show/14457...|[5.0, 5.0, 5.0, N...|\n",
      "|9780545582995|Harry Potter and ...|        652.0|      4.57|    [J.K. Rowling]|[Whitney Atkinson...|[/user/show/14457...|[5.0, 5.0, 5.0, N...|\n",
      "|9788588771017|Harry Potter E A ...|         NULL|      4.38| [Rocco Promocoes]|[Ana Pessoa, Brun...|[/user/show/33068...|[1.0, 5.0, 5.0, 5...|\n",
      "|9780439136358|Harry Potter and ...|        435.0|      4.57|    [J.K. Rowling]|[Inge, Zoë, Wil W...|[/user/show/62788...|[5.0, 5.0, 4.0, N...|\n",
      "|9780439203524|Harry Potter and ...|        309.0|      4.44|    [J.K. Rowling]|[Lora, Khanh (the...|[/user/show/46320...|[5.0, 5.0, 5.0, 5...|\n",
      "|9781338596700|Harry Potter and ...|        368.0|      4.48|    [J.K. Rowling]|[Miranda Reads, L...|[/user/show/71848...|[5.0, 5.0, 5.0, 5...|\n",
      "|9780006751977|Harry the Poisono...|        159.0|      3.85|[Lynne Reid Banks]|[Rebecca McNutt, ...|[/user/show/36977...|[4.0, 3.0, 4.0, 4...|\n",
      "|9781781105450|Harry Potter e la...|        368.0|      3.68|    [John Tiffany]|[Cait • A Page wi...|[/user/show/47412...|[2.0, 4.0, 4.0, 4...|\n",
      "|9780439064866|Harry Potter and ...|        251.0|      4.43|    [J.K. Rowling]|[Zoë, Sasha Alsbe...|[/user/show/93036...|[5.0, 5.0, 4.0, 5...|\n",
      "|9780747546290|Harry Potter and ...|        317.0|      4.57|    [J.K. Rowling]|[Inge, Cindy, Zoë...|[/user/show/62788...|[5.0, 4.0, 5.0, 4...|\n",
      "|         NULL|Harry Potter and ...|         NULL|      4.49|    [J.K. Rowling]|[Diane ϟ [ Lestra...|[/user/show/34420...|[5.0, 5.0, 5.0, N...|\n",
      "|9781612251295|Harry the Hairles...|         26.0|       0.0|  [Melanie Hughes]|                  []|                  []|                  []|\n",
      "|9781408855683|Harry Potter and ...|        640.0|      4.56|    [J.K. Rowling]|[Zoë, Sasha Alsbe...|[/user/show/93036...|[5.0, 5.0, NULL, ...|\n",
      "|   B017V4NOEG|Harry Potter and ...|         19.0|      4.57|    [J.K. Rowling]|[Jayson, Whitney ...|[/user/show/22106...|[5.0, 5.0, 5.0, N...|\n",
      "|9781408845677|Harry Potter and ...|        464.0|      4.56|    [J.K. Rowling]|[Zoë, Sasha Alsbe...|[/user/show/93036...|[5.0, 5.0, NULL, ...|\n",
      "|9780439358071|Harry Potter and ...|        870.0|      4.49|    [J.K. Rowling]|[Kai, Diane ϟ [ L...|[/user/show/41788...|[5.0, 5.0, 5.0, 5...|\n",
      "|         NULL|Harry Potter and ...|        309.0|      4.48|    [J.K. Rowling]|[Miranda Reads, L...|[/user/show/71848...|[5.0, 5.0, 5.0, 5...|\n",
      "|9783551577771|Harry Potter und ...|        767.0|      4.62|    [J.K. Rowling]|[Suzanne, Kassidy...|[/user/show/16745...|[5.0, 5.0, 1.0, 5...|\n",
      "|         NULL|Harry Potter and ...|        352.0|      4.48|    [J.K. Rowling]|[Miranda Reads, L...|[/user/show/71848...|[5.0, 5.0, 5.0, 5...|\n",
      "|9780439827607|Harry Potter Coll...|       3342.0|      4.73|    [J.K. Rowling]|[Ida, Jen Holman,...|[/user/show/23173...|[NULL, 5.0, 5.0, ...|\n",
      "+-------------+--------------------+-------------+----------+------------------+--------------------+--------------------+--------------------+\n",
      "only showing top 20 rows\n",
      "\n"
     ]
    }
   ],
   "source": [
    "filtered_df.show()"
   ]
  },
  {
   "cell_type": "markdown",
   "id": "483ad276-8322-4f33-942f-d5e84042443a",
   "metadata": {},
   "source": [
    "Checking if userNames and userRatings are equal in size. "
   ]
  },
  {
   "cell_type": "code",
   "execution_count": 53,
   "id": "f1a9591b-ef3c-44dd-9a45-e1f139e720ee",
   "metadata": {},
   "outputs": [
    {
     "name": "stdout",
     "output_type": "stream",
     "text": [
      "Username:  30\n",
      "UserRating:  30\n"
     ]
    }
   ],
   "source": [
    "single_instance_length = filtered_df.select(\n",
    "    size(col(\"userNames\")).alias(\"uN_length\"),\n",
    "    size(col(\"userRatings\")).alias(\"uR_length\")\n",
    ").first()\n",
    "\n",
    "print(\"Username: \",single_instance_length[\"uN_length\"])\n",
    "print(\"UserRating: \",single_instance_length[\"uR_length\"])"
   ]
  },
  {
   "cell_type": "code",
   "execution_count": 54,
   "id": "4214ad29-495d-4ad4-9229-84433fb6f8f5",
   "metadata": {},
   "outputs": [],
   "source": [
    "single_instance = filtered_df.select(\n",
    "    col(\"userNames\"),\n",
    "    col(\"userRatings\")\n",
    ").first()"
   ]
  },
  {
   "cell_type": "code",
   "execution_count": 55,
   "id": "a8fe3995-741c-4f16-89c2-980344323d3d",
   "metadata": {},
   "outputs": [
    {
     "data": {
      "text/plain": [
       "Row(userNames=['Whitney Atkinson', 'Jayson', 'Jayson', 'C.G. Drews', 'Lily C', 'Adam Silvera', 'Kai', 'Chelsea Humphrey', 'Aloysius', 'Sean Barrs ', 'Melissa ♥ Dog/Wolf Lover ♥ Martin', 'Chris', 'Merphy Napier', 'Reynita Maharani ★ The Night Reader ★', 'Jonathan Janz', 'Kassidy', 'Luca Ambrosino', 'Ahmad Sharabiani', ' Teodora ', 'emma', 'Hamad', 'Luffy', 'Chloe', 'Aj the Ravenous Reader', 'Warda', 'Tina ➹ the girl who lives in Fandoms ', 'April', 'Inge', 'April (Aprilius Maximus)', 'Evgeny'], userRatings=[5.0, 5.0, 5.0, None, None, 5.0, None, 5.0, 5.0, 5.0, 5.0, 4.0, 5.0, 4.0, 5.0, 5.0, 5.0, 5.0, 5.0, 5.0, 4.0, 5.0, 5.0, 5.0, 5.0, 4.0, 5.0, 5.0, 5.0, 5.0])"
      ]
     },
     "execution_count": 55,
     "metadata": {},
     "output_type": "execute_result"
    }
   ],
   "source": [
    "single_instance"
   ]
  },
  {
   "cell_type": "markdown",
   "id": "50ce891a-62e2-43f4-a594-4886dfc9926c",
   "metadata": {},
   "source": [
    "# Data preprocessing\n",
    "0. Check that userNames list and userRatings list are matching in length. \n",
    "1. Data stored in lists:\n",
    "   - userNames and userRatings stored in lists\n",
    "2. Handle missing or Null values\n",
    "   - Instances with missing userRatings should be removed\n",
    "3. Handle duplicates\n",
    "   - There should only be one user-item combination\n",
    "    \n",
    "# Feature engineering\n",
    "4. Prepare matrix\n",
    "   - user, item, rating\n",
    "5. Popularity\n",
    "   - Select the 1000 most popular items\n",
    "   - Filter the data to consist of users that have ranked 5 or more items\n",
    "6. Split data into train and test sets\n",
    "\n",
    "# Model creation\n",
    "7. Build model\n",
    "8. Generate predictions\n"
   ]
  },
  {
   "cell_type": "markdown",
   "id": "36f52790-a91c-4279-ad99-8602adb1ee1a",
   "metadata": {},
   "source": [
    "### 1. Expanding the lists so user-rating pairs are formed as instances. "
   ]
  },
  {
   "cell_type": "code",
   "execution_count": 58,
   "id": "b4a10296-774c-494a-9871-394173b3adcc",
   "metadata": {},
   "outputs": [],
   "source": [
    "df_expanded = new_collab_df.select(\n",
    "    col(\"isbn\"),\n",
    "    col(\"title\"),\n",
    "    col(\"authorName\"),\n",
    "    col(\"userNames\").alias(\"userName_list\"),\n",
    "    col(\"userRatings\").alias(\"userRating_list\"),\n",
    ").withColumn(\"userName\", explode(col(\"userName_list\"))) \\\n",
    " .withColumn(\"userRating\", explode(col(\"userRating_list\")))\n",
    "\n",
    "df_expanded = df_expanded.drop(\"userName_list\", \"userRating_list\")"
   ]
  },
  {
   "cell_type": "code",
   "execution_count": 59,
   "id": "978f5824-ed4d-42c0-9a8c-a0b4c89a4293",
   "metadata": {},
   "outputs": [
    {
     "name": "stdout",
     "output_type": "stream",
     "text": [
      "+-------------+--------------------+----------------+--------+----------+\n",
      "|         isbn|               title|      authorName|userName|userRating|\n",
      "+-------------+--------------------+----------------+--------+----------+\n",
      "|9781101478288|How to Be a Menta...|[Simon Winthrop]|   Billy|       1.0|\n",
      "|9781101478288|How to Be a Menta...|[Simon Winthrop]|   Billy|       1.0|\n",
      "|9781101478288|How to Be a Menta...|[Simon Winthrop]|   Billy|       1.0|\n",
      "|9781101478288|How to Be a Menta...|[Simon Winthrop]|   Billy|       4.0|\n",
      "|9781101478288|How to Be a Menta...|[Simon Winthrop]|   Billy|       2.0|\n",
      "+-------------+--------------------+----------------+--------+----------+\n",
      "only showing top 5 rows\n",
      "\n"
     ]
    }
   ],
   "source": [
    "df_expanded.show(5)"
   ]
  },
  {
   "cell_type": "code",
   "execution_count": 60,
   "id": "91ca9a37-4bdf-4ca0-8256-1490453dd25a",
   "metadata": {},
   "outputs": [
    {
     "data": {
      "text/plain": [
       "357310227"
      ]
     },
     "execution_count": 60,
     "metadata": {},
     "output_type": "execute_result"
    }
   ],
   "source": [
    "df_expanded.count()"
   ]
  },
  {
   "cell_type": "code",
   "execution_count": 61,
   "id": "b24755e2-3b5a-4c9d-ba9d-3f5f47d46d13",
   "metadata": {},
   "outputs": [
    {
     "name": "stdout",
     "output_type": "stream",
     "text": [
      "('isbn', 'string')\n",
      "('title', 'string')\n",
      "('authorName', 'array<string>')\n",
      "('userName', 'string')\n",
      "('userRating', 'double')\n"
     ]
    }
   ],
   "source": [
    "for col in df_expanded.dtypes:\n",
    "    print(col[::])"
   ]
  },
  {
   "cell_type": "code",
   "execution_count": 62,
   "id": "c5858435-571a-4e50-8d55-57436eb80547",
   "metadata": {},
   "outputs": [],
   "source": [
    "from pyspark.sql.functions import sum, col\n",
    "# from pyspark.sql.types import IntegerType"
   ]
  },
  {
   "cell_type": "code",
   "execution_count": 63,
   "id": "0fabda0e-69a7-4faa-8763-045158dfa054",
   "metadata": {},
   "outputs": [
    {
     "name": "stdout",
     "output_type": "stream",
     "text": [
      "+--------+-----+----------+--------+----------+\n",
      "|    isbn|title|authorName|userName|userRating|\n",
      "+--------+-----+----------+--------+----------+\n",
      "|34582114|    0|         0|       0|  62471526|\n",
      "+--------+-----+----------+--------+----------+\n",
      "\n"
     ]
    }
   ],
   "source": [
    "amount_of_nulls = df_expanded.select(\n",
    "    *[sum(col(i).isNull().cast(IntegerType())).alias(i) for i in df_expanded.columns]\n",
    ")\n",
    "amount_of_nulls.show()"
   ]
  },
  {
   "cell_type": "code",
   "execution_count": 64,
   "id": "128737dc-e435-4948-9be5-5607fa73dd27",
   "metadata": {},
   "outputs": [
    {
     "name": "stdout",
     "output_type": "stream",
     "text": [
      "+----------+\n",
      "|sum(count)|\n",
      "+----------+\n",
      "| 349332855|\n",
      "+----------+\n",
      "\n"
     ]
    }
   ],
   "source": [
    "total_duplicates_including_unique = df_expanded.groupBy(df_expanded.columns)\\\n",
    "    .count()\\\n",
    "    .where(col(\"count\") > 1)\\\n",
    "    .select(sum(\"count\"))\\\n",
    "    .show()"
   ]
  },
  {
   "cell_type": "code",
   "execution_count": 65,
   "id": "af6bfeb0-b3b5-47b7-9a32-c6bebd9abfbe",
   "metadata": {},
   "outputs": [],
   "source": [
    "count_of_unique_duplicates = df_expanded.groupBy(df_expanded.columns)\\\n",
    "    .count()\\\n",
    "    .filter(col(\"count\") > 1)\\\n",
    "    .count()\n"
   ]
  },
  {
   "cell_type": "code",
   "execution_count": 66,
   "id": "f00b65c6-d1cc-455d-8775-b3d823640a2a",
   "metadata": {},
   "outputs": [
    {
     "data": {
      "text/plain": [
       "38470701"
      ]
     },
     "execution_count": 66,
     "metadata": {},
     "output_type": "execute_result"
    }
   ],
   "source": [
    "count_of_unique_duplicates"
   ]
  },
  {
   "cell_type": "code",
   "execution_count": 67,
   "id": "02613134-d214-4484-bf55-62fe1b84cd75",
   "metadata": {},
   "outputs": [],
   "source": [
    "unique_count = df_expanded.groupBy(df_expanded.columns)\\\n",
    "    .count()\\\n",
    "    .count()"
   ]
  },
  {
   "cell_type": "code",
   "execution_count": 68,
   "id": "91c02ff0-6c61-49f6-a9d3-3c52a99af579",
   "metadata": {},
   "outputs": [
    {
     "data": {
      "text/plain": [
       "46448073"
      ]
     },
     "execution_count": 68,
     "metadata": {},
     "output_type": "execute_result"
    }
   ],
   "source": [
    "unique_count"
   ]
  },
  {
   "cell_type": "code",
   "execution_count": 69,
   "id": "580436b5-d2c0-477c-a367-9d21e01cfe43",
   "metadata": {},
   "outputs": [
    {
     "name": "stdout",
     "output_type": "stream",
     "text": [
      "+-------------+--------------------+--------------------+--------------------+----------+-----+\n",
      "|         isbn|               title|          authorName|            userName|userRating|count|\n",
      "+-------------+--------------------+--------------------+--------------------+----------+-----+\n",
      "|9781627792127|        Six of Crows|     [Leigh Bardugo]|Jesse (JesseTheRe...|       5.0| 1158|\n",
      "|         NULL|   The Little Prince|[Antoine de Saint...|    Ahmad Sharabiani|       5.0|  771|\n",
      "|         NULL|Harry Potter and ...|      [J.K. Rowling]|              Jayson|       5.0|  740|\n",
      "|         NULL| Pride and Prejudice|       [Jane Austen]|                Anne|       5.0|  604|\n",
      "|9781627792127|        Six of Crows|     [Leigh Bardugo]|    Victoria Aveyard|       5.0|  579|\n",
      "|9781627792127|        Six of Crows|     [Leigh Bardugo]|      Steph Sinclair|       5.0|  579|\n",
      "|9781627792127|        Six of Crows|     [Leigh Bardugo]|            Katerina|       5.0|  579|\n",
      "|9781627792127|        Six of Crows|     [Leigh Bardugo]|           Emily May|       5.0|  579|\n",
      "|9781627792127|        Six of Crows|     [Leigh Bardugo]|Khanh, first of h...|       5.0|  579|\n",
      "|9781627792127|        Six of Crows|     [Leigh Bardugo]|        Ben Alderson|       5.0|  579|\n",
      "|9781627792127|        Six of Crows|     [Leigh Bardugo]|               Warda|       5.0|  579|\n",
      "|9781627792127|        Six of Crows|     [Leigh Bardugo]|     Jessica Edwards|       5.0|  579|\n",
      "|9781627792127|        Six of Crows|     [Leigh Bardugo]|                emma|       5.0|  579|\n",
      "|9781627792127|        Six of Crows|     [Leigh Bardugo]|    Whitney Atkinson|       5.0|  579|\n",
      "|9781627792127|        Six of Crows|     [Leigh Bardugo]|    Christine Riccio|       5.0|  579|\n",
      "|9781627792127|        Six of Crows|     [Leigh Bardugo]|               karen|       5.0|  579|\n",
      "|9781627792127|        Six of Crows|     [Leigh Bardugo]|          C.G. Drews|       5.0|  579|\n",
      "|9781627792127|        Six of Crows|     [Leigh Bardugo]|Virginia Ronan ♥ ...|       5.0|  579|\n",
      "|9781627792127|        Six of Crows|     [Leigh Bardugo]|              Angela|       5.0|  579|\n",
      "|9781627792127|        Six of Crows|     [Leigh Bardugo]|             jessica|       5.0|  579|\n",
      "+-------------+--------------------+--------------------+--------------------+----------+-----+\n",
      "only showing top 20 rows\n",
      "\n"
     ]
    }
   ],
   "source": [
    "duplicate_rows = df_expanded.groupBy(df_expanded.columns)\\\n",
    "    .count()\\\n",
    "    .where(col(\"count\") > 1)\\\n",
    "    .orderBy(col(\"count\").desc())\\\n",
    "    .show()"
   ]
  },
  {
   "cell_type": "markdown",
   "id": "e1adece8-33c7-465f-bade-0166b212d2ee",
   "metadata": {},
   "source": [
    "### 2. Handling missing values"
   ]
  },
  {
   "cell_type": "code",
   "execution_count": 71,
   "id": "193941ce-cc59-424f-b5da-643d1430905c",
   "metadata": {},
   "outputs": [],
   "source": [
    "df_cleaned_1 = df_expanded.filter(col(\"userRating\").isNotNull())"
   ]
  },
  {
   "cell_type": "code",
   "execution_count": 72,
   "id": "ca80973c-efaf-47b8-afa8-903d021b51ae",
   "metadata": {},
   "outputs": [
    {
     "name": "stdout",
     "output_type": "stream",
     "text": [
      "+--------+-----+----------+--------+----------+\n",
      "|    isbn|title|authorName|userName|userRating|\n",
      "+--------+-----+----------+--------+----------+\n",
      "|26991564|    0|         0|       0|         0|\n",
      "+--------+-----+----------+--------+----------+\n",
      "\n"
     ]
    }
   ],
   "source": [
    "amount_of_nulls = df_cleaned_1.select(\n",
    "    *[sum(col(i).isNull().cast(IntegerType())).alias(i) for i in df_cleaned_1.columns]\n",
    ")\n",
    "amount_of_nulls.show()"
   ]
  },
  {
   "cell_type": "code",
   "execution_count": 73,
   "id": "13f5d1ce-c1f1-41f4-8704-c716936a57ce",
   "metadata": {},
   "outputs": [
    {
     "data": {
      "text/plain": [
       "294838701"
      ]
     },
     "execution_count": 73,
     "metadata": {},
     "output_type": "execute_result"
    }
   ],
   "source": [
    "df_cleaned_1.count()"
   ]
  },
  {
   "cell_type": "code",
   "execution_count": 74,
   "id": "ec152ee0-defd-45bd-a337-0769c5adb244",
   "metadata": {},
   "outputs": [
    {
     "data": {
      "text/plain": [
       "40172861"
      ]
     },
     "execution_count": 74,
     "metadata": {},
     "output_type": "execute_result"
    }
   ],
   "source": [
    "df_cleaned_1.distinct().count()"
   ]
  },
  {
   "cell_type": "markdown",
   "id": "5dd89a1e-43cc-46a0-9541-7508110e7f4d",
   "metadata": {},
   "source": [
    "### 3. Removing dupilicates"
   ]
  },
  {
   "cell_type": "code",
   "execution_count": 76,
   "id": "6d3643e7-6690-400c-b989-d988ef5f3d1e",
   "metadata": {},
   "outputs": [],
   "source": [
    "# Drop duplicates based on isbn\n",
    "# df_cleaned_2 = df_cleaned_1.dropDuplicates(subset='isbn')\n",
    "\n",
    "# Drop duplicates based on title (same editions as one book)\n",
    "# df_cleaned_2 = df_cleaned_1.dropDuplicates(subset='title')\n",
    "\n",
    "# Drop the same user rating the same book\n",
    "# df_cleaned_2 = df_cleaned_1.dropDuplicates(['isbn', 'userName'])\n",
    "df_cleaned_2 = df_cleaned_1.dropDuplicates(['title', 'userName'])"
   ]
  },
  {
   "cell_type": "code",
   "execution_count": 77,
   "id": "3f1b6818-1d45-463c-be85-7dc965f2404c",
   "metadata": {},
   "outputs": [
    {
     "name": "stdout",
     "output_type": "stream",
     "text": [
      "+----+-----+----------+--------+----------+-----+\n",
      "|isbn|title|authorName|userName|userRating|count|\n",
      "+----+-----+----------+--------+----------+-----+\n",
      "+----+-----+----------+--------+----------+-----+\n",
      "\n"
     ]
    }
   ],
   "source": [
    "dups_2 = df_cleaned_2.groupBy(df_expanded.columns)\\\n",
    "    .count()\\\n",
    "    .where(col(\"count\") > 1)\\\n",
    "    .orderBy(col(\"count\").desc())\\\n",
    "    .show()"
   ]
  },
  {
   "cell_type": "code",
   "execution_count": 78,
   "id": "5da6fd67-4a20-4b96-bc35-7457a28fe950",
   "metadata": {},
   "outputs": [
    {
     "data": {
      "text/plain": [
       "9207188"
      ]
     },
     "execution_count": 78,
     "metadata": {},
     "output_type": "execute_result"
    }
   ],
   "source": [
    "df_cleaned_2.count()"
   ]
  },
  {
   "cell_type": "code",
   "execution_count": 79,
   "id": "52702ff3-2684-4c12-b7d5-ff717b27a52a",
   "metadata": {},
   "outputs": [
    {
     "data": {
      "text/plain": [
       "9207188"
      ]
     },
     "execution_count": 79,
     "metadata": {},
     "output_type": "execute_result"
    }
   ],
   "source": [
    "df_cleaned_2.distinct().count()"
   ]
  },
  {
   "cell_type": "markdown",
   "id": "6fe2816b-f0e2-445c-927a-888ce1f6462e",
   "metadata": {},
   "source": [
    "### 4. Prepare matrix"
   ]
  },
  {
   "cell_type": "code",
   "execution_count": 81,
   "id": "bc29ebf4-c3b5-4422-b8d6-e0bc5071673e",
   "metadata": {},
   "outputs": [],
   "source": [
    "# df_matrix = df_cleaned_2.select(\n",
    "#     col(\"userName\").alias(\"user\"),\n",
    "#     col(\"userRating\").alias(\"rating\"),\n",
    "#     col(\"isbn\").alias(\"item\"),\n",
    "# )\n",
    "\n",
    "df_matrix = df_cleaned_2.select(\n",
    "    col(\"userName\").alias(\"user\"),\n",
    "    col(\"userRating\").alias(\"rating\"),\n",
    "    col(\"title\").alias(\"item\"),\n",
    ")"
   ]
  },
  {
   "cell_type": "markdown",
   "id": "bde9fa61-3683-49e8-adb0-1d809e524360",
   "metadata": {},
   "source": [
    "### 5. Popularity\n",
    "   "
   ]
  },
  {
   "cell_type": "code",
   "execution_count": 83,
   "id": "8893d3b2-c508-4293-831a-b2afed5ba032",
   "metadata": {},
   "outputs": [],
   "source": [
    "popularity_df = (\n",
    "    df_matrix.groupBy('item')\n",
    "    .agg(count('*').alias('popularity'))\n",
    "    .orderBy(col('popularity').desc())\n",
    ")"
   ]
  },
  {
   "cell_type": "code",
   "execution_count": 84,
   "id": "efcd0e8e-c7b2-4caf-8b0f-11526263f7f2",
   "metadata": {},
   "outputs": [],
   "source": [
    "top_items = popularity_df.limit(2000)"
   ]
  },
  {
   "cell_type": "code",
   "execution_count": 85,
   "id": "c2ec65a5-c273-490a-852e-e52fc1ad82c5",
   "metadata": {},
   "outputs": [
    {
     "name": "stdout",
     "output_type": "stream",
     "text": [
      "+-----------------+----------+\n",
      "|             item|popularity|\n",
      "+-----------------+----------+\n",
      "|       Redemption|      1708|\n",
      "|           Broken|      1412|\n",
      "|         Untitled|      1332|\n",
      "|   Selected Poems|       829|\n",
      "|        Awakening|       811|\n",
      "|       Breathless|       731|\n",
      "|             Torn|       726|\n",
      "|         Fearless|       716|\n",
      "|        Deception|       704|\n",
      "|             Burn|       700|\n",
      "|         Betrayal|       692|\n",
      "|           Hunted|       688|\n",
      "|        Vengeance|       679|\n",
      "|         Betrayed|       677|\n",
      "|            Bound|       677|\n",
      "|         The Gift|       674|\n",
      "|           Hidden|       672|\n",
      "|Crossing the Line|       669|\n",
      "|          Nemesis|       666|\n",
      "|         Reckless|       656|\n",
      "|         Blackout|       652|\n",
      "|           Cursed|       650|\n",
      "|          Revenge|       649|\n",
      "|      The Promise|       643|\n",
      "|           Chosen|       636|\n",
      "|           Hunter|       635|\n",
      "|        Sacrifice|       634|\n",
      "|        Shattered|       631|\n",
      "|            Taken|       629|\n",
      "|        Sanctuary|       627|\n",
      "|   Second Chances|       625|\n",
      "|           Legacy|       616|\n",
      "|          Twisted|       614|\n",
      "|             Home|       614|\n",
      "|      Coming Home|       613|\n",
      "|        Surrender|       585|\n",
      "|       Temptation|       579|\n",
      "|      Retribution|       577|\n",
      "|            Spark|       568|\n",
      "|       Crossroads|       568|\n",
      "|          Falling|       561|\n",
      "|          Captive|       552|\n",
      "|           Undone|       552|\n",
      "|            Rebel|       548|\n",
      "|        Forbidden|       548|\n",
      "|          Untamed|       546|\n",
      "|          Haunted|       544|\n",
      "|      In Too Deep|       543|\n",
      "|      Bittersweet|       540|\n",
      "|            Mercy|       532|\n",
      "+-----------------+----------+\n",
      "only showing top 50 rows\n",
      "\n"
     ]
    }
   ],
   "source": [
    "top_items.show(50)"
   ]
  },
  {
   "cell_type": "code",
   "execution_count": 86,
   "id": "7cc0413b-46d8-4c1d-b692-281122bb1f8c",
   "metadata": {},
   "outputs": [],
   "source": [
    "df_main = df_matrix.join(top_items, on='item', how='inner')"
   ]
  },
  {
   "cell_type": "code",
   "execution_count": 87,
   "id": "80695892-5a79-4ddb-955e-120334786aae",
   "metadata": {},
   "outputs": [
    {
     "name": "stdout",
     "output_type": "stream",
     "text": [
      "+------------------+--------------------+------+----------+\n",
      "|              item|                user|rating|popularity|\n",
      "+------------------+--------------------+------+----------+\n",
      "|            Endure|             Theresa|   5.0|       154|\n",
      "|           Twisted|Sharon ∞❥ is an e...|   3.0|       614|\n",
      "|             Siren|       Ennaoj  Ninob|   3.0|       202|\n",
      "|       Dark Matter|             Maureen|   4.0|       165|\n",
      "|           Gravity|         Jack Jordan|   4.0|       469|\n",
      "|       Serendipity|               Stacy|   5.0|       245|\n",
      "|            Refuge|                   V|   4.0|       206|\n",
      "|          Infinite|              Rachel|   2.0|       157|\n",
      "|               Red|          Amanda Cox|   2.0|       527|\n",
      "|             Torch|               Emily|   1.0|       180|\n",
      "|     Then Came You|       Malia Saldaña|   5.0|       200|\n",
      "|             Greed|         Jezelle Gay|   5.0|       217|\n",
      "|          Stranded|                Tina|   4.0|       313|\n",
      "|   The Light Years|         Reese Hogan|   4.0|       131|\n",
      "|           Sleeper|                 Jen|   5.0|       182|\n",
      "|             Crush|             Valerie|   5.0|       349|\n",
      "|         Firstborn|               Kaleb|   2.0|       150|\n",
      "|             Bound|             Melissa|   5.0|       677|\n",
      "|             Siren|           Jean Valk|   3.0|       202|\n",
      "|              Rain|           M L Dyson|   5.0|       353|\n",
      "|             Bound|      Maria Miaoulis|   2.0|       677|\n",
      "|             Bound|                  J.|   2.0|       677|\n",
      "|        Belladonna|            Jennifer|   2.0|       174|\n",
      "|               Sin|                Bill|   4.0|       250|\n",
      "|         Collision|                Lori|   5.0|       293|\n",
      "|    New Beginnings|        Ruth  Wilson|   4.0|       273|\n",
      "|              Lust|            Jennifer|   5.0|       248|\n",
      "|             Beast|               James|   4.0|       502|\n",
      "|           Haunted|               Scott|   4.0|       544|\n",
      "|            Deeper|            Leigh UK|   5.0|       300|\n",
      "|              Rush|        Jamie Mounts|   4.0|       484|\n",
      "|          Blackout|                 Suz|   5.0|       652|\n",
      "|           Sleeper|          Book Queen|   5.0|       182|\n",
      "|             Crush|               Megan|   5.0|       349|\n",
      "|   The Disappeared|              Krista|   5.0|       216|\n",
      "|         The House|Mackenzie - PhDiv...|   5.0|       176|\n",
      "|        Unraveling|              Martha|   4.0|       225|\n",
      "|        Unraveling|           Christina|   4.0|       225|\n",
      "|          The Deep|              NReads|   4.0|       281|\n",
      "|              Luca|              Jill M|   5.0|       132|\n",
      "|             Sweet|              Bozena|   5.0|       287|\n",
      "|             Crave|              Ayesha|   1.0|       531|\n",
      "|          Instinct|               Ronda|   5.0|       207|\n",
      "|Blood in the Water|     Sheila Beaumont|   4.0|       134|\n",
      "|     Into the Wild|        Steven Godin|   2.0|       150|\n",
      "|           Rapture|                 Jos|   4.0|       265|\n",
      "|            Deeper| Bookgasms Book Blog|   5.0|       300|\n",
      "|             Ariel|               Manny|   5.0|       172|\n",
      "|        Absolution|        ☕️Kimberly  |   4.0|       394|\n",
      "|              Luca|         J.E. Benoit|   5.0|       132|\n",
      "+------------------+--------------------+------+----------+\n",
      "only showing top 50 rows\n",
      "\n"
     ]
    }
   ],
   "source": [
    "df_main.show(50)"
   ]
  },
  {
   "cell_type": "code",
   "execution_count": 88,
   "id": "6b3545dd-37b6-40b4-93c2-591a328ac114",
   "metadata": {},
   "outputs": [
    {
     "data": {
      "text/plain": [
       "423224"
      ]
     },
     "execution_count": 88,
     "metadata": {},
     "output_type": "execute_result"
    }
   ],
   "source": [
    "df_main.count()"
   ]
  },
  {
   "cell_type": "markdown",
   "id": "23018116-61c7-4193-b857-f4b6359fca9d",
   "metadata": {},
   "source": [
    "Randomize the partition order."
   ]
  },
  {
   "cell_type": "code",
   "execution_count": 90,
   "id": "7e593d24-dcd2-476d-b14d-dbced3b60977",
   "metadata": {},
   "outputs": [
    {
     "name": "stdout",
     "output_type": "stream",
     "text": [
      "root\n",
      " |-- item: string (nullable = true)\n",
      " |-- user: string (nullable = true)\n",
      " |-- rating: double (nullable = true)\n",
      " |-- popularity: long (nullable = false)\n",
      "\n"
     ]
    }
   ],
   "source": [
    "df_main.printSchema()"
   ]
  },
  {
   "cell_type": "markdown",
   "id": "e868326d-2de8-4c9d-ac04-a605a5c6ab2a",
   "metadata": {},
   "source": [
    "Divides the data into groups based on user, and orders it on items"
   ]
  },
  {
   "cell_type": "code",
   "execution_count": 92,
   "id": "19f9e4d9-6496-4c17-8bc2-962b78dc0027",
   "metadata": {},
   "outputs": [],
   "source": [
    "user_window = Window.partitionBy('user').orderBy(col('item').desc())"
   ]
  },
  {
   "cell_type": "code",
   "execution_count": 93,
   "id": "3378192d-3c9a-4eb6-855a-903424decf5f",
   "metadata": {},
   "outputs": [],
   "source": [
    "df_main = df_main.withColumn(\"num_items\", expr(\"count(*) over (partition by user)\"))"
   ]
  },
  {
   "cell_type": "code",
   "execution_count": 94,
   "id": "abe5f85d-cd4e-4cd3-9fd7-6f479c24851d",
   "metadata": {},
   "outputs": [],
   "source": [
    "df_main = df_main.filter(col(\"num_items\")>=10)"
   ]
  },
  {
   "cell_type": "markdown",
   "id": "06df920c-1fe2-4086-aa0a-d6cfa34709f7",
   "metadata": {},
   "source": [
    "> Unique items: 499\n",
    ">> Unique users: 1298"
   ]
  },
  {
   "cell_type": "markdown",
   "id": "6beed3ef-0bf9-4834-b83f-3e91dccf2080",
   "metadata": {},
   "source": [
    "> Unique items: 1997\n",
    ">> Unique users: 3678"
   ]
  },
  {
   "cell_type": "code",
   "execution_count": 97,
   "id": "6f5b37fc-ce03-41f2-849c-899819c63f8f",
   "metadata": {},
   "outputs": [
    {
     "name": "stdout",
     "output_type": "stream",
     "text": [
      "Unique items: 2000\n",
      "Unique users: 6016\n"
     ]
    }
   ],
   "source": [
    "nr_of_items = df_main.select('item').distinct().count()\n",
    "nr_of_users = df_main.select('user').distinct().count()\n",
    "\n",
    "print(f\"Unique items: {nr_of_items}\")\n",
    "print(f\"Unique users: {nr_of_users}\")"
   ]
  },
  {
   "cell_type": "code",
   "execution_count": 98,
   "id": "57512e44-f0f8-4463-8015-6187600ca079",
   "metadata": {},
   "outputs": [],
   "source": [
    "items_per_user = df_main.groupBy(\"user\").count().select(\"count\").toPandas()"
   ]
  },
  {
   "cell_type": "code",
   "execution_count": 99,
   "id": "ded7d13a-7e0c-41ec-9085-d9d807bc43c4",
   "metadata": {},
   "outputs": [
    {
     "data": {
      "image/png": "[encoded data removed]",
      "text/plain": [
       "<Figure size 640x480 with 1 Axes>"
      ]
     },
     "metadata": {},
     "output_type": "display_data"
    }
   ],
   "source": [
    "plt.hist(items_per_user['count'], bins=15, range=(1,30), edgecolor=\"black\")\n",
    "plt.xlabel(\"nr. of items\")\n",
    "plt.ylabel(\"nr. of users\")\n",
    "plt.title(\"Number of items per user\")\n",
    "plt.show()"
   ]
  },
  {
   "cell_type": "code",
   "execution_count": 100,
   "id": "2bdbea8d-98f8-440a-9e94-00bf63d5d854",
   "metadata": {},
   "outputs": [
    {
     "data": {
      "text/plain": [
       "[('item', 'string')]"
      ]
     },
     "execution_count": 100,
     "metadata": {},
     "output_type": "execute_result"
    }
   ],
   "source": [
    "df_main.select(\"item\").dtypes"
   ]
  },
  {
   "cell_type": "code",
   "execution_count": 101,
   "id": "bbbc034a-be68-40e3-a3df-c086d7bc048c",
   "metadata": {},
   "outputs": [],
   "source": [
    "user_indexer = StringIndexer(inputCol=\"user\", outputCol=\"userIndex\").setHandleInvalid(\"keep\")\n",
    "item_indexer = StringIndexer(inputCol=\"item\", outputCol=\"itemIndex\").setHandleInvalid(\"keep\")\n",
    "\n",
    "df_main = user_indexer.fit(df_main).transform(df_main)\n",
    "df_main = item_indexer.fit(df_main).transform(df_main)"
   ]
  },
  {
   "cell_type": "code",
   "execution_count": 102,
   "id": "8bc9dfdc-d0af-4ad7-b61e-3c8b215cd76f",
   "metadata": {},
   "outputs": [
    {
     "name": "stdout",
     "output_type": "stream",
     "text": [
      "root\n",
      " |-- item: string (nullable = true)\n",
      " |-- user: string (nullable = true)\n",
      " |-- rating: double (nullable = true)\n",
      " |-- popularity: long (nullable = false)\n",
      " |-- num_items: long (nullable = false)\n",
      " |-- userIndex: double (nullable = false)\n",
      " |-- itemIndex: double (nullable = false)\n",
      "\n"
     ]
    }
   ],
   "source": [
    "df_main.printSchema()"
   ]
  },
  {
   "cell_type": "code",
   "execution_count": 103,
   "id": "ce9737b7-e15f-4ee5-bbc0-99109014eeca",
   "metadata": {},
   "outputs": [
    {
     "name": "stdout",
     "output_type": "stream",
     "text": [
      "+---------+--------------------+\n",
      "|itemIndex|                item|\n",
      "+---------+--------------------+\n",
      "|    252.0|       The Gathering|\n",
      "|    257.0|               Blood|\n",
      "|    159.0|              Malice|\n",
      "|   1652.0| Dancing in the Dark|\n",
      "|   1171.0|               Bones|\n",
      "|    298.0|                Lost|\n",
      "|   1918.0|            Crucible|\n",
      "|    205.0|               Honor|\n",
      "|     36.0|            The Gift|\n",
      "|   1041.0|No Rest for the W...|\n",
      "|    310.0|                Lies|\n",
      "|    440.0| Rules of Engagement|\n",
      "|   1265.0|              Buried|\n",
      "|     53.0|                 Red|\n",
      "|    701.0|             Dominic|\n",
      "|    732.0|                 Six|\n",
      "|   1375.0|       Before I Wake|\n",
      "|   1385.0|          Resolution|\n",
      "|   1660.0|          Pitch Dark|\n",
      "|     23.0|               Crave|\n",
      "+---------+--------------------+\n",
      "only showing top 20 rows\n",
      "\n"
     ]
    }
   ],
   "source": [
    "df_main.select(\"itemIndex\", \"item\").show()"
   ]
  },
  {
   "cell_type": "code",
   "execution_count": 104,
   "id": "b2ee33ba-6e58-4608-9763-0d2dd85a869a",
   "metadata": {},
   "outputs": [],
   "source": [
    "from pyspark.sql.functions import lit, first"
   ]
  },
  {
   "cell_type": "code",
   "execution_count": 105,
   "id": "f2020a3f-1a8d-405c-8461-834e3cb520f1",
   "metadata": {},
   "outputs": [],
   "source": [
    "df_final = df_main.select(\n",
    "    col(\"itemIndex\"),\n",
    "    col(\"userIndex\"),\n",
    "    col(\"rating\")\n",
    ")"
   ]
  },
  {
   "cell_type": "code",
   "execution_count": 106,
   "id": "791f39ca-b426-468b-bdcd-374486341e66",
   "metadata": {},
   "outputs": [],
   "source": [
    "df_pandas = df_main.toPandas()"
   ]
  },
  {
   "cell_type": "markdown",
   "id": "0ead9dc4-adc3-4a14-a5ab-c222e55bd6b2",
   "metadata": {},
   "source": [
    "#### scikit-surprise"
   ]
  },
  {
   "cell_type": "code",
   "execution_count": 276,
   "id": "3c258eda-3b0b-46ee-9c8c-9e64de679714",
   "metadata": {},
   "outputs": [],
   "source": [
    "from surprise import Dataset, Reader, KNNWithMeans, BaselineOnly"
   ]
  },
  {
   "cell_type": "code",
   "execution_count": 109,
   "id": "e7abe7b8-cda8-4d55-af0d-c89f3c52d5ec",
   "metadata": {},
   "outputs": [],
   "source": [
    "reader = Reader(rating_scale=(1, 5))"
   ]
  },
  {
   "cell_type": "code",
   "execution_count": 110,
   "id": "ea7268a8-c487-47be-8020-d4e5965fc65a",
   "metadata": {},
   "outputs": [
    {
     "data": {
      "text/html": [
       "<div>\n",
       "<style scoped>\n",
       "    .dataframe tbody tr th:only-of-type {\n",
       "        vertical-align: middle;\n",
       "    }\n",
       "\n",
       "    .dataframe tbody tr th {\n",
       "        vertical-align: top;\n",
       "    }\n",
       "\n",
       "    .dataframe thead th {\n",
       "        text-align: right;\n",
       "    }\n",
       "</style>\n",
       "<table border=\"1\" class=\"dataframe\">\n",
       "  <thead>\n",
       "    <tr style=\"text-align: right;\">\n",
       "      <th></th>\n",
       "      <th>item</th>\n",
       "      <th>user</th>\n",
       "      <th>rating</th>\n",
       "      <th>popularity</th>\n",
       "      <th>num_items</th>\n",
       "      <th>userIndex</th>\n",
       "      <th>itemIndex</th>\n",
       "    </tr>\n",
       "  </thead>\n",
       "  <tbody>\n",
       "    <tr>\n",
       "      <th>0</th>\n",
       "      <td>Blood</td>\n",
       "      <td>Charlie  ✰ WLTB Blog ✰</td>\n",
       "      <td>5.0</td>\n",
       "      <td>377</td>\n",
       "      <td>34</td>\n",
       "      <td>1460.0</td>\n",
       "      <td>257.0</td>\n",
       "    </tr>\n",
       "    <tr>\n",
       "      <th>1</th>\n",
       "      <td>Malice</td>\n",
       "      <td>Charlie  ✰ WLTB Blog ✰</td>\n",
       "      <td>4.0</td>\n",
       "      <td>389</td>\n",
       "      <td>34</td>\n",
       "      <td>1460.0</td>\n",
       "      <td>159.0</td>\n",
       "    </tr>\n",
       "    <tr>\n",
       "      <th>2</th>\n",
       "      <td>Dancing in the Dark</td>\n",
       "      <td>Charlie  ✰ WLTB Blog ✰</td>\n",
       "      <td>5.0</td>\n",
       "      <td>144</td>\n",
       "      <td>34</td>\n",
       "      <td>1460.0</td>\n",
       "      <td>1652.0</td>\n",
       "    </tr>\n",
       "    <tr>\n",
       "      <th>3</th>\n",
       "      <td>Ensnared</td>\n",
       "      <td>Charlie  ✰ WLTB Blog ✰</td>\n",
       "      <td>4.0</td>\n",
       "      <td>176</td>\n",
       "      <td>34</td>\n",
       "      <td>1460.0</td>\n",
       "      <td>809.0</td>\n",
       "    </tr>\n",
       "    <tr>\n",
       "      <th>4</th>\n",
       "      <td>Murder</td>\n",
       "      <td>Charlie  ✰ WLTB Blog ✰</td>\n",
       "      <td>4.0</td>\n",
       "      <td>143</td>\n",
       "      <td>34</td>\n",
       "      <td>1460.0</td>\n",
       "      <td>1702.0</td>\n",
       "    </tr>\n",
       "    <tr>\n",
       "      <th>5</th>\n",
       "      <td>Lost Boy</td>\n",
       "      <td>Charlie  ✰ WLTB Blog ✰</td>\n",
       "      <td>4.0</td>\n",
       "      <td>126</td>\n",
       "      <td>34</td>\n",
       "      <td>1460.0</td>\n",
       "      <td>1721.0</td>\n",
       "    </tr>\n",
       "    <tr>\n",
       "      <th>6</th>\n",
       "      <td>Covet</td>\n",
       "      <td>Charlie  ✰ WLTB Blog ✰</td>\n",
       "      <td>5.0</td>\n",
       "      <td>315</td>\n",
       "      <td>34</td>\n",
       "      <td>1460.0</td>\n",
       "      <td>200.0</td>\n",
       "    </tr>\n",
       "    <tr>\n",
       "      <th>7</th>\n",
       "      <td>Rules of Engagement</td>\n",
       "      <td>Charlie  ✰ WLTB Blog ✰</td>\n",
       "      <td>5.0</td>\n",
       "      <td>190</td>\n",
       "      <td>34</td>\n",
       "      <td>1460.0</td>\n",
       "      <td>440.0</td>\n",
       "    </tr>\n",
       "    <tr>\n",
       "      <th>8</th>\n",
       "      <td>The Beast Within</td>\n",
       "      <td>Charlie  ✰ WLTB Blog ✰</td>\n",
       "      <td>4.0</td>\n",
       "      <td>215</td>\n",
       "      <td>34</td>\n",
       "      <td>1460.0</td>\n",
       "      <td>736.0</td>\n",
       "    </tr>\n",
       "    <tr>\n",
       "      <th>9</th>\n",
       "      <td>No Rest for the Wicked</td>\n",
       "      <td>Charlie  ✰ WLTB Blog ✰</td>\n",
       "      <td>5.0</td>\n",
       "      <td>183</td>\n",
       "      <td>34</td>\n",
       "      <td>1460.0</td>\n",
       "      <td>1041.0</td>\n",
       "    </tr>\n",
       "    <tr>\n",
       "      <th>10</th>\n",
       "      <td>Crave</td>\n",
       "      <td>Charlie  ✰ WLTB Blog ✰</td>\n",
       "      <td>3.0</td>\n",
       "      <td>531</td>\n",
       "      <td>34</td>\n",
       "      <td>1460.0</td>\n",
       "      <td>23.0</td>\n",
       "    </tr>\n",
       "    <tr>\n",
       "      <th>11</th>\n",
       "      <td>Depraved</td>\n",
       "      <td>Charlie  ✰ WLTB Blog ✰</td>\n",
       "      <td>4.0</td>\n",
       "      <td>180</td>\n",
       "      <td>34</td>\n",
       "      <td>1460.0</td>\n",
       "      <td>757.0</td>\n",
       "    </tr>\n",
       "    <tr>\n",
       "      <th>12</th>\n",
       "      <td>The Boy Next Door</td>\n",
       "      <td>Charlie  ✰ WLTB Blog ✰</td>\n",
       "      <td>2.0</td>\n",
       "      <td>290</td>\n",
       "      <td>34</td>\n",
       "      <td>1460.0</td>\n",
       "      <td>316.0</td>\n",
       "    </tr>\n",
       "    <tr>\n",
       "      <th>13</th>\n",
       "      <td>Resolution</td>\n",
       "      <td>Charlie  ✰ WLTB Blog ✰</td>\n",
       "      <td>5.0</td>\n",
       "      <td>163</td>\n",
       "      <td>34</td>\n",
       "      <td>1460.0</td>\n",
       "      <td>1385.0</td>\n",
       "    </tr>\n",
       "    <tr>\n",
       "      <th>14</th>\n",
       "      <td>Pitch Dark</td>\n",
       "      <td>Charlie  ✰ WLTB Blog ✰</td>\n",
       "      <td>5.0</td>\n",
       "      <td>129</td>\n",
       "      <td>34</td>\n",
       "      <td>1460.0</td>\n",
       "      <td>1660.0</td>\n",
       "    </tr>\n",
       "    <tr>\n",
       "      <th>15</th>\n",
       "      <td>Whispers in the Dark</td>\n",
       "      <td>Charlie  ✰ WLTB Blog ✰</td>\n",
       "      <td>4.0</td>\n",
       "      <td>140</td>\n",
       "      <td>34</td>\n",
       "      <td>1460.0</td>\n",
       "      <td>1264.0</td>\n",
       "    </tr>\n",
       "    <tr>\n",
       "      <th>16</th>\n",
       "      <td>The Gathering</td>\n",
       "      <td>Charlie  ✰ WLTB Blog ✰</td>\n",
       "      <td>5.0</td>\n",
       "      <td>278</td>\n",
       "      <td>34</td>\n",
       "      <td>1460.0</td>\n",
       "      <td>252.0</td>\n",
       "    </tr>\n",
       "    <tr>\n",
       "      <th>17</th>\n",
       "      <td>The Best Friend</td>\n",
       "      <td>Charlie  ✰ WLTB Blog ✰</td>\n",
       "      <td>4.0</td>\n",
       "      <td>168</td>\n",
       "      <td>34</td>\n",
       "      <td>1460.0</td>\n",
       "      <td>1159.0</td>\n",
       "    </tr>\n",
       "    <tr>\n",
       "      <th>18</th>\n",
       "      <td>Liar</td>\n",
       "      <td>Charlie  ✰ WLTB Blog ✰</td>\n",
       "      <td>5.0</td>\n",
       "      <td>226</td>\n",
       "      <td>34</td>\n",
       "      <td>1460.0</td>\n",
       "      <td>418.0</td>\n",
       "    </tr>\n",
       "    <tr>\n",
       "      <th>19</th>\n",
       "      <td>Wildfire</td>\n",
       "      <td>Charlie  ✰ WLTB Blog ✰</td>\n",
       "      <td>5.0</td>\n",
       "      <td>274</td>\n",
       "      <td>34</td>\n",
       "      <td>1460.0</td>\n",
       "      <td>401.0</td>\n",
       "    </tr>\n",
       "  </tbody>\n",
       "</table>\n",
       "</div>"
      ],
      "text/plain": [
       "                      item                     user  rating  popularity  \\\n",
       "0                    Blood   Charlie  ✰ WLTB Blog ✰     5.0         377   \n",
       "1                   Malice   Charlie  ✰ WLTB Blog ✰     4.0         389   \n",
       "2      Dancing in the Dark   Charlie  ✰ WLTB Blog ✰     5.0         144   \n",
       "3                 Ensnared   Charlie  ✰ WLTB Blog ✰     4.0         176   \n",
       "4                   Murder   Charlie  ✰ WLTB Blog ✰     4.0         143   \n",
       "5                 Lost Boy   Charlie  ✰ WLTB Blog ✰     4.0         126   \n",
       "6                    Covet   Charlie  ✰ WLTB Blog ✰     5.0         315   \n",
       "7      Rules of Engagement   Charlie  ✰ WLTB Blog ✰     5.0         190   \n",
       "8         The Beast Within   Charlie  ✰ WLTB Blog ✰     4.0         215   \n",
       "9   No Rest for the Wicked   Charlie  ✰ WLTB Blog ✰     5.0         183   \n",
       "10                   Crave   Charlie  ✰ WLTB Blog ✰     3.0         531   \n",
       "11                Depraved   Charlie  ✰ WLTB Blog ✰     4.0         180   \n",
       "12       The Boy Next Door   Charlie  ✰ WLTB Blog ✰     2.0         290   \n",
       "13              Resolution   Charlie  ✰ WLTB Blog ✰     5.0         163   \n",
       "14              Pitch Dark   Charlie  ✰ WLTB Blog ✰     5.0         129   \n",
       "15    Whispers in the Dark   Charlie  ✰ WLTB Blog ✰     4.0         140   \n",
       "16           The Gathering   Charlie  ✰ WLTB Blog ✰     5.0         278   \n",
       "17         The Best Friend   Charlie  ✰ WLTB Blog ✰     4.0         168   \n",
       "18                    Liar   Charlie  ✰ WLTB Blog ✰     5.0         226   \n",
       "19                Wildfire   Charlie  ✰ WLTB Blog ✰     5.0         274   \n",
       "\n",
       "    num_items  userIndex  itemIndex  \n",
       "0          34     1460.0      257.0  \n",
       "1          34     1460.0      159.0  \n",
       "2          34     1460.0     1652.0  \n",
       "3          34     1460.0      809.0  \n",
       "4          34     1460.0     1702.0  \n",
       "5          34     1460.0     1721.0  \n",
       "6          34     1460.0      200.0  \n",
       "7          34     1460.0      440.0  \n",
       "8          34     1460.0      736.0  \n",
       "9          34     1460.0     1041.0  \n",
       "10         34     1460.0       23.0  \n",
       "11         34     1460.0      757.0  \n",
       "12         34     1460.0      316.0  \n",
       "13         34     1460.0     1385.0  \n",
       "14         34     1460.0     1660.0  \n",
       "15         34     1460.0     1264.0  \n",
       "16         34     1460.0      252.0  \n",
       "17         34     1460.0     1159.0  \n",
       "18         34     1460.0      418.0  \n",
       "19         34     1460.0      401.0  "
      ]
     },
     "execution_count": 110,
     "metadata": {},
     "output_type": "execute_result"
    }
   ],
   "source": [
    "df_pandas.head(20)"
   ]
  },
  {
   "cell_type": "code",
   "execution_count": 111,
   "id": "4338a749-f10f-4e3e-8d87-fc1a1fd4dc47",
   "metadata": {},
   "outputs": [],
   "source": [
    "df_data = Dataset.load_from_df(df_pandas[[\"userIndex\", \"itemIndex\", \"rating\"]], reader)"
   ]
  },
  {
   "cell_type": "code",
   "execution_count": 112,
   "id": "d4f1a033-d14b-4b4d-8a8a-357bfb8002d2",
   "metadata": {},
   "outputs": [
    {
     "data": {
      "text/plain": [
       "<surprise.dataset.DatasetAutoFolds at 0x1e3eff1dbb0>"
      ]
     },
     "execution_count": 112,
     "metadata": {},
     "output_type": "execute_result"
    }
   ],
   "source": [
    "df_data"
   ]
  },
  {
   "cell_type": "code",
   "execution_count": 114,
   "id": "4e35f566-ceeb-44e5-9b22-f0b3c093a503",
   "metadata": {},
   "outputs": [],
   "source": [
    "# sim_options = {\n",
    "#     \"name\": \"cosine\",\n",
    "#     \"user_based\": False, # similarities between items\n",
    "# }"
   ]
  },
  {
   "cell_type": "code",
   "execution_count": 115,
   "id": "b43ebd45-548c-4178-af40-ee6c5c8c8bef",
   "metadata": {},
   "outputs": [],
   "source": [
    "# algo = KNNWithMeans(sim_options=sim_options)"
   ]
  },
  {
   "cell_type": "markdown",
   "id": "659b1d71-e691-4a75-9327-a1d44d873aea",
   "metadata": {},
   "source": [
    "### 7. Split to train and test "
   ]
  },
  {
   "cell_type": "code",
   "execution_count": 242,
   "id": "8e181b20-e693-4691-91f9-6259275a7948",
   "metadata": {},
   "outputs": [],
   "source": [
    "trainingSet = df_data.build_full_trainset()"
   ]
  },
  {
   "cell_type": "code",
   "execution_count": 244,
   "id": "1c470948-c128-4320-bb25-35d9afa4c3b7",
   "metadata": {},
   "outputs": [
    {
     "name": "stdout",
     "output_type": "stream",
     "text": [
      "Number of users: 6006\n",
      "Number of items: 2000\n",
      "Number of ratings: 231516\n"
     ]
    }
   ],
   "source": [
    "# View the number of users, items, and ratings\n",
    "print(f\"Number of users: {trainingSet.n_users}\")\n",
    "print(f\"Number of items: {trainingSet.n_items}\")\n",
    "print(f\"Number of ratings: {trainingSet.n_ratings}\")"
   ]
  },
  {
   "cell_type": "code",
   "execution_count": 246,
   "id": "7bb2847f-ae07-47d5-8be0-dfc13f87a481",
   "metadata": {},
   "outputs": [
    {
     "name": "stdout",
     "output_type": "stream",
     "text": [
      "User: 1460.0, Item: 257.0, Rating: 5.0\n",
      "User: 1460.0, Item: 159.0, Rating: 4.0\n",
      "User: 1460.0, Item: 1652.0, Rating: 5.0\n",
      "User: 1460.0, Item: 809.0, Rating: 4.0\n",
      "User: 1460.0, Item: 1702.0, Rating: 4.0\n",
      "User: 1460.0, Item: 1721.0, Rating: 4.0\n",
      "User: 1460.0, Item: 200.0, Rating: 5.0\n",
      "User: 1460.0, Item: 440.0, Rating: 5.0\n",
      "User: 1460.0, Item: 736.0, Rating: 4.0\n",
      "User: 1460.0, Item: 1041.0, Rating: 5.0\n"
     ]
    }
   ],
   "source": [
    "for i, (uid, iid, rating) in enumerate(trainingSet.all_ratings()):\n",
    "    if i < 10:\n",
    "        print(f\"User: {trainingSet.to_raw_uid(uid)}, Item: {trainingSet.to_raw_iid(iid)}, Rating: {rating}\")"
   ]
  },
  {
   "cell_type": "markdown",
   "id": "8daee1bb-b4a9-4046-abdb-018907c47f78",
   "metadata": {},
   "source": [
    "### 8. Collabortive filtering model"
   ]
  },
  {
   "cell_type": "code",
   "execution_count": 249,
   "id": "3fe082cc-05a3-4db9-827f-c1049f17aeba",
   "metadata": {},
   "outputs": [
    {
     "name": "stdout",
     "output_type": "stream",
     "text": [
      "Computing the cosine similarity matrix...\n",
      "Done computing similarity matrix.\n"
     ]
    },
    {
     "data": {
      "text/plain": [
       "<surprise.prediction_algorithms.knns.KNNWithMeans at 0x1e3e6c6f620>"
      ]
     },
     "execution_count": 249,
     "metadata": {},
     "output_type": "execute_result"
    }
   ],
   "source": [
    "algo.fit(trainingSet)"
   ]
  },
  {
   "cell_type": "code",
   "execution_count": null,
   "id": "ebea7744-b4ba-45e7-9459-be0a70462ec2",
   "metadata": {},
   "outputs": [],
   "source": []
  },
  {
   "cell_type": "code",
   "execution_count": 251,
   "id": "7a6126fe-ad85-4d09-b3f4-635e5521b7b8",
   "metadata": {},
   "outputs": [],
   "source": [
    "prediction = algo.predict(261.0, 1.0)"
   ]
  },
  {
   "cell_type": "code",
   "execution_count": 252,
   "id": "a1de6a0b-9575-41e6-a263-7edb5238c928",
   "metadata": {},
   "outputs": [
    {
     "data": {
      "text/plain": [
       "4.003394640393098"
      ]
     },
     "execution_count": 252,
     "metadata": {},
     "output_type": "execute_result"
    }
   ],
   "source": [
    "prediction.est"
   ]
  },
  {
   "cell_type": "code",
   "execution_count": 356,
   "id": "ccddbae3-e9f1-4f53-bd42-2df04b7c3886",
   "metadata": {},
   "outputs": [],
   "source": [
    "from surprise.model_selection import GridSearchCV"
   ]
  },
  {
   "cell_type": "code",
   "execution_count": 451,
   "id": "dca528ca-6736-4e3b-8327-3b4dc6bb5ac7",
   "metadata": {},
   "outputs": [],
   "source": [
    "param_grid_knn = {\n",
    "    'k': [20, 30, 40],\n",
    "    'sim_options': {\n",
    "        \"name\": ['msd', 'cosine', 'pearson'],\n",
    "        \"user_based\": [True, False],\n",
    "    }\n",
    "}"
   ]
  },
  {
   "cell_type": "code",
   "execution_count": 453,
   "id": "e2ab0daf-fef9-4051-9847-9a6d0402df9d",
   "metadata": {},
   "outputs": [],
   "source": [
    "# param_grid = {\"param_grid_knn\": param_grid_knn}"
   ]
  },
  {
   "cell_type": "code",
   "execution_count": 455,
   "id": "e51cf448-afa8-4105-aa6f-e8d442de3c95",
   "metadata": {},
   "outputs": [],
   "source": [
    "gs_knn = GridSearchCV(KNNWithMeans, param_grid_knn, measures=[\"rmse\", \"mae\"], cv=3)"
   ]
  },
  {
   "cell_type": "code",
   "execution_count": 457,
   "id": "115e80a2-257d-45a4-a90e-03da5d23592d",
   "metadata": {},
   "outputs": [
    {
     "name": "stdout",
     "output_type": "stream",
     "text": [
      "Computing the msd similarity matrix...\n",
      "Done computing similarity matrix.\n",
      "Computing the msd similarity matrix...\n",
      "Done computing similarity matrix.\n",
      "Computing the msd similarity matrix...\n",
      "Done computing similarity matrix.\n",
      "Computing the msd similarity matrix...\n",
      "Done computing similarity matrix.\n",
      "Computing the msd similarity matrix...\n",
      "Done computing similarity matrix.\n",
      "Computing the msd similarity matrix...\n",
      "Done computing similarity matrix.\n",
      "Computing the cosine similarity matrix...\n",
      "Done computing similarity matrix.\n",
      "Computing the cosine similarity matrix...\n",
      "Done computing similarity matrix.\n",
      "Computing the cosine similarity matrix...\n",
      "Done computing similarity matrix.\n",
      "Computing the cosine similarity matrix...\n",
      "Done computing similarity matrix.\n",
      "Computing the cosine similarity matrix...\n",
      "Done computing similarity matrix.\n",
      "Computing the cosine similarity matrix...\n",
      "Done computing similarity matrix.\n",
      "Computing the pearson similarity matrix...\n",
      "Done computing similarity matrix.\n",
      "Computing the pearson similarity matrix...\n",
      "Done computing similarity matrix.\n",
      "Computing the pearson similarity matrix...\n",
      "Done computing similarity matrix.\n",
      "Computing the pearson similarity matrix...\n",
      "Done computing similarity matrix.\n",
      "Computing the pearson similarity matrix...\n",
      "Done computing similarity matrix.\n",
      "Computing the pearson similarity matrix...\n",
      "Done computing similarity matrix.\n",
      "Computing the msd similarity matrix...\n",
      "Done computing similarity matrix.\n",
      "Computing the msd similarity matrix...\n",
      "Done computing similarity matrix.\n",
      "Computing the msd similarity matrix...\n",
      "Done computing similarity matrix.\n",
      "Computing the msd similarity matrix...\n",
      "Done computing similarity matrix.\n",
      "Computing the msd similarity matrix...\n",
      "Done computing similarity matrix.\n",
      "Computing the msd similarity matrix...\n",
      "Done computing similarity matrix.\n",
      "Computing the cosine similarity matrix...\n",
      "Done computing similarity matrix.\n",
      "Computing the cosine similarity matrix...\n",
      "Done computing similarity matrix.\n",
      "Computing the cosine similarity matrix...\n",
      "Done computing similarity matrix.\n",
      "Computing the cosine similarity matrix...\n",
      "Done computing similarity matrix.\n",
      "Computing the cosine similarity matrix...\n",
      "Done computing similarity matrix.\n",
      "Computing the cosine similarity matrix...\n",
      "Done computing similarity matrix.\n",
      "Computing the pearson similarity matrix...\n",
      "Done computing similarity matrix.\n",
      "Computing the pearson similarity matrix...\n",
      "Done computing similarity matrix.\n",
      "Computing the pearson similarity matrix...\n",
      "Done computing similarity matrix.\n",
      "Computing the pearson similarity matrix...\n",
      "Done computing similarity matrix.\n",
      "Computing the pearson similarity matrix...\n",
      "Done computing similarity matrix.\n",
      "Computing the pearson similarity matrix...\n",
      "Done computing similarity matrix.\n",
      "Computing the msd similarity matrix...\n",
      "Done computing similarity matrix.\n",
      "Computing the msd similarity matrix...\n",
      "Done computing similarity matrix.\n",
      "Computing the msd similarity matrix...\n",
      "Done computing similarity matrix.\n",
      "Computing the msd similarity matrix...\n",
      "Done computing similarity matrix.\n",
      "Computing the msd similarity matrix...\n",
      "Done computing similarity matrix.\n",
      "Computing the msd similarity matrix...\n",
      "Done computing similarity matrix.\n",
      "Computing the cosine similarity matrix...\n",
      "Done computing similarity matrix.\n",
      "Computing the cosine similarity matrix...\n",
      "Done computing similarity matrix.\n",
      "Computing the cosine similarity matrix...\n",
      "Done computing similarity matrix.\n",
      "Computing the cosine similarity matrix...\n",
      "Done computing similarity matrix.\n",
      "Computing the cosine similarity matrix...\n",
      "Done computing similarity matrix.\n",
      "Computing the cosine similarity matrix...\n",
      "Done computing similarity matrix.\n",
      "Computing the pearson similarity matrix...\n",
      "Done computing similarity matrix.\n",
      "Computing the pearson similarity matrix...\n",
      "Done computing similarity matrix.\n",
      "Computing the pearson similarity matrix...\n",
      "Done computing similarity matrix.\n",
      "Computing the pearson similarity matrix...\n",
      "Done computing similarity matrix.\n",
      "Computing the pearson similarity matrix...\n",
      "Done computing similarity matrix.\n",
      "Computing the pearson similarity matrix...\n",
      "Done computing similarity matrix.\n"
     ]
    }
   ],
   "source": [
    "gs_knn.fit(df_data)"
   ]
  },
  {
   "cell_type": "code",
   "execution_count": 459,
   "id": "27c28f30-eb1c-4088-bd4d-230d34bccebb",
   "metadata": {},
   "outputs": [
    {
     "name": "stdout",
     "output_type": "stream",
     "text": [
      "1.0530292438393354\n"
     ]
    }
   ],
   "source": [
    "print(gs_knn.best_score[\"rmse\"])"
   ]
  },
  {
   "cell_type": "code",
   "execution_count": 461,
   "id": "008ffca2-bd9f-48b9-b142-a2305bab6b66",
   "metadata": {},
   "outputs": [
    {
     "name": "stdout",
     "output_type": "stream",
     "text": [
      "{'k': 40, 'sim_options': {'name': 'msd', 'user_based': True}}\n"
     ]
    }
   ],
   "source": [
    "print(gs_knn.best_params[\"rmse\"])"
   ]
  },
  {
   "cell_type": "code",
   "execution_count": 462,
   "id": "d4a4b019-54a1-4f63-8f03-9615ba0ee437",
   "metadata": {},
   "outputs": [
    {
     "data": {
      "text/plain": [
       "3"
      ]
     },
     "execution_count": 462,
     "metadata": {},
     "output_type": "execute_result"
    }
   ],
   "source": [
    "gs_knn.cv"
   ]
  },
  {
   "cell_type": "code",
   "execution_count": 463,
   "id": "52c35775-7f53-463c-9221-dd654fa3bba1",
   "metadata": {},
   "outputs": [
    {
     "name": "stdout",
     "output_type": "stream",
     "text": [
      "   split0_test_rmse  split1_test_rmse  split2_test_rmse  mean_test_rmse  \\\n",
      "0          1.056375          1.055713          1.056661        1.056250   \n",
      "1          1.064558          1.064436          1.068126        1.065707   \n",
      "2          1.073630          1.072632          1.074949        1.073737   \n",
      "3          1.068828          1.069669          1.073688        1.070728   \n",
      "4          1.084653          1.087746          1.086209        1.086203   \n",
      "\n",
      "   std_test_rmse  rank_test_rmse  split0_test_mae  split1_test_mae  \\\n",
      "0       0.000397               3         0.825165         0.823140   \n",
      "1       0.001711               7         0.834870         0.834241   \n",
      "2       0.000949              12         0.841041         0.838528   \n",
      "3       0.002121              11         0.840337         0.841031   \n",
      "4       0.001262              15         0.835635         0.836605   \n",
      "\n",
      "   split2_test_mae  mean_test_mae  std_test_mae  rank_test_mae  mean_fit_time  \\\n",
      "0         0.823464       0.823923      0.000888              1       2.134444   \n",
      "1         0.837283       0.835465      0.001311              8       1.287194   \n",
      "2         0.840290       0.839953      0.001054             14       4.450837   \n",
      "3         0.844312       0.841893      0.001734             15       2.743368   \n",
      "4         0.837144       0.836461      0.000625             11       5.609636   \n",
      "\n",
      "   std_fit_time  mean_test_time  std_test_time  \\\n",
      "0      0.240551        7.959425       0.250372   \n",
      "1      0.034262        7.812520       0.813172   \n",
      "2      0.692201        8.671411       1.710801   \n",
      "3      0.055599        7.871085       0.381998   \n",
      "4      0.201405        8.657097       0.658670   \n",
      "\n",
      "                                              params  param_k  \\\n",
      "0  {'k': 20, 'sim_options': {'name': 'msd', 'user...       20   \n",
      "1  {'k': 20, 'sim_options': {'name': 'msd', 'user...       20   \n",
      "2  {'k': 20, 'sim_options': {'name': 'cosine', 'u...       20   \n",
      "3  {'k': 20, 'sim_options': {'name': 'cosine', 'u...       20   \n",
      "4  {'k': 20, 'sim_options': {'name': 'pearson', '...       20   \n",
      "\n",
      "                         param_sim_options  \n",
      "0      {'name': 'msd', 'user_based': True}  \n",
      "1     {'name': 'msd', 'user_based': False}  \n",
      "2   {'name': 'cosine', 'user_based': True}  \n",
      "3  {'name': 'cosine', 'user_based': False}  \n",
      "4  {'name': 'pearson', 'user_based': True}  \n"
     ]
    }
   ],
   "source": [
    "results_df = pd.DataFrame(gs_knn.cv_results)\n",
    "print(results_df.head())"
   ]
  },
  {
   "cell_type": "code",
   "execution_count": 464,
   "id": "ebb6a20d-b5bf-42c4-9dcf-883894cb7356",
   "metadata": {},
   "outputs": [
    {
     "name": "stdout",
     "output_type": "stream",
     "text": [
      "Index(['split0_test_rmse', 'split1_test_rmse', 'split2_test_rmse',\n",
      "       'mean_test_rmse', 'std_test_rmse', 'rank_test_rmse', 'split0_test_mae',\n",
      "       'split1_test_mae', 'split2_test_mae', 'mean_test_mae', 'std_test_mae',\n",
      "       'rank_test_mae', 'mean_fit_time', 'std_fit_time', 'mean_test_time',\n",
      "       'std_test_time', 'params', 'param_k', 'param_sim_options'],\n",
      "      dtype='object')\n"
     ]
    }
   ],
   "source": [
    "print(results_df.columns)"
   ]
  },
  {
   "cell_type": "code",
   "execution_count": 465,
   "id": "a71dfe76-1d3c-48d3-a791-9674360a4210",
   "metadata": {},
   "outputs": [],
   "source": [
    "import matplotlib.pyplot as plt\n",
    "import seaborn as sns"
   ]
  },
  {
   "cell_type": "code",
   "execution_count": 466,
   "id": "6560e644-d2f1-4877-9ee8-83fe7f9477dc",
   "metadata": {},
   "outputs": [],
   "source": [
    "results_df['param_sim_options'] = results_df['param_sim_options'].astype(str)\n"
   ]
  },
  {
   "cell_type": "code",
   "execution_count": 467,
   "id": "ff454db4-acaf-4762-8247-ea433447fe74",
   "metadata": {},
   "outputs": [],
   "source": [
    "heatmap_data = results_df.pivot(index='param_k', columns='param_sim_options', values='mean_test_rmse')"
   ]
  },
  {
   "cell_type": "code",
   "execution_count": 468,
   "id": "cc44acc2-7236-41ab-afe5-39bfc438ecd0",
   "metadata": {},
   "outputs": [
    {
     "data": {
      "image/png": "[encoded data removed]",
      "text/plain": [
       "<Figure size 1500x600 with 2 Axes>"
      ]
     },
     "metadata": {},
     "output_type": "display_data"
    }
   ],
   "source": [
    "plt.figure(figsize=(15,6))\n",
    "sns.heatmap(heatmap_data, annot=True, fmt='.3f', cmap='Blues_r')\n",
    "plt.title('RMSE')\n",
    "plt.xlabel('Similarity options')\n",
    "plt.ylabel('Number of neighbors')\n",
    "plt.show()"
   ]
  },
  {
   "cell_type": "code",
   "execution_count": 497,
   "id": "434aefd1-8034-4cf1-9eb7-c2956cc42f6f",
   "metadata": {},
   "outputs": [
    {
     "data": {
      "image/png": "[encoded data removed]",
      "text/plain": [
       "<Figure size 1000x500 with 1 Axes>"
      ]
     },
     "metadata": {},
     "output_type": "display_data"
    }
   ],
   "source": [
    "plt.figure(figsize=(10, 5))\n",
    "sns.barplot(x='param_k', y='mean_test_rmse', data=results_df)\n",
    "plt.title('RMSE by Neighbors')\n",
    "plt.xlabel('neighbors')\n",
    "plt.ylabel('Mean RMSE')\n",
    "plt.show()\n"
   ]
  },
  {
   "cell_type": "code",
   "execution_count": null,
   "id": "48ef6cd5-187e-4009-b2c2-b11eca19f8b4",
   "metadata": {},
   "outputs": [],
   "source": []
  }
 ],
 "metadata": {
  "kernelspec": {
   "display_name": "Python 3 (ipykernel)",
   "language": "python",
   "name": "python3"
  },
  "language_info": {
   "codemirror_mode": {
    "name": "ipython",
    "version": 3
   },
   "file_extension": ".py",
   "mimetype": "text/x-python",
   "name": "python",
   "nbconvert_exporter": "python",
   "pygments_lexer": "ipython3",
   "version": "3.12.4"
  }
 },
 "nbformat": 4,
 "nbformat_minor": 5
}
